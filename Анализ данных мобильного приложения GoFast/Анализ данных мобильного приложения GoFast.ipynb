{
 "cells": [
  {
   "cell_type": "markdown",
   "id": "c94eb2f8",
   "metadata": {},
   "source": [
    "***Проект \"Анализ данных мобильного приложения GoFast\"***\n",
    "\n",
    "**Описание проекта:**\n",
    "В рамках данного проекта мы проведем анализ данных мобильного приложения GoFast, которое предоставляет услуги по аренде электросамокатов. Мы исследуем данные о пользователях, поездках и подписках, чтобы выявить закономерности и тенденции в их поведении.\n",
    "\n",
    "**Цель проекта:**\n",
    "Целью проекта является выявление ключевых метрик и закономерностей в использовании сервиса GoFast.\n",
    "\n",
    "**Описание данных:**\n",
    "\n",
    "users_go.csv: данные о пользователях приложения.\n",
    "\n",
    "rides_go.csv: данные о поездках на электросамокатах.\n",
    "\n",
    "subscriptions_go.csv: данные о подписках пользователей.\n",
    "\n",
    "\n",
    "**План работы:**\n",
    "\n",
    "1. Загрузка данных\n",
    "    \n",
    "    1.1 Считаем CSV-файлы с данными и сохраним их в датафреймы.\n",
    "    \n",
    "    1.2 Выведем первые строки каждого набора данных и изучим общую информацию о каждом датафрейме.\n",
    "\n",
    "\n",
    "2. Предобработка данных\n",
    "    \n",
    "    2.1 Приведем столбец с датой к типу datetime.\n",
    "    \n",
    "    2.2 Создадим новый столбец с номером месяца на основе столбца с датой.\n",
    "    \n",
    "    2.3 Проверим наличие пропущенных значений и дубликатов в данных и обработаем их.\n",
    "\n",
    "\n",
    "3. Исследовательский анализ данных\n",
    "\n",
    "    - Опишем и визуализируем общую информацию о пользователях и поездках, включая частоту встречаемости городов, соотношение пользователей с подпиской и без подписки, возраст пользователей, расстояние и продолжительность поездок.\n",
    "\n",
    "\n",
    "4. Объединение данных\n",
    "    \n",
    "    4.1 Объединим данные о пользователях, поездках и подписках в один датафрейм с помощью метода merge.\n",
    "    \n",
    "    4.2 Создадим два датафрейма с данными о пользователях с подпиской и без подписки.\n",
    "\n",
    "\n",
    "5. Подсчет выручки\n",
    "    \n",
    "    5.1 Создадим датафрейм с агрегированными данными о поездках, вычислим суммарное расстояние, количество поездок и суммарное время для каждого пользователя за каждый месяц.\n",
    "    \n",
    "    5.2 Добавим в датафрейм столбец с помесячной выручкой, которую принес каждый пользователь.\n",
    "\n",
    "\n",
    "6. Проверка гипотез\n",
    "    \n",
    "    6.1 Проверим гипотезу о том, тратят ли пользователи с подпиской больше времени на поездки.\n",
    "    \n",
    "    6.2 Проверим гипотезу о том, что среднее расстояние, преодоленное пользователями с подпиской за одну поездку, не превышает определенное значение.\n",
    "    \n",
    "    6.3 Проверим гипотезу о том, будет ли помесячная выручка от пользователей с подпиской по месяцам выше, чем выручка от пользователей без подписки.\n",
    "    \n",
    "    6.4 Проверим гипотезу о снижении количества обращений в техподдержку после обновления серверов."
   ]
  },
  {
   "cell_type": "code",
   "execution_count": 1,
   "id": "72576667",
   "metadata": {},
   "outputs": [],
   "source": [
    "import pandas as pd\n",
    "import matplotlib.pyplot as plt\n",
    "import numpy as np\n",
    "from scipy import stats as st"
   ]
  },
  {
   "cell_type": "markdown",
   "id": "c42cbe00",
   "metadata": {},
   "source": [
    "#### Шаг 1. Загрузка данных"
   ]
  },
  {
   "cell_type": "code",
   "execution_count": 2,
   "id": "eff9f206",
   "metadata": {
    "scrolled": true
   },
   "outputs": [
    {
     "data": {
      "text/html": [
       "<div>\n",
       "<style scoped>\n",
       "    .dataframe tbody tr th:only-of-type {\n",
       "        vertical-align: middle;\n",
       "    }\n",
       "\n",
       "    .dataframe tbody tr th {\n",
       "        vertical-align: top;\n",
       "    }\n",
       "\n",
       "    .dataframe thead th {\n",
       "        text-align: right;\n",
       "    }\n",
       "</style>\n",
       "<table border=\"1\" class=\"dataframe\">\n",
       "  <thead>\n",
       "    <tr style=\"text-align: right;\">\n",
       "      <th></th>\n",
       "      <th>user_id</th>\n",
       "      <th>name</th>\n",
       "      <th>age</th>\n",
       "      <th>city</th>\n",
       "      <th>subscription_type</th>\n",
       "    </tr>\n",
       "  </thead>\n",
       "  <tbody>\n",
       "    <tr>\n",
       "      <th>0</th>\n",
       "      <td>1</td>\n",
       "      <td>Кира</td>\n",
       "      <td>22</td>\n",
       "      <td>Тюмень</td>\n",
       "      <td>ultra</td>\n",
       "    </tr>\n",
       "    <tr>\n",
       "      <th>1</th>\n",
       "      <td>2</td>\n",
       "      <td>Станислав</td>\n",
       "      <td>31</td>\n",
       "      <td>Омск</td>\n",
       "      <td>ultra</td>\n",
       "    </tr>\n",
       "    <tr>\n",
       "      <th>2</th>\n",
       "      <td>3</td>\n",
       "      <td>Алексей</td>\n",
       "      <td>20</td>\n",
       "      <td>Москва</td>\n",
       "      <td>ultra</td>\n",
       "    </tr>\n",
       "    <tr>\n",
       "      <th>3</th>\n",
       "      <td>4</td>\n",
       "      <td>Константин</td>\n",
       "      <td>26</td>\n",
       "      <td>Ростов-на-Дону</td>\n",
       "      <td>ultra</td>\n",
       "    </tr>\n",
       "    <tr>\n",
       "      <th>4</th>\n",
       "      <td>5</td>\n",
       "      <td>Адель</td>\n",
       "      <td>28</td>\n",
       "      <td>Омск</td>\n",
       "      <td>ultra</td>\n",
       "    </tr>\n",
       "  </tbody>\n",
       "</table>\n",
       "</div>"
      ],
      "text/plain": [
       "   user_id        name  age            city subscription_type\n",
       "0        1        Кира   22          Тюмень             ultra\n",
       "1        2   Станислав   31            Омск             ultra\n",
       "2        3     Алексей   20          Москва             ultra\n",
       "3        4  Константин   26  Ростов-на-Дону             ultra\n",
       "4        5       Адель   28            Омск             ultra"
      ]
     },
     "metadata": {},
     "output_type": "display_data"
    },
    {
     "data": {
      "text/html": [
       "<div>\n",
       "<style scoped>\n",
       "    .dataframe tbody tr th:only-of-type {\n",
       "        vertical-align: middle;\n",
       "    }\n",
       "\n",
       "    .dataframe tbody tr th {\n",
       "        vertical-align: top;\n",
       "    }\n",
       "\n",
       "    .dataframe thead th {\n",
       "        text-align: right;\n",
       "    }\n",
       "</style>\n",
       "<table border=\"1\" class=\"dataframe\">\n",
       "  <thead>\n",
       "    <tr style=\"text-align: right;\">\n",
       "      <th></th>\n",
       "      <th>user_id</th>\n",
       "      <th>distance</th>\n",
       "      <th>duration</th>\n",
       "      <th>date</th>\n",
       "    </tr>\n",
       "  </thead>\n",
       "  <tbody>\n",
       "    <tr>\n",
       "      <th>0</th>\n",
       "      <td>1</td>\n",
       "      <td>4409.919140</td>\n",
       "      <td>25.599769</td>\n",
       "      <td>2021-01-01</td>\n",
       "    </tr>\n",
       "    <tr>\n",
       "      <th>1</th>\n",
       "      <td>1</td>\n",
       "      <td>2617.592153</td>\n",
       "      <td>15.816871</td>\n",
       "      <td>2021-01-18</td>\n",
       "    </tr>\n",
       "    <tr>\n",
       "      <th>2</th>\n",
       "      <td>1</td>\n",
       "      <td>754.159807</td>\n",
       "      <td>6.232113</td>\n",
       "      <td>2021-04-20</td>\n",
       "    </tr>\n",
       "    <tr>\n",
       "      <th>3</th>\n",
       "      <td>1</td>\n",
       "      <td>2694.783254</td>\n",
       "      <td>18.511000</td>\n",
       "      <td>2021-08-11</td>\n",
       "    </tr>\n",
       "    <tr>\n",
       "      <th>4</th>\n",
       "      <td>1</td>\n",
       "      <td>4028.687306</td>\n",
       "      <td>26.265803</td>\n",
       "      <td>2021-08-28</td>\n",
       "    </tr>\n",
       "  </tbody>\n",
       "</table>\n",
       "</div>"
      ],
      "text/plain": [
       "   user_id     distance   duration        date\n",
       "0        1  4409.919140  25.599769  2021-01-01\n",
       "1        1  2617.592153  15.816871  2021-01-18\n",
       "2        1   754.159807   6.232113  2021-04-20\n",
       "3        1  2694.783254  18.511000  2021-08-11\n",
       "4        1  4028.687306  26.265803  2021-08-28"
      ]
     },
     "metadata": {},
     "output_type": "display_data"
    },
    {
     "data": {
      "text/html": [
       "<div>\n",
       "<style scoped>\n",
       "    .dataframe tbody tr th:only-of-type {\n",
       "        vertical-align: middle;\n",
       "    }\n",
       "\n",
       "    .dataframe tbody tr th {\n",
       "        vertical-align: top;\n",
       "    }\n",
       "\n",
       "    .dataframe thead th {\n",
       "        text-align: right;\n",
       "    }\n",
       "</style>\n",
       "<table border=\"1\" class=\"dataframe\">\n",
       "  <thead>\n",
       "    <tr style=\"text-align: right;\">\n",
       "      <th></th>\n",
       "      <th>subscription_type</th>\n",
       "      <th>minute_price</th>\n",
       "      <th>start_ride_price</th>\n",
       "      <th>subscription_fee</th>\n",
       "    </tr>\n",
       "  </thead>\n",
       "  <tbody>\n",
       "    <tr>\n",
       "      <th>0</th>\n",
       "      <td>free</td>\n",
       "      <td>8</td>\n",
       "      <td>50</td>\n",
       "      <td>0</td>\n",
       "    </tr>\n",
       "    <tr>\n",
       "      <th>1</th>\n",
       "      <td>ultra</td>\n",
       "      <td>6</td>\n",
       "      <td>0</td>\n",
       "      <td>199</td>\n",
       "    </tr>\n",
       "  </tbody>\n",
       "</table>\n",
       "</div>"
      ],
      "text/plain": [
       "  subscription_type  minute_price  start_ride_price  subscription_fee\n",
       "0              free             8                50                 0\n",
       "1             ultra             6                 0               199"
      ]
     },
     "metadata": {},
     "output_type": "display_data"
    },
    {
     "name": "stdout",
     "output_type": "stream",
     "text": [
      "<class 'pandas.core.frame.DataFrame'>\n",
      "RangeIndex: 1565 entries, 0 to 1564\n",
      "Data columns (total 5 columns):\n",
      " #   Column             Non-Null Count  Dtype \n",
      "---  ------             --------------  ----- \n",
      " 0   user_id            1565 non-null   int64 \n",
      " 1   name               1565 non-null   object\n",
      " 2   age                1565 non-null   int64 \n",
      " 3   city               1565 non-null   object\n",
      " 4   subscription_type  1565 non-null   object\n",
      "dtypes: int64(2), object(3)\n",
      "memory usage: 61.3+ KB\n",
      "\n",
      "<class 'pandas.core.frame.DataFrame'>\n",
      "RangeIndex: 18068 entries, 0 to 18067\n",
      "Data columns (total 4 columns):\n",
      " #   Column    Non-Null Count  Dtype  \n",
      "---  ------    --------------  -----  \n",
      " 0   user_id   18068 non-null  int64  \n",
      " 1   distance  18068 non-null  float64\n",
      " 2   duration  18068 non-null  float64\n",
      " 3   date      18068 non-null  object \n",
      "dtypes: float64(2), int64(1), object(1)\n",
      "memory usage: 564.8+ KB\n",
      "\n",
      "<class 'pandas.core.frame.DataFrame'>\n",
      "RangeIndex: 2 entries, 0 to 1\n",
      "Data columns (total 4 columns):\n",
      " #   Column             Non-Null Count  Dtype \n",
      "---  ------             --------------  ----- \n",
      " 0   subscription_type  2 non-null      object\n",
      " 1   minute_price       2 non-null      int64 \n",
      " 2   start_ride_price   2 non-null      int64 \n",
      " 3   subscription_fee   2 non-null      int64 \n",
      "dtypes: int64(3), object(1)\n",
      "memory usage: 192.0+ bytes\n"
     ]
    }
   ],
   "source": [
    "users_table = pd.read_csv('/datasets/users_go.csv')\n",
    "rides_table = pd.read_csv('/datasets/rides_go.csv')\n",
    "subscriptions_table = pd.read_csv('/datasets/subscriptions_go.csv')\n",
    "\n",
    "display(users_table.head())\n",
    "display(rides_table.head())\n",
    "display(subscriptions_table.head())\n",
    "\n",
    "users_table.info()\n",
    "print('')\n",
    "rides_table.info()\n",
    "print('')\n",
    "subscriptions_table.info()"
   ]
  },
  {
   "cell_type": "markdown",
   "id": "38f8877f",
   "metadata": {},
   "source": [
    "1. На первой таблице мы выидим ID пользователя, его имя, возраст, город и тип подписки.\n",
    "2. На второй таблице мы видим поездки, которые совершил пользователь с определенным ID, а именно дистанцию, длительность и дату поездки.\n",
    "3. Третья таблица показывает информацию о тарифах - цена поездки в минутах, цена старта поездки, а также цена самой подписки на сервис. \n",
    "\n",
    "Из информации о датафреймах можем сделать вывод о том, что нужно поменять некоторые типы данных в столбцах (date во второй таблице)."
   ]
  },
  {
   "cell_type": "markdown",
   "id": "e95ebca7",
   "metadata": {},
   "source": [
    "#### Шаг 2. Предобработка данных"
   ]
  },
  {
   "cell_type": "code",
   "execution_count": 3,
   "id": "af6d202c",
   "metadata": {},
   "outputs": [
    {
     "name": "stdout",
     "output_type": "stream",
     "text": [
      "<class 'pandas.core.frame.DataFrame'>\n",
      "RangeIndex: 18068 entries, 0 to 18067\n",
      "Data columns (total 4 columns):\n",
      " #   Column    Non-Null Count  Dtype         \n",
      "---  ------    --------------  -----         \n",
      " 0   user_id   18068 non-null  int64         \n",
      " 1   distance  18068 non-null  float64       \n",
      " 2   duration  18068 non-null  float64       \n",
      " 3   date      18068 non-null  datetime64[ns]\n",
      "dtypes: datetime64[ns](1), float64(2), int64(1)\n",
      "memory usage: 564.8 KB\n"
     ]
    }
   ],
   "source": [
    "rides_table['date'] = pd.to_datetime(rides_table['date'])\n",
    "rides_table.info()"
   ]
  },
  {
   "cell_type": "markdown",
   "id": "0458de2e",
   "metadata": {},
   "source": [
    "Поменяем тип данных в столбце date и выведем на экран информацию о датафрейме.\n",
    "Как мы видим, все поменялось."
   ]
  },
  {
   "cell_type": "code",
   "execution_count": 4,
   "id": "cd502b03",
   "metadata": {
    "scrolled": false
   },
   "outputs": [
    {
     "name": "stdout",
     "output_type": "stream",
     "text": [
      "[2021]\n"
     ]
    },
    {
     "data": {
      "text/html": [
       "<div>\n",
       "<style scoped>\n",
       "    .dataframe tbody tr th:only-of-type {\n",
       "        vertical-align: middle;\n",
       "    }\n",
       "\n",
       "    .dataframe tbody tr th {\n",
       "        vertical-align: top;\n",
       "    }\n",
       "\n",
       "    .dataframe thead th {\n",
       "        text-align: right;\n",
       "    }\n",
       "</style>\n",
       "<table border=\"1\" class=\"dataframe\">\n",
       "  <thead>\n",
       "    <tr style=\"text-align: right;\">\n",
       "      <th></th>\n",
       "      <th>user_id</th>\n",
       "      <th>distance</th>\n",
       "      <th>duration</th>\n",
       "      <th>date</th>\n",
       "      <th>month</th>\n",
       "    </tr>\n",
       "  </thead>\n",
       "  <tbody>\n",
       "    <tr>\n",
       "      <th>0</th>\n",
       "      <td>1</td>\n",
       "      <td>4409.919140</td>\n",
       "      <td>25.599769</td>\n",
       "      <td>2021-01-01</td>\n",
       "      <td>1</td>\n",
       "    </tr>\n",
       "    <tr>\n",
       "      <th>1</th>\n",
       "      <td>1</td>\n",
       "      <td>2617.592153</td>\n",
       "      <td>15.816871</td>\n",
       "      <td>2021-01-18</td>\n",
       "      <td>1</td>\n",
       "    </tr>\n",
       "    <tr>\n",
       "      <th>2</th>\n",
       "      <td>1</td>\n",
       "      <td>754.159807</td>\n",
       "      <td>6.232113</td>\n",
       "      <td>2021-04-20</td>\n",
       "      <td>4</td>\n",
       "    </tr>\n",
       "    <tr>\n",
       "      <th>3</th>\n",
       "      <td>1</td>\n",
       "      <td>2694.783254</td>\n",
       "      <td>18.511000</td>\n",
       "      <td>2021-08-11</td>\n",
       "      <td>8</td>\n",
       "    </tr>\n",
       "    <tr>\n",
       "      <th>4</th>\n",
       "      <td>1</td>\n",
       "      <td>4028.687306</td>\n",
       "      <td>26.265803</td>\n",
       "      <td>2021-08-28</td>\n",
       "      <td>8</td>\n",
       "    </tr>\n",
       "  </tbody>\n",
       "</table>\n",
       "</div>"
      ],
      "text/plain": [
       "   user_id     distance   duration       date  month\n",
       "0        1  4409.919140  25.599769 2021-01-01      1\n",
       "1        1  2617.592153  15.816871 2021-01-18      1\n",
       "2        1   754.159807   6.232113 2021-04-20      4\n",
       "3        1  2694.783254  18.511000 2021-08-11      8\n",
       "4        1  4028.687306  26.265803 2021-08-28      8"
      ]
     },
     "metadata": {},
     "output_type": "display_data"
    }
   ],
   "source": [
    "rides_table['month'] = rides_table['date'].dt.month\n",
    "print(rides_table['date'].dt.year.unique())\n",
    "display(rides_table.head())"
   ]
  },
  {
   "cell_type": "markdown",
   "id": "82b0d241",
   "metadata": {},
   "source": [
    "Столбец создан! Также мы убедились в том, что в датафрейме отсутствуют данные за другие года (в нём только статистика за 2021 год). Перейдем к проверке на дубликаты и пропущенные значения - проверим первые два датафрейма, так как в таблице с типом подписки у нас всего лишь две строки."
   ]
  },
  {
   "cell_type": "code",
   "execution_count": 5,
   "id": "8355102f",
   "metadata": {},
   "outputs": [
    {
     "data": {
      "text/plain": [
       "0"
      ]
     },
     "execution_count": 5,
     "metadata": {},
     "output_type": "execute_result"
    }
   ],
   "source": [
    "rides_table.duplicated().sum()"
   ]
  },
  {
   "cell_type": "code",
   "execution_count": 6,
   "id": "78f5c624",
   "metadata": {
    "scrolled": true
   },
   "outputs": [
    {
     "data": {
      "text/plain": [
       "31"
      ]
     },
     "execution_count": 6,
     "metadata": {},
     "output_type": "execute_result"
    }
   ],
   "source": [
    "users_table.duplicated().sum()"
   ]
  },
  {
   "cell_type": "code",
   "execution_count": 7,
   "id": "602e8562",
   "metadata": {},
   "outputs": [
    {
     "data": {
      "text/plain": [
       "user_id              0\n",
       "name                 0\n",
       "age                  0\n",
       "city                 0\n",
       "subscription_type    0\n",
       "dtype: int64"
      ]
     },
     "execution_count": 7,
     "metadata": {},
     "output_type": "execute_result"
    }
   ],
   "source": [
    "users_table.isna().sum()"
   ]
  },
  {
   "cell_type": "code",
   "execution_count": 8,
   "id": "b432f992",
   "metadata": {
    "scrolled": true
   },
   "outputs": [
    {
     "data": {
      "text/plain": [
       "user_id     0\n",
       "distance    0\n",
       "duration    0\n",
       "date        0\n",
       "month       0\n",
       "dtype: int64"
      ]
     },
     "execution_count": 8,
     "metadata": {},
     "output_type": "execute_result"
    }
   ],
   "source": [
    "rides_table.isna().sum()"
   ]
  },
  {
   "cell_type": "markdown",
   "id": "1a5d04ef",
   "metadata": {},
   "source": [
    "Из результатов проверки мы видим, что пропущенные значения отсутствуют, а явные дубликаты есть лишь в таблице users_table. Избавимся от них."
   ]
  },
  {
   "cell_type": "code",
   "execution_count": 9,
   "id": "1f02101d",
   "metadata": {
    "scrolled": true
   },
   "outputs": [
    {
     "data": {
      "text/plain": [
       "0"
      ]
     },
     "execution_count": 9,
     "metadata": {},
     "output_type": "execute_result"
    }
   ],
   "source": [
    "users_table = users_table.drop_duplicates()\n",
    "users_table.duplicated().sum()"
   ]
  },
  {
   "cell_type": "markdown",
   "id": "4911b69d",
   "metadata": {},
   "source": [
    "Мы избавились от явных дубликатов, а также поменяли типы данных там, где это необходимо. Также мы создали столбец с номером месяца в таблице с поездками для удобства последующего анализа. "
   ]
  },
  {
   "cell_type": "markdown",
   "id": "212593c7",
   "metadata": {},
   "source": [
    "#### Шаг 3. Исследовательский анализ данных"
   ]
  },
  {
   "cell_type": "markdown",
   "id": "46059cb1",
   "metadata": {},
   "source": [
    "Визуализируем данные из таблиц. Сперва проверим частоту встречаемости городов. "
   ]
  },
  {
   "cell_type": "code",
   "execution_count": 10,
   "id": "e3a4274c",
   "metadata": {
    "scrolled": false
   },
   "outputs": [
    {
     "data": {
      "image/png": "[encoded data removed]",
      "text/plain": [
       "<Figure size 432x288 with 1 Axes>"
      ]
     },
     "metadata": {
      "needs_background": "light"
     },
     "output_type": "display_data"
    }
   ],
   "source": [
    "users_table['city'].value_counts().plot.barh()\n",
    "\n",
    "plt.xlabel('Количество пользователей')\n",
    "plt.ylabel('Город')\n",
    "plt.title('Частота встречаемости городов')\n",
    "\n",
    "plt.show()"
   ]
  },
  {
   "cell_type": "markdown",
   "id": "bbc57a4c",
   "metadata": {},
   "source": [
    "Добавим более точные значения"
   ]
  },
  {
   "cell_type": "code",
   "execution_count": 11,
   "id": "67b30ef0",
   "metadata": {},
   "outputs": [
    {
     "data": {
      "text/plain": [
       "Москва            168\n",
       "Тюмень            180\n",
       "Омск              183\n",
       "Сочи              189\n",
       "Краснодар         193\n",
       "Ростов-на-Дону    198\n",
       "Екатеринбург      204\n",
       "Пятигорск         219\n",
       "Name: city, dtype: int64"
      ]
     },
     "metadata": {},
     "output_type": "display_data"
    }
   ],
   "source": [
    "display(users_table['city'].value_counts(ascending=True))"
   ]
  },
  {
   "cell_type": "markdown",
   "id": "857a6fc6",
   "metadata": {},
   "source": [
    "Как мы видим, меньше всего пользователей из Москвы, а наибольшее их число - в Пятигорске. Значения между остальными городами отличаются не так значительно.\n",
    "\n",
    "Перейдем к соотношению пользователей с подпиской и без подписки."
   ]
  },
  {
   "cell_type": "code",
   "execution_count": 12,
   "id": "07457a1f",
   "metadata": {
    "scrolled": false
   },
   "outputs": [
    {
     "data": {
      "image/png": "[encoded data removed]",
      "text/plain": [
       "<Figure size 432x288 with 1 Axes>"
      ]
     },
     "metadata": {},
     "output_type": "display_data"
    }
   ],
   "source": [
    "plt.pie(users_table['subscription_type'].value_counts(),  labels=['free', 'ultra'], autopct='%1.1f%%')\n",
    "plt.xlabel('Соотношение пользователей по типу подписки')\n",
    "plt.show()"
   ]
  },
  {
   "cell_type": "markdown",
   "id": "d8e1ced5",
   "metadata": {},
   "source": [
    "Как мы видим - больше половины пользователей не имеют платной подписки на сервис. Перейдем к возрастам пользователей. "
   ]
  },
  {
   "cell_type": "code",
   "execution_count": 13,
   "id": "fc100a22",
   "metadata": {
    "scrolled": true
   },
   "outputs": [
    {
     "data": {
      "image/png": "[encoded data removed]",
      "text/plain": [
       "<Figure size 432x288 with 1 Axes>"
      ]
     },
     "metadata": {
      "needs_background": "light"
     },
     "output_type": "display_data"
    },
    {
     "data": {
      "text/plain": [
       "count    1534.000000\n",
       "mean       24.903520\n",
       "std         4.572367\n",
       "min        12.000000\n",
       "25%        22.000000\n",
       "50%        25.000000\n",
       "75%        28.000000\n",
       "max        43.000000\n",
       "Name: age, dtype: float64"
      ]
     },
     "execution_count": 13,
     "metadata": {},
     "output_type": "execute_result"
    }
   ],
   "source": [
    "plt.hist(users_table['age'], bins=10, color='skyblue', edgecolor='black')\n",
    "\n",
    "plt.xlabel('Возраст')\n",
    "plt.ylabel('Количество пользователей')\n",
    "plt.title('Распределение возраста пользователей')\n",
    "\n",
    "plt.show()\n",
    "\n",
    "users_table['age'].describe()"
   ]
  },
  {
   "cell_type": "markdown",
   "id": "2b7fba7a",
   "metadata": {},
   "source": [
    "Как мы видим - большинство пользователей сервиса имеют возраст от 20 до 30 лет, после 30 лет видим заметное снижение количества пользователей. \n",
    "Перейдем к анализу расстояния, которое преодолел пользователь. "
   ]
  },
  {
   "cell_type": "code",
   "execution_count": 14,
   "id": "cbde032c",
   "metadata": {
    "scrolled": false
   },
   "outputs": [
    {
     "data": {
      "image/png": "[encoded data removed]",
      "text/plain": [
       "<Figure size 432x288 with 1 Axes>"
      ]
     },
     "metadata": {
      "needs_background": "light"
     },
     "output_type": "display_data"
    }
   ],
   "source": [
    "plt.hist(rides_table['distance'], bins=20, color='skyblue', edgecolor='black')\n",
    "\n",
    "plt.xlabel('Расстояние за одну поездку')\n",
    "plt.ylabel('Частота')\n",
    "plt.title('Распределение расстояния за одну поездку')\n",
    "\n",
    "plt.show()"
   ]
  },
  {
   "cell_type": "markdown",
   "id": "7c7053d5",
   "metadata": {},
   "source": [
    "Как мы видим, в начале есть небольшой всплеск - это может говорить о том, что некоторая категория пользователей использует сервис для совершения коротких поездок (до 1км), в среднем, сервис используется для совершения поездок длиной около 3 км."
   ]
  },
  {
   "cell_type": "code",
   "execution_count": 15,
   "id": "63833922",
   "metadata": {
    "scrolled": true
   },
   "outputs": [
    {
     "data": {
      "image/png": "[encoded data removed]",
      "text/plain": [
       "<Figure size 432x288 with 1 Axes>"
      ]
     },
     "metadata": {
      "needs_background": "light"
     },
     "output_type": "display_data"
    }
   ],
   "source": [
    "plt.hist(rides_table['duration'], bins=20, color='skyblue', edgecolor='black')\n",
    "\n",
    "plt.xlabel('Продолжительность поездки')\n",
    "plt.ylabel('Частота')\n",
    "plt.title('Распределение продолжительности поездок')\n",
    "\n",
    "plt.show()"
   ]
  },
  {
   "cell_type": "markdown",
   "id": "0430c58a",
   "metadata": {},
   "source": [
    "На графике видно нормальное распределение, без выбросов. В среднем, поездка у пользователя занимает от 15 до 20 минут, заметное снижение времени поездки начинается после 25 минут."
   ]
  },
  {
   "cell_type": "markdown",
   "id": "2c6e3b6f",
   "metadata": {},
   "source": [
    "**Промежуточный вывод.** Визуализировав обработанные данные можно сказать, что каких-либо заметных аномалий на графиках обнаружить не удалось. Также визуализация дала нам понять определенную информацию о сервисе (распределение продолжительности поездки, расстояния, возраста, пользователей по городам, а также удалось узнать соотношение пользователей с подпиской и без)."
   ]
  },
  {
   "cell_type": "markdown",
   "id": "4ef51331",
   "metadata": {},
   "source": [
    "#### Шаг 4. Объединение данных"
   ]
  },
  {
   "cell_type": "code",
   "execution_count": 16,
   "id": "6bf288b5",
   "metadata": {
    "scrolled": true
   },
   "outputs": [
    {
     "data": {
      "text/html": [
       "<div>\n",
       "<style scoped>\n",
       "    .dataframe tbody tr th:only-of-type {\n",
       "        vertical-align: middle;\n",
       "    }\n",
       "\n",
       "    .dataframe tbody tr th {\n",
       "        vertical-align: top;\n",
       "    }\n",
       "\n",
       "    .dataframe thead th {\n",
       "        text-align: right;\n",
       "    }\n",
       "</style>\n",
       "<table border=\"1\" class=\"dataframe\">\n",
       "  <thead>\n",
       "    <tr style=\"text-align: right;\">\n",
       "      <th></th>\n",
       "      <th>user_id</th>\n",
       "      <th>name</th>\n",
       "      <th>age</th>\n",
       "      <th>city</th>\n",
       "      <th>subscription_type</th>\n",
       "      <th>distance</th>\n",
       "      <th>duration</th>\n",
       "      <th>date</th>\n",
       "      <th>month</th>\n",
       "      <th>minute_price</th>\n",
       "      <th>start_ride_price</th>\n",
       "      <th>subscription_fee</th>\n",
       "    </tr>\n",
       "  </thead>\n",
       "  <tbody>\n",
       "    <tr>\n",
       "      <th>0</th>\n",
       "      <td>1</td>\n",
       "      <td>Кира</td>\n",
       "      <td>22</td>\n",
       "      <td>Тюмень</td>\n",
       "      <td>ultra</td>\n",
       "      <td>4409.919140</td>\n",
       "      <td>25.599769</td>\n",
       "      <td>2021-01-01</td>\n",
       "      <td>1</td>\n",
       "      <td>6</td>\n",
       "      <td>0</td>\n",
       "      <td>199</td>\n",
       "    </tr>\n",
       "    <tr>\n",
       "      <th>1</th>\n",
       "      <td>1</td>\n",
       "      <td>Кира</td>\n",
       "      <td>22</td>\n",
       "      <td>Тюмень</td>\n",
       "      <td>ultra</td>\n",
       "      <td>2617.592153</td>\n",
       "      <td>15.816871</td>\n",
       "      <td>2021-01-18</td>\n",
       "      <td>1</td>\n",
       "      <td>6</td>\n",
       "      <td>0</td>\n",
       "      <td>199</td>\n",
       "    </tr>\n",
       "    <tr>\n",
       "      <th>2</th>\n",
       "      <td>1</td>\n",
       "      <td>Кира</td>\n",
       "      <td>22</td>\n",
       "      <td>Тюмень</td>\n",
       "      <td>ultra</td>\n",
       "      <td>754.159807</td>\n",
       "      <td>6.232113</td>\n",
       "      <td>2021-04-20</td>\n",
       "      <td>4</td>\n",
       "      <td>6</td>\n",
       "      <td>0</td>\n",
       "      <td>199</td>\n",
       "    </tr>\n",
       "    <tr>\n",
       "      <th>3</th>\n",
       "      <td>1</td>\n",
       "      <td>Кира</td>\n",
       "      <td>22</td>\n",
       "      <td>Тюмень</td>\n",
       "      <td>ultra</td>\n",
       "      <td>2694.783254</td>\n",
       "      <td>18.511000</td>\n",
       "      <td>2021-08-11</td>\n",
       "      <td>8</td>\n",
       "      <td>6</td>\n",
       "      <td>0</td>\n",
       "      <td>199</td>\n",
       "    </tr>\n",
       "    <tr>\n",
       "      <th>4</th>\n",
       "      <td>1</td>\n",
       "      <td>Кира</td>\n",
       "      <td>22</td>\n",
       "      <td>Тюмень</td>\n",
       "      <td>ultra</td>\n",
       "      <td>4028.687306</td>\n",
       "      <td>26.265803</td>\n",
       "      <td>2021-08-28</td>\n",
       "      <td>8</td>\n",
       "      <td>6</td>\n",
       "      <td>0</td>\n",
       "      <td>199</td>\n",
       "    </tr>\n",
       "  </tbody>\n",
       "</table>\n",
       "</div>"
      ],
      "text/plain": [
       "   user_id  name  age    city subscription_type     distance   duration  \\\n",
       "0        1  Кира   22  Тюмень             ultra  4409.919140  25.599769   \n",
       "1        1  Кира   22  Тюмень             ultra  2617.592153  15.816871   \n",
       "2        1  Кира   22  Тюмень             ultra   754.159807   6.232113   \n",
       "3        1  Кира   22  Тюмень             ultra  2694.783254  18.511000   \n",
       "4        1  Кира   22  Тюмень             ultra  4028.687306  26.265803   \n",
       "\n",
       "        date  month  minute_price  start_ride_price  subscription_fee  \n",
       "0 2021-01-01      1             6                 0               199  \n",
       "1 2021-01-18      1             6                 0               199  \n",
       "2 2021-04-20      4             6                 0               199  \n",
       "3 2021-08-11      8             6                 0               199  \n",
       "4 2021-08-28      8             6                 0               199  "
      ]
     },
     "execution_count": 16,
     "metadata": {},
     "output_type": "execute_result"
    }
   ],
   "source": [
    "merged_data = users_table.merge(rides_table)\n",
    "\n",
    "merged_data = merged_data.merge(subscriptions_table)\n",
    "\n",
    "merged_data.head()"
   ]
  },
  {
   "cell_type": "markdown",
   "id": "89e1d001",
   "metadata": {},
   "source": [
    "Проверим наши данные после объединения. "
   ]
  },
  {
   "cell_type": "code",
   "execution_count": 17,
   "id": "d16a9f7e",
   "metadata": {
    "scrolled": true
   },
   "outputs": [
    {
     "name": "stdout",
     "output_type": "stream",
     "text": [
      "Количество записей в users_table: 1534\n",
      "Количество записей в rides_table: 18068\n",
      "Количество записей в subscriptions_table: 2\n",
      "Количество записей в объединенной таблице: 18068\n",
      "Пропуски в объединенноё таблице: \n",
      "user_id              0\n",
      "name                 0\n",
      "age                  0\n",
      "city                 0\n",
      "subscription_type    0\n",
      "distance             0\n",
      "duration             0\n",
      "date                 0\n",
      "month                0\n",
      "minute_price         0\n",
      "start_ride_price     0\n",
      "subscription_fee     0\n",
      "dtype: int64\n",
      "Дубликаты в объединенноё таблице: 0\n"
     ]
    }
   ],
   "source": [
    "print('Количество записей в users_table:', len(users_table))\n",
    "print('Количество записей в rides_table:', len(rides_table))\n",
    "print('Количество записей в subscriptions_table:', len(subscriptions_table))\n",
    "print('Количество записей в объединенной таблице:', len(merged_data))\n",
    "print(f'Пропуски в объединенноё таблице: \\n{merged_data.isna().sum()}')\n",
    "print(f'Дубликаты в объединенноё таблице: {merged_data.duplicated().sum()}')"
   ]
  },
  {
   "cell_type": "markdown",
   "id": "02ecd9cb",
   "metadata": {},
   "source": [
    "Как мы видим, число записей в таблице совпадает с количеством поездок, также были проведены проверки на дубликаты и пропущенные значения, которые ничего не выявили."
   ]
  },
  {
   "cell_type": "markdown",
   "id": "cf6650db",
   "metadata": {},
   "source": [
    "Мы объединили датафреймы, теперь попробуем создать еще два датафрейма, чтобы вывести пользователей с подпиской и без неё."
   ]
  },
  {
   "cell_type": "code",
   "execution_count": 18,
   "id": "1a8fca41",
   "metadata": {},
   "outputs": [
    {
     "data": {
      "text/html": [
       "<div>\n",
       "<style scoped>\n",
       "    .dataframe tbody tr th:only-of-type {\n",
       "        vertical-align: middle;\n",
       "    }\n",
       "\n",
       "    .dataframe tbody tr th {\n",
       "        vertical-align: top;\n",
       "    }\n",
       "\n",
       "    .dataframe thead th {\n",
       "        text-align: right;\n",
       "    }\n",
       "</style>\n",
       "<table border=\"1\" class=\"dataframe\">\n",
       "  <thead>\n",
       "    <tr style=\"text-align: right;\">\n",
       "      <th></th>\n",
       "      <th>user_id</th>\n",
       "      <th>name</th>\n",
       "      <th>age</th>\n",
       "      <th>city</th>\n",
       "      <th>subscription_type</th>\n",
       "      <th>distance</th>\n",
       "      <th>duration</th>\n",
       "      <th>date</th>\n",
       "      <th>month</th>\n",
       "      <th>minute_price</th>\n",
       "      <th>start_ride_price</th>\n",
       "      <th>subscription_fee</th>\n",
       "    </tr>\n",
       "  </thead>\n",
       "  <tbody>\n",
       "    <tr>\n",
       "      <th>0</th>\n",
       "      <td>1</td>\n",
       "      <td>Кира</td>\n",
       "      <td>22</td>\n",
       "      <td>Тюмень</td>\n",
       "      <td>ultra</td>\n",
       "      <td>4409.919140</td>\n",
       "      <td>25.599769</td>\n",
       "      <td>2021-01-01</td>\n",
       "      <td>1</td>\n",
       "      <td>6</td>\n",
       "      <td>0</td>\n",
       "      <td>199</td>\n",
       "    </tr>\n",
       "    <tr>\n",
       "      <th>1</th>\n",
       "      <td>1</td>\n",
       "      <td>Кира</td>\n",
       "      <td>22</td>\n",
       "      <td>Тюмень</td>\n",
       "      <td>ultra</td>\n",
       "      <td>2617.592153</td>\n",
       "      <td>15.816871</td>\n",
       "      <td>2021-01-18</td>\n",
       "      <td>1</td>\n",
       "      <td>6</td>\n",
       "      <td>0</td>\n",
       "      <td>199</td>\n",
       "    </tr>\n",
       "    <tr>\n",
       "      <th>2</th>\n",
       "      <td>1</td>\n",
       "      <td>Кира</td>\n",
       "      <td>22</td>\n",
       "      <td>Тюмень</td>\n",
       "      <td>ultra</td>\n",
       "      <td>754.159807</td>\n",
       "      <td>6.232113</td>\n",
       "      <td>2021-04-20</td>\n",
       "      <td>4</td>\n",
       "      <td>6</td>\n",
       "      <td>0</td>\n",
       "      <td>199</td>\n",
       "    </tr>\n",
       "    <tr>\n",
       "      <th>3</th>\n",
       "      <td>1</td>\n",
       "      <td>Кира</td>\n",
       "      <td>22</td>\n",
       "      <td>Тюмень</td>\n",
       "      <td>ultra</td>\n",
       "      <td>2694.783254</td>\n",
       "      <td>18.511000</td>\n",
       "      <td>2021-08-11</td>\n",
       "      <td>8</td>\n",
       "      <td>6</td>\n",
       "      <td>0</td>\n",
       "      <td>199</td>\n",
       "    </tr>\n",
       "    <tr>\n",
       "      <th>4</th>\n",
       "      <td>1</td>\n",
       "      <td>Кира</td>\n",
       "      <td>22</td>\n",
       "      <td>Тюмень</td>\n",
       "      <td>ultra</td>\n",
       "      <td>4028.687306</td>\n",
       "      <td>26.265803</td>\n",
       "      <td>2021-08-28</td>\n",
       "      <td>8</td>\n",
       "      <td>6</td>\n",
       "      <td>0</td>\n",
       "      <td>199</td>\n",
       "    </tr>\n",
       "  </tbody>\n",
       "</table>\n",
       "</div>"
      ],
      "text/plain": [
       "   user_id  name  age    city subscription_type     distance   duration  \\\n",
       "0        1  Кира   22  Тюмень             ultra  4409.919140  25.599769   \n",
       "1        1  Кира   22  Тюмень             ultra  2617.592153  15.816871   \n",
       "2        1  Кира   22  Тюмень             ultra   754.159807   6.232113   \n",
       "3        1  Кира   22  Тюмень             ultra  2694.783254  18.511000   \n",
       "4        1  Кира   22  Тюмень             ultra  4028.687306  26.265803   \n",
       "\n",
       "        date  month  minute_price  start_ride_price  subscription_fee  \n",
       "0 2021-01-01      1             6                 0               199  \n",
       "1 2021-01-18      1             6                 0               199  \n",
       "2 2021-04-20      4             6                 0               199  \n",
       "3 2021-08-11      8             6                 0               199  \n",
       "4 2021-08-28      8             6                 0               199  "
      ]
     },
     "metadata": {},
     "output_type": "display_data"
    },
    {
     "data": {
      "text/html": [
       "<div>\n",
       "<style scoped>\n",
       "    .dataframe tbody tr th:only-of-type {\n",
       "        vertical-align: middle;\n",
       "    }\n",
       "\n",
       "    .dataframe tbody tr th {\n",
       "        vertical-align: top;\n",
       "    }\n",
       "\n",
       "    .dataframe thead th {\n",
       "        text-align: right;\n",
       "    }\n",
       "</style>\n",
       "<table border=\"1\" class=\"dataframe\">\n",
       "  <thead>\n",
       "    <tr style=\"text-align: right;\">\n",
       "      <th></th>\n",
       "      <th>user_id</th>\n",
       "      <th>name</th>\n",
       "      <th>age</th>\n",
       "      <th>city</th>\n",
       "      <th>subscription_type</th>\n",
       "      <th>distance</th>\n",
       "      <th>duration</th>\n",
       "      <th>date</th>\n",
       "      <th>month</th>\n",
       "      <th>minute_price</th>\n",
       "      <th>start_ride_price</th>\n",
       "      <th>subscription_fee</th>\n",
       "    </tr>\n",
       "  </thead>\n",
       "  <tbody>\n",
       "    <tr>\n",
       "      <th>6500</th>\n",
       "      <td>700</td>\n",
       "      <td>Айдар</td>\n",
       "      <td>22</td>\n",
       "      <td>Омск</td>\n",
       "      <td>free</td>\n",
       "      <td>2515.690719</td>\n",
       "      <td>14.944286</td>\n",
       "      <td>2021-01-02</td>\n",
       "      <td>1</td>\n",
       "      <td>8</td>\n",
       "      <td>50</td>\n",
       "      <td>0</td>\n",
       "    </tr>\n",
       "    <tr>\n",
       "      <th>6501</th>\n",
       "      <td>700</td>\n",
       "      <td>Айдар</td>\n",
       "      <td>22</td>\n",
       "      <td>Омск</td>\n",
       "      <td>free</td>\n",
       "      <td>846.932642</td>\n",
       "      <td>16.234663</td>\n",
       "      <td>2021-02-01</td>\n",
       "      <td>2</td>\n",
       "      <td>8</td>\n",
       "      <td>50</td>\n",
       "      <td>0</td>\n",
       "    </tr>\n",
       "    <tr>\n",
       "      <th>6502</th>\n",
       "      <td>700</td>\n",
       "      <td>Айдар</td>\n",
       "      <td>22</td>\n",
       "      <td>Омск</td>\n",
       "      <td>free</td>\n",
       "      <td>4004.434142</td>\n",
       "      <td>20.016628</td>\n",
       "      <td>2021-02-04</td>\n",
       "      <td>2</td>\n",
       "      <td>8</td>\n",
       "      <td>50</td>\n",
       "      <td>0</td>\n",
       "    </tr>\n",
       "    <tr>\n",
       "      <th>6503</th>\n",
       "      <td>700</td>\n",
       "      <td>Айдар</td>\n",
       "      <td>22</td>\n",
       "      <td>Омск</td>\n",
       "      <td>free</td>\n",
       "      <td>1205.911290</td>\n",
       "      <td>9.782872</td>\n",
       "      <td>2021-02-10</td>\n",
       "      <td>2</td>\n",
       "      <td>8</td>\n",
       "      <td>50</td>\n",
       "      <td>0</td>\n",
       "    </tr>\n",
       "    <tr>\n",
       "      <th>6504</th>\n",
       "      <td>700</td>\n",
       "      <td>Айдар</td>\n",
       "      <td>22</td>\n",
       "      <td>Омск</td>\n",
       "      <td>free</td>\n",
       "      <td>3047.379435</td>\n",
       "      <td>17.427673</td>\n",
       "      <td>2021-02-14</td>\n",
       "      <td>2</td>\n",
       "      <td>8</td>\n",
       "      <td>50</td>\n",
       "      <td>0</td>\n",
       "    </tr>\n",
       "  </tbody>\n",
       "</table>\n",
       "</div>"
      ],
      "text/plain": [
       "      user_id   name  age  city subscription_type     distance   duration  \\\n",
       "6500      700  Айдар   22  Омск              free  2515.690719  14.944286   \n",
       "6501      700  Айдар   22  Омск              free   846.932642  16.234663   \n",
       "6502      700  Айдар   22  Омск              free  4004.434142  20.016628   \n",
       "6503      700  Айдар   22  Омск              free  1205.911290   9.782872   \n",
       "6504      700  Айдар   22  Омск              free  3047.379435  17.427673   \n",
       "\n",
       "           date  month  minute_price  start_ride_price  subscription_fee  \n",
       "6500 2021-01-02      1             8                50                 0  \n",
       "6501 2021-02-01      2             8                50                 0  \n",
       "6502 2021-02-04      2             8                50                 0  \n",
       "6503 2021-02-10      2             8                50                 0  \n",
       "6504 2021-02-14      2             8                50                 0  "
      ]
     },
     "metadata": {},
     "output_type": "display_data"
    },
    {
     "name": "stdout",
     "output_type": "stream",
     "text": [
      "Количество записей в обоих датафреймах 18068\n",
      "Количество записей в объединенной таблице: 18068\n"
     ]
    }
   ],
   "source": [
    "users_without_subscription = merged_data[merged_data['subscription_type'] == 'free']\n",
    "\n",
    "users_with_subscription = merged_data[merged_data['subscription_type'] == 'ultra']\n",
    "\n",
    "display(users_with_subscription.head())\n",
    "display(users_without_subscription.head())\n",
    "\n",
    "print('Количество записей в обоих датафреймах', len(users_with_subscription) + len(users_without_subscription))\n",
    "\n",
    "print('Количество записей в объединенной таблице:', len(merged_data))"
   ]
  },
  {
   "cell_type": "markdown",
   "id": "84196b92",
   "metadata": {},
   "source": [
    "Отлично, все совпадает. \n",
    "Визуализируем полученные датафреймы."
   ]
  },
  {
   "cell_type": "code",
   "execution_count": 19,
   "id": "c86a1e4c",
   "metadata": {
    "scrolled": true
   },
   "outputs": [
    {
     "data": {
      "image/png": "[encoded data removed]",
      "text/plain": [
       "<Figure size 720x360 with 1 Axes>"
      ]
     },
     "metadata": {
      "needs_background": "light"
     },
     "output_type": "display_data"
    }
   ],
   "source": [
    "plt.figure(figsize=(10, 5))\n",
    "\n",
    "plt.hist(users_without_subscription['distance'], bins=20, color='skyblue', edgecolor='black', alpha=0.7, label='Без подписки')\n",
    "\n",
    "plt.hist(users_with_subscription['distance'], bins=20, color='salmon', edgecolor='black', alpha=0.7, label='С подпиской')\n",
    "\n",
    "plt.xlabel('Расстояние за одну поездку')\n",
    "plt.ylabel('Частота')\n",
    "plt.title('Распределение расстояния за одну поездку')\n",
    "\n",
    "plt.show()"
   ]
  },
  {
   "cell_type": "code",
   "execution_count": 20,
   "id": "f72dfe14",
   "metadata": {},
   "outputs": [
    {
     "name": "stdout",
     "output_type": "stream",
     "text": [
      "count    11568.000000\n",
      "mean      3045.495282\n",
      "std       1246.173806\n",
      "min          0.855683\n",
      "25%       2366.562689\n",
      "50%       3114.648465\n",
      "75%       3905.697894\n",
      "max       7211.007745\n",
      "Name: distance, dtype: float64\n",
      "\n",
      "count    6500.000000\n",
      "mean     3115.445388\n",
      "std       836.895330\n",
      "min       244.210438\n",
      "25%      2785.444017\n",
      "50%      3148.637229\n",
      "75%      3560.574425\n",
      "max      5699.769662\n",
      "Name: distance, dtype: float64\n"
     ]
    }
   ],
   "source": [
    "print(users_without_subscription['distance'].describe())\n",
    "print('')\n",
    "print(users_with_subscription['distance'].describe())"
   ]
  },
  {
   "cell_type": "code",
   "execution_count": 21,
   "id": "c5b26814",
   "metadata": {},
   "outputs": [
    {
     "data": {
      "image/png": "[encoded data removed]",
      "text/plain": [
       "<Figure size 720x360 with 1 Axes>"
      ]
     },
     "metadata": {
      "needs_background": "light"
     },
     "output_type": "display_data"
    }
   ],
   "source": [
    "plt.figure(figsize=(10, 5))\n",
    "\n",
    "plt.hist(users_without_subscription['duration'], bins=20, color='skyblue', edgecolor='black', alpha=0.7, label='Без подписки')\n",
    "\n",
    "plt.hist(users_with_subscription['duration'], bins=20, color='salmon', edgecolor='black', alpha=0.7, label='С подпиской')\n",
    "\n",
    "plt.xlabel('Продолжительность поездки')\n",
    "plt.ylabel('Частота')\n",
    "plt.title('Распределение продолжительности поездок')\n",
    "\n",
    "plt.show()"
   ]
  },
  {
   "cell_type": "code",
   "execution_count": 22,
   "id": "d6e3c569",
   "metadata": {},
   "outputs": [
    {
     "name": "stdout",
     "output_type": "stream",
     "text": [
      "count    11568.000000\n",
      "mean        17.390909\n",
      "std          6.326803\n",
      "min          0.500000\n",
      "25%         12.958437\n",
      "50%         17.326890\n",
      "75%         21.594071\n",
      "max         34.948498\n",
      "Name: duration, dtype: float64\n",
      "\n",
      "count    6500.000000\n",
      "mean       18.541985\n",
      "std         5.572048\n",
      "min         3.760353\n",
      "25%        14.524654\n",
      "50%        18.178153\n",
      "75%        21.884129\n",
      "max        40.823963\n",
      "Name: duration, dtype: float64\n"
     ]
    }
   ],
   "source": [
    "print(users_without_subscription['duration'].describe())\n",
    "print('')\n",
    "print(users_with_subscription['duration'].describe())"
   ]
  },
  {
   "cell_type": "markdown",
   "id": "c008541c",
   "metadata": {},
   "source": [
    "На гистограммах видно, что количество поездок у пользователей без подписки намного больше, чем у пользователей с подпиской. Однако распределение у них схоже в некоторых местах,например, в длительности поездок - медиана не сильно отличается. \n",
    "Но также стоит обратить внимание на начало графиков - очень короткие поездки (до 1 км и меньше 10 минут) предпочитают пользователи без подписки.\n",
    "Также стоит обратить внимание на первый график с дистанцией поездок, местами значения отличаются разительно, например, в отметке 2км, 5км. Видно чёткий пик у пользователей с подпиской в районе 3 км, тогда как у пользователей без подписки распределение, скорее, похоже на плато."
   ]
  },
  {
   "cell_type": "markdown",
   "id": "402d620f",
   "metadata": {},
   "source": [
    "#### Шаг 5. Подсчёт выручки"
   ]
  },
  {
   "cell_type": "code",
   "execution_count": 23,
   "id": "53049e0a",
   "metadata": {},
   "outputs": [
    {
     "data": {
      "text/html": [
       "<div>\n",
       "<style scoped>\n",
       "    .dataframe tbody tr th:only-of-type {\n",
       "        vertical-align: middle;\n",
       "    }\n",
       "\n",
       "    .dataframe tbody tr th {\n",
       "        vertical-align: top;\n",
       "    }\n",
       "\n",
       "    .dataframe thead th {\n",
       "        text-align: right;\n",
       "    }\n",
       "</style>\n",
       "<table border=\"1\" class=\"dataframe\">\n",
       "  <thead>\n",
       "    <tr style=\"text-align: right;\">\n",
       "      <th></th>\n",
       "      <th>user_id</th>\n",
       "      <th>month</th>\n",
       "      <th>total_distance</th>\n",
       "      <th>total_duration</th>\n",
       "      <th>trip_count</th>\n",
       "      <th>start_ride_price_sum</th>\n",
       "      <th>subscription_fee</th>\n",
       "      <th>minute_price</th>\n",
       "    </tr>\n",
       "  </thead>\n",
       "  <tbody>\n",
       "    <tr>\n",
       "      <th>0</th>\n",
       "      <td>1</td>\n",
       "      <td>1</td>\n",
       "      <td>7027.511294</td>\n",
       "      <td>42.0</td>\n",
       "      <td>2</td>\n",
       "      <td>0</td>\n",
       "      <td>199</td>\n",
       "      <td>6</td>\n",
       "    </tr>\n",
       "    <tr>\n",
       "      <th>1</th>\n",
       "      <td>1</td>\n",
       "      <td>4</td>\n",
       "      <td>754.159807</td>\n",
       "      <td>7.0</td>\n",
       "      <td>1</td>\n",
       "      <td>0</td>\n",
       "      <td>199</td>\n",
       "      <td>6</td>\n",
       "    </tr>\n",
       "    <tr>\n",
       "      <th>2</th>\n",
       "      <td>1</td>\n",
       "      <td>8</td>\n",
       "      <td>6723.470560</td>\n",
       "      <td>46.0</td>\n",
       "      <td>2</td>\n",
       "      <td>0</td>\n",
       "      <td>199</td>\n",
       "      <td>6</td>\n",
       "    </tr>\n",
       "    <tr>\n",
       "      <th>3</th>\n",
       "      <td>1</td>\n",
       "      <td>10</td>\n",
       "      <td>5809.911100</td>\n",
       "      <td>32.0</td>\n",
       "      <td>2</td>\n",
       "      <td>0</td>\n",
       "      <td>199</td>\n",
       "      <td>6</td>\n",
       "    </tr>\n",
       "    <tr>\n",
       "      <th>4</th>\n",
       "      <td>1</td>\n",
       "      <td>11</td>\n",
       "      <td>7003.499363</td>\n",
       "      <td>56.0</td>\n",
       "      <td>3</td>\n",
       "      <td>0</td>\n",
       "      <td>199</td>\n",
       "      <td>6</td>\n",
       "    </tr>\n",
       "    <tr>\n",
       "      <th>...</th>\n",
       "      <td>...</td>\n",
       "      <td>...</td>\n",
       "      <td>...</td>\n",
       "      <td>...</td>\n",
       "      <td>...</td>\n",
       "      <td>...</td>\n",
       "      <td>...</td>\n",
       "      <td>...</td>\n",
       "    </tr>\n",
       "    <tr>\n",
       "      <th>11326</th>\n",
       "      <td>1534</td>\n",
       "      <td>6</td>\n",
       "      <td>3409.468534</td>\n",
       "      <td>26.0</td>\n",
       "      <td>2</td>\n",
       "      <td>100</td>\n",
       "      <td>0</td>\n",
       "      <td>8</td>\n",
       "    </tr>\n",
       "    <tr>\n",
       "      <th>11327</th>\n",
       "      <td>1534</td>\n",
       "      <td>8</td>\n",
       "      <td>7622.453034</td>\n",
       "      <td>48.0</td>\n",
       "      <td>2</td>\n",
       "      <td>100</td>\n",
       "      <td>0</td>\n",
       "      <td>8</td>\n",
       "    </tr>\n",
       "    <tr>\n",
       "      <th>11328</th>\n",
       "      <td>1534</td>\n",
       "      <td>9</td>\n",
       "      <td>4928.173852</td>\n",
       "      <td>23.0</td>\n",
       "      <td>1</td>\n",
       "      <td>50</td>\n",
       "      <td>0</td>\n",
       "      <td>8</td>\n",
       "    </tr>\n",
       "    <tr>\n",
       "      <th>11329</th>\n",
       "      <td>1534</td>\n",
       "      <td>11</td>\n",
       "      <td>13350.015305</td>\n",
       "      <td>78.0</td>\n",
       "      <td>4</td>\n",
       "      <td>200</td>\n",
       "      <td>0</td>\n",
       "      <td>8</td>\n",
       "    </tr>\n",
       "    <tr>\n",
       "      <th>11330</th>\n",
       "      <td>1534</td>\n",
       "      <td>12</td>\n",
       "      <td>2371.711192</td>\n",
       "      <td>16.0</td>\n",
       "      <td>1</td>\n",
       "      <td>50</td>\n",
       "      <td>0</td>\n",
       "      <td>8</td>\n",
       "    </tr>\n",
       "  </tbody>\n",
       "</table>\n",
       "<p>11331 rows × 8 columns</p>\n",
       "</div>"
      ],
      "text/plain": [
       "       user_id  month  total_distance  total_duration  trip_count  \\\n",
       "0            1      1     7027.511294            42.0           2   \n",
       "1            1      4      754.159807             7.0           1   \n",
       "2            1      8     6723.470560            46.0           2   \n",
       "3            1     10     5809.911100            32.0           2   \n",
       "4            1     11     7003.499363            56.0           3   \n",
       "...        ...    ...             ...             ...         ...   \n",
       "11326     1534      6     3409.468534            26.0           2   \n",
       "11327     1534      8     7622.453034            48.0           2   \n",
       "11328     1534      9     4928.173852            23.0           1   \n",
       "11329     1534     11    13350.015305            78.0           4   \n",
       "11330     1534     12     2371.711192            16.0           1   \n",
       "\n",
       "       start_ride_price_sum  subscription_fee  minute_price  \n",
       "0                         0               199             6  \n",
       "1                         0               199             6  \n",
       "2                         0               199             6  \n",
       "3                         0               199             6  \n",
       "4                         0               199             6  \n",
       "...                     ...               ...           ...  \n",
       "11326                   100                 0             8  \n",
       "11327                   100                 0             8  \n",
       "11328                    50                 0             8  \n",
       "11329                   200                 0             8  \n",
       "11330                    50                 0             8  \n",
       "\n",
       "[11331 rows x 8 columns]"
      ]
     },
     "execution_count": 23,
     "metadata": {},
     "output_type": "execute_result"
    }
   ],
   "source": [
    "merged_data['duration'] = np.ceil(merged_data['duration']) \n",
    "aggregated_data = merged_data.groupby(['user_id', 'month']).agg({\n",
    "    'distance': 'sum',\n",
    "    'duration': 'sum',\n",
    "     'date': 'count',\n",
    "    'start_ride_price': 'sum',\n",
    "    'subscription_fee': 'first', \n",
    "    'minute_price': 'first' }).reset_index()\n",
    "aggregated_data.rename(columns={\n",
    "    'distance': 'total_distance',\n",
    "    'duration': 'total_duration',\n",
    "    'date': 'trip_count',\n",
    "    'start_ride_price': 'start_ride_price_sum' \n",
    "}, inplace=True)\n",
    "\n",
    "aggregated_data"
   ]
  },
  {
   "cell_type": "markdown",
   "id": "324ab682",
   "metadata": {},
   "source": [
    "Мы суммировали все поездки за каждый месяц. В итоге мы получили общую дистанцию, общее время и количество поездок, которые совершил пользователь за определённый месяц. Теперь рассчитаем месячную выручку с каждого пользователя."
   ]
  },
  {
   "cell_type": "code",
   "execution_count": 24,
   "id": "75299f75",
   "metadata": {
    "scrolled": true
   },
   "outputs": [
    {
     "data": {
      "text/html": [
       "<div>\n",
       "<style scoped>\n",
       "    .dataframe tbody tr th:only-of-type {\n",
       "        vertical-align: middle;\n",
       "    }\n",
       "\n",
       "    .dataframe tbody tr th {\n",
       "        vertical-align: top;\n",
       "    }\n",
       "\n",
       "    .dataframe thead th {\n",
       "        text-align: right;\n",
       "    }\n",
       "</style>\n",
       "<table border=\"1\" class=\"dataframe\">\n",
       "  <thead>\n",
       "    <tr style=\"text-align: right;\">\n",
       "      <th></th>\n",
       "      <th>user_id</th>\n",
       "      <th>month</th>\n",
       "      <th>total_distance</th>\n",
       "      <th>total_duration</th>\n",
       "      <th>trip_count</th>\n",
       "      <th>start_ride_price_sum</th>\n",
       "      <th>subscription_fee</th>\n",
       "      <th>minute_price</th>\n",
       "      <th>monthly_revenue</th>\n",
       "    </tr>\n",
       "  </thead>\n",
       "  <tbody>\n",
       "    <tr>\n",
       "      <th>0</th>\n",
       "      <td>1</td>\n",
       "      <td>1</td>\n",
       "      <td>7027.511294</td>\n",
       "      <td>42.0</td>\n",
       "      <td>2</td>\n",
       "      <td>0</td>\n",
       "      <td>199</td>\n",
       "      <td>6</td>\n",
       "      <td>451.0</td>\n",
       "    </tr>\n",
       "    <tr>\n",
       "      <th>1</th>\n",
       "      <td>1</td>\n",
       "      <td>4</td>\n",
       "      <td>754.159807</td>\n",
       "      <td>7.0</td>\n",
       "      <td>1</td>\n",
       "      <td>0</td>\n",
       "      <td>199</td>\n",
       "      <td>6</td>\n",
       "      <td>241.0</td>\n",
       "    </tr>\n",
       "    <tr>\n",
       "      <th>2</th>\n",
       "      <td>1</td>\n",
       "      <td>8</td>\n",
       "      <td>6723.470560</td>\n",
       "      <td>46.0</td>\n",
       "      <td>2</td>\n",
       "      <td>0</td>\n",
       "      <td>199</td>\n",
       "      <td>6</td>\n",
       "      <td>475.0</td>\n",
       "    </tr>\n",
       "    <tr>\n",
       "      <th>3</th>\n",
       "      <td>1</td>\n",
       "      <td>10</td>\n",
       "      <td>5809.911100</td>\n",
       "      <td>32.0</td>\n",
       "      <td>2</td>\n",
       "      <td>0</td>\n",
       "      <td>199</td>\n",
       "      <td>6</td>\n",
       "      <td>391.0</td>\n",
       "    </tr>\n",
       "    <tr>\n",
       "      <th>4</th>\n",
       "      <td>1</td>\n",
       "      <td>11</td>\n",
       "      <td>7003.499363</td>\n",
       "      <td>56.0</td>\n",
       "      <td>3</td>\n",
       "      <td>0</td>\n",
       "      <td>199</td>\n",
       "      <td>6</td>\n",
       "      <td>535.0</td>\n",
       "    </tr>\n",
       "    <tr>\n",
       "      <th>...</th>\n",
       "      <td>...</td>\n",
       "      <td>...</td>\n",
       "      <td>...</td>\n",
       "      <td>...</td>\n",
       "      <td>...</td>\n",
       "      <td>...</td>\n",
       "      <td>...</td>\n",
       "      <td>...</td>\n",
       "      <td>...</td>\n",
       "    </tr>\n",
       "    <tr>\n",
       "      <th>11326</th>\n",
       "      <td>1534</td>\n",
       "      <td>6</td>\n",
       "      <td>3409.468534</td>\n",
       "      <td>26.0</td>\n",
       "      <td>2</td>\n",
       "      <td>100</td>\n",
       "      <td>0</td>\n",
       "      <td>8</td>\n",
       "      <td>308.0</td>\n",
       "    </tr>\n",
       "    <tr>\n",
       "      <th>11327</th>\n",
       "      <td>1534</td>\n",
       "      <td>8</td>\n",
       "      <td>7622.453034</td>\n",
       "      <td>48.0</td>\n",
       "      <td>2</td>\n",
       "      <td>100</td>\n",
       "      <td>0</td>\n",
       "      <td>8</td>\n",
       "      <td>484.0</td>\n",
       "    </tr>\n",
       "    <tr>\n",
       "      <th>11328</th>\n",
       "      <td>1534</td>\n",
       "      <td>9</td>\n",
       "      <td>4928.173852</td>\n",
       "      <td>23.0</td>\n",
       "      <td>1</td>\n",
       "      <td>50</td>\n",
       "      <td>0</td>\n",
       "      <td>8</td>\n",
       "      <td>234.0</td>\n",
       "    </tr>\n",
       "    <tr>\n",
       "      <th>11329</th>\n",
       "      <td>1534</td>\n",
       "      <td>11</td>\n",
       "      <td>13350.015305</td>\n",
       "      <td>78.0</td>\n",
       "      <td>4</td>\n",
       "      <td>200</td>\n",
       "      <td>0</td>\n",
       "      <td>8</td>\n",
       "      <td>824.0</td>\n",
       "    </tr>\n",
       "    <tr>\n",
       "      <th>11330</th>\n",
       "      <td>1534</td>\n",
       "      <td>12</td>\n",
       "      <td>2371.711192</td>\n",
       "      <td>16.0</td>\n",
       "      <td>1</td>\n",
       "      <td>50</td>\n",
       "      <td>0</td>\n",
       "      <td>8</td>\n",
       "      <td>178.0</td>\n",
       "    </tr>\n",
       "  </tbody>\n",
       "</table>\n",
       "<p>11331 rows × 9 columns</p>\n",
       "</div>"
      ],
      "text/plain": [
       "       user_id  month  total_distance  total_duration  trip_count  \\\n",
       "0            1      1     7027.511294            42.0           2   \n",
       "1            1      4      754.159807             7.0           1   \n",
       "2            1      8     6723.470560            46.0           2   \n",
       "3            1     10     5809.911100            32.0           2   \n",
       "4            1     11     7003.499363            56.0           3   \n",
       "...        ...    ...             ...             ...         ...   \n",
       "11326     1534      6     3409.468534            26.0           2   \n",
       "11327     1534      8     7622.453034            48.0           2   \n",
       "11328     1534      9     4928.173852            23.0           1   \n",
       "11329     1534     11    13350.015305            78.0           4   \n",
       "11330     1534     12     2371.711192            16.0           1   \n",
       "\n",
       "       start_ride_price_sum  subscription_fee  minute_price  monthly_revenue  \n",
       "0                         0               199             6            451.0  \n",
       "1                         0               199             6            241.0  \n",
       "2                         0               199             6            475.0  \n",
       "3                         0               199             6            391.0  \n",
       "4                         0               199             6            535.0  \n",
       "...                     ...               ...           ...              ...  \n",
       "11326                   100                 0             8            308.0  \n",
       "11327                   100                 0             8            484.0  \n",
       "11328                    50                 0             8            234.0  \n",
       "11329                   200                 0             8            824.0  \n",
       "11330                    50                 0             8            178.0  \n",
       "\n",
       "[11331 rows x 9 columns]"
      ]
     },
     "execution_count": 24,
     "metadata": {},
     "output_type": "execute_result"
    }
   ],
   "source": [
    "aggregated_data['monthly_revenue'] = (aggregated_data['start_ride_price_sum'] +\n",
    "                                      aggregated_data['total_duration'] * aggregated_data['minute_price'] +\n",
    "                                      aggregated_data['subscription_fee'])\n",
    "aggregated_data"
   ]
  },
  {
   "cell_type": "markdown",
   "id": "df0d7b6c",
   "metadata": {},
   "source": [
    "Итого, перед нами сборная таблица, в ней показана *агрегированная информация о пользователях* - дистанция, длительность, количество поездок и денежных единиц за определенный месяц пользования сервисом. *Значения длительности поездок были округлены* для более точного подсчёта выручки."
   ]
  },
  {
   "cell_type": "markdown",
   "id": "41545ac0",
   "metadata": {},
   "source": [
    "#### Шаг 6. Проверка гипотез"
   ]
  },
  {
   "cell_type": "markdown",
   "id": "14891954",
   "metadata": {},
   "source": [
    "Теперь проверим несколько гипотез, которые выдвинул отдел маркетинга. \n",
    "Итак первая **нулевая гипотеза:** пользователи с подпиской тратят столько же времени на поездки, сколько пользователи без подписки. \n",
    "\n",
    "Проверять мы её будем в пользу **альтернативной гипотезы**: пользователи с подпиской тратят больше времени на поездки, чем пользователи без подписки.  \n",
    "\n",
    "Проверим данную гипотезу с помощью t-теста. "
   ]
  },
  {
   "cell_type": "code",
   "execution_count": 25,
   "id": "23ea867b",
   "metadata": {
    "scrolled": false
   },
   "outputs": [
    {
     "name": "stdout",
     "output_type": "stream",
     "text": [
      "Среднее выборки пользователей с подпиской: 19.037692307692307\n",
      "Среднее выборки пользователей без подписки: 17.890992392807746\n",
      "p-значение: 2.4959453720736625e-34\n",
      "Отвергаем нулевую гипотезу: продолжительность поездок пользователей с подпиской больше, чем пользователей без подписки.\n"
     ]
    }
   ],
   "source": [
    "duration_with_subscription = merged_data[merged_data['subscription_type'] == 'ultra']['duration']\n",
    "duration_without_subscription = merged_data[merged_data['subscription_type'] == 'free']['duration']\n",
    "\n",
    "print(f'Среднее выборки пользователей с подпиской: {np.mean(duration_with_subscription)}')\n",
    "print(f'Среднее выборки пользователей без подписки: {np.mean(duration_without_subscription)}')\n",
    "\n",
    "\n",
    "results = st.ttest_ind(duration_with_subscription, duration_without_subscription, alternative = 'greater')\n",
    "\n",
    "alpha = .05\n",
    "\n",
    "\n",
    "print('p-значение:', results.pvalue)\n",
    "\n",
    "if results.pvalue < alpha:\n",
    "    print('Отвергаем нулевую гипотезу: продолжительность поездок пользователей с подпиской больше, чем пользователей без подписки.')\n",
    "else:\n",
    "    print('Не отвергаем нулевую гипотезу: нет статистически значимых различий в продолжительности поездок для пользователей с подпиской и без подписки.')"
   ]
  },
  {
   "cell_type": "markdown",
   "id": "4d38c0b4",
   "metadata": {},
   "source": [
    "Отвергнув нулевую гипотезу, мы видим, что пользователи с подпиской тратят больше времени на поездки, чем пользователи без подписки. \n",
    "\n",
    "Перейдем к проверке следующих гипотез. \n",
    "\n",
    "**Нулевая гипотеза:** среднее расстояние, которое проезжают пользователи с подпиской не больше 3130 метров.\n",
    "\n",
    "**Альтернативная гипотеза:** среднее расстояние, которое проезжают пользователи с подпиской больше 3130 метров."
   ]
  },
  {
   "cell_type": "code",
   "execution_count": 26,
   "id": "13024984",
   "metadata": {
    "scrolled": true
   },
   "outputs": [
    {
     "name": "stdout",
     "output_type": "stream",
     "text": [
      "Среднее выборки для пользователей с подпиской: 3115.4453880370247\n",
      "p-значение: 0.9195368847849785\n",
      "Не отвергаем нулевую гипотезу: среднее расстояние, которое проезжают пользователи с подпиской за одну поездку, не превышает 3130 метров.\n"
     ]
    }
   ],
   "source": [
    "distance_with_subscription = merged_data[merged_data['subscription_type'] == 'ultra']['distance']\n",
    "\n",
    "print(f'Среднее выборки для пользователей с подпиской: {np.mean(distance_with_subscription)}')\n",
    "\n",
    "results = st.ttest_1samp(distance_with_subscription, 3130, alternative = 'greater')\n",
    "\n",
    "alpha = .05\n",
    "\n",
    "print('p-значение:', results.pvalue)\n",
    "\n",
    "if results.pvalue < alpha:\n",
    "    print('Отвергаем нулевую гипотезу: среднее расстояние, которое проезжают пользователи с подпиской за одну поездку, превышает 3130 метров.')\n",
    "else:\n",
    "    print('Не отвергаем нулевую гипотезу: среднее расстояние, которое проезжают пользователи с подпиской за одну поездку, не превышает 3130 метров.')"
   ]
  },
  {
   "cell_type": "markdown",
   "id": "f1b77ede",
   "metadata": {},
   "source": [
    "Не отвергая нулевую гипотезу, мы выяснили, что **пользователи с подпиской в среднем проезжают не больше (и немногим меньше) 3130 метров**. Перейдем к проверке других гипотез. \n",
    "\n",
    "**Нулевая гипотеза:** помесячная выручка от пользователей с подпиской равна выручке пользователей без подписки. \n",
    "\n",
    "**Альтернативная гипотеза:** помесячная выручка от пользователей с подпиской больше, чем помесячная выручка от пользователей без подписки. "
   ]
  },
  {
   "cell_type": "code",
   "execution_count": 27,
   "id": "53f9dbca",
   "metadata": {
    "scrolled": false
   },
   "outputs": [
    {
     "name": "stdout",
     "output_type": "stream",
     "text": [
      "Среднее выборки пользователей с подпиской: 352.6776923076923\n",
      "Среднее выборки пользователей без подписки: 328.34527013040776\n",
      "p-значение: 3.819490444237055e-17\n",
      "Отвергаем нулевую гипотезу: месячная выручка у пользователей с подпиской больше, чем у пользователей без подписки .\n"
     ]
    }
   ],
   "source": [
    "aggregated_data['subscription_type'] = merged_data['subscription_type']\n",
    "\n",
    "monthly_revenue_with_subscription = aggregated_data[aggregated_data['subscription_type'] == 'ultra']['monthly_revenue']\n",
    "monthly_revenue_without_subscription = aggregated_data[aggregated_data['subscription_type'] == 'free']['monthly_revenue']\n",
    "\n",
    "print(f'Среднее выборки пользователей с подпиской: {np.mean(monthly_revenue_with_subscription)}')\n",
    "print(f'Среднее выборки пользователей без подписки: {np.mean(monthly_revenue_without_subscription)}') \n",
    "\n",
    "results = st.ttest_ind(monthly_revenue_with_subscription, monthly_revenue_without_subscription, alternative = 'greater')\n",
    "\n",
    "alpha = .05\n",
    "\n",
    "\n",
    "print('p-значение:', results.pvalue)\n",
    "\n",
    "if results.pvalue < alpha:\n",
    "    print('Отвергаем нулевую гипотезу: месячная выручка у пользователей с подпиской больше, чем у пользователей без подписки .')\n",
    "else:\n",
    "    print('Не отвергаем нулевую гипотезу: нет статистически значимых различий в месячной выручке для пользователей с подпиской и без подписки.')"
   ]
  },
  {
   "cell_type": "markdown",
   "id": "fc0211e4",
   "metadata": {},
   "source": [
    "Видим такую же картину, как и в первом случае - средние значения у обоих выборок у нас отличается, то есть пользователи с подпиской тратят больше денег, чем пользователи без подписки."
   ]
  },
  {
   "cell_type": "markdown",
   "id": "1a9325f7",
   "metadata": {},
   "source": [
    "Техническая команда сервиса обновила сервера, с которыми взаимодействует мобильное приложение. Она надеется, что из-за этого количество обращений в техподдержку значимо снизилось. \n",
    "Для проверки **односторонней** гипотезы о том, что обновление серверов значительно снизило количество обращений в техподдержку, мы можем использовать **парный t-тест (paired t-test, метод ttest_rel)**. Этот тест позволяет сравнить средние значения двух связанных выборок, в нашем случае - количество обращений до и после обновления серверов для каждого пользователя.\n",
    "\n",
    "*Но, к сожалению, данные ещё не были предоставлены.*"
   ]
  },
  {
   "cell_type": "markdown",
   "id": "b16e439f",
   "metadata": {},
   "source": [
    "**Выводы**\n",
    "1. Пользователи с подпиской тратят больше времени на поездки, чем пользователи без подписки.\n",
    "2. Пользователи с подпиской в среднем проезжают не больше (и немногим меньше) 3130 метров\n",
    "3. Пользователи с подпиской тратят больше денег, чем пользователи без подписки."
   ]
  },
  {
   "cell_type": "markdown",
   "id": "61213c5e",
   "metadata": {},
   "source": [
    "#### Шаг 7. Распределения"
   ]
  },
  {
   "cell_type": "markdown",
   "id": "53a75640",
   "metadata": {},
   "source": [
    "Для поиска подходящего значения параметра N (количество промокодов) мы можем использовать метод кумулятивной функции распределения (CDF). Это позволит нам понять, какое минимальное количество промокодов нужно, чтобы минимум 100 существующих клиентов продлили подписку."
   ]
  },
  {
   "cell_type": "code",
   "execution_count": 28,
   "id": "95cd1d51",
   "metadata": {
    "scrolled": true
   },
   "outputs": [
    {
     "name": "stdout",
     "output_type": "stream",
     "text": [
      "Минимальное количество промокодов, которые нужно разослать: 1161\n"
     ]
    }
   ],
   "source": [
    "from scipy.stats import binom\n",
    "\n",
    "p = 0.1\n",
    "success_rate = 0.1\n",
    "failure_rate = 0.05 \n",
    "subscribers = 100\n",
    "\n",
    "N = 1\n",
    "while binom.cdf(subscribers - 1, N, p) > failure_rate:\n",
    "    N += 1\n",
    "\n",
    "print(f'Минимальное количество промокодов, которые нужно разослать: {N}')\n"
   ]
  },
  {
   "cell_type": "markdown",
   "id": "f7620179",
   "metadata": {},
   "source": [
    "Перейдем к решению второй задачи. Воспользуемся методом нормальной апроксимации. Зададим значения, диапазон значений и распределение вероятностей. После построим график и найдем вероятнсть того, что уведомление откроют не более 399,5 тыс. пользователей."
   ]
  },
  {
   "cell_type": "code",
   "execution_count": 29,
   "id": "6a86b1e8",
   "metadata": {},
   "outputs": [
    {
     "data": {
      "image/png": "[encoded data removed]",
      "text/plain": [
       "<Figure size 432x288 with 1 Axes>"
      ]
     },
     "metadata": {
      "needs_background": "light"
     },
     "output_type": "display_data"
    }
   ],
   "source": [
    "n = 1000000\n",
    "p = 0.4\n",
    "mu = n * p\n",
    "sigma = np.sqrt(n * p * (1 - p))\n",
    "\n",
    "x = np.linspace(mu - 3 * sigma, mu + 3 * sigma, 100)\n",
    "y = st.norm(mu, sigma).pdf(x)\n",
    "\n",
    "plt.plot(x, y)\n",
    "plt.xlabel('Количество пользователей, открывших уведомление')\n",
    "plt.ylabel('Вероятность')\n",
    "\n",
    "plt.show()"
   ]
  },
  {
   "cell_type": "code",
   "execution_count": 30,
   "id": "72bc7463",
   "metadata": {
    "scrolled": true
   },
   "outputs": [
    {
     "name": "stdout",
     "output_type": "stream",
     "text": [
      "Вероятность:  0.1537\n"
     ]
    }
   ],
   "source": [
    "cdf = st.norm(mu, sigma).cdf(399500)\n",
    "print(f'Вероятность: {cdf: .4f}')"
   ]
  },
  {
   "cell_type": "markdown",
   "id": "462d5cf8",
   "metadata": {},
   "source": [
    "# Итоговый вывод\n",
    "1. Для анализа были рассмотрены данные о пользователях, поездках и подписках.\n",
    "\n",
    "2. Пропущенных значений в данных не обнаружено, но были выявлены явные дубликаты в таблице пользователей. Они были успешно удалены.\n",
    "\n",
    "3. В ходе исследовательского анализа данных были получены следующие результаты:\n",
    "- Наибольшее количество пользователей проживает в городе Пятигорск, меньше всего - в Москве. Разница в количестве пользователей между городами не является значительной.\n",
    "- Больше половины пользователей не имеют платной подписки на сервис.\n",
    "- Большинство пользователей сервиса находятся в возрастной группе от 20 до 30 лет, после 30 лет количество пользователей снижается.\n",
    "- Среднее расстояние поездки составляет около 3 км, а среднее время поездки - от 15 до 20 минут.\n",
    "\n",
    "4. Объединив данные о пользователях, поездках и подписках, мы суммировали все поездки за каждый месяц, получив общую дистанцию, время и количество поездок для каждого пользователя. В результате анализа данных о поездках пользователей с подпиской и без подписки можно сделать следующие выводы:\n",
    "\n",
    "- Количество поездок у пользователей без подписки значительно превышает количество поездок у пользователей с подпиской. Это может свидетельствовать о том, что пользователи без подписки чаще пользуются сервисом аренды самокатов.\n",
    "\n",
    "- Распределение длительности поездок у обеих категорий пользователей схоже, что указывает на то, что в целом пользователи, вне зависимости от наличия подписки, предпочитают совершать поездки примерно одинаковой длительности.\n",
    "\n",
    "- Пользователи без подписки чаще совершают очень короткие поездки, в то время как у пользователей с подпиской не наблюдается таких крайних значений.\n",
    "\n",
    "- Распределение дистанции поездок также различается: у пользователей с подпиской наблюдается чёткий пик в районе 3 км, в то время как у пользователей без подписки распределение более равномерное.\n",
    "\n",
    "5. Из результатов проверки гипотез были получены следующие выводы:\n",
    "- Пользователи с подпиской тратят больше времени на поездки, чем пользователи без подписки.\n",
    "- Среднее расстояние, которое проезжают пользователи с подпиской за одну поездку, немного меньше 3130 метров.\n",
    "- Выручка от пользователей с подпиской выше, чем от пользователей без подписки.\n",
    "\n",
    "В целом, на основе проведенного анализа можно сделать вывод, что пользователи с подпиской являются более выгодными для сервиса аренды самокатов, так как они тратят больше времени на поездки, проезжают более длительные расстояния и приносят больше выручки.\n",
    "\n",
    "\n",
    "\n",
    "\n"
   ]
  }
 ],
 "metadata": {
  "ExecuteTimeLog": [
   {
    "duration": 47,
    "start_time": "2024-03-25T20:30:25.386Z"
   },
   {
    "duration": 6,
    "start_time": "2024-03-25T20:30:31.929Z"
   },
   {
    "duration": 422,
    "start_time": "2024-03-25T20:30:38.769Z"
   },
   {
    "duration": 76,
    "start_time": "2024-03-25T20:30:40.641Z"
   },
   {
    "duration": 104,
    "start_time": "2024-03-25T20:30:58.938Z"
   },
   {
    "duration": 58,
    "start_time": "2024-03-27T10:34:40.077Z"
   },
   {
    "duration": 423,
    "start_time": "2024-03-27T10:34:42.966Z"
   },
   {
    "duration": 322,
    "start_time": "2024-03-27T10:34:44.649Z"
   },
   {
    "duration": 3,
    "start_time": "2024-03-27T10:35:26.524Z"
   },
   {
    "duration": 76,
    "start_time": "2024-03-27T10:35:30.363Z"
   },
   {
    "duration": 71,
    "start_time": "2024-03-27T10:35:54.775Z"
   },
   {
    "duration": 70,
    "start_time": "2024-03-27T10:36:53.056Z"
   },
   {
    "duration": 74,
    "start_time": "2024-03-27T10:37:15.020Z"
   },
   {
    "duration": 78,
    "start_time": "2024-03-27T10:37:24.977Z"
   },
   {
    "duration": 88,
    "start_time": "2024-03-27T10:37:48.738Z"
   },
   {
    "duration": 80,
    "start_time": "2024-03-27T10:38:06.753Z"
   },
   {
    "duration": 83,
    "start_time": "2024-03-27T10:38:20.522Z"
   },
   {
    "duration": 82,
    "start_time": "2024-03-27T10:38:29.506Z"
   },
   {
    "duration": 83,
    "start_time": "2024-03-27T13:34:13.111Z"
   },
   {
    "duration": 84,
    "start_time": "2024-03-27T13:34:18.271Z"
   },
   {
    "duration": 101,
    "start_time": "2024-03-27T13:36:15.841Z"
   },
   {
    "duration": 101,
    "start_time": "2024-03-27T13:36:33.241Z"
   },
   {
    "duration": 99,
    "start_time": "2024-03-27T13:36:43.386Z"
   },
   {
    "duration": 101,
    "start_time": "2024-03-27T13:36:51.466Z"
   },
   {
    "duration": 99,
    "start_time": "2024-03-27T13:37:01.723Z"
   },
   {
    "duration": 100,
    "start_time": "2024-03-27T13:37:08.802Z"
   },
   {
    "duration": 40,
    "start_time": "2024-03-28T20:21:44.586Z"
   },
   {
    "duration": 388,
    "start_time": "2024-03-28T20:21:49.072Z"
   },
   {
    "duration": 236,
    "start_time": "2024-03-28T20:21:50.873Z"
   },
   {
    "duration": 1202,
    "start_time": "2024-03-28T20:21:53.081Z"
   },
   {
    "duration": 5,
    "start_time": "2024-03-28T20:28:51.305Z"
   },
   {
    "duration": 39,
    "start_time": "2024-03-28T20:28:59.321Z"
   },
   {
    "duration": 9,
    "start_time": "2024-03-28T20:29:05.945Z"
   },
   {
    "duration": 7,
    "start_time": "2024-03-28T20:36:21.710Z"
   },
   {
    "duration": 10,
    "start_time": "2024-03-28T20:36:28.702Z"
   },
   {
    "duration": 8,
    "start_time": "2024-03-28T20:36:34.383Z"
   },
   {
    "duration": 7,
    "start_time": "2024-03-28T20:38:06.487Z"
   },
   {
    "duration": 9,
    "start_time": "2024-03-28T20:39:43.992Z"
   },
   {
    "duration": 6,
    "start_time": "2024-03-28T20:39:58.692Z"
   },
   {
    "duration": 7,
    "start_time": "2024-03-28T20:40:10.356Z"
   },
   {
    "duration": 4,
    "start_time": "2024-03-28T20:40:30.581Z"
   },
   {
    "duration": 6,
    "start_time": "2024-03-28T20:43:13.309Z"
   },
   {
    "duration": 6,
    "start_time": "2024-03-28T20:43:43.752Z"
   },
   {
    "duration": 5,
    "start_time": "2024-03-28T20:43:53.161Z"
   },
   {
    "duration": 5,
    "start_time": "2024-03-28T20:44:03.352Z"
   },
   {
    "duration": 5,
    "start_time": "2024-03-28T20:44:11.401Z"
   },
   {
    "duration": 4,
    "start_time": "2024-03-28T20:44:15.913Z"
   },
   {
    "duration": 5,
    "start_time": "2024-03-28T20:45:46.730Z"
   },
   {
    "duration": 5,
    "start_time": "2024-03-28T20:46:03.339Z"
   },
   {
    "duration": 9,
    "start_time": "2024-03-28T20:46:19.008Z"
   },
   {
    "duration": 5,
    "start_time": "2024-03-28T20:46:24.393Z"
   },
   {
    "duration": 13,
    "start_time": "2024-03-28T20:51:25.992Z"
   },
   {
    "duration": 6,
    "start_time": "2024-03-28T20:51:38.414Z"
   },
   {
    "duration": 6,
    "start_time": "2024-03-28T20:51:47.025Z"
   },
   {
    "duration": 11,
    "start_time": "2024-03-28T21:04:36.656Z"
   },
   {
    "duration": 10,
    "start_time": "2024-03-28T21:04:51.581Z"
   },
   {
    "duration": 4,
    "start_time": "2024-03-28T21:05:27.593Z"
   },
   {
    "duration": 366,
    "start_time": "2024-03-28T21:06:20.146Z"
   },
   {
    "duration": 56,
    "start_time": "2024-03-28T21:06:45.267Z"
   },
   {
    "duration": 117,
    "start_time": "2024-03-28T21:06:47.995Z"
   },
   {
    "duration": 5,
    "start_time": "2024-03-28T21:18:19.152Z"
   },
   {
    "duration": 5,
    "start_time": "2024-03-28T21:21:50.723Z"
   },
   {
    "duration": 6,
    "start_time": "2024-03-28T21:25:56.937Z"
   },
   {
    "duration": 3,
    "start_time": "2024-03-28T21:26:03.560Z"
   },
   {
    "duration": 82,
    "start_time": "2024-03-28T21:26:57.426Z"
   },
   {
    "duration": 90,
    "start_time": "2024-03-28T21:27:23.483Z"
   },
   {
    "duration": 83,
    "start_time": "2024-03-28T21:27:44.994Z"
   },
   {
    "duration": 81,
    "start_time": "2024-03-28T21:28:03.619Z"
   },
   {
    "duration": 44,
    "start_time": "2024-03-28T21:28:09.355Z"
   },
   {
    "duration": 48,
    "start_time": "2024-03-28T21:28:56.132Z"
   },
   {
    "duration": 86,
    "start_time": "2024-03-28T21:30:14.085Z"
   },
   {
    "duration": 93,
    "start_time": "2024-03-28T21:30:27.358Z"
   },
   {
    "duration": 78,
    "start_time": "2024-03-28T21:30:43.334Z"
   },
   {
    "duration": 81,
    "start_time": "2024-03-28T21:30:53.206Z"
   },
   {
    "duration": 77,
    "start_time": "2024-03-28T21:31:05.474Z"
   },
   {
    "duration": 75,
    "start_time": "2024-03-28T21:31:24.438Z"
   },
   {
    "duration": 548,
    "start_time": "2024-03-28T21:31:41.041Z"
   },
   {
    "duration": 95,
    "start_time": "2024-03-28T21:31:41.590Z"
   },
   {
    "duration": 11,
    "start_time": "2024-03-28T21:31:41.686Z"
   },
   {
    "duration": 10,
    "start_time": "2024-03-28T21:31:41.698Z"
   },
   {
    "duration": 8,
    "start_time": "2024-03-28T21:31:41.710Z"
   },
   {
    "duration": 4,
    "start_time": "2024-03-28T21:31:41.720Z"
   },
   {
    "duration": 8,
    "start_time": "2024-03-28T21:31:41.725Z"
   },
   {
    "duration": 13,
    "start_time": "2024-03-28T21:31:41.734Z"
   },
   {
    "duration": 14,
    "start_time": "2024-03-28T21:31:41.748Z"
   },
   {
    "duration": 122,
    "start_time": "2024-03-28T21:31:41.763Z"
   },
   {
    "duration": 78,
    "start_time": "2024-03-28T21:31:43.463Z"
   },
   {
    "duration": 69,
    "start_time": "2024-03-28T21:32:03.359Z"
   },
   {
    "duration": 71,
    "start_time": "2024-03-28T21:32:13.879Z"
   },
   {
    "duration": 115,
    "start_time": "2024-03-28T21:32:30.632Z"
   },
   {
    "duration": 89,
    "start_time": "2024-03-28T21:32:44.176Z"
   },
   {
    "duration": 80,
    "start_time": "2024-03-28T21:33:04.826Z"
   },
   {
    "duration": 104,
    "start_time": "2024-03-28T21:33:18.833Z"
   },
   {
    "duration": 7,
    "start_time": "2024-03-28T21:34:52.451Z"
   },
   {
    "duration": 52,
    "start_time": "2024-03-28T21:35:05.731Z"
   },
   {
    "duration": 47,
    "start_time": "2024-03-28T21:35:11.876Z"
   },
   {
    "duration": 57,
    "start_time": "2024-03-28T21:35:21.156Z"
   },
   {
    "duration": 52,
    "start_time": "2024-03-28T21:36:15.020Z"
   },
   {
    "duration": 53,
    "start_time": "2024-03-28T21:36:31.553Z"
   },
   {
    "duration": 51,
    "start_time": "2024-03-28T21:36:41.461Z"
   },
   {
    "duration": 5,
    "start_time": "2024-03-28T21:41:15.554Z"
   },
   {
    "duration": 55,
    "start_time": "2024-03-28T21:48:58.108Z"
   },
   {
    "duration": 4,
    "start_time": "2024-03-28T21:49:04.235Z"
   },
   {
    "duration": 12,
    "start_time": "2024-03-28T21:51:09.574Z"
   },
   {
    "duration": 5,
    "start_time": "2024-03-28T21:54:54.066Z"
   },
   {
    "duration": 123,
    "start_time": "2024-03-28T22:00:14.800Z"
   },
   {
    "duration": 900,
    "start_time": "2024-03-28T22:06:05.678Z"
   },
   {
    "duration": 118,
    "start_time": "2024-03-28T22:06:31.383Z"
   },
   {
    "duration": 5,
    "start_time": "2024-03-28T22:07:30.064Z"
   },
   {
    "duration": 160,
    "start_time": "2024-03-28T22:08:33.737Z"
   },
   {
    "duration": 120,
    "start_time": "2024-03-28T22:08:38.258Z"
   },
   {
    "duration": 111,
    "start_time": "2024-03-28T22:08:53.003Z"
   },
   {
    "duration": 109,
    "start_time": "2024-03-28T22:08:57.642Z"
   },
   {
    "duration": 113,
    "start_time": "2024-03-28T22:09:01.829Z"
   },
   {
    "duration": 147,
    "start_time": "2024-03-28T22:09:08.092Z"
   },
   {
    "duration": 115,
    "start_time": "2024-03-28T22:15:10.371Z"
   },
   {
    "duration": 119,
    "start_time": "2024-03-28T22:16:10.140Z"
   },
   {
    "duration": 49,
    "start_time": "2024-03-29T21:41:20.653Z"
   },
   {
    "duration": 808,
    "start_time": "2024-03-29T21:42:12.479Z"
   },
   {
    "duration": 247,
    "start_time": "2024-03-29T21:42:13.289Z"
   },
   {
    "duration": 19,
    "start_time": "2024-03-29T21:42:13.537Z"
   },
   {
    "duration": 24,
    "start_time": "2024-03-29T21:42:13.558Z"
   },
   {
    "duration": 11,
    "start_time": "2024-03-29T21:42:13.585Z"
   },
   {
    "duration": 6,
    "start_time": "2024-03-29T21:42:13.598Z"
   },
   {
    "duration": 6,
    "start_time": "2024-03-29T21:42:13.606Z"
   },
   {
    "duration": 7,
    "start_time": "2024-03-29T21:42:13.613Z"
   },
   {
    "duration": 7,
    "start_time": "2024-03-29T21:42:13.622Z"
   },
   {
    "duration": 185,
    "start_time": "2024-03-29T21:42:13.630Z"
   },
   {
    "duration": 91,
    "start_time": "2024-03-29T21:42:13.817Z"
   },
   {
    "duration": 159,
    "start_time": "2024-03-29T21:42:13.910Z"
   },
   {
    "duration": 161,
    "start_time": "2024-03-29T21:42:14.071Z"
   },
   {
    "duration": 213,
    "start_time": "2024-03-29T21:42:14.234Z"
   },
   {
    "duration": 42,
    "start_time": "2024-03-29T21:42:17.968Z"
   },
   {
    "duration": 11,
    "start_time": "2024-03-29T21:42:25.899Z"
   },
   {
    "duration": 17,
    "start_time": "2024-03-29T21:42:50.307Z"
   },
   {
    "duration": 25,
    "start_time": "2024-03-29T21:43:03.571Z"
   },
   {
    "duration": 25,
    "start_time": "2024-03-29T21:47:11.178Z"
   },
   {
    "duration": 33,
    "start_time": "2024-03-29T21:47:34.634Z"
   },
   {
    "duration": 33,
    "start_time": "2024-03-29T21:48:35.060Z"
   },
   {
    "duration": 24,
    "start_time": "2024-03-29T21:48:55.732Z"
   },
   {
    "duration": 6,
    "start_time": "2024-03-29T21:52:03.752Z"
   },
   {
    "duration": 13,
    "start_time": "2024-03-29T21:52:20.405Z"
   },
   {
    "duration": 5,
    "start_time": "2024-03-29T21:52:30.912Z"
   },
   {
    "duration": 8,
    "start_time": "2024-03-29T21:53:07.080Z"
   },
   {
    "duration": 869,
    "start_time": "2024-03-29T21:55:36.644Z"
   },
   {
    "duration": 180,
    "start_time": "2024-03-29T21:55:48.077Z"
   },
   {
    "duration": 170,
    "start_time": "2024-03-29T21:56:08.301Z"
   },
   {
    "duration": 186,
    "start_time": "2024-03-29T21:56:25.173Z"
   },
   {
    "duration": 180,
    "start_time": "2024-03-29T21:56:34.645Z"
   },
   {
    "duration": 171,
    "start_time": "2024-03-29T21:56:41.021Z"
   },
   {
    "duration": 170,
    "start_time": "2024-03-29T21:57:10.685Z"
   },
   {
    "duration": 188,
    "start_time": "2024-03-29T21:57:15.886Z"
   },
   {
    "duration": 171,
    "start_time": "2024-03-29T21:57:26.726Z"
   },
   {
    "duration": 187,
    "start_time": "2024-03-29T21:57:32.967Z"
   },
   {
    "duration": 16,
    "start_time": "2024-03-29T22:05:06.871Z"
   },
   {
    "duration": 21,
    "start_time": "2024-03-29T22:05:13.333Z"
   },
   {
    "duration": 8,
    "start_time": "2024-03-29T22:05:33.256Z"
   },
   {
    "duration": 22,
    "start_time": "2024-03-29T22:05:43.456Z"
   },
   {
    "duration": 26,
    "start_time": "2024-03-29T22:06:03.728Z"
   },
   {
    "duration": 9,
    "start_time": "2024-03-29T22:06:14.673Z"
   },
   {
    "duration": 18,
    "start_time": "2024-03-29T22:09:44.740Z"
   },
   {
    "duration": 8,
    "start_time": "2024-03-29T22:09:53.499Z"
   },
   {
    "duration": 45,
    "start_time": "2024-03-30T18:35:42.933Z"
   },
   {
    "duration": 737,
    "start_time": "2024-03-30T18:35:47.863Z"
   },
   {
    "duration": 244,
    "start_time": "2024-03-30T18:35:48.602Z"
   },
   {
    "duration": 14,
    "start_time": "2024-03-30T18:35:48.848Z"
   },
   {
    "duration": 25,
    "start_time": "2024-03-30T18:35:48.864Z"
   },
   {
    "duration": 12,
    "start_time": "2024-03-30T18:35:48.892Z"
   },
   {
    "duration": 8,
    "start_time": "2024-03-30T18:35:48.917Z"
   },
   {
    "duration": 21,
    "start_time": "2024-03-30T18:35:48.927Z"
   },
   {
    "duration": 20,
    "start_time": "2024-03-30T18:35:48.950Z"
   },
   {
    "duration": 12,
    "start_time": "2024-03-30T18:35:48.972Z"
   },
   {
    "duration": 152,
    "start_time": "2024-03-30T18:35:48.986Z"
   },
   {
    "duration": 63,
    "start_time": "2024-03-30T18:35:49.140Z"
   },
   {
    "duration": 142,
    "start_time": "2024-03-30T18:35:49.218Z"
   },
   {
    "duration": 157,
    "start_time": "2024-03-30T18:35:49.362Z"
   },
   {
    "duration": 211,
    "start_time": "2024-03-30T18:35:49.521Z"
   },
   {
    "duration": 49,
    "start_time": "2024-03-30T18:35:49.733Z"
   },
   {
    "duration": 0,
    "start_time": "2024-03-30T18:35:49.784Z"
   },
   {
    "duration": 0,
    "start_time": "2024-03-30T18:35:49.785Z"
   },
   {
    "duration": 0,
    "start_time": "2024-03-30T18:35:49.786Z"
   },
   {
    "duration": 12,
    "start_time": "2024-03-30T18:35:52.068Z"
   },
   {
    "duration": 17,
    "start_time": "2024-03-30T18:36:30.174Z"
   },
   {
    "duration": 13,
    "start_time": "2024-03-30T18:36:43.318Z"
   },
   {
    "duration": 13,
    "start_time": "2024-03-30T18:38:23.752Z"
   },
   {
    "duration": 17,
    "start_time": "2024-03-30T18:39:26.337Z"
   },
   {
    "duration": 14,
    "start_time": "2024-03-30T18:39:59.825Z"
   },
   {
    "duration": 12,
    "start_time": "2024-03-30T18:41:05.755Z"
   },
   {
    "duration": 16,
    "start_time": "2024-03-30T18:41:16.971Z"
   },
   {
    "duration": 3,
    "start_time": "2024-03-30T18:52:43.904Z"
   },
   {
    "duration": 24,
    "start_time": "2024-03-30T19:00:28.470Z"
   },
   {
    "duration": 28,
    "start_time": "2024-03-30T19:00:38.241Z"
   },
   {
    "duration": 827,
    "start_time": "2024-03-30T19:03:42.325Z"
   },
   {
    "duration": 13,
    "start_time": "2024-03-30T19:04:05.136Z"
   },
   {
    "duration": 4,
    "start_time": "2024-03-30T19:08:00.482Z"
   },
   {
    "duration": 17,
    "start_time": "2024-03-30T19:09:24.592Z"
   },
   {
    "duration": 3,
    "start_time": "2024-03-30T19:09:26.667Z"
   },
   {
    "duration": 18,
    "start_time": "2024-03-30T19:09:30.931Z"
   },
   {
    "duration": 896,
    "start_time": "2024-03-30T19:12:52.748Z"
   },
   {
    "duration": 860,
    "start_time": "2024-03-30T19:13:12.495Z"
   },
   {
    "duration": 5,
    "start_time": "2024-03-30T19:13:24.288Z"
   },
   {
    "duration": 12,
    "start_time": "2024-03-30T19:13:33.831Z"
   },
   {
    "duration": 8,
    "start_time": "2024-03-30T19:14:39.327Z"
   },
   {
    "duration": 14,
    "start_time": "2024-03-30T19:15:06.873Z"
   },
   {
    "duration": 459,
    "start_time": "2024-03-30T19:27:09.373Z"
   },
   {
    "duration": 3,
    "start_time": "2024-03-30T19:27:59.848Z"
   },
   {
    "duration": 13,
    "start_time": "2024-03-30T19:30:09.507Z"
   },
   {
    "duration": 11,
    "start_time": "2024-03-30T19:31:11.612Z"
   },
   {
    "duration": 10,
    "start_time": "2024-03-30T19:35:07.072Z"
   },
   {
    "duration": 43,
    "start_time": "2024-03-30T19:39:39.900Z"
   },
   {
    "duration": 14,
    "start_time": "2024-03-30T19:39:56.191Z"
   },
   {
    "duration": 11,
    "start_time": "2024-03-30T19:40:03.095Z"
   },
   {
    "duration": 11,
    "start_time": "2024-03-30T19:43:18.458Z"
   },
   {
    "duration": 11,
    "start_time": "2024-03-30T19:43:21.450Z"
   },
   {
    "duration": 12,
    "start_time": "2024-03-30T19:45:17.261Z"
   },
   {
    "duration": 11,
    "start_time": "2024-03-30T19:46:22.062Z"
   },
   {
    "duration": 5,
    "start_time": "2024-03-30T19:54:16.935Z"
   },
   {
    "duration": 6,
    "start_time": "2024-03-30T19:54:32.459Z"
   },
   {
    "duration": 8,
    "start_time": "2024-03-30T19:56:35.520Z"
   },
   {
    "duration": 6,
    "start_time": "2024-03-30T19:56:44.121Z"
   },
   {
    "duration": 13,
    "start_time": "2024-03-30T19:58:36.372Z"
   },
   {
    "duration": 11,
    "start_time": "2024-03-30T19:58:41.620Z"
   },
   {
    "duration": 6,
    "start_time": "2024-03-30T19:58:57.052Z"
   },
   {
    "duration": 12,
    "start_time": "2024-03-30T20:00:27.333Z"
   },
   {
    "duration": 10,
    "start_time": "2024-03-30T20:01:12.015Z"
   },
   {
    "duration": 8,
    "start_time": "2024-03-30T20:01:29.726Z"
   },
   {
    "duration": 9,
    "start_time": "2024-03-30T20:01:58.879Z"
   },
   {
    "duration": 4,
    "start_time": "2024-03-30T20:09:26.528Z"
   },
   {
    "duration": 8,
    "start_time": "2024-03-30T20:10:12.577Z"
   },
   {
    "duration": 14,
    "start_time": "2024-03-30T20:10:29.321Z"
   },
   {
    "duration": 7,
    "start_time": "2024-03-30T20:10:36.193Z"
   },
   {
    "duration": 8,
    "start_time": "2024-03-30T20:11:13.881Z"
   },
   {
    "duration": 11,
    "start_time": "2024-03-30T20:12:21.106Z"
   },
   {
    "duration": 13,
    "start_time": "2024-03-30T20:12:37.747Z"
   },
   {
    "duration": 9,
    "start_time": "2024-03-30T20:13:26.501Z"
   },
   {
    "duration": 10,
    "start_time": "2024-03-30T20:13:41.164Z"
   },
   {
    "duration": 14,
    "start_time": "2024-03-30T20:13:50.557Z"
   },
   {
    "duration": 11,
    "start_time": "2024-03-30T20:13:55.029Z"
   },
   {
    "duration": 10,
    "start_time": "2024-03-30T20:14:46.342Z"
   },
   {
    "duration": 11,
    "start_time": "2024-03-30T20:14:51.669Z"
   },
   {
    "duration": 12,
    "start_time": "2024-03-30T20:14:56.638Z"
   },
   {
    "duration": 11,
    "start_time": "2024-03-30T20:15:02.966Z"
   },
   {
    "duration": 11,
    "start_time": "2024-03-30T20:15:05.599Z"
   },
   {
    "duration": 11,
    "start_time": "2024-03-30T20:15:07.894Z"
   },
   {
    "duration": 14,
    "start_time": "2024-03-30T20:15:16.191Z"
   },
   {
    "duration": 11,
    "start_time": "2024-03-30T20:15:22.303Z"
   },
   {
    "duration": 10,
    "start_time": "2024-03-30T20:16:31.959Z"
   },
   {
    "duration": 11,
    "start_time": "2024-03-30T20:16:49.944Z"
   },
   {
    "duration": 11,
    "start_time": "2024-03-30T20:17:46.785Z"
   },
   {
    "duration": 11,
    "start_time": "2024-03-30T20:18:10.353Z"
   },
   {
    "duration": 10,
    "start_time": "2024-03-30T20:18:15.026Z"
   },
   {
    "duration": 11,
    "start_time": "2024-03-30T20:19:04.899Z"
   },
   {
    "duration": 12,
    "start_time": "2024-03-30T20:21:15.237Z"
   },
   {
    "duration": 8,
    "start_time": "2024-03-30T20:21:30.133Z"
   },
   {
    "duration": 11,
    "start_time": "2024-03-30T20:21:45.030Z"
   },
   {
    "duration": 8,
    "start_time": "2024-03-30T20:22:17.310Z"
   },
   {
    "duration": 9,
    "start_time": "2024-03-30T20:22:22.414Z"
   },
   {
    "duration": 8,
    "start_time": "2024-03-30T20:22:29.470Z"
   },
   {
    "duration": 9,
    "start_time": "2024-03-30T20:23:11.367Z"
   },
   {
    "duration": 10,
    "start_time": "2024-03-30T20:23:15.551Z"
   },
   {
    "duration": 11,
    "start_time": "2024-03-30T20:27:20.132Z"
   },
   {
    "duration": 9,
    "start_time": "2024-03-30T20:27:34.372Z"
   },
   {
    "duration": 10,
    "start_time": "2024-03-30T20:27:46.245Z"
   },
   {
    "duration": 11,
    "start_time": "2024-03-30T20:27:53.556Z"
   },
   {
    "duration": 11,
    "start_time": "2024-03-30T20:29:20.822Z"
   },
   {
    "duration": 12,
    "start_time": "2024-03-30T20:30:07.503Z"
   },
   {
    "duration": 10,
    "start_time": "2024-03-30T20:33:37.036Z"
   },
   {
    "duration": 11,
    "start_time": "2024-03-30T20:37:41.688Z"
   },
   {
    "duration": 15,
    "start_time": "2024-03-30T20:39:21.011Z"
   },
   {
    "duration": 102,
    "start_time": "2024-03-30T20:54:45.092Z"
   },
   {
    "duration": 58,
    "start_time": "2024-03-30T20:55:03.548Z"
   },
   {
    "duration": 4,
    "start_time": "2024-03-30T20:56:06.045Z"
   },
   {
    "duration": 4,
    "start_time": "2024-03-30T20:56:10.005Z"
   },
   {
    "duration": 4,
    "start_time": "2024-03-30T20:57:08.278Z"
   },
   {
    "duration": 94,
    "start_time": "2024-03-30T20:57:10.454Z"
   },
   {
    "duration": 99,
    "start_time": "2024-03-30T20:57:53.664Z"
   },
   {
    "duration": 89,
    "start_time": "2024-03-30T20:58:02.960Z"
   },
   {
    "duration": 101,
    "start_time": "2024-03-30T20:58:36.352Z"
   },
   {
    "duration": 91,
    "start_time": "2024-03-30T20:59:50.482Z"
   },
   {
    "duration": 101,
    "start_time": "2024-03-30T21:04:08.086Z"
   },
   {
    "duration": 97,
    "start_time": "2024-03-30T21:04:13.902Z"
   },
   {
    "duration": 128,
    "start_time": "2024-03-30T21:09:07.860Z"
   },
   {
    "duration": 96,
    "start_time": "2024-03-30T21:09:14.691Z"
   },
   {
    "duration": 122,
    "start_time": "2024-03-30T21:09:39.926Z"
   },
   {
    "duration": 104,
    "start_time": "2024-03-30T21:09:44.740Z"
   },
   {
    "duration": 121,
    "start_time": "2024-03-30T21:09:47.465Z"
   },
   {
    "duration": 131,
    "start_time": "2024-03-30T21:10:17.708Z"
   },
   {
    "duration": 99,
    "start_time": "2024-03-30T21:10:21.757Z"
   },
   {
    "duration": 101,
    "start_time": "2024-03-30T21:10:24.645Z"
   },
   {
    "duration": 1069,
    "start_time": "2024-03-30T21:10:49.815Z"
   },
   {
    "duration": 115,
    "start_time": "2024-03-30T21:10:50.886Z"
   },
   {
    "duration": 14,
    "start_time": "2024-03-30T21:10:51.003Z"
   },
   {
    "duration": 11,
    "start_time": "2024-03-30T21:10:51.019Z"
   },
   {
    "duration": 7,
    "start_time": "2024-03-30T21:10:51.032Z"
   },
   {
    "duration": 5,
    "start_time": "2024-03-30T21:10:51.041Z"
   },
   {
    "duration": 11,
    "start_time": "2024-03-30T21:10:51.048Z"
   },
   {
    "duration": 7,
    "start_time": "2024-03-30T21:10:51.061Z"
   },
   {
    "duration": 9,
    "start_time": "2024-03-30T21:10:51.069Z"
   },
   {
    "duration": 165,
    "start_time": "2024-03-30T21:10:51.117Z"
   },
   {
    "duration": 75,
    "start_time": "2024-03-30T21:10:51.284Z"
   },
   {
    "duration": 151,
    "start_time": "2024-03-30T21:10:51.361Z"
   },
   {
    "duration": 156,
    "start_time": "2024-03-30T21:10:51.513Z"
   },
   {
    "duration": 162,
    "start_time": "2024-03-30T21:10:51.672Z"
   },
   {
    "duration": 26,
    "start_time": "2024-03-30T21:10:51.835Z"
   },
   {
    "duration": 8,
    "start_time": "2024-03-30T21:10:51.863Z"
   },
   {
    "duration": 199,
    "start_time": "2024-03-30T21:10:51.872Z"
   },
   {
    "duration": 190,
    "start_time": "2024-03-30T21:10:52.073Z"
   },
   {
    "duration": 17,
    "start_time": "2024-03-30T21:10:52.264Z"
   },
   {
    "duration": 13,
    "start_time": "2024-03-30T21:10:52.282Z"
   },
   {
    "duration": 24,
    "start_time": "2024-03-30T21:10:52.297Z"
   },
   {
    "duration": 12,
    "start_time": "2024-03-30T21:10:52.323Z"
   },
   {
    "duration": 11,
    "start_time": "2024-03-30T21:10:52.337Z"
   },
   {
    "duration": 109,
    "start_time": "2024-03-30T21:10:54.374Z"
   },
   {
    "duration": 7,
    "start_time": "2024-03-30T21:13:05.328Z"
   },
   {
    "duration": 185,
    "start_time": "2024-03-30T21:15:21.171Z"
   },
   {
    "duration": 942,
    "start_time": "2024-03-30T21:25:52.911Z"
   },
   {
    "duration": 125,
    "start_time": "2024-03-30T21:43:17.827Z"
   },
   {
    "duration": 214,
    "start_time": "2024-03-30T21:43:21.531Z"
   },
   {
    "duration": 134,
    "start_time": "2024-03-30T21:46:31.270Z"
   },
   {
    "duration": 143,
    "start_time": "2024-03-30T21:46:37.638Z"
   },
   {
    "duration": 126,
    "start_time": "2024-03-30T21:46:44.038Z"
   },
   {
    "duration": 9,
    "start_time": "2024-03-30T21:47:52.527Z"
   },
   {
    "duration": 4,
    "start_time": "2024-03-30T21:47:57.696Z"
   },
   {
    "duration": 4,
    "start_time": "2024-03-30T21:48:07.759Z"
   },
   {
    "duration": 5,
    "start_time": "2024-03-30T21:48:12.079Z"
   },
   {
    "duration": 4,
    "start_time": "2024-03-30T21:48:14.352Z"
   },
   {
    "duration": 6,
    "start_time": "2024-03-30T21:48:17.607Z"
   },
   {
    "duration": 4,
    "start_time": "2024-03-30T21:48:19.656Z"
   },
   {
    "duration": 5,
    "start_time": "2024-03-30T21:48:24.936Z"
   },
   {
    "duration": 4,
    "start_time": "2024-03-30T21:48:41.920Z"
   },
   {
    "duration": 5,
    "start_time": "2024-03-30T21:48:48.560Z"
   },
   {
    "duration": 10,
    "start_time": "2024-03-30T21:48:55.512Z"
   },
   {
    "duration": 4,
    "start_time": "2024-03-30T21:49:05.258Z"
   },
   {
    "duration": 126,
    "start_time": "2024-03-30T21:53:40.783Z"
   },
   {
    "duration": 129,
    "start_time": "2024-03-30T21:54:03.319Z"
   },
   {
    "duration": 1181,
    "start_time": "2024-03-30T22:03:13.571Z"
   },
   {
    "duration": 115,
    "start_time": "2024-03-30T22:03:14.754Z"
   },
   {
    "duration": 13,
    "start_time": "2024-03-30T22:03:14.871Z"
   },
   {
    "duration": 16,
    "start_time": "2024-03-30T22:03:14.886Z"
   },
   {
    "duration": 9,
    "start_time": "2024-03-30T22:03:14.903Z"
   },
   {
    "duration": 5,
    "start_time": "2024-03-30T22:03:14.913Z"
   },
   {
    "duration": 5,
    "start_time": "2024-03-30T22:03:14.920Z"
   },
   {
    "duration": 7,
    "start_time": "2024-03-30T22:03:14.926Z"
   },
   {
    "duration": 8,
    "start_time": "2024-03-30T22:03:14.934Z"
   },
   {
    "duration": 166,
    "start_time": "2024-03-30T22:03:14.974Z"
   },
   {
    "duration": 76,
    "start_time": "2024-03-30T22:03:15.142Z"
   },
   {
    "duration": 164,
    "start_time": "2024-03-30T22:03:15.220Z"
   },
   {
    "duration": 175,
    "start_time": "2024-03-30T22:03:15.386Z"
   },
   {
    "duration": 170,
    "start_time": "2024-03-30T22:03:15.562Z"
   },
   {
    "duration": 28,
    "start_time": "2024-03-30T22:03:15.733Z"
   },
   {
    "duration": 19,
    "start_time": "2024-03-30T22:03:15.762Z"
   },
   {
    "duration": 201,
    "start_time": "2024-03-30T22:03:15.783Z"
   },
   {
    "duration": 213,
    "start_time": "2024-03-30T22:03:15.985Z"
   },
   {
    "duration": 18,
    "start_time": "2024-03-30T22:03:16.200Z"
   },
   {
    "duration": 14,
    "start_time": "2024-03-30T22:03:16.220Z"
   },
   {
    "duration": 42,
    "start_time": "2024-03-30T22:03:16.235Z"
   },
   {
    "duration": 9,
    "start_time": "2024-03-30T22:03:16.279Z"
   },
   {
    "duration": 24,
    "start_time": "2024-03-30T22:03:16.289Z"
   },
   {
    "duration": 125,
    "start_time": "2024-03-30T22:03:16.315Z"
   },
   {
    "duration": 163,
    "start_time": "2024-03-30T22:03:16.442Z"
   },
   {
    "duration": 5,
    "start_time": "2024-03-30T22:03:16.606Z"
   },
   {
    "duration": 32,
    "start_time": "2024-03-30T22:07:19.480Z"
   },
   {
    "duration": 10,
    "start_time": "2024-03-30T22:10:16.361Z"
   },
   {
    "duration": 11,
    "start_time": "2024-03-30T22:20:03.525Z"
   },
   {
    "duration": 4,
    "start_time": "2024-03-30T22:22:28.998Z"
   },
   {
    "duration": 106,
    "start_time": "2024-03-30T22:22:33.045Z"
   },
   {
    "duration": 135,
    "start_time": "2024-03-30T22:26:27.808Z"
   },
   {
    "duration": 115,
    "start_time": "2024-03-30T22:28:21.008Z"
   },
   {
    "duration": 1195,
    "start_time": "2024-03-30T22:28:57.444Z"
   },
   {
    "duration": 118,
    "start_time": "2024-03-30T22:28:58.641Z"
   },
   {
    "duration": 13,
    "start_time": "2024-03-30T22:28:58.761Z"
   },
   {
    "duration": 10,
    "start_time": "2024-03-30T22:28:58.775Z"
   },
   {
    "duration": 9,
    "start_time": "2024-03-30T22:28:58.787Z"
   },
   {
    "duration": 5,
    "start_time": "2024-03-30T22:28:58.797Z"
   },
   {
    "duration": 8,
    "start_time": "2024-03-30T22:28:58.804Z"
   },
   {
    "duration": 12,
    "start_time": "2024-03-30T22:28:58.813Z"
   },
   {
    "duration": 9,
    "start_time": "2024-03-30T22:28:58.827Z"
   },
   {
    "duration": 189,
    "start_time": "2024-03-30T22:28:58.837Z"
   },
   {
    "duration": 76,
    "start_time": "2024-03-30T22:28:59.028Z"
   },
   {
    "duration": 163,
    "start_time": "2024-03-30T22:28:59.106Z"
   },
   {
    "duration": 171,
    "start_time": "2024-03-30T22:28:59.272Z"
   },
   {
    "duration": 171,
    "start_time": "2024-03-30T22:28:59.446Z"
   },
   {
    "duration": 28,
    "start_time": "2024-03-30T22:28:59.618Z"
   },
   {
    "duration": 26,
    "start_time": "2024-03-30T22:28:59.647Z"
   },
   {
    "duration": 199,
    "start_time": "2024-03-30T22:28:59.674Z"
   },
   {
    "duration": 190,
    "start_time": "2024-03-30T22:28:59.874Z"
   },
   {
    "duration": 20,
    "start_time": "2024-03-30T22:29:00.072Z"
   },
   {
    "duration": 59,
    "start_time": "2024-03-30T22:29:00.093Z"
   },
   {
    "duration": 61,
    "start_time": "2024-03-30T22:29:00.154Z"
   },
   {
    "duration": 106,
    "start_time": "2024-03-30T22:29:00.217Z"
   },
   {
    "duration": 72,
    "start_time": "2024-03-30T22:29:00.324Z"
   },
   {
    "duration": 175,
    "start_time": "2024-03-30T22:29:00.398Z"
   },
   {
    "duration": 157,
    "start_time": "2024-03-30T22:29:00.574Z"
   },
   {
    "duration": 4,
    "start_time": "2024-03-30T22:29:00.733Z"
   },
   {
    "duration": 9,
    "start_time": "2024-03-30T22:36:43.192Z"
   },
   {
    "duration": 8,
    "start_time": "2024-03-30T22:36:45.912Z"
   },
   {
    "duration": 8,
    "start_time": "2024-03-30T22:41:39.581Z"
   },
   {
    "duration": 8,
    "start_time": "2024-03-30T22:42:02.606Z"
   },
   {
    "duration": 14,
    "start_time": "2024-03-30T22:59:08.118Z"
   },
   {
    "duration": 10,
    "start_time": "2024-03-30T22:59:14.193Z"
   },
   {
    "duration": 119,
    "start_time": "2024-03-30T23:01:20.612Z"
   },
   {
    "duration": 121,
    "start_time": "2024-03-30T23:02:13.244Z"
   },
   {
    "duration": 121,
    "start_time": "2024-03-30T23:02:55.646Z"
   },
   {
    "duration": 123,
    "start_time": "2024-03-30T23:03:44.998Z"
   },
   {
    "duration": 132,
    "start_time": "2024-03-30T23:04:04.614Z"
   },
   {
    "duration": 6,
    "start_time": "2024-03-30T23:04:29.783Z"
   },
   {
    "duration": 6,
    "start_time": "2024-03-30T23:05:45.752Z"
   },
   {
    "duration": 6,
    "start_time": "2024-03-30T23:05:50.479Z"
   },
   {
    "duration": 69,
    "start_time": "2024-03-30T23:06:48.745Z"
   },
   {
    "duration": 137,
    "start_time": "2024-03-30T23:06:57.826Z"
   },
   {
    "duration": 137,
    "start_time": "2024-03-30T23:08:02.035Z"
   },
   {
    "duration": 189,
    "start_time": "2024-03-30T23:11:39.199Z"
   },
   {
    "duration": 197,
    "start_time": "2024-03-30T23:12:33.040Z"
   },
   {
    "duration": 21,
    "start_time": "2024-03-30T23:13:54.810Z"
   },
   {
    "duration": 17,
    "start_time": "2024-03-30T23:14:07.706Z"
   },
   {
    "duration": 18,
    "start_time": "2024-03-30T23:14:21.266Z"
   },
   {
    "duration": 14,
    "start_time": "2024-03-30T23:14:32.994Z"
   },
   {
    "duration": 29,
    "start_time": "2024-03-30T23:14:35.850Z"
   },
   {
    "duration": 22,
    "start_time": "2024-03-30T23:14:38.411Z"
   },
   {
    "duration": 17,
    "start_time": "2024-03-30T23:15:09.980Z"
   },
   {
    "duration": 12,
    "start_time": "2024-03-30T23:15:16.739Z"
   },
   {
    "duration": 8,
    "start_time": "2024-03-30T23:15:24.803Z"
   },
   {
    "duration": 11,
    "start_time": "2024-03-30T23:15:27.339Z"
   },
   {
    "duration": 4,
    "start_time": "2024-03-30T23:16:26.341Z"
   },
   {
    "duration": 8,
    "start_time": "2024-03-30T23:17:04.125Z"
   },
   {
    "duration": 65,
    "start_time": "2024-03-30T23:17:55.502Z"
   },
   {
    "duration": 64,
    "start_time": "2024-03-30T23:18:05.478Z"
   },
   {
    "duration": 71,
    "start_time": "2024-03-30T23:18:30.991Z"
   },
   {
    "duration": 9,
    "start_time": "2024-03-30T23:19:01.679Z"
   },
   {
    "duration": 9,
    "start_time": "2024-03-30T23:19:34.632Z"
   },
   {
    "duration": 16,
    "start_time": "2024-03-30T23:20:36.313Z"
   },
   {
    "duration": 922,
    "start_time": "2024-03-30T23:20:54.505Z"
   },
   {
    "duration": 27,
    "start_time": "2024-03-30T23:21:26.963Z"
   },
   {
    "duration": 15,
    "start_time": "2024-03-30T23:23:26.324Z"
   },
   {
    "duration": 23,
    "start_time": "2024-03-30T23:23:45.554Z"
   },
   {
    "duration": 26,
    "start_time": "2024-03-30T23:25:18.671Z"
   },
   {
    "duration": 57,
    "start_time": "2024-03-30T23:26:03.856Z"
   },
   {
    "duration": 23,
    "start_time": "2024-03-30T23:26:07.896Z"
   },
   {
    "duration": 8,
    "start_time": "2024-03-30T23:28:17.122Z"
   },
   {
    "duration": 9,
    "start_time": "2024-03-30T23:28:29.154Z"
   },
   {
    "duration": 9,
    "start_time": "2024-03-30T23:28:44.051Z"
   },
   {
    "duration": 11,
    "start_time": "2024-03-30T23:28:51.938Z"
   },
   {
    "duration": 14,
    "start_time": "2024-03-30T23:28:58.555Z"
   },
   {
    "duration": 10,
    "start_time": "2024-03-30T23:29:33.139Z"
   },
   {
    "duration": 12,
    "start_time": "2024-03-30T23:30:50.489Z"
   },
   {
    "duration": 17,
    "start_time": "2024-03-30T23:31:35.879Z"
   },
   {
    "duration": 19,
    "start_time": "2024-03-30T23:46:08.807Z"
   },
   {
    "duration": 22,
    "start_time": "2024-03-30T23:46:26.438Z"
   },
   {
    "duration": 18,
    "start_time": "2024-03-30T23:46:32.967Z"
   },
   {
    "duration": 59,
    "start_time": "2024-03-30T23:47:52.784Z"
   },
   {
    "duration": 863,
    "start_time": "2024-03-30T23:49:16.691Z"
   },
   {
    "duration": 960,
    "start_time": "2024-03-30T23:50:18.891Z"
   },
   {
    "duration": 12,
    "start_time": "2024-03-30T23:52:09.470Z"
   },
   {
    "duration": 12,
    "start_time": "2024-03-30T23:52:16.377Z"
   },
   {
    "duration": 17,
    "start_time": "2024-03-30T23:52:20.109Z"
   },
   {
    "duration": 12,
    "start_time": "2024-03-30T23:52:22.701Z"
   },
   {
    "duration": 11,
    "start_time": "2024-03-30T23:55:23.410Z"
   },
   {
    "duration": 12,
    "start_time": "2024-03-30T23:55:36.489Z"
   },
   {
    "duration": 8,
    "start_time": "2024-03-30T23:57:17.611Z"
   },
   {
    "duration": 13,
    "start_time": "2024-03-30T23:57:22.059Z"
   },
   {
    "duration": 4,
    "start_time": "2024-03-30T23:59:03.429Z"
   },
   {
    "duration": 7,
    "start_time": "2024-03-30T23:59:16.453Z"
   },
   {
    "duration": 17,
    "start_time": "2024-03-31T00:01:03.256Z"
   },
   {
    "duration": 11,
    "start_time": "2024-03-31T00:03:06.762Z"
   },
   {
    "duration": 128,
    "start_time": "2024-03-31T00:11:32.915Z"
   },
   {
    "duration": 1047,
    "start_time": "2024-03-31T12:45:50.669Z"
   },
   {
    "duration": 108,
    "start_time": "2024-03-31T12:45:51.718Z"
   },
   {
    "duration": 12,
    "start_time": "2024-03-31T12:45:51.827Z"
   },
   {
    "duration": 23,
    "start_time": "2024-03-31T12:45:51.840Z"
   },
   {
    "duration": 28,
    "start_time": "2024-03-31T12:45:51.865Z"
   },
   {
    "duration": 24,
    "start_time": "2024-03-31T12:45:51.894Z"
   },
   {
    "duration": 21,
    "start_time": "2024-03-31T12:45:51.920Z"
   },
   {
    "duration": 26,
    "start_time": "2024-03-31T12:45:51.943Z"
   },
   {
    "duration": 20,
    "start_time": "2024-03-31T12:45:51.970Z"
   },
   {
    "duration": 160,
    "start_time": "2024-03-31T12:45:51.992Z"
   },
   {
    "duration": 5,
    "start_time": "2024-03-31T12:45:52.154Z"
   },
   {
    "duration": 74,
    "start_time": "2024-03-31T12:45:52.160Z"
   },
   {
    "duration": 150,
    "start_time": "2024-03-31T12:45:52.236Z"
   },
   {
    "duration": 156,
    "start_time": "2024-03-31T12:45:52.388Z"
   },
   {
    "duration": 178,
    "start_time": "2024-03-31T12:45:52.546Z"
   },
   {
    "duration": 26,
    "start_time": "2024-03-31T12:45:52.725Z"
   },
   {
    "duration": 23,
    "start_time": "2024-03-31T12:45:52.765Z"
   },
   {
    "duration": 25,
    "start_time": "2024-03-31T12:45:52.789Z"
   },
   {
    "duration": 205,
    "start_time": "2024-03-31T12:45:52.816Z"
   },
   {
    "duration": 10,
    "start_time": "2024-03-31T12:45:53.022Z"
   },
   {
    "duration": 203,
    "start_time": "2024-03-31T12:45:53.033Z"
   },
   {
    "duration": 10,
    "start_time": "2024-03-31T12:45:53.237Z"
   },
   {
    "duration": 29,
    "start_time": "2024-03-31T12:45:53.249Z"
   },
   {
    "duration": 12,
    "start_time": "2024-03-31T12:45:53.280Z"
   },
   {
    "duration": 12,
    "start_time": "2024-03-31T12:45:53.293Z"
   },
   {
    "duration": 8,
    "start_time": "2024-03-31T12:45:53.306Z"
   },
   {
    "duration": 11,
    "start_time": "2024-03-31T12:45:53.316Z"
   },
   {
    "duration": 187,
    "start_time": "2024-03-31T12:45:53.328Z"
   },
   {
    "duration": 151,
    "start_time": "2024-03-31T12:45:53.517Z"
   },
   {
    "duration": 4,
    "start_time": "2024-03-31T12:45:53.670Z"
   },
   {
    "duration": 10,
    "start_time": "2024-03-31T12:53:33.465Z"
   },
   {
    "duration": 1072,
    "start_time": "2024-03-31T13:06:09.651Z"
   },
   {
    "duration": 110,
    "start_time": "2024-03-31T13:06:10.726Z"
   },
   {
    "duration": 14,
    "start_time": "2024-03-31T13:06:10.837Z"
   },
   {
    "duration": 25,
    "start_time": "2024-03-31T13:06:10.852Z"
   },
   {
    "duration": 8,
    "start_time": "2024-03-31T13:06:10.879Z"
   },
   {
    "duration": 12,
    "start_time": "2024-03-31T13:06:10.889Z"
   },
   {
    "duration": 10,
    "start_time": "2024-03-31T13:06:10.903Z"
   },
   {
    "duration": 25,
    "start_time": "2024-03-31T13:06:10.914Z"
   },
   {
    "duration": 19,
    "start_time": "2024-03-31T13:06:10.940Z"
   },
   {
    "duration": 150,
    "start_time": "2024-03-31T13:06:10.961Z"
   },
   {
    "duration": 5,
    "start_time": "2024-03-31T13:06:11.112Z"
   },
   {
    "duration": 77,
    "start_time": "2024-03-31T13:06:11.118Z"
   },
   {
    "duration": 149,
    "start_time": "2024-03-31T13:06:11.197Z"
   },
   {
    "duration": 173,
    "start_time": "2024-03-31T13:06:11.348Z"
   },
   {
    "duration": 157,
    "start_time": "2024-03-31T13:06:11.522Z"
   },
   {
    "duration": 24,
    "start_time": "2024-03-31T13:06:11.681Z"
   },
   {
    "duration": 19,
    "start_time": "2024-03-31T13:06:11.707Z"
   },
   {
    "duration": 49,
    "start_time": "2024-03-31T13:06:11.727Z"
   },
   {
    "duration": 197,
    "start_time": "2024-03-31T13:06:11.777Z"
   },
   {
    "duration": 10,
    "start_time": "2024-03-31T13:06:11.976Z"
   },
   {
    "duration": 195,
    "start_time": "2024-03-31T13:06:11.987Z"
   },
   {
    "duration": 10,
    "start_time": "2024-03-31T13:06:12.183Z"
   },
   {
    "duration": 16,
    "start_time": "2024-03-31T13:06:12.194Z"
   },
   {
    "duration": 11,
    "start_time": "2024-03-31T13:06:12.212Z"
   },
   {
    "duration": 11,
    "start_time": "2024-03-31T13:06:12.225Z"
   },
   {
    "duration": 8,
    "start_time": "2024-03-31T13:06:12.265Z"
   },
   {
    "duration": 12,
    "start_time": "2024-03-31T13:06:12.275Z"
   },
   {
    "duration": 149,
    "start_time": "2024-03-31T13:06:12.289Z"
   },
   {
    "duration": 153,
    "start_time": "2024-03-31T13:06:12.440Z"
   },
   {
    "duration": 4,
    "start_time": "2024-03-31T13:06:12.594Z"
   },
   {
    "duration": 48,
    "start_time": "2024-03-31T13:14:01.421Z"
   },
   {
    "duration": 1375,
    "start_time": "2024-03-31T13:14:05.569Z"
   },
   {
    "duration": 332,
    "start_time": "2024-03-31T13:14:06.946Z"
   },
   {
    "duration": 14,
    "start_time": "2024-03-31T13:14:07.280Z"
   },
   {
    "duration": 70,
    "start_time": "2024-03-31T13:14:09.052Z"
   },
   {
    "duration": 14,
    "start_time": "2024-03-31T13:14:24.877Z"
   },
   {
    "duration": 14,
    "start_time": "2024-03-31T13:14:43.813Z"
   },
   {
    "duration": 15,
    "start_time": "2024-03-31T13:14:48.942Z"
   },
   {
    "duration": 9,
    "start_time": "2024-03-31T13:22:07.731Z"
   },
   {
    "duration": 10,
    "start_time": "2024-03-31T13:23:34.736Z"
   },
   {
    "duration": 3,
    "start_time": "2024-03-31T13:30:05.922Z"
   },
   {
    "duration": 119,
    "start_time": "2024-03-31T13:30:05.926Z"
   },
   {
    "duration": 14,
    "start_time": "2024-03-31T13:30:06.047Z"
   },
   {
    "duration": 16,
    "start_time": "2024-03-31T13:30:06.064Z"
   },
   {
    "duration": 10,
    "start_time": "2024-03-31T13:30:06.082Z"
   },
   {
    "duration": 23,
    "start_time": "2024-03-31T13:30:06.093Z"
   },
   {
    "duration": 32,
    "start_time": "2024-03-31T13:30:06.118Z"
   },
   {
    "duration": 14,
    "start_time": "2024-03-31T13:30:06.152Z"
   },
   {
    "duration": 10,
    "start_time": "2024-03-31T13:30:06.168Z"
   },
   {
    "duration": 189,
    "start_time": "2024-03-31T13:30:06.181Z"
   },
   {
    "duration": 5,
    "start_time": "2024-03-31T13:30:06.372Z"
   },
   {
    "duration": 75,
    "start_time": "2024-03-31T13:30:06.378Z"
   },
   {
    "duration": 176,
    "start_time": "2024-03-31T13:30:06.455Z"
   },
   {
    "duration": 180,
    "start_time": "2024-03-31T13:30:06.632Z"
   },
   {
    "duration": 164,
    "start_time": "2024-03-31T13:30:06.814Z"
   },
   {
    "duration": 26,
    "start_time": "2024-03-31T13:30:06.980Z"
   },
   {
    "duration": 21,
    "start_time": "2024-03-31T13:30:07.007Z"
   },
   {
    "duration": 51,
    "start_time": "2024-03-31T13:30:07.029Z"
   },
   {
    "duration": 215,
    "start_time": "2024-03-31T13:30:07.081Z"
   },
   {
    "duration": 11,
    "start_time": "2024-03-31T13:30:07.298Z"
   },
   {
    "duration": 212,
    "start_time": "2024-03-31T13:30:07.310Z"
   },
   {
    "duration": 11,
    "start_time": "2024-03-31T13:30:07.524Z"
   },
   {
    "duration": 34,
    "start_time": "2024-03-31T13:30:07.536Z"
   },
   {
    "duration": 99,
    "start_time": "2024-03-31T13:30:10.862Z"
   },
   {
    "duration": 17,
    "start_time": "2024-03-31T13:30:17.446Z"
   },
   {
    "duration": 13,
    "start_time": "2024-03-31T13:30:38.255Z"
   },
   {
    "duration": 1305,
    "start_time": "2024-03-31T13:31:22.008Z"
   },
   {
    "duration": 1508,
    "start_time": "2024-03-31T13:31:48.857Z"
   },
   {
    "duration": 31,
    "start_time": "2024-03-31T13:32:06.921Z"
   },
   {
    "duration": 1342,
    "start_time": "2024-03-31T13:32:31.793Z"
   },
   {
    "duration": 27,
    "start_time": "2024-03-31T13:32:47.681Z"
   },
   {
    "duration": 1079,
    "start_time": "2024-03-31T13:32:58.716Z"
   },
   {
    "duration": 109,
    "start_time": "2024-03-31T13:32:59.798Z"
   },
   {
    "duration": 20,
    "start_time": "2024-03-31T13:32:59.909Z"
   },
   {
    "duration": 17,
    "start_time": "2024-03-31T13:32:59.931Z"
   },
   {
    "duration": 12,
    "start_time": "2024-03-31T13:32:59.969Z"
   },
   {
    "duration": 6,
    "start_time": "2024-03-31T13:32:59.983Z"
   },
   {
    "duration": 5,
    "start_time": "2024-03-31T13:32:59.990Z"
   },
   {
    "duration": 6,
    "start_time": "2024-03-31T13:32:59.997Z"
   },
   {
    "duration": 7,
    "start_time": "2024-03-31T13:33:00.004Z"
   },
   {
    "duration": 195,
    "start_time": "2024-03-31T13:33:00.013Z"
   },
   {
    "duration": 6,
    "start_time": "2024-03-31T13:33:00.209Z"
   },
   {
    "duration": 101,
    "start_time": "2024-03-31T13:33:00.217Z"
   },
   {
    "duration": 202,
    "start_time": "2024-03-31T13:33:00.319Z"
   },
   {
    "duration": 218,
    "start_time": "2024-03-31T13:33:00.524Z"
   },
   {
    "duration": 273,
    "start_time": "2024-03-31T13:33:00.744Z"
   },
   {
    "duration": 27,
    "start_time": "2024-03-31T13:33:01.019Z"
   },
   {
    "duration": 124,
    "start_time": "2024-03-31T13:33:01.048Z"
   },
   {
    "duration": 99,
    "start_time": "2024-03-31T13:33:01.174Z"
   },
   {
    "duration": 477,
    "start_time": "2024-03-31T13:33:01.275Z"
   },
   {
    "duration": 20,
    "start_time": "2024-03-31T13:33:01.753Z"
   },
   {
    "duration": 250,
    "start_time": "2024-03-31T13:33:01.775Z"
   },
   {
    "duration": 10,
    "start_time": "2024-03-31T13:33:02.027Z"
   },
   {
    "duration": 62,
    "start_time": "2024-03-31T13:33:02.039Z"
   },
   {
    "duration": 14,
    "start_time": "2024-03-31T13:33:03.930Z"
   },
   {
    "duration": 12,
    "start_time": "2024-03-31T13:36:23.469Z"
   },
   {
    "duration": 19,
    "start_time": "2024-03-31T13:36:31.150Z"
   },
   {
    "duration": 1352,
    "start_time": "2024-03-31T13:39:15.193Z"
   },
   {
    "duration": 16,
    "start_time": "2024-03-31T13:39:36.065Z"
   },
   {
    "duration": 14,
    "start_time": "2024-03-31T13:39:49.417Z"
   },
   {
    "duration": 15,
    "start_time": "2024-03-31T13:39:56.009Z"
   },
   {
    "duration": 15,
    "start_time": "2024-03-31T13:40:07.034Z"
   },
   {
    "duration": 17,
    "start_time": "2024-03-31T13:40:15.626Z"
   },
   {
    "duration": 18,
    "start_time": "2024-03-31T13:40:35.659Z"
   },
   {
    "duration": 51,
    "start_time": "2024-03-31T13:47:00.735Z"
   },
   {
    "duration": 1136,
    "start_time": "2024-03-31T13:47:06.363Z"
   },
   {
    "duration": 112,
    "start_time": "2024-03-31T13:47:07.501Z"
   },
   {
    "duration": 15,
    "start_time": "2024-03-31T13:47:07.616Z"
   },
   {
    "duration": 37,
    "start_time": "2024-03-31T13:47:07.633Z"
   },
   {
    "duration": 12,
    "start_time": "2024-03-31T13:47:07.672Z"
   },
   {
    "duration": 6,
    "start_time": "2024-03-31T13:47:07.686Z"
   },
   {
    "duration": 6,
    "start_time": "2024-03-31T13:47:07.694Z"
   },
   {
    "duration": 6,
    "start_time": "2024-03-31T13:47:07.702Z"
   },
   {
    "duration": 19,
    "start_time": "2024-03-31T13:47:07.709Z"
   },
   {
    "duration": 179,
    "start_time": "2024-03-31T13:47:07.731Z"
   },
   {
    "duration": 5,
    "start_time": "2024-03-31T13:47:07.912Z"
   },
   {
    "duration": 87,
    "start_time": "2024-03-31T13:47:07.919Z"
   },
   {
    "duration": 166,
    "start_time": "2024-03-31T13:47:08.008Z"
   },
   {
    "duration": 172,
    "start_time": "2024-03-31T13:47:08.176Z"
   },
   {
    "duration": 162,
    "start_time": "2024-03-31T13:47:08.349Z"
   },
   {
    "duration": 28,
    "start_time": "2024-03-31T13:47:08.513Z"
   },
   {
    "duration": 39,
    "start_time": "2024-03-31T13:47:08.543Z"
   },
   {
    "duration": 30,
    "start_time": "2024-03-31T13:47:08.584Z"
   },
   {
    "duration": 237,
    "start_time": "2024-03-31T13:47:08.617Z"
   },
   {
    "duration": 17,
    "start_time": "2024-03-31T13:47:08.856Z"
   },
   {
    "duration": 207,
    "start_time": "2024-03-31T13:47:08.874Z"
   },
   {
    "duration": 11,
    "start_time": "2024-03-31T13:47:09.082Z"
   },
   {
    "duration": 21,
    "start_time": "2024-03-31T13:47:11.321Z"
   },
   {
    "duration": 86,
    "start_time": "2024-03-31T13:47:36.330Z"
   },
   {
    "duration": 21,
    "start_time": "2024-03-31T13:47:50.898Z"
   },
   {
    "duration": 61,
    "start_time": "2024-03-31T13:50:23.598Z"
   },
   {
    "duration": 16,
    "start_time": "2024-03-31T13:50:40.997Z"
   },
   {
    "duration": 15,
    "start_time": "2024-03-31T13:50:55.198Z"
   },
   {
    "duration": 13,
    "start_time": "2024-03-31T13:51:22.207Z"
   },
   {
    "duration": 19,
    "start_time": "2024-03-31T13:52:15.871Z"
   },
   {
    "duration": 91,
    "start_time": "2024-03-31T13:53:32.785Z"
   },
   {
    "duration": 15,
    "start_time": "2024-03-31T13:55:05.634Z"
   },
   {
    "duration": 12,
    "start_time": "2024-03-31T13:55:21.739Z"
   },
   {
    "duration": 1061,
    "start_time": "2024-03-31T17:43:30.998Z"
   },
   {
    "duration": 116,
    "start_time": "2024-03-31T17:43:32.061Z"
   },
   {
    "duration": 15,
    "start_time": "2024-03-31T17:43:32.179Z"
   },
   {
    "duration": 15,
    "start_time": "2024-03-31T17:43:32.195Z"
   },
   {
    "duration": 9,
    "start_time": "2024-03-31T17:43:32.212Z"
   },
   {
    "duration": 16,
    "start_time": "2024-03-31T17:43:32.222Z"
   },
   {
    "duration": 32,
    "start_time": "2024-03-31T17:43:32.239Z"
   },
   {
    "duration": 8,
    "start_time": "2024-03-31T17:43:32.273Z"
   },
   {
    "duration": 10,
    "start_time": "2024-03-31T17:43:32.282Z"
   },
   {
    "duration": 192,
    "start_time": "2024-03-31T17:43:32.294Z"
   },
   {
    "duration": 6,
    "start_time": "2024-03-31T17:43:32.488Z"
   },
   {
    "duration": 89,
    "start_time": "2024-03-31T17:43:32.495Z"
   },
   {
    "duration": 180,
    "start_time": "2024-03-31T17:43:32.586Z"
   },
   {
    "duration": 163,
    "start_time": "2024-03-31T17:43:32.769Z"
   },
   {
    "duration": 158,
    "start_time": "2024-03-31T17:43:32.934Z"
   },
   {
    "duration": 25,
    "start_time": "2024-03-31T17:43:33.094Z"
   },
   {
    "duration": 19,
    "start_time": "2024-03-31T17:43:33.120Z"
   },
   {
    "duration": 47,
    "start_time": "2024-03-31T17:43:33.141Z"
   },
   {
    "duration": 214,
    "start_time": "2024-03-31T17:43:33.190Z"
   },
   {
    "duration": 11,
    "start_time": "2024-03-31T17:43:33.405Z"
   },
   {
    "duration": 207,
    "start_time": "2024-03-31T17:43:33.418Z"
   },
   {
    "duration": 11,
    "start_time": "2024-03-31T17:43:33.627Z"
   },
   {
    "duration": 37,
    "start_time": "2024-03-31T17:43:33.640Z"
   },
   {
    "duration": 19,
    "start_time": "2024-03-31T17:43:33.679Z"
   },
   {
    "duration": 12,
    "start_time": "2024-03-31T17:43:33.699Z"
   },
   {
    "duration": 8,
    "start_time": "2024-03-31T17:43:33.713Z"
   },
   {
    "duration": 48,
    "start_time": "2024-03-31T17:43:33.723Z"
   },
   {
    "duration": 154,
    "start_time": "2024-03-31T17:43:33.773Z"
   },
   {
    "duration": 163,
    "start_time": "2024-03-31T17:43:33.929Z"
   },
   {
    "duration": 5,
    "start_time": "2024-03-31T17:43:34.093Z"
   },
   {
    "duration": 10,
    "start_time": "2024-03-31T17:44:59.970Z"
   },
   {
    "duration": 23,
    "start_time": "2024-03-31T17:47:21.513Z"
   },
   {
    "duration": 19,
    "start_time": "2024-03-31T17:47:27.988Z"
   },
   {
    "duration": 114,
    "start_time": "2024-03-31T17:47:30.700Z"
   },
   {
    "duration": 9,
    "start_time": "2024-03-31T17:47:42.755Z"
   },
   {
    "duration": 17,
    "start_time": "2024-03-31T17:47:52.981Z"
   },
   {
    "duration": 10,
    "start_time": "2024-03-31T17:47:54.949Z"
   },
   {
    "duration": 24,
    "start_time": "2024-03-31T17:48:00.084Z"
   },
   {
    "duration": 9,
    "start_time": "2024-03-31T17:48:01.804Z"
   },
   {
    "duration": 1138,
    "start_time": "2024-03-31T17:50:54.459Z"
   },
   {
    "duration": 104,
    "start_time": "2024-03-31T17:50:55.598Z"
   },
   {
    "duration": 13,
    "start_time": "2024-03-31T17:50:55.704Z"
   },
   {
    "duration": 20,
    "start_time": "2024-03-31T17:50:55.719Z"
   },
   {
    "duration": 11,
    "start_time": "2024-03-31T17:50:55.740Z"
   },
   {
    "duration": 6,
    "start_time": "2024-03-31T17:50:55.765Z"
   },
   {
    "duration": 18,
    "start_time": "2024-03-31T17:50:55.773Z"
   },
   {
    "duration": 10,
    "start_time": "2024-03-31T17:50:55.792Z"
   },
   {
    "duration": 13,
    "start_time": "2024-03-31T17:50:55.804Z"
   },
   {
    "duration": 175,
    "start_time": "2024-03-31T17:50:55.820Z"
   },
   {
    "duration": 5,
    "start_time": "2024-03-31T17:50:55.997Z"
   },
   {
    "duration": 80,
    "start_time": "2024-03-31T17:50:56.003Z"
   },
   {
    "duration": 160,
    "start_time": "2024-03-31T17:50:56.084Z"
   },
   {
    "duration": 161,
    "start_time": "2024-03-31T17:50:56.246Z"
   },
   {
    "duration": 165,
    "start_time": "2024-03-31T17:50:56.409Z"
   },
   {
    "duration": 32,
    "start_time": "2024-03-31T17:50:56.576Z"
   },
   {
    "duration": 23,
    "start_time": "2024-03-31T17:50:56.610Z"
   },
   {
    "duration": 50,
    "start_time": "2024-03-31T17:50:56.634Z"
   },
   {
    "duration": 205,
    "start_time": "2024-03-31T17:50:56.686Z"
   },
   {
    "duration": 10,
    "start_time": "2024-03-31T17:50:56.893Z"
   },
   {
    "duration": 201,
    "start_time": "2024-03-31T17:50:56.905Z"
   },
   {
    "duration": 10,
    "start_time": "2024-03-31T17:50:57.107Z"
   },
   {
    "duration": 19,
    "start_time": "2024-03-31T17:50:57.119Z"
   },
   {
    "duration": 38,
    "start_time": "2024-03-31T17:50:57.139Z"
   },
   {
    "duration": 12,
    "start_time": "2024-03-31T17:50:57.178Z"
   },
   {
    "duration": 8,
    "start_time": "2024-03-31T17:50:57.191Z"
   },
   {
    "duration": 12,
    "start_time": "2024-03-31T17:50:57.201Z"
   },
   {
    "duration": 158,
    "start_time": "2024-03-31T17:50:57.217Z"
   },
   {
    "duration": 150,
    "start_time": "2024-03-31T17:50:57.377Z"
   },
   {
    "duration": 5,
    "start_time": "2024-03-31T17:50:57.529Z"
   },
   {
    "duration": 95,
    "start_time": "2024-03-31T17:55:29.294Z"
   },
   {
    "duration": 45,
    "start_time": "2024-03-31T17:55:50.870Z"
   },
   {
    "duration": 1258,
    "start_time": "2024-03-31T17:55:56.493Z"
   },
   {
    "duration": 346,
    "start_time": "2024-03-31T17:55:57.753Z"
   },
   {
    "duration": 13,
    "start_time": "2024-03-31T17:55:58.101Z"
   },
   {
    "duration": 15,
    "start_time": "2024-03-31T17:55:58.115Z"
   },
   {
    "duration": 7,
    "start_time": "2024-03-31T17:55:58.132Z"
   },
   {
    "duration": 32,
    "start_time": "2024-03-31T17:55:58.141Z"
   },
   {
    "duration": 11,
    "start_time": "2024-03-31T17:55:58.175Z"
   },
   {
    "duration": 14,
    "start_time": "2024-03-31T17:55:58.188Z"
   },
   {
    "duration": 8,
    "start_time": "2024-03-31T17:55:58.204Z"
   },
   {
    "duration": 176,
    "start_time": "2024-03-31T17:55:58.214Z"
   },
   {
    "duration": 6,
    "start_time": "2024-03-31T17:55:58.391Z"
   },
   {
    "duration": 87,
    "start_time": "2024-03-31T17:55:58.398Z"
   },
   {
    "duration": 152,
    "start_time": "2024-03-31T17:55:58.487Z"
   },
   {
    "duration": 162,
    "start_time": "2024-03-31T17:55:58.642Z"
   },
   {
    "duration": 160,
    "start_time": "2024-03-31T17:55:58.806Z"
   },
   {
    "duration": 26,
    "start_time": "2024-03-31T17:55:58.968Z"
   },
   {
    "duration": 20,
    "start_time": "2024-03-31T17:55:58.995Z"
   },
   {
    "duration": 34,
    "start_time": "2024-03-31T17:55:59.017Z"
   },
   {
    "duration": 234,
    "start_time": "2024-03-31T17:55:59.053Z"
   },
   {
    "duration": 10,
    "start_time": "2024-03-31T17:55:59.289Z"
   },
   {
    "duration": 203,
    "start_time": "2024-03-31T17:55:59.301Z"
   },
   {
    "duration": 11,
    "start_time": "2024-03-31T17:55:59.505Z"
   },
   {
    "duration": 24,
    "start_time": "2024-03-31T17:56:00.921Z"
   },
   {
    "duration": 18,
    "start_time": "2024-03-31T17:56:11.065Z"
   },
   {
    "duration": 88,
    "start_time": "2024-03-31T17:57:18.849Z"
   },
   {
    "duration": 1044,
    "start_time": "2024-03-31T17:59:13.005Z"
   },
   {
    "duration": 111,
    "start_time": "2024-03-31T17:59:14.051Z"
   },
   {
    "duration": 14,
    "start_time": "2024-03-31T17:59:14.163Z"
   },
   {
    "duration": 16,
    "start_time": "2024-03-31T17:59:14.178Z"
   },
   {
    "duration": 13,
    "start_time": "2024-03-31T17:59:14.196Z"
   },
   {
    "duration": 11,
    "start_time": "2024-03-31T17:59:14.210Z"
   },
   {
    "duration": 12,
    "start_time": "2024-03-31T17:59:14.222Z"
   },
   {
    "duration": 11,
    "start_time": "2024-03-31T17:59:14.235Z"
   },
   {
    "duration": 22,
    "start_time": "2024-03-31T17:59:14.248Z"
   },
   {
    "duration": 157,
    "start_time": "2024-03-31T17:59:14.273Z"
   },
   {
    "duration": 6,
    "start_time": "2024-03-31T17:59:14.431Z"
   },
   {
    "duration": 87,
    "start_time": "2024-03-31T17:59:14.438Z"
   },
   {
    "duration": 162,
    "start_time": "2024-03-31T17:59:14.527Z"
   },
   {
    "duration": 168,
    "start_time": "2024-03-31T17:59:14.691Z"
   },
   {
    "duration": 155,
    "start_time": "2024-03-31T17:59:14.869Z"
   },
   {
    "duration": 28,
    "start_time": "2024-03-31T17:59:15.026Z"
   },
   {
    "duration": 31,
    "start_time": "2024-03-31T17:59:15.056Z"
   },
   {
    "duration": 40,
    "start_time": "2024-03-31T17:59:15.089Z"
   },
   {
    "duration": 236,
    "start_time": "2024-03-31T17:59:15.131Z"
   },
   {
    "duration": 11,
    "start_time": "2024-03-31T17:59:15.368Z"
   },
   {
    "duration": 283,
    "start_time": "2024-03-31T17:59:15.380Z"
   },
   {
    "duration": 10,
    "start_time": "2024-03-31T17:59:15.669Z"
   },
   {
    "duration": 22,
    "start_time": "2024-03-31T17:59:17.100Z"
   },
   {
    "duration": 28,
    "start_time": "2024-03-31T17:59:36.459Z"
   },
   {
    "duration": 19,
    "start_time": "2024-03-31T17:59:41.059Z"
   },
   {
    "duration": 1103,
    "start_time": "2024-03-31T18:27:13.651Z"
   },
   {
    "duration": 104,
    "start_time": "2024-03-31T18:27:14.755Z"
   },
   {
    "duration": 12,
    "start_time": "2024-03-31T18:27:14.861Z"
   },
   {
    "duration": 12,
    "start_time": "2024-03-31T18:27:14.875Z"
   },
   {
    "duration": 7,
    "start_time": "2024-03-31T18:27:14.888Z"
   },
   {
    "duration": 5,
    "start_time": "2024-03-31T18:27:14.897Z"
   },
   {
    "duration": 6,
    "start_time": "2024-03-31T18:27:14.903Z"
   },
   {
    "duration": 5,
    "start_time": "2024-03-31T18:27:14.910Z"
   },
   {
    "duration": 7,
    "start_time": "2024-03-31T18:27:14.916Z"
   },
   {
    "duration": 183,
    "start_time": "2024-03-31T18:27:14.925Z"
   },
   {
    "duration": 6,
    "start_time": "2024-03-31T18:27:15.109Z"
   },
   {
    "duration": 82,
    "start_time": "2024-03-31T18:27:15.116Z"
   },
   {
    "duration": 149,
    "start_time": "2024-03-31T18:27:15.199Z"
   },
   {
    "duration": 160,
    "start_time": "2024-03-31T18:27:15.349Z"
   },
   {
    "duration": 159,
    "start_time": "2024-03-31T18:27:15.510Z"
   },
   {
    "duration": 25,
    "start_time": "2024-03-31T18:27:15.670Z"
   },
   {
    "duration": 19,
    "start_time": "2024-03-31T18:27:15.696Z"
   },
   {
    "duration": 49,
    "start_time": "2024-03-31T18:27:15.716Z"
   },
   {
    "duration": 243,
    "start_time": "2024-03-31T18:27:15.767Z"
   },
   {
    "duration": 11,
    "start_time": "2024-03-31T18:27:16.011Z"
   },
   {
    "duration": 207,
    "start_time": "2024-03-31T18:27:16.023Z"
   },
   {
    "duration": 10,
    "start_time": "2024-03-31T18:27:16.232Z"
   },
   {
    "duration": 36,
    "start_time": "2024-03-31T18:27:16.243Z"
   },
   {
    "duration": 16,
    "start_time": "2024-03-31T18:27:16.281Z"
   },
   {
    "duration": 10,
    "start_time": "2024-03-31T18:27:16.299Z"
   },
   {
    "duration": 7,
    "start_time": "2024-03-31T18:27:16.311Z"
   },
   {
    "duration": 12,
    "start_time": "2024-03-31T18:27:16.319Z"
   },
   {
    "duration": 168,
    "start_time": "2024-03-31T18:27:16.334Z"
   },
   {
    "duration": 144,
    "start_time": "2024-03-31T18:27:16.504Z"
   },
   {
    "duration": 5,
    "start_time": "2024-03-31T18:27:16.649Z"
   },
   {
    "duration": 1139,
    "start_time": "2024-03-31T18:42:31.073Z"
   },
   {
    "duration": 112,
    "start_time": "2024-03-31T18:42:32.213Z"
   },
   {
    "duration": 15,
    "start_time": "2024-03-31T18:42:32.326Z"
   },
   {
    "duration": 26,
    "start_time": "2024-03-31T18:42:32.343Z"
   },
   {
    "duration": 7,
    "start_time": "2024-03-31T18:42:32.371Z"
   },
   {
    "duration": 8,
    "start_time": "2024-03-31T18:42:32.379Z"
   },
   {
    "duration": 8,
    "start_time": "2024-03-31T18:42:32.388Z"
   },
   {
    "duration": 8,
    "start_time": "2024-03-31T18:42:32.398Z"
   },
   {
    "duration": 8,
    "start_time": "2024-03-31T18:42:32.407Z"
   },
   {
    "duration": 169,
    "start_time": "2024-03-31T18:42:32.417Z"
   },
   {
    "duration": 6,
    "start_time": "2024-03-31T18:42:32.588Z"
   },
   {
    "duration": 87,
    "start_time": "2024-03-31T18:42:32.596Z"
   },
   {
    "duration": 165,
    "start_time": "2024-03-31T18:42:32.685Z"
   },
   {
    "duration": 167,
    "start_time": "2024-03-31T18:42:32.852Z"
   },
   {
    "duration": 162,
    "start_time": "2024-03-31T18:42:33.020Z"
   },
   {
    "duration": 26,
    "start_time": "2024-03-31T18:42:33.183Z"
   },
   {
    "duration": 20,
    "start_time": "2024-03-31T18:42:33.211Z"
   },
   {
    "duration": 48,
    "start_time": "2024-03-31T18:42:33.232Z"
   },
   {
    "duration": 204,
    "start_time": "2024-03-31T18:42:33.281Z"
   },
   {
    "duration": 10,
    "start_time": "2024-03-31T18:42:33.487Z"
   },
   {
    "duration": 202,
    "start_time": "2024-03-31T18:42:33.499Z"
   },
   {
    "duration": 11,
    "start_time": "2024-03-31T18:42:33.703Z"
   },
   {
    "duration": 25,
    "start_time": "2024-03-31T18:42:33.716Z"
   },
   {
    "duration": 38,
    "start_time": "2024-03-31T18:42:33.743Z"
   },
   {
    "duration": 11,
    "start_time": "2024-03-31T18:42:33.783Z"
   },
   {
    "duration": 8,
    "start_time": "2024-03-31T18:42:33.796Z"
   },
   {
    "duration": 12,
    "start_time": "2024-03-31T18:42:33.805Z"
   },
   {
    "duration": 164,
    "start_time": "2024-03-31T18:42:33.820Z"
   },
   {
    "duration": 159,
    "start_time": "2024-03-31T18:42:33.986Z"
   },
   {
    "duration": 6,
    "start_time": "2024-03-31T18:42:34.147Z"
   },
   {
    "duration": 9,
    "start_time": "2024-03-31T18:45:07.411Z"
   },
   {
    "duration": 1049,
    "start_time": "2024-03-31T18:45:53.883Z"
   },
   {
    "duration": 110,
    "start_time": "2024-03-31T18:45:54.934Z"
   },
   {
    "duration": 13,
    "start_time": "2024-03-31T18:45:55.045Z"
   },
   {
    "duration": 13,
    "start_time": "2024-03-31T18:45:55.060Z"
   },
   {
    "duration": 8,
    "start_time": "2024-03-31T18:45:55.075Z"
   },
   {
    "duration": 6,
    "start_time": "2024-03-31T18:45:55.084Z"
   },
   {
    "duration": 6,
    "start_time": "2024-03-31T18:45:55.091Z"
   },
   {
    "duration": 6,
    "start_time": "2024-03-31T18:45:55.099Z"
   },
   {
    "duration": 7,
    "start_time": "2024-03-31T18:45:55.107Z"
   },
   {
    "duration": 212,
    "start_time": "2024-03-31T18:45:55.116Z"
   },
   {
    "duration": 5,
    "start_time": "2024-03-31T18:45:55.329Z"
   },
   {
    "duration": 79,
    "start_time": "2024-03-31T18:45:55.335Z"
   },
   {
    "duration": 151,
    "start_time": "2024-03-31T18:45:55.415Z"
   },
   {
    "duration": 162,
    "start_time": "2024-03-31T18:45:55.569Z"
   },
   {
    "duration": 176,
    "start_time": "2024-03-31T18:45:55.733Z"
   },
   {
    "duration": 29,
    "start_time": "2024-03-31T18:45:55.911Z"
   },
   {
    "duration": 34,
    "start_time": "2024-03-31T18:45:55.942Z"
   },
   {
    "duration": 26,
    "start_time": "2024-03-31T18:45:55.978Z"
   },
   {
    "duration": 221,
    "start_time": "2024-03-31T18:45:56.006Z"
   },
   {
    "duration": 10,
    "start_time": "2024-03-31T18:45:56.228Z"
   },
   {
    "duration": 202,
    "start_time": "2024-03-31T18:45:56.239Z"
   },
   {
    "duration": 10,
    "start_time": "2024-03-31T18:45:56.443Z"
   },
   {
    "duration": 29,
    "start_time": "2024-03-31T18:45:56.465Z"
   },
   {
    "duration": 17,
    "start_time": "2024-03-31T18:45:56.496Z"
   },
   {
    "duration": 15,
    "start_time": "2024-03-31T18:45:56.515Z"
   },
   {
    "duration": 19,
    "start_time": "2024-03-31T18:45:56.532Z"
   },
   {
    "duration": 12,
    "start_time": "2024-03-31T18:45:56.566Z"
   },
   {
    "duration": 180,
    "start_time": "2024-03-31T18:45:56.580Z"
   },
   {
    "duration": 150,
    "start_time": "2024-03-31T18:45:56.765Z"
   },
   {
    "duration": 4,
    "start_time": "2024-03-31T18:45:56.917Z"
   }
  ],
  "kernelspec": {
   "display_name": "Python 3 (ipykernel)",
   "language": "python",
   "name": "python3"
  },
  "language_info": {
   "codemirror_mode": {
    "name": "ipython",
    "version": 3
   },
   "file_extension": ".py",
   "mimetype": "text/x-python",
   "name": "python",
   "nbconvert_exporter": "python",
   "pygments_lexer": "ipython3",
   "version": "3.11.5"
  },
  "toc": {
   "base_numbering": 1,
   "nav_menu": {},
   "number_sections": true,
   "sideBar": true,
   "skip_h1_title": true,
   "title_cell": "Table of Contents",
   "title_sidebar": "Contents",
   "toc_cell": false,
   "toc_position": {
    "height": "calc(100% - 180px)",
    "left": "10px",
    "top": "150px",
    "width": "280px"
   },
   "toc_section_display": true,
   "toc_window_display": true
  }
 },
 "nbformat": 4,
 "nbformat_minor": 5
}
