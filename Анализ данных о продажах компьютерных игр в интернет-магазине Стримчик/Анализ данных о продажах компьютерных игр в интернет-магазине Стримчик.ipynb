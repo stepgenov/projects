{
 "cells": [
  {
   "cell_type": "markdown",
   "metadata": {},
   "source": [
    "# Сборный проект"
   ]
  },
  {
   "cell_type": "markdown",
   "metadata": {},
   "source": [
    "## Описание проекта"
   ]
  },
  {
   "cell_type": "markdown",
   "metadata": {},
   "source": [
    "**Краткое описание проекта:**\n",
    "Мы проведем анализ данных о продажах компьютерных игр в интернет-магазине \"Стримчик\". Имеющиеся данные включают информацию о продажах игр, оценки критиков и пользователей, жанры, платформы и рейтинг ESRB. Наша цель - выявить закономерности, определяющие успешность игр, и сделать прогнозы для планирования рекламных кампаний.\n",
    "\n",
    "**Цель проекта:**\n",
    "Выявить факторы, определяющие успешность компьютерных игр, и составить рекомендации по планированию рекламных кампаний на основе анализа исторических данных о продажах.\n",
    "\n",
    "**Описание данных:**\n",
    "Датасет содержит информацию о компьютерных играх до 2016 года. В нем присутствуют следующие переменные:\n",
    "\n",
    "- Name — название игры\n",
    "- Platform — платформа\n",
    "- Year_of_Release — год выпуска\n",
    "- Genre — жанр игры\n",
    "- NA_sales — продажи в Северной Америке (млн копий)\n",
    "- EU_sales — продажи в Европе (млн копий)\n",
    "- JP_sales — продажи в Японии (млн копий)\n",
    "- Other_sales — продажи в других странах (млн копий)\n",
    "- Critic_Score — оценка критиков (максимум 100) \n",
    "- User_Score — оценка пользователей (максимум 10) \n",
    "- Rating — рейтинг ESRB\n",
    "\n",
    "**План работы:**\n",
    "\n",
    "1. Открытие файла с данными и изучение общей информации.\n",
    "2. Подготовка данных: замена названий столбцов, преобразование типов данных, обработка пропусков, расчет суммарных продаж.\n",
    "3. Исследовательский анализ данных: анализ количества выпущенных игр по годам, изменение продаж по платформам, выбор актуального периода для анализа, выявление лидирующих платформ, построение графика \"ящик с усами\" по глобальным продажам игр, анализ влияния отзывов на продажи, анализ распределения игр по жанрам.\n",
    "4. Составление портрета пользователя каждого региона: определение самых популярных платформ и жанров, влияния рейтинга ESRB на продажи.\n",
    "5. Проверка гипотез: сравнение средних пользовательских рейтингов платформ Xbox One и PC, сравнение средних пользовательских рейтингов жанров Action и Sports.\n",
    "6. Написание общего вывода.\n",
    "\n",
    "\n",
    "\n",
    "\n"
   ]
  },
  {
   "cell_type": "markdown",
   "metadata": {},
   "source": [
    "## Ход Работы"
   ]
  },
  {
   "cell_type": "markdown",
   "metadata": {},
   "source": [
    "### Изучим основную информацию о датафрейме. Выведем несколько строк и попробуем что то о нём сказать."
   ]
  },
  {
   "cell_type": "code",
   "execution_count": 1,
   "metadata": {},
   "outputs": [],
   "source": [
    "import pandas as pd\n",
    "import numpy as np\n",
    "import matplotlib.pyplot as plt \n",
    "import seaborn as sns \n",
    "from scipy import stats as st"
   ]
  },
  {
   "cell_type": "code",
   "execution_count": 2,
   "metadata": {},
   "outputs": [
    {
     "name": "stdout",
     "output_type": "stream",
     "text": [
      "<class 'pandas.core.frame.DataFrame'>\n",
      "RangeIndex: 16715 entries, 0 to 16714\n",
      "Data columns (total 11 columns):\n",
      " #   Column           Non-Null Count  Dtype  \n",
      "---  ------           --------------  -----  \n",
      " 0   Name             16713 non-null  object \n",
      " 1   Platform         16715 non-null  object \n",
      " 2   Year_of_Release  16446 non-null  float64\n",
      " 3   Genre            16713 non-null  object \n",
      " 4   NA_sales         16715 non-null  float64\n",
      " 5   EU_sales         16715 non-null  float64\n",
      " 6   JP_sales         16715 non-null  float64\n",
      " 7   Other_sales      16715 non-null  float64\n",
      " 8   Critic_Score     8137 non-null   float64\n",
      " 9   User_Score       10014 non-null  object \n",
      " 10  Rating           9949 non-null   object \n",
      "dtypes: float64(6), object(5)\n",
      "memory usage: 1.4+ MB\n"
     ]
    },
    {
     "data": {
      "text/html": [
       "<div>\n",
       "<style scoped>\n",
       "    .dataframe tbody tr th:only-of-type {\n",
       "        vertical-align: middle;\n",
       "    }\n",
       "\n",
       "    .dataframe tbody tr th {\n",
       "        vertical-align: top;\n",
       "    }\n",
       "\n",
       "    .dataframe thead th {\n",
       "        text-align: right;\n",
       "    }\n",
       "</style>\n",
       "<table border=\"1\" class=\"dataframe\">\n",
       "  <thead>\n",
       "    <tr style=\"text-align: right;\">\n",
       "      <th></th>\n",
       "      <th>Name</th>\n",
       "      <th>Platform</th>\n",
       "      <th>Year_of_Release</th>\n",
       "      <th>Genre</th>\n",
       "      <th>NA_sales</th>\n",
       "      <th>EU_sales</th>\n",
       "      <th>JP_sales</th>\n",
       "      <th>Other_sales</th>\n",
       "      <th>Critic_Score</th>\n",
       "      <th>User_Score</th>\n",
       "      <th>Rating</th>\n",
       "    </tr>\n",
       "  </thead>\n",
       "  <tbody>\n",
       "    <tr>\n",
       "      <th>0</th>\n",
       "      <td>Wii Sports</td>\n",
       "      <td>Wii</td>\n",
       "      <td>2006.0</td>\n",
       "      <td>Sports</td>\n",
       "      <td>41.36</td>\n",
       "      <td>28.96</td>\n",
       "      <td>3.77</td>\n",
       "      <td>8.45</td>\n",
       "      <td>76.0</td>\n",
       "      <td>8</td>\n",
       "      <td>E</td>\n",
       "    </tr>\n",
       "    <tr>\n",
       "      <th>1</th>\n",
       "      <td>Super Mario Bros.</td>\n",
       "      <td>NES</td>\n",
       "      <td>1985.0</td>\n",
       "      <td>Platform</td>\n",
       "      <td>29.08</td>\n",
       "      <td>3.58</td>\n",
       "      <td>6.81</td>\n",
       "      <td>0.77</td>\n",
       "      <td>NaN</td>\n",
       "      <td>NaN</td>\n",
       "      <td>NaN</td>\n",
       "    </tr>\n",
       "    <tr>\n",
       "      <th>2</th>\n",
       "      <td>Mario Kart Wii</td>\n",
       "      <td>Wii</td>\n",
       "      <td>2008.0</td>\n",
       "      <td>Racing</td>\n",
       "      <td>15.68</td>\n",
       "      <td>12.76</td>\n",
       "      <td>3.79</td>\n",
       "      <td>3.29</td>\n",
       "      <td>82.0</td>\n",
       "      <td>8.3</td>\n",
       "      <td>E</td>\n",
       "    </tr>\n",
       "    <tr>\n",
       "      <th>3</th>\n",
       "      <td>Wii Sports Resort</td>\n",
       "      <td>Wii</td>\n",
       "      <td>2009.0</td>\n",
       "      <td>Sports</td>\n",
       "      <td>15.61</td>\n",
       "      <td>10.93</td>\n",
       "      <td>3.28</td>\n",
       "      <td>2.95</td>\n",
       "      <td>80.0</td>\n",
       "      <td>8</td>\n",
       "      <td>E</td>\n",
       "    </tr>\n",
       "    <tr>\n",
       "      <th>4</th>\n",
       "      <td>Pokemon Red/Pokemon Blue</td>\n",
       "      <td>GB</td>\n",
       "      <td>1996.0</td>\n",
       "      <td>Role-Playing</td>\n",
       "      <td>11.27</td>\n",
       "      <td>8.89</td>\n",
       "      <td>10.22</td>\n",
       "      <td>1.00</td>\n",
       "      <td>NaN</td>\n",
       "      <td>NaN</td>\n",
       "      <td>NaN</td>\n",
       "    </tr>\n",
       "  </tbody>\n",
       "</table>\n",
       "</div>"
      ],
      "text/plain": [
       "                       Name Platform  Year_of_Release         Genre  NA_sales  \\\n",
       "0                Wii Sports      Wii           2006.0        Sports     41.36   \n",
       "1         Super Mario Bros.      NES           1985.0      Platform     29.08   \n",
       "2            Mario Kart Wii      Wii           2008.0        Racing     15.68   \n",
       "3         Wii Sports Resort      Wii           2009.0        Sports     15.61   \n",
       "4  Pokemon Red/Pokemon Blue       GB           1996.0  Role-Playing     11.27   \n",
       "\n",
       "   EU_sales  JP_sales  Other_sales  Critic_Score User_Score Rating  \n",
       "0     28.96      3.77         8.45          76.0          8      E  \n",
       "1      3.58      6.81         0.77           NaN        NaN    NaN  \n",
       "2     12.76      3.79         3.29          82.0        8.3      E  \n",
       "3     10.93      3.28         2.95          80.0          8      E  \n",
       "4      8.89     10.22         1.00           NaN        NaN    NaN  "
      ]
     },
     "execution_count": 2,
     "metadata": {},
     "output_type": "execute_result"
    }
   ],
   "source": [
    "data_games = pd.read_csv('/datasets/games.csv')\n",
    "data_games.info()\n",
    "data_games.head()"
   ]
  },
  {
   "cell_type": "markdown",
   "metadata": {},
   "source": [
    "Бросается в глаза тип данных в столбце User_score - в столбце мы видим числа с плавающей точкой, а в информации о датафрейме указан тип данных object, что может создавать трудности при работе с данным столбцом. Также внесем косметическое улучшение - приведём название столбцов к змеиному регистру. Попробуем обработать пропуски там, где это возможно."
   ]
  },
  {
   "cell_type": "markdown",
   "metadata": {},
   "source": [
    "### Обработка данных"
   ]
  },
  {
   "cell_type": "markdown",
   "metadata": {},
   "source": [
    "#### Замена названия столбцов"
   ]
  },
  {
   "cell_type": "code",
   "execution_count": 3,
   "metadata": {},
   "outputs": [
    {
     "data": {
      "text/plain": [
       "Index(['name', 'platform', 'year_of_release', 'genre', 'na_sales', 'eu_sales',\n",
       "       'jp_sales', 'other_sales', 'critic_score', 'user_score', 'rating'],\n",
       "      dtype='object')"
      ]
     },
     "execution_count": 3,
     "metadata": {},
     "output_type": "execute_result"
    }
   ],
   "source": [
    "data_games.columns = data_games.columns.str.lower()\n",
    "data_games.columns"
   ]
  },
  {
   "cell_type": "markdown",
   "metadata": {},
   "source": [
    "#### Преобразование столбцов в нужные типы"
   ]
  },
  {
   "cell_type": "markdown",
   "metadata": {},
   "source": [
    "Перейдем к обработке. Сперва заменим тип данных там, где это возможно. Переведём столбец с годом релиза в цеочисленный тип, чтобы он лучше отображался в таблице без плавающей точки (в тип datetime перевести можно, но в таблицу возвращаются неверные даты релиза, а если мы хотим указать год из типа datetime, то возвращается float64).\n",
    "\n",
    "Float64 лучше всего подойдёт для столбца user_score."
   ]
  },
  {
   "cell_type": "code",
   "execution_count": 4,
   "metadata": {},
   "outputs": [
    {
     "name": "stdout",
     "output_type": "stream",
     "text": [
      "<class 'pandas.core.frame.DataFrame'>\n",
      "RangeIndex: 16715 entries, 0 to 16714\n",
      "Data columns (total 11 columns):\n",
      " #   Column           Non-Null Count  Dtype  \n",
      "---  ------           --------------  -----  \n",
      " 0   name             16713 non-null  object \n",
      " 1   platform         16715 non-null  object \n",
      " 2   year_of_release  16446 non-null  Int64  \n",
      " 3   genre            16713 non-null  object \n",
      " 4   na_sales         16715 non-null  float64\n",
      " 5   eu_sales         16715 non-null  float64\n",
      " 6   jp_sales         16715 non-null  float64\n",
      " 7   other_sales      16715 non-null  float64\n",
      " 8   critic_score     8137 non-null   float64\n",
      " 9   user_score       7590 non-null   float64\n",
      " 10  rating           9949 non-null   object \n",
      "dtypes: Int64(1), float64(6), object(4)\n",
      "memory usage: 1.4+ MB\n"
     ]
    }
   ],
   "source": [
    "data_games['year_of_release'] = pd.to_numeric(data_games['year_of_release'],errors='coerce').astype('Int64')\n",
    "data_games['user_score'] = pd.to_numeric(data_games['user_score'],errors='coerce').astype('float')\n",
    "data_games.info()"
   ]
  },
  {
   "cell_type": "markdown",
   "metadata": {},
   "source": [
    "#### Обработка пропущенных значений"
   ]
  },
  {
   "cell_type": "markdown",
   "metadata": {},
   "source": [
    "Перейдем к обработке пропущенных значений. Подсчитаем, сколько пропущенных значений в датафрейме."
   ]
  },
  {
   "cell_type": "code",
   "execution_count": 5,
   "metadata": {},
   "outputs": [
    {
     "data": {
      "text/plain": [
       "name                  2\n",
       "platform              0\n",
       "year_of_release     269\n",
       "genre                 2\n",
       "na_sales              0\n",
       "eu_sales              0\n",
       "jp_sales              0\n",
       "other_sales           0\n",
       "critic_score       8578\n",
       "user_score         9125\n",
       "rating             6766\n",
       "dtype: int64"
      ]
     },
     "execution_count": 5,
     "metadata": {},
     "output_type": "execute_result"
    }
   ],
   "source": [
    "data_games.isna().sum()"
   ]
  },
  {
   "cell_type": "markdown",
   "metadata": {},
   "source": [
    "Как мы видим, тут большое количество пропусков в разделе с оценками и рейтингом. Также пропуски есть в разделе с датой релиза. Пропуски в столбце с оценками можно объяснить несколькими факторами, среди которых\n",
    "1. **Общая непопулярность игры** - в связи с этим игра осталась незамеченной со стороны критиков и игроков.\n",
    "2. **Нишевость игры** - игра не популярна среди широкой аудитории, но среди игровых критиков она получает оценки, это также может быть одной из причин того, что пропусков в столбце с оценками от пользователей больше, чем в столбце с оценками критиков.\n",
    "3. **Количество оценок недостаточно**, чтобы сформировать определёный рейтинг игры.\n",
    "4. **Рейтинг ещё формируется** (с этим связано значение tbd в столбце с оценкой пользователей)\n",
    "\n",
    "Значение **tbd расшифровывается как to be determined**, то есть рейтинг ещё определяется и он не сформирован, в связи с этим можно **заменить его на значение NaN** в связи с отсутствием рейтинга.\n",
    "\n",
    "С датой релиза причиной пропуска может послужить то, что автор игры не указал дату релиза (её просто нет или она не зафиксирована). Количество пропусков в этом столбце не критично, поэтому пропуски можно оставить.\n",
    "\n",
    "Говоря же про пропуски в возрастном рейтинге, тут это может быть связано с тем, что ESRB просто не успевает присвоить определённый рейтинг такому большому количеству игр, либо просто не рассматривает непопулярные игры.\n",
    "\n",
    "Замена пропусков в случае с оценками и рейтингом может значительно исказить данные, так как количество пропусков в этих столбцах довольно большое, лучше оставить их нетронутыми. "
   ]
  },
  {
   "cell_type": "markdown",
   "metadata": {},
   "source": [
    "#### Суммарные продажи во всех регионах"
   ]
  },
  {
   "cell_type": "markdown",
   "metadata": {},
   "source": [
    "Для дальнейшего анализа следует определить общие продажи во всех регионах и добавить сумму в новый столбец в датафрейме. "
   ]
  },
  {
   "cell_type": "code",
   "execution_count": 7,
   "metadata": {
    "scrolled": true
   },
   "outputs": [
    {
     "data": {
      "text/html": [
       "<div>\n",
       "<style scoped>\n",
       "    .dataframe tbody tr th:only-of-type {\n",
       "        vertical-align: middle;\n",
       "    }\n",
       "\n",
       "    .dataframe tbody tr th {\n",
       "        vertical-align: top;\n",
       "    }\n",
       "\n",
       "    .dataframe thead th {\n",
       "        text-align: right;\n",
       "    }\n",
       "</style>\n",
       "<table border=\"1\" class=\"dataframe\">\n",
       "  <thead>\n",
       "    <tr style=\"text-align: right;\">\n",
       "      <th></th>\n",
       "      <th>name</th>\n",
       "      <th>platform</th>\n",
       "      <th>year_of_release</th>\n",
       "      <th>genre</th>\n",
       "      <th>na_sales</th>\n",
       "      <th>eu_sales</th>\n",
       "      <th>jp_sales</th>\n",
       "      <th>other_sales</th>\n",
       "      <th>critic_score</th>\n",
       "      <th>user_score</th>\n",
       "      <th>rating</th>\n",
       "      <th>total_sales</th>\n",
       "    </tr>\n",
       "  </thead>\n",
       "  <tbody>\n",
       "    <tr>\n",
       "      <th>0</th>\n",
       "      <td>Wii Sports</td>\n",
       "      <td>Wii</td>\n",
       "      <td>2006</td>\n",
       "      <td>Sports</td>\n",
       "      <td>41.36</td>\n",
       "      <td>28.96</td>\n",
       "      <td>3.77</td>\n",
       "      <td>8.45</td>\n",
       "      <td>76.0</td>\n",
       "      <td>8.0</td>\n",
       "      <td>E</td>\n",
       "      <td>82.54</td>\n",
       "    </tr>\n",
       "    <tr>\n",
       "      <th>1</th>\n",
       "      <td>Super Mario Bros.</td>\n",
       "      <td>NES</td>\n",
       "      <td>1985</td>\n",
       "      <td>Platform</td>\n",
       "      <td>29.08</td>\n",
       "      <td>3.58</td>\n",
       "      <td>6.81</td>\n",
       "      <td>0.77</td>\n",
       "      <td>NaN</td>\n",
       "      <td>NaN</td>\n",
       "      <td>NaN</td>\n",
       "      <td>40.24</td>\n",
       "    </tr>\n",
       "    <tr>\n",
       "      <th>2</th>\n",
       "      <td>Mario Kart Wii</td>\n",
       "      <td>Wii</td>\n",
       "      <td>2008</td>\n",
       "      <td>Racing</td>\n",
       "      <td>15.68</td>\n",
       "      <td>12.76</td>\n",
       "      <td>3.79</td>\n",
       "      <td>3.29</td>\n",
       "      <td>82.0</td>\n",
       "      <td>8.3</td>\n",
       "      <td>E</td>\n",
       "      <td>35.52</td>\n",
       "    </tr>\n",
       "    <tr>\n",
       "      <th>3</th>\n",
       "      <td>Wii Sports Resort</td>\n",
       "      <td>Wii</td>\n",
       "      <td>2009</td>\n",
       "      <td>Sports</td>\n",
       "      <td>15.61</td>\n",
       "      <td>10.93</td>\n",
       "      <td>3.28</td>\n",
       "      <td>2.95</td>\n",
       "      <td>80.0</td>\n",
       "      <td>8.0</td>\n",
       "      <td>E</td>\n",
       "      <td>32.77</td>\n",
       "    </tr>\n",
       "    <tr>\n",
       "      <th>4</th>\n",
       "      <td>Pokemon Red/Pokemon Blue</td>\n",
       "      <td>GB</td>\n",
       "      <td>1996</td>\n",
       "      <td>Role-Playing</td>\n",
       "      <td>11.27</td>\n",
       "      <td>8.89</td>\n",
       "      <td>10.22</td>\n",
       "      <td>1.00</td>\n",
       "      <td>NaN</td>\n",
       "      <td>NaN</td>\n",
       "      <td>NaN</td>\n",
       "      <td>31.38</td>\n",
       "    </tr>\n",
       "  </tbody>\n",
       "</table>\n",
       "</div>"
      ],
      "text/plain": [
       "                       name platform  year_of_release         genre  na_sales  \\\n",
       "0                Wii Sports      Wii             2006        Sports     41.36   \n",
       "1         Super Mario Bros.      NES             1985      Platform     29.08   \n",
       "2            Mario Kart Wii      Wii             2008        Racing     15.68   \n",
       "3         Wii Sports Resort      Wii             2009        Sports     15.61   \n",
       "4  Pokemon Red/Pokemon Blue       GB             1996  Role-Playing     11.27   \n",
       "\n",
       "   eu_sales  jp_sales  other_sales  critic_score  user_score rating  \\\n",
       "0     28.96      3.77         8.45          76.0         8.0      E   \n",
       "1      3.58      6.81         0.77           NaN         NaN    NaN   \n",
       "2     12.76      3.79         3.29          82.0         8.3      E   \n",
       "3     10.93      3.28         2.95          80.0         8.0      E   \n",
       "4      8.89     10.22         1.00           NaN         NaN    NaN   \n",
       "\n",
       "   total_sales  \n",
       "0        82.54  \n",
       "1        40.24  \n",
       "2        35.52  \n",
       "3        32.77  \n",
       "4        31.38  "
      ]
     },
     "execution_count": 7,
     "metadata": {},
     "output_type": "execute_result"
    }
   ],
   "source": [
    "data_games['total_sales'] = data_games['na_sales'] + data_games['eu_sales'] + data_games['jp_sales']+data_games['other_sales']\n",
    "data_games.head()"
   ]
  },
  {
   "cell_type": "markdown",
   "metadata": {},
   "source": [
    "После обработки проведём стандартную проверку на дубликаты. "
   ]
  },
  {
   "cell_type": "code",
   "execution_count": 8,
   "metadata": {},
   "outputs": [
    {
     "data": {
      "text/plain": [
       "0"
      ]
     },
     "execution_count": 8,
     "metadata": {},
     "output_type": "execute_result"
    }
   ],
   "source": [
    "data_games.duplicated().sum()"
   ]
  },
  {
   "cell_type": "code",
   "execution_count": 9,
   "metadata": {},
   "outputs": [
    {
     "name": "stdout",
     "output_type": "stream",
     "text": [
      "                name platform  year_of_release   genre  na_sales  eu_sales  \\\n",
      "604    Madden NFL 13      PS3             2012  Sports      2.11      0.22   \n",
      "659              NaN      GEN             1993     NaN      1.78      0.53   \n",
      "14244            NaN      GEN             1993     NaN      0.00      0.00   \n",
      "16230  Madden NFL 13      PS3             2012  Sports      0.00      0.01   \n",
      "\n",
      "       jp_sales  other_sales  critic_score  user_score rating  total_sales  \n",
      "604        0.00         0.23          83.0         5.5      E         2.56  \n",
      "659        0.00         0.08           NaN         NaN    NaN         2.39  \n",
      "14244      0.03         0.00           NaN         NaN    NaN         0.03  \n",
      "16230      0.00         0.00          83.0         5.5      E         0.01  \n"
     ]
    }
   ],
   "source": [
    "duplicate_rows = data_games[data_games.duplicated(subset=['name', 'platform', 'year_of_release'], keep=False)]\n",
    "\n",
    "print(duplicate_rows)"
   ]
  },
  {
   "cell_type": "markdown",
   "metadata": {},
   "source": [
    "Проверка на неявные дубликаты показала, что две игры дублируются по названию, платформе и дате релиза. Уберём их из датафрейма. "
   ]
  },
  {
   "cell_type": "code",
   "execution_count": 10,
   "metadata": {},
   "outputs": [],
   "source": [
    "data_games = data_games.drop_duplicates(subset=['name', 'platform', 'year_of_release'], keep='first')\n",
    "data_games = data_games.dropna(subset=['name', 'genre', 'year_of_release'])"
   ]
  },
  {
   "cell_type": "markdown",
   "metadata": {},
   "source": [
    "Дублирующиеся строки отсутствуют. Неявные дубликаты устранены. Также были удалены игры с пропусками в жанре, названии и дате релиза."
   ]
  },
  {
   "cell_type": "markdown",
   "metadata": {},
   "source": [
    "#### Промежуточные итоги:\n",
    "1. Были произведены косметические улучшения в данных, включая приведение названий столбцов к нижнему регистру.\n",
    "2. Произведена обработка типов данных: столбец с годом релиза был переведен в целочисленный тип int64 для лучшей читаемости, а столбец с пользовательскими оценками (user_score) был преобразован во float64.\n",
    "3. Проанализированы пропуски в данных. Выявлено, что большое количество пропусков наблюдается в столбцах с оценками критиков и пользователей, а также в столбце с возрастным рейтингом (rating). Эти пропуски могут быть обусловлены различными факторами, такими как низкая популярность игры или нехватка данных для формирования рейтинга.\n",
    "4. Значение 'tbd' в столбце с пользовательскими оценками было заменено на NaN.\n",
    "5. Пропуски в столбце с датой релиза были оставлены без изменений, так как их количество незначительно, и они могут быть связаны с отсутствием фиксации даты релиза для некоторых игр.\n",
    "6. Для дальнейшего анализа был добавлен новый столбец с суммарными продажами игр во всех регионах.\n",
    "7. Проверка на дубликаты показала отсутствие повторяющихся строк."
   ]
  },
  {
   "cell_type": "code",
   "execution_count": 11,
   "metadata": {},
   "outputs": [
    {
     "name": "stdout",
     "output_type": "stream",
     "text": [
      "<class 'pandas.core.frame.DataFrame'>\n",
      "Int64Index: 16443 entries, 0 to 16714\n",
      "Data columns (total 12 columns):\n",
      " #   Column           Non-Null Count  Dtype  \n",
      "---  ------           --------------  -----  \n",
      " 0   name             16443 non-null  object \n",
      " 1   platform         16443 non-null  object \n",
      " 2   year_of_release  16443 non-null  Int64  \n",
      " 3   genre            16443 non-null  object \n",
      " 4   na_sales         16443 non-null  float64\n",
      " 5   eu_sales         16443 non-null  float64\n",
      " 6   jp_sales         16443 non-null  float64\n",
      " 7   other_sales      16443 non-null  float64\n",
      " 8   critic_score     7982 non-null   float64\n",
      " 9   user_score       7462 non-null   float64\n",
      " 10  rating           9767 non-null   object \n",
      " 11  total_sales      16443 non-null  float64\n",
      "dtypes: Int64(1), float64(7), object(4)\n",
      "memory usage: 1.6+ MB\n",
      "None\n",
      "-------------------------\n",
      "name [' Beyblade Burst' ' Fire Emblem Fates' \" Frozen: Olaf's Quest\" ...\n",
      " 'uDraw Studio' 'uDraw Studio: Instant Artist'\n",
      " '¡Shin Chan Flipa en colores!']\n",
      "name : кол-во NaN 0 , процент NaN 0.0 %\n",
      "-------------------------\n",
      "platform ['2600' '3DO' '3DS' 'DC' 'DS' 'GB' 'GBA' 'GC' 'GEN' 'GG' 'N64' 'NES' 'NG'\n",
      " 'PC' 'PCFX' 'PS' 'PS2' 'PS3' 'PS4' 'PSP' 'PSV' 'SAT' 'SCD' 'SNES' 'TG16'\n",
      " 'WS' 'Wii' 'WiiU' 'X360' 'XB' 'XOne']\n",
      "platform : кол-во NaN 0 , процент NaN 0.0 %\n",
      "-------------------------\n",
      "year_of_release <IntegerArray>\n",
      "[1980, 1981, 1982, 1983, 1984, 1985, 1986, 1987, 1988, 1989, 1990, 1991, 1992,\n",
      " 1993, 1994, 1995, 1996, 1997, 1998, 1999, 2000, 2001, 2002, 2003, 2004, 2005,\n",
      " 2006, 2007, 2008, 2009, 2010, 2011, 2012, 2013, 2014, 2015, 2016]\n",
      "Length: 37, dtype: Int64\n",
      "year_of_release : кол-во NaN 0 , процент NaN 0.0 %\n",
      "-------------------------\n",
      "genre ['Action' 'Adventure' 'Fighting' 'Misc' 'Platform' 'Puzzle' 'Racing'\n",
      " 'Role-Playing' 'Shooter' 'Simulation' 'Sports' 'Strategy']\n",
      "genre : кол-во NaN 0 , процент NaN 0.0 %\n",
      "-------------------------\n",
      "critic_score [13. 17. 19. 20. 21. 23. 24. 25. 26. 27. 28. 29. 30. 31. 32. 33. 34. 35.\n",
      " 36. 37. 38. 39. 40. 41. 42. 43. 44. 45. 46. 47. 48. 49. 50. 51. 52. 53.\n",
      " 54. 55. 56. 57. 58. 59. 60. 61. 62. 63. 64. 65. 66. 67. 68. 69. 70. 71.\n",
      " 72. 73. 74. 75. 76. 77. 78. 79. 80. 81. 82. 83. 84. 85. 86. 87. 88. 89.\n",
      " 90. 91. 92. 93. 94. 95. 96. 97. 98. nan]\n",
      "critic_score : кол-во NaN 8461 , процент NaN 51.46 %\n",
      "-------------------------\n",
      "user_score [0.  0.2 0.3 0.5 0.6 0.7 0.9 1.  1.1 1.2 1.3 1.4 1.5 1.6 1.7 1.8 1.9 2.\n",
      " 2.1 2.2 2.3 2.4 2.5 2.6 2.7 2.8 2.9 3.  3.1 3.2 3.3 3.4 3.5 3.6 3.7 3.8\n",
      " 3.9 4.  4.1 4.2 4.3 4.4 4.5 4.6 4.7 4.8 4.9 5.  5.1 5.2 5.3 5.4 5.5 5.6\n",
      " 5.7 5.8 5.9 6.  6.1 6.2 6.3 6.4 6.5 6.6 6.7 6.8 6.9 7.  7.1 7.2 7.3 7.4\n",
      " 7.5 7.6 7.7 7.8 7.9 8.  8.1 8.2 8.3 8.4 8.5 8.6 8.7 8.8 8.9 9.  9.1 9.2\n",
      " 9.3 9.4 9.5 9.6 9.7 nan]\n",
      "user_score : кол-во NaN 8981 , процент NaN 54.62 %\n",
      "-------------------------\n",
      "rating ['AO' 'E' 'E10+' 'EC' 'K-A' 'M' 'RP' 'T' nan]\n",
      "rating : кол-во NaN 6676 , процент NaN 40.6 %\n"
     ]
    }
   ],
   "source": [
    "# Посмотрим, что осталось\n",
    "temp = data_games.copy() \n",
    "list_c = ['name', 'platform', 'year_of_release', 'genre', 'critic_score', 'user_score', 'rating']\n",
    "print(temp.info())\n",
    "for col_l in list_c:\n",
    "  print('-'* 25)\n",
    "  print(col_l, temp[col_l].sort_values().unique())\n",
    "  print(col_l,': кол-во NaN',temp[col_l].isna().sum(),\n",
    "        ', процент NaN', round(temp[col_l].isna().mean()*100,2),'%') "
   ]
  },
  {
   "cell_type": "markdown",
   "metadata": {},
   "source": [
    "### Исследовательский анализ данных."
   ]
  },
  {
   "cell_type": "markdown",
   "metadata": {},
   "source": [
    "#### Группировка игр по году выпуска"
   ]
  },
  {
   "cell_type": "markdown",
   "metadata": {},
   "source": [
    "Сгруппируем игры по году выпуска и ответим на вопрос важны ли данные за разные периоды."
   ]
  },
  {
   "cell_type": "code",
   "execution_count": 12,
   "metadata": {},
   "outputs": [
    {
     "data": {
      "image/png": "[encoded data removed]",
      "text/plain": [
       "<Figure size 720x576 with 1 Axes>"
      ]
     },
     "metadata": {
      "needs_background": "light"
     },
     "output_type": "display_data"
    }
   ],
   "source": [
    "data_year = data_games.groupby('year_of_release')['name'].count()\n",
    "\n",
    "plt.figure(figsize=(10,8))\n",
    "plt.plot(data_year.index, data_year.values)\n",
    "plt.title('Количество игр, вышедших в различные годы')\n",
    "plt.xlabel('Год')\n",
    "plt.ylabel('Количество игр')\n",
    "plt.show()"
   ]
  },
  {
   "cell_type": "markdown",
   "metadata": {},
   "source": [
    "Как мы видим, игры по годам распределены неравномерно. Тут пик наблюдается в 2008-2010 годах, а количество игр за один год до 1995 года не превышало 200 штук. Так что для того, чтобы спрогнозировать продажи на будущие года, следует взять данные за прошедшие 5-10 лет."
   ]
  },
  {
   "cell_type": "markdown",
   "metadata": {},
   "source": [
    "#### Продажи по платформам"
   ]
  },
  {
   "cell_type": "code",
   "execution_count": 13,
   "metadata": {},
   "outputs": [
    {
     "data": {
      "image/png": "[encoded data removed]",
      "text/plain": [
       "<Figure size 720x576 with 1 Axes>"
      ]
     },
     "metadata": {
      "needs_background": "light"
     },
     "output_type": "display_data"
    }
   ],
   "source": [
    "data_platform = data_games.groupby('platform')['total_sales'].sum().sort_values(ascending=False)\n",
    "platforms = list(data_platform.index[:7])\n",
    "plt.figure(figsize=(10,8))\n",
    "for platform in platforms:\n",
    "    data_platform_year = data_games[data_games['platform'] == platform].groupby('year_of_release')['total_sales'].sum()\n",
    "    plt.plot(data_platform_year.index, data_platform_year.values, label=platform)\n",
    "plt.title('Количество игр, проданных на различные платформы в разные годы')\n",
    "plt.xlabel('Год')\n",
    "plt.ylabel('Продажи')\n",
    "plt.legend()\n",
    "plt.show()"
   ]
  },
  {
   "cell_type": "markdown",
   "metadata": {},
   "source": [
    "Как мы видим, есть ошибка в существующих данных - платформа DS вышла в 2004 году, в то время как в таблице есть данные за более ранний период - исправим это. "
   ]
  },
  {
   "cell_type": "code",
   "execution_count": 14,
   "metadata": {},
   "outputs": [],
   "source": [
    "data_games = data_games.drop(data_games[(data_games['platform'] == 'DS') & (data_games['year_of_release'] < 2004)].index)"
   ]
  },
  {
   "cell_type": "code",
   "execution_count": 15,
   "metadata": {},
   "outputs": [
    {
     "data": {
      "image/png": "[encoded data removed]",
      "text/plain": [
       "<Figure size 720x576 with 1 Axes>"
      ]
     },
     "metadata": {
      "needs_background": "light"
     },
     "output_type": "display_data"
    }
   ],
   "source": [
    "data_platform = data_games.groupby('platform')['total_sales'].sum().sort_values(ascending=False)\n",
    "platforms = list(data_platform.index[:7])\n",
    "plt.figure(figsize=(10,8))\n",
    "for platform in platforms:\n",
    "    data_platform_year = data_games[data_games['platform'] == platform].groupby('year_of_release')['total_sales'].sum()\n",
    "    plt.plot(data_platform_year.index, data_platform_year.values, label=platform)\n",
    "plt.title('Количество игр, проданных на различные платформы в разные годы')\n",
    "plt.xlabel('Год')\n",
    "plt.ylabel('Продажи')\n",
    "plt.legend()\n",
    "plt.show()"
   ]
  },
  {
   "cell_type": "markdown",
   "metadata": {},
   "source": [
    "Возьмем 7 самых продаваемых платформ и посмотрим, как менялись продажи и за какое время появлялись и исчезали игровые платформы. Проверим, какой оптимальный срок жизни у платформы."
   ]
  },
  {
   "cell_type": "code",
   "execution_count": 16,
   "metadata": {},
   "outputs": [
    {
     "data": {
      "text/plain": [
       "7.0"
      ]
     },
     "execution_count": 16,
     "metadata": {},
     "output_type": "execute_result"
    }
   ],
   "source": [
    "temp = data_games.copy() \n",
    "time_life = temp.pivot_table(index='platform', values='year_of_release', aggfunc=['min', 'max']).reset_index()\n",
    "time_life['life'] = time_life['max'] - time_life['min'] + 1 \n",
    "time_life['life'].median()"
   ]
  },
  {
   "cell_type": "markdown",
   "metadata": {},
   "source": [
    "Как мы видим, медианный срок жизни платформы - 7 лет.\n",
    "\n",
    "Перейдем к обозначению актуального периода для прогноза на 2017 год. На мой взгляд лучше всего взять данные, начиная с 2013 года."
   ]
  },
  {
   "cell_type": "markdown",
   "metadata": {},
   "source": [
    "#### Продажи по платформам за актуальный период."
   ]
  },
  {
   "cell_type": "code",
   "execution_count": 18,
   "metadata": {},
   "outputs": [
    {
     "data": {
      "image/png": "[encoded data removed]",
      "text/plain": [
       "<Figure size 720x576 with 1 Axes>"
      ]
     },
     "metadata": {
      "needs_background": "light"
     },
     "output_type": "display_data"
    },
    {
     "data": {
      "text/plain": [
       "platform\n",
       "PS4     314.14\n",
       "PS3     181.43\n",
       "XOne    159.32\n",
       "3DS     143.25\n",
       "X360    136.80\n",
       "WiiU     64.63\n",
       "PC       39.43\n",
       "PSV      32.99\n",
       "Wii      13.66\n",
       "PSP       3.50\n",
       "DS        1.54\n",
       "Name: total_sales, dtype: float64"
      ]
     },
     "metadata": {},
     "output_type": "display_data"
    }
   ],
   "source": [
    "data_games_2013 = data_games[data_games['year_of_release'] >= 2013]\n",
    "data_platform_2013 = data_games_2013.groupby('platform')['total_sales'].sum().sort_values(ascending=False)\n",
    "platforms_2013 = list(data_platform_2013.index[:7])\n",
    "plt.figure(figsize=(10,8))\n",
    "for platform in platforms_2013:\n",
    "    data_platform_year = data_games_2013[data_games_2013['platform'] == platform].groupby('year_of_release')['total_sales'].sum()\n",
    "    plt.plot(data_platform_year.index, data_platform_year.values, label=platform)\n",
    "plt.title('Распределение продаж игр по разным платформам за актуальный период')\n",
    "plt.xlabel('Год')\n",
    "plt.ylabel('Продажи')\n",
    "plt.legend()\n",
    "plt.show()\n",
    "\n",
    "display(data_platform_2013)"
   ]
  },
  {
   "cell_type": "markdown",
   "metadata": {},
   "source": [
    "Лидерами продаж в период с 2013 по 2016 годы являются PS4, PS3, XboxOne, 3DS и Xbox360. Но на графике видно, как продажи почти всех консолей стремятся вниз (Xbox360, 3DS, PS3), но потенциально прибыльные платформы всё же можно выделить - это PS4 и XboxOne, так как они относительно недавно вышли - судя по предыдущим годам, продажи многих платформы не падали после их выхода на рынок как минимум 3 года."
   ]
  },
  {
   "cell_type": "markdown",
   "metadata": {},
   "source": [
    "#### \"Ящик с усами\" по глобальным продажам."
   ]
  },
  {
   "cell_type": "markdown",
   "metadata": {},
   "source": [
    "Построим боксплоты по глобальным продажам игр в разбивке по платформам."
   ]
  },
  {
   "cell_type": "code",
   "execution_count": 19,
   "metadata": {},
   "outputs": [
    {
     "data": {
      "image/png": "[encoded data removed]",
      "text/plain": [
       "<Figure size 720x576 with 1 Axes>"
      ]
     },
     "metadata": {
      "needs_background": "light"
     },
     "output_type": "display_data"
    }
   ],
   "source": [
    "plt.figure(figsize=(10,8))\n",
    "sns.boxplot(x='platform', y='total_sales', data=data_games_2013)\n",
    "plt.title('Глобальные продажи после 2013 года')\n",
    "plt.xlabel('Платформа')\n",
    "plt.ylabel('Глобалные продажи (млн)')\n",
    "plt.grid(axis='y', linestyle='--')\n",
    "plt.show()"
   ]
  },
  {
   "cell_type": "code",
   "execution_count": 20,
   "metadata": {},
   "outputs": [
    {
     "data": {
      "image/png": "[encoded data removed]",
      "text/plain": [
       "<Figure size 720x576 with 1 Axes>"
      ]
     },
     "metadata": {
      "needs_background": "light"
     },
     "output_type": "display_data"
    }
   ],
   "source": [
    "plt.figure(figsize=(10,8))\n",
    "sns.boxplot(x='platform', y='total_sales', data=data_games_2013)\n",
    "plt.title('Глобальные продажи после 2013 года')\n",
    "plt.xlabel('Платформа')\n",
    "plt.ylabel('Глобалные продажи (млн)')\n",
    "plt.grid(axis='y', linestyle='--')\n",
    "plt.gca().set_ylim([0, 2])\n",
    "plt.show()"
   ]
  },
  {
   "cell_type": "markdown",
   "metadata": {},
   "source": [
    "Как мы видим наибольшая медиана у **Xbox360**, как и размах усов.Дальше по этим свойствам идёт **Wii**. Третье место делят **PS4 и XboxOne**. Распределение продаж похожи у платформ **Xbox360, PS4, XboxOne, Wii**. Наименьшее распределение у **PS Vita и PSP**. Похожие распределения наблюдаются у **PC,3DS и DS**, они имеют маленькое распределение относительно остальных платформ, похожие мелианы, хотя у DS она чуть выше, но при этом у них не такое маленькое распределение как у портативных консолей от Sony. Особняком стоит **PS3**, его распределение продаж довольно большое, но его нельзя отнести к лидерам по размеру распределений, хотя медиана у него почти как у Wii. \n",
    "\n",
    "На первом графике можно заметить большое количество выбросов, самый большой зафиксирован у PS3 (20 млн продаж). Такие выбросы можно заметить у всех **относительно популярных платформ** - возможно выбросы связаны со стартом продаж каких-то крупных игр, но пока что такую гипотезу нет надобности проверять."
   ]
  },
  {
   "cell_type": "markdown",
   "metadata": {},
   "source": [
    "#### Диаграммы рассеяния"
   ]
  },
  {
   "cell_type": "markdown",
   "metadata": {},
   "source": [
    "Рассмотрим на примере одной из наиболее популярных платформ, как оценки **критиков и пользователей** могут влиять на продажи и есть ли корреляция между оценками и количеством продаж."
   ]
  },
  {
   "cell_type": "code",
   "execution_count": 21,
   "metadata": {},
   "outputs": [
    {
     "data": {
      "image/png": "[encoded data removed]",
      "text/plain": [
       "<Figure size 432x288 with 1 Axes>"
      ]
     },
     "metadata": {
      "needs_background": "light"
     },
     "output_type": "display_data"
    },
    {
     "name": "stdout",
     "output_type": "stream",
     "text": [
      "Коэфициент корреляции: 0.40656790206178095\n"
     ]
    }
   ],
   "source": [
    "data_ps4 = data_games_2013.query('platform == \"PS4\"')\n",
    "\n",
    "sns.regplot(x='critic_score', y='total_sales', data=data_ps4)\n",
    "plt.title('Влияние отзывов критиков на продажи на платформе PS4')\n",
    "plt.xlabel('Оценки критиков')\n",
    "plt.ylabel('Глобалные продажи (млн)')\n",
    "plt.show()\n",
    "\n",
    "correlation = data_ps4['critic_score'].corr(data_ps4['total_sales'])\n",
    "print('Коэфициент корреляции:',correlation)"
   ]
  },
  {
   "cell_type": "code",
   "execution_count": 22,
   "metadata": {},
   "outputs": [
    {
     "data": {
      "image/png": "[encoded data removed]",
      "text/plain": [
       "<Figure size 432x288 with 1 Axes>"
      ]
     },
     "metadata": {
      "needs_background": "light"
     },
     "output_type": "display_data"
    },
    {
     "name": "stdout",
     "output_type": "stream",
     "text": [
      "Коэфициент корреляции: -0.031957110204556376\n"
     ]
    }
   ],
   "source": [
    "data_ps4 = data_games_2013.query('platform == \"PS4\"')\n",
    "\n",
    "sns.regplot(x='user_score', y='total_sales', data=data_ps4)\n",
    "plt.title('Влияние отзывов пользователей на продажи на платформе PS4')\n",
    "plt.xlabel('Оценки пользователей')\n",
    "plt.ylabel('Глобалные продажи (млн)')\n",
    "plt.show()\n",
    "\n",
    "correlation = data_ps4['user_score'].corr(data_ps4['total_sales'])\n",
    "print('Коэфициент корреляции:',correlation)"
   ]
  },
  {
   "cell_type": "markdown",
   "metadata": {},
   "source": [
    "Как мы видим, корреляция очень слабая в обоих случаях, это может быть связано с огромным количеством пропущенных значений, но даже если мы уберем пропущенные значения - линия вырисовываться не будет. Чтобы убедится, что оценки слабо влияют на продажи игр, построим графики для других популярных платформ."
   ]
  },
  {
   "cell_type": "code",
   "execution_count": 23,
   "metadata": {
    "scrolled": true
   },
   "outputs": [
    {
     "data": {
      "image/png": "[encoded data removed]",
      "text/plain": [
       "<Figure size 432x288 with 1 Axes>"
      ]
     },
     "metadata": {
      "needs_background": "light"
     },
     "output_type": "display_data"
    },
    {
     "name": "stdout",
     "output_type": "stream",
     "text": [
      "Коэфициент корреляции: 0.4169983280084017\n"
     ]
    }
   ],
   "source": [
    "data_xone = data_games_2013.query('platform == \"XOne\"')\n",
    "\n",
    "sns.regplot(x='critic_score', y='total_sales', data=data_xone)\n",
    "plt.title('Влияние отзывов критиков на продажи на платформе XboxOne')\n",
    "plt.xlabel('Оценки критиков')\n",
    "plt.ylabel('Глобалные продажи (млн)')\n",
    "plt.show()\n",
    "\n",
    "correlation = data_xone['critic_score'].corr(data_xone['total_sales'])\n",
    "print('Коэфициент корреляции:',correlation)"
   ]
  },
  {
   "cell_type": "code",
   "execution_count": 24,
   "metadata": {
    "scrolled": true
   },
   "outputs": [
    {
     "data": {
      "image/png": "[encoded data removed]",
      "text/plain": [
       "<Figure size 432x288 with 1 Axes>"
      ]
     },
     "metadata": {
      "needs_background": "light"
     },
     "output_type": "display_data"
    },
    {
     "name": "stdout",
     "output_type": "stream",
     "text": [
      "Коэфициент корреляции: -0.06892505328279414\n"
     ]
    }
   ],
   "source": [
    "sns.regplot(x='user_score', y='total_sales', data=data_xone)\n",
    "plt.title('Влияние отзывов пользователей на продажи на платформе XboxOne')\n",
    "plt.xlabel('Оценки пользователей')\n",
    "plt.ylabel('Глобалные продажи (млн)')\n",
    "plt.show()\n",
    "\n",
    "correlation = data_xone['user_score'].corr(data_xone['total_sales'])\n",
    "print('Коэфициент корреляции:',correlation)"
   ]
  },
  {
   "cell_type": "markdown",
   "metadata": {},
   "source": [
    "На платформе XboxOne похожая картина."
   ]
  },
  {
   "cell_type": "code",
   "execution_count": 25,
   "metadata": {
    "scrolled": true
   },
   "outputs": [
    {
     "data": {
      "image/png": "[encoded data removed]",
      "text/plain": [
       "<Figure size 432x288 with 1 Axes>"
      ]
     },
     "metadata": {
      "needs_background": "light"
     },
     "output_type": "display_data"
    },
    {
     "name": "stdout",
     "output_type": "stream",
     "text": [
      "Коэфициент корреляции: 0.3503445460228664\n"
     ]
    }
   ],
   "source": [
    "data_x360 = data_games_2013.query('platform == \"X360\"')\n",
    "\n",
    "sns.regplot(x='critic_score', y='total_sales', data=data_x360)\n",
    "plt.title('Влияние отзывов критиков на продажи на платформе Xbox360')\n",
    "plt.xlabel('Оценки критиков')\n",
    "plt.ylabel('Глобалные продажи (млн)')\n",
    "plt.show()\n",
    "\n",
    "correlation = data_x360['critic_score'].corr(data_x360['total_sales'])\n",
    "print('Коэфициент корреляции:',correlation)"
   ]
  },
  {
   "cell_type": "code",
   "execution_count": 26,
   "metadata": {
    "scrolled": true
   },
   "outputs": [
    {
     "data": {
      "image/png": "[encoded data removed]",
      "text/plain": [
       "<Figure size 432x288 with 1 Axes>"
      ]
     },
     "metadata": {
      "needs_background": "light"
     },
     "output_type": "display_data"
    },
    {
     "name": "stdout",
     "output_type": "stream",
     "text": [
      "Коэфициент корреляции: -0.011742185147181342\n"
     ]
    }
   ],
   "source": [
    "sns.regplot(x='user_score', y='total_sales', data=data_x360)\n",
    "plt.title('Влияние отзывов пользователей на продажи на платформе Xbox360')\n",
    "plt.xlabel('Оценки пользователей')\n",
    "plt.ylabel('Глобалные продажи (млн)')\n",
    "plt.show()\n",
    "\n",
    "correlation = data_x360['user_score'].corr(data_x360['total_sales'])\n",
    "print('Коэфициент корреляции:',correlation)"
   ]
  },
  {
   "cell_type": "markdown",
   "metadata": {},
   "source": [
    "Такая же картина на платформе Xbox 360."
   ]
  },
  {
   "cell_type": "code",
   "execution_count": 27,
   "metadata": {},
   "outputs": [
    {
     "data": {
      "image/png": "[encoded data removed]",
      "text/plain": [
       "<Figure size 432x288 with 1 Axes>"
      ]
     },
     "metadata": {
      "needs_background": "light"
     },
     "output_type": "display_data"
    },
    {
     "name": "stdout",
     "output_type": "stream",
     "text": [
      "Коэфициент корреляции: 0.3764149065423912\n"
     ]
    }
   ],
   "source": [
    "data_wii = data_games_2013.query('platform == \"WiiU\"')\n",
    "\n",
    "sns.regplot(x='critic_score', y='total_sales', data=data_wii)\n",
    "plt.title('Влияние отзывов критиков на продажи на платформе WiiU')\n",
    "plt.xlabel('Оценки критиков')\n",
    "plt.ylabel('Глобалные продажи (млн)')\n",
    "plt.show()\n",
    "\n",
    "correlation = data_wii['critic_score'].corr(data_wii['total_sales'])\n",
    "print('Коэфициент корреляции:',correlation)"
   ]
  },
  {
   "cell_type": "code",
   "execution_count": 28,
   "metadata": {},
   "outputs": [
    {
     "data": {
      "image/png": "[encoded data removed]",
      "text/plain": [
       "<Figure size 432x288 with 1 Axes>"
      ]
     },
     "metadata": {
      "needs_background": "light"
     },
     "output_type": "display_data"
    },
    {
     "name": "stdout",
     "output_type": "stream",
     "text": [
      "Коэфициент корреляции: 0.4193304819266187\n"
     ]
    }
   ],
   "source": [
    "sns.regplot(x='user_score', y='total_sales', data=data_wii)\n",
    "plt.title('Влияние отзывов пользователей на продажи на платформе WiiU')\n",
    "plt.xlabel('Оценки пользователей')\n",
    "plt.ylabel('Глобалные продажи (млн)')\n",
    "plt.show()\n",
    "\n",
    "correlation = data_wii['user_score'].corr(data_wii['total_sales'])\n",
    "print('Коэфициент корреляции:',correlation)"
   ]
  },
  {
   "cell_type": "markdown",
   "metadata": {},
   "source": [
    "Корреляция во всех случаях слабая, а также очень много значений у 0 - слишком много пропущенных значений в оценках критиков и пользователей, поэтому делать какие либо выводы о наличии сильной корреляции между двумя переменными нельзя - недостаточно данных у двух переменных (оценок пользователей и критиков)."
   ]
  },
  {
   "cell_type": "markdown",
   "metadata": {},
   "source": [
    "#### Распределение игр по жанрам"
   ]
  },
  {
   "cell_type": "markdown",
   "metadata": {},
   "source": [
    "Теперь рассмотрим распределение продаж по жанрам. "
   ]
  },
  {
   "cell_type": "code",
   "execution_count": 29,
   "metadata": {},
   "outputs": [
    {
     "data": {
      "image/png": "[encoded data removed]",
      "text/plain": [
       "<Figure size 720x576 with 1 Axes>"
      ]
     },
     "metadata": {
      "needs_background": "light"
     },
     "output_type": "display_data"
    },
    {
     "data": {
      "text/plain": [
       "genre\n",
       "Action          321.87\n",
       "Shooter         232.98\n",
       "Sports          150.65\n",
       "Role-Playing    145.89\n",
       "Misc             62.82\n",
       "Platform         42.63\n",
       "Racing           39.89\n",
       "Fighting         35.31\n",
       "Adventure        23.64\n",
       "Simulation       21.76\n",
       "Strategy         10.08\n",
       "Puzzle            3.17\n",
       "Name: total_sales, dtype: float64"
      ]
     },
     "metadata": {},
     "output_type": "display_data"
    },
    {
     "data": {
      "image/png": "[encoded data removed]",
      "text/plain": [
       "<Figure size 720x576 with 1 Axes>"
      ]
     },
     "metadata": {
      "needs_background": "light"
     },
     "output_type": "display_data"
    },
    {
     "data": {
      "text/plain": [
       "genre\n",
       "Shooter         0.450\n",
       "Sports          0.240\n",
       "Platform        0.225\n",
       "Role-Playing    0.125\n",
       "Fighting        0.125\n",
       "Racing          0.120\n",
       "Action          0.110\n",
       "Simulation      0.100\n",
       "Misc            0.100\n",
       "Strategy        0.080\n",
       "Puzzle          0.060\n",
       "Adventure       0.030\n",
       "Name: total_sales, dtype: float64"
      ]
     },
     "metadata": {},
     "output_type": "display_data"
    }
   ],
   "source": [
    "data_genre = data_games_2013.groupby('genre')['total_sales'].sum().sort_values(ascending=False)\n",
    "data_genre_median = data_games_2013.groupby('genre')['total_sales'].median().sort_values(ascending=False)\n",
    "\n",
    "plt.figure(figsize=(10,8))\n",
    "data_genre.plot.barh()\n",
    "\n",
    "plt.xlabel('Количество продаж')\n",
    "plt.ylabel('Жанр')\n",
    "plt.title('Распределение продаж игр по жанрам')\n",
    "\n",
    "plt.show()\n",
    "\n",
    "display(data_genre)\n",
    "\n",
    "plt.figure(figsize=(10,8))\n",
    "data_genre_median.plot.barh()\n",
    "\n",
    "plt.xlabel('Медианные продажи каждой игры в каждом жанре')\n",
    "plt.ylabel('Жанр')\n",
    "plt.title('Распределение продаж игр по жанрам')\n",
    "plt.show()\n",
    "\n",
    "display(data_genre_median)"
   ]
  },
  {
   "cell_type": "markdown",
   "metadata": {},
   "source": [
    "Исходя из графика и таблицы с **общим количеством продаж в каждом жанре**, можно сделать следующий вывод: \n",
    "* Жанры Action, Sports, Shooter - лидеры по продажам.\n",
    "* Жанры Puzzle, Simulation, Strategy - отстают и имеют наименьшие продажи.\n",
    "* Жанры Platform, Misc, Racing, Fighting - находятся в середине.\n",
    "\n",
    "Но, следует отметить **медианные продажи**, так как общее количество продаж может искажать всю картину продаж из за наиболее выбивающихся популярных игр в каждом жанре. Тут можно сделать следующий вывод:\n",
    "* Наибольшие медианные продажи у жанров Shooter, Sports, Platform.\n",
    "* В середине расположились RPG, Fighting, Racing, Action.\n",
    "* Наименьшая медиана у платформ - Adventure, Puzzle, Strategy. \n",
    "\n",
    "Некоторые значения очень сильно удивляют - так у экшн игр наибольшие общие продажи, но медианные продажи у них расположились по середине. Противоположная ситуация с платформерами - тут мы имеем сравнительно маленькие общие продажи, но медианные продажи находятся на 3 месте, недалеко от спортивных игр. Но несмотря на такие различия у общих и медианных продаж общие лидеры и \"отстающие\" - шутеры и спортивные игры находятся в лидерах продаж, в то время как отстающими всё так же остаются жанры Puzzle и Strategy. "
   ]
  },
  {
   "cell_type": "markdown",
   "metadata": {},
   "source": [
    "#### Промежуточные итоги \n",
    "\n",
    "1. **Значение данных за разные периоды:**\n",
    "\n",
    "Игры по годам распределены неравномерно, с пиком в 2008-2010 годах. Для прогнозирования продаж на будущие годы предпочтительно использовать данные за последние 5-10 лет, так как за этот период можно выявить основные тенденции.\n",
    "\n",
    "2. **Актуальный период для прогноза на 2017 год:**\n",
    "\n",
    "Лидерами продаж в период с 2013 по 2016 годы являются PS4, PS3, XboxOne, 3DS и Xbox360. Несмотря на общий тренд снижения продаж, потенциально прибыльными платформами остаются PS4 и XboxOne, учитывая их недавний выход на рынок.\n",
    "\n",
    "3. **Распределение продаж по платформам:**\n",
    "\n",
    "Боксплоты позволяют сделать выводы о характеристиках распределения продаж по разным платформам. Например, Xbox360 имеет самую большую медиану и размах усов, что указывает на широкий диапазон продаж.\n",
    "\n",
    "4. **Влияние оценок критиков на продажи:**\n",
    "\n",
    "Корреляция между оценками критиков и продажами игр оказывается слабой, возможно, из-за большого количества пропущенных значений. Это указывает на то, что оценки критиков не являются определяющим фактором для продаж игр.\n",
    "\n",
    "5. **Распределение продаж по жанрам:**\n",
    "\n",
    "**Общие продажи**: \n",
    "* Жанры Action, Sports, Shooter - лидеры по продажам.\n",
    "* Жанры Puzzle, Simulation, Strategy - отстают и имеют наименьшие продажи.\n",
    "* Жанры Platform, Misc, Racing, Fighting - находятся в середине.\n",
    "\n",
    "**Медианные продажи**:\n",
    "* Наибольшие медианные продажи у жанров Shooter, Sports, Platform.\n",
    "* В середине расположились RPG, Fighting, Racing, Action.\n",
    "* Наименьшая медиана у платформ - Adventure, Puzzle, Strategy. "
   ]
  },
  {
   "cell_type": "markdown",
   "metadata": {},
   "source": [
    "### Портрет пользователя каждого региона"
   ]
  },
  {
   "cell_type": "markdown",
   "metadata": {},
   "source": [
    "#### Самые популярные платформы в каждом регионе"
   ]
  },
  {
   "cell_type": "code",
   "execution_count": 30,
   "metadata": {
    "scrolled": false
   },
   "outputs": [
    {
     "data": {
      "image/png": "[encoded data removed]",
      "text/plain": [
       "<Figure size 1296x432 with 3 Axes>"
      ]
     },
     "metadata": {},
     "output_type": "display_data"
    }
   ],
   "source": [
    "na_platform_sales = data_games_2013.groupby('platform')['na_sales'].sum().sort_values(ascending=False).head(5)\n",
    "eu_platform_sales = data_games_2013.groupby('platform')['eu_sales'].sum().sort_values(ascending=False).head(5)\n",
    "jp_platform_sales = data_games_2013.groupby('platform')['jp_sales'].sum().sort_values(ascending=False).head(5)\n",
    "\n",
    "other_platform_na_sales = data_games_2013['na_sales'].sum() - na_platform_sales.sum()\n",
    "other_platform_eu_sales = data_games_2013['eu_sales'].sum() - eu_platform_sales.sum()\n",
    "other_platform_jp_sales = data_games_2013['jp_sales'].sum() - jp_platform_sales.sum()\n",
    "\n",
    "na_platform_labels_all = list(na_platform_sales.index) + ['Others']\n",
    "eu_platform_labels_all = list(eu_platform_sales.index) + ['Others']\n",
    "jp_platform_labels_all = list(jp_platform_sales.index) + ['Others']\n",
    "\n",
    "na_platform_sales_all = list(na_platform_sales.values) + [other_platform_na_sales]\n",
    "eu_platform_sales_all = list(eu_platform_sales.values) + [other_platform_eu_sales]\n",
    "jp_platform_sales_all = list(jp_platform_sales.values) + [other_platform_jp_sales]\n",
    "\n",
    "fig, axs = plt.subplots(1, 3, figsize=(18, 6))\n",
    "\n",
    "axs[0].pie(na_platform_sales_all, labels=na_platform_labels_all, autopct='%1.1f%%')\n",
    "axs[0].set_title('Топ-5 платформ в Северной Америке')\n",
    "\n",
    "axs[1].pie(eu_platform_sales_all, labels=eu_platform_labels_all, autopct='%1.1f%%')\n",
    "axs[1].set_title('Топ-5 платформ в Европе')\n",
    "\n",
    "axs[2].pie(jp_platform_sales_all, labels=jp_platform_labels_all, autopct='%1.1f%%')\n",
    "axs[2].set_title('Топ-5 платформ в Японии')\n",
    "\n",
    "\n",
    "\n",
    "\n",
    "#plt.figure(figsize=(15, 6))\n",
    "#plt.subplot(1, 3, 1)\n",
    "#sns.barplot(x=na_platform_sales.index, y=na_platform_sales.values)\n",
    "#plt.title('Топ-5 платформ в Северной Америке')\n",
    "#plt.xlabel('Платформа')\n",
    "#plt.ylabel('Суммарные продажи (млн)')\n",
    "\n",
    "#plt.subplot(1, 3, 2)\n",
    "#sns.barplot(x=eu_platform_sales.index, y=eu_platform_sales.values)\n",
    "#plt.title('Топ-5 платформ в Европе')\n",
    "#plt.xlabel('Платформа')\n",
    "#plt.ylabel('Суммарные продажи (млн)')\n",
    "\n",
    "#plt.subplot(1, 3, 3)\n",
    "#sns.barplot(x=jp_platform_sales.index, y=jp_platform_sales.values)\n",
    "#plt.title('Топ-5 платформ в Японии')\n",
    "#plt.xlabel('Платформа')\n",
    "#plt.ylabel('Суммарные продажи (млн)')\n",
    "\n",
    "plt.show()"
   ]
  },
  {
   "cell_type": "markdown",
   "metadata": {},
   "source": [
    "Продажи платформ в Северной Америке и Европе не сильно отличаются (топ состоит из одинаковых платформ), но заметные различия всё же есть - это количество продаж для каждой отдельной платформы, а также само расположение платформ в топе. В обоих странах лидер продаж - **PS4**. \n",
    "Но в Америке игры на платформах **XboxOne и Xbox360** продаются в больших количествах, чем в Европе, возможно это связано с тем, что платформа Xbox распространена больше в Америке, чем в Европе.  \n",
    "Платформа **3DS** находится на последнем месте в обоих регионах, с похожим количеством продаж. \n",
    "Игры на **PS3** тоже имеют похожее количество продаж, но в Европе платформа на 2 месте, а в Северной Америке на 4.\n",
    "\n",
    "Говоря про Японию, мы видим значительные различия от первых двух регионов. Если в Северной Америке мы видели некоторую тенденцию, что игры на платформах страны производителя продаются больше, то в Японии мы видим, что в топе **все игры продаются на платформах от Японских компаний (Sony и Nintendo)**.\n",
    "Также заметим, что в Япнии доминируют игры на **портативных платформах (3DS и PSV)**. Суммарные продажи игр на стационарных платформах (PS3, PS4, WiiU) не покрывают даже все продажи игр на 3DS."
   ]
  },
  {
   "cell_type": "markdown",
   "metadata": {},
   "source": [
    "#### Самые популярные жанры в каждом регионе"
   ]
  },
  {
   "cell_type": "code",
   "execution_count": 31,
   "metadata": {
    "scrolled": false
   },
   "outputs": [
    {
     "data": {
      "image/png": "[encoded data removed]",
      "text/plain": [
       "<Figure size 1296x432 with 3 Axes>"
      ]
     },
     "metadata": {},
     "output_type": "display_data"
    }
   ],
   "source": [
    "na_genre_sales = data_games_2013.groupby('genre')['na_sales'].sum().sort_values(ascending=False).head(5)\n",
    "eu_genre_sales = data_games_2013.groupby('genre')['eu_sales'].sum().sort_values(ascending=False).head(5)\n",
    "jp_genre_sales = data_games_2013.groupby('genre')['jp_sales'].sum().sort_values(ascending=False).head(5)\n",
    "\n",
    "other_genre_na_sales = data_games_2013['na_sales'].sum() - na_genre_sales.sum()\n",
    "other_genre_eu_sales = data_games_2013['eu_sales'].sum() - eu_genre_sales.sum()\n",
    "other_genre_jp_sales = data_games_2013['jp_sales'].sum() - jp_genre_sales.sum()\n",
    "\n",
    "\n",
    "na_genre_labels_all = list(na_genre_sales.index) + ['Others']\n",
    "eu_genre_labels_all = list(eu_genre_sales.index) + ['Others']\n",
    "jp_genre_labels_all = list(jp_genre_sales.index) + ['Others']\n",
    "\n",
    "na_genre_sales_all = list(na_genre_sales.values) + [other_genre_na_sales]\n",
    "eu_genre_sales_all = list(eu_genre_sales.values) + [other_genre_eu_sales]\n",
    "jp_genre_sales_all = list(jp_genre_sales.values) + [other_genre_jp_sales]\n",
    "\n",
    "fig, axs = plt.subplots(1, 3, figsize=(18, 6))\n",
    "\n",
    "axs[0].pie(na_genre_sales_all, labels=na_genre_labels_all, autopct='%1.1f%%')\n",
    "axs[0].set_title('Топ-5 жанров в Северной Америке')\n",
    "\n",
    "axs[1].pie(eu_genre_sales_all, labels=eu_genre_labels_all, autopct='%1.1f%%')\n",
    "axs[1].set_title('Топ-5 жанров в Европе')\n",
    "\n",
    "axs[2].pie(jp_genre_sales_all, labels=jp_genre_labels_all, autopct='%1.1f%%')\n",
    "axs[2].set_title('Топ-5 жанров в Японии')\n",
    "\n",
    "\n",
    "#plt.subplot(1, 3, 2)\n",
    "\n",
    "#plt.subplot(1, 3, 3)\n",
    "\n",
    "#plt.figure(figsize=(15, 5))\n",
    "#plt.subplot(1, 3, 1)\n",
    "#sns.barplot(x=na_genre_sales.index, y=na_genre_sales.values)\n",
    "#plt.title('Топ-5 жанров в Северной Америке')\n",
    "#plt.xlabel('Жанр')\n",
    "#plt.ylabel('Суммарные продажи (млн)')\n",
    "\n",
    "#plt.subplot(1, 3, 2)\n",
    "#sns.barplot(x=eu_genre_sales.index, y=eu_genre_sales.values)\n",
    "#plt.title('Топ-5 жанров в Европе')\n",
    "#plt.xlabel('Жанр')\n",
    "#plt.ylabel('Суммарные продажи (млн)')\n",
    "\n",
    "#plt.subplot(1, 3, 3)\n",
    "#sns.barplot(x=jp_genre_sales.index, y=jp_genre_sales.values)\n",
    "#plt.title('Топ-5 жанров в Японии')\n",
    "#plt.xlabel('Жанр')\n",
    "#plt.ylabel('Суммарные продажи (млн)')\n",
    "\n",
    "\n",
    "\n",
    "plt.show() "
   ]
  },
  {
   "cell_type": "markdown",
   "metadata": {},
   "source": [
    "В Европе, как и в Северной Америке - похожие топы, меняется лишь последнее место. Так в Америке больше популярен жанр **Misc**, в то время как в Европе на 5 месте находится рейсинги. Также продажи шутеров в Америке выше примерно на 10 миллионов, в остальном же цифры продаж похожи. \n",
    "\n",
    "Япония так же как и в прошлый раз стоит особняком. Самый популярный жанр - **РПГ, на втором месте расположились экшн игры** (как можно заметить, они относительно популярны во всех регионах). Ну а игры в остальных жанрах имеют меньше 10 миллионов продаж и скорее занимают нишевый характер, что в случае с шутерами довольно сильно выбивается из картины по сравнению с остальными регионами."
   ]
  },
  {
   "cell_type": "markdown",
   "metadata": {},
   "source": [
    "#### Влияние рейтинга ESRB на продажи в каждом регионе"
   ]
  },
  {
   "cell_type": "code",
   "execution_count": 32,
   "metadata": {
    "scrolled": false
   },
   "outputs": [
    {
     "name": "stderr",
     "output_type": "stream",
     "text": [
      "/opt/conda/lib/python3.9/site-packages/pandas/core/series.py:4463: SettingWithCopyWarning: \n",
      "A value is trying to be set on a copy of a slice from a DataFrame\n",
      "\n",
      "See the caveats in the documentation: https://pandas.pydata.org/pandas-docs/stable/user_guide/indexing.html#returning-a-view-versus-a-copy\n",
      "  return super().fillna(\n"
     ]
    },
    {
     "data": {
      "image/png": "[encoded data removed]",
      "text/plain": [
       "<Figure size 1296x432 with 3 Axes>"
      ]
     },
     "metadata": {},
     "output_type": "display_data"
    }
   ],
   "source": [
    "data_games_2013['rating'].fillna('WO', inplace=True)\n",
    "na_esrb_sales = data_games_2013.groupby('rating')['na_sales'].sum().sort_values(ascending=False)\n",
    "eu_esrb_sales = data_games_2013.groupby('rating')['eu_sales'].sum().sort_values(ascending=False)\n",
    "jp_esrb_sales = data_games_2013.groupby('rating')['jp_sales'].sum().sort_values(ascending=False)\n",
    "\n",
    "fig, axs = plt.subplots(1, 3, figsize=(18, 6))\n",
    "\n",
    "axs[0].pie(na_esrb_sales, labels=na_esrb_sales.index, autopct='%1.1f%%')\n",
    "axs[0].set_title('Продажи в Северной Америке по рейтингу ESRB')\n",
    "\n",
    "\n",
    "axs[1].pie(eu_esrb_sales, labels=eu_esrb_sales.index, autopct='%1.1f%%')\n",
    "axs[1].set_title('Продажи в Европе по рейтингу ESRB')\n",
    "\n",
    "\n",
    "axs[2].pie(jp_esrb_sales, labels=jp_esrb_sales.index, autopct='%1.1f%%')\n",
    "axs[2].set_title('Продажи в Японии по рейтингу ESRB')\n",
    "\n",
    "#plt.figure(figsize=(15, 5))\n",
    "#plt.subplot(1, 3, 1)\n",
    "#sns.barplot(x=na_esrb_sales.index, y=na_esrb_sales.values)\n",
    "#plt.title('Продажи в Северной Америке по рейтингу ESRB')\n",
    "#plt.xlabel('Рейтинг ESRB')\n",
    "#plt.ylabel('Суммарные продажи (млн)')\n",
    "\n",
    "#plt.subplot(1, 3, 2)\n",
    "#sns.barplot(x=eu_esrb_sales.index, y=eu_esrb_sales.values)\n",
    "#plt.title('Продажи в Европе по рейтингу ESRB')\n",
    "#plt.xlabel('Рейтинг ESRB')\n",
    "#plt.ylabel('Суммарные продажи (млн)')\n",
    "\n",
    "#plt.subplot(1, 3, 3)\n",
    "#sns.barplot(x=jp_esrb_sales.index, y=jp_esrb_sales.values)\n",
    "#plt.title('Продажи в Японии по рейтингу ESRB')\n",
    "#plt.xlabel('Рейтинг ESRB')\n",
    "#plt.ylabel('Суммарные продажи (млн)')\n",
    "\n",
    "plt.show()"
   ]
  },
  {
   "cell_type": "markdown",
   "metadata": {},
   "source": [
    "Европа и Америка опять имеют похожие продажи в случае с рейтингами ESRB. Доминирует в обоих регионах рейтинг **M (Mature)**, то есть игры не подходящие для лиц младше 17 лет. На 2 и 3 месте игры для всех и всех старше 10 лет **(E и E10+)**. Игры для подростков не так популярны по сравнению с вышеперечисленными жанрами. **Около 20 процентов игр не имеют рейтинга** в Европе и Северной Америке\n",
    "\n",
    "В Японии картина меняется. **Около 60 процентов всех игр не имеют рейтинга ESRB**. Говоря про остальные 40% - игры с рейтингом **T (Teen)**, находятся в лидерах продаж, а игры в жанре **E и E10+** (суммарно) по продажам обгоняют игры с рейтингом **M**. Следует посмотреть в сущность рейтинга ESRB, так как больше он распространён в Северной Америке и Европе, при этом в большинстве своем он не распространяется на японские игры. Для анализа местного игрового рынка лучше использовать местные и характерные для японского рынка метрики оценки возрастного рейтинга для игр - **рейтинг ESRB не совсем подходит для анализа продаж на японском рынке**."
   ]
  },
  {
   "cell_type": "code",
   "execution_count": 33,
   "metadata": {},
   "outputs": [
    {
     "name": "stdout",
     "output_type": "stream",
     "text": [
      "0 0.0\n"
     ]
    },
    {
     "data": {
      "text/plain": [
       "WO      977\n",
       "M       369\n",
       "T       333\n",
       "E       302\n",
       "E10+    252\n",
       "Name: rating, dtype: int64"
      ]
     },
     "execution_count": 33,
     "metadata": {},
     "output_type": "execute_result"
    }
   ],
   "source": [
    "# Комментарий ревьюера\n",
    "temp = data_games_2013.copy()\n",
    "print(temp.rating.isna().sum(), temp.rating.isna().sum()/len(temp))\n",
    "temp.rating.value_counts(dropna=False)"
   ]
  },
  {
   "cell_type": "markdown",
   "metadata": {},
   "source": [
    "#### Промежуточные итоги.\n",
    "\n",
    "1. **Продажи платформ:**\n",
    "\n",
    "В Северной Америке и Европе основные топовые платформы схожи, но наблюдаются некоторые различия в количестве продаж и их распределении.\n",
    "В Японии наблюдается явное предпочтение к платформам от японских производителей, особенно к портативным консолям.\n",
    "\n",
    "2. **Продажи по жанрам:**\n",
    "\n",
    "В Северной Америке и Европе в топе присутствуют схожие жанры, но с небольшими различиями в последних местах.\n",
    "В Японии преобладают игры жанра РПГ и экшн, отличаясь от предпочтений западных рынков.\n",
    "\n",
    "3. **Продажи по рейтингам ESRB:**\n",
    "\n",
    "В Европе и Северной Америке наиболее популярны игры с рейтингом M (Mature), подходящие для взрослой аудитории.\n",
    "В Японии предпочтения отличаются - тут нельзя говорить о доминировании какого либо возрастного рейтинга, так как 60% всех игр просто не имеют рейтинга ESRN.\n",
    "\n",
    "4. **Портреты пользователей:**\n",
    "* Портрет пользователя из Северной Америки: пользователи от 17 лет, играющие преимущественно в Шутеры, Экшн, Спорт,РПГ  и жанр Misc на стационарных консолях от Sony/Microsoft.\n",
    "* Портрет пользователя из Европы: пользователи от 17 лет, играющие преимущественно такие же жанры, что и Американские пользователи, но отдающие предпочтения Гонкам, вместо жанра Misc на стационарных консолях (преимущественно Sony)\n",
    "* Портрет пользователя из Японии: пользователи любого возраста, играющие преимущественно в РПГ на портативных консолях от Sony и Nintendo. \n",
    "\n",
    "\n"
   ]
  },
  {
   "cell_type": "markdown",
   "metadata": {},
   "source": [
    "### Проверка гипотез"
   ]
  },
  {
   "cell_type": "markdown",
   "metadata": {},
   "source": [
    "#### Средние пользовательские рейтинги платформ Xbox One и PC одинаковые."
   ]
  },
  {
   "cell_type": "markdown",
   "metadata": {},
   "source": [
    "**Нулевая гипотеза (H0)**: Средние пользовательские рейтинги платформ Xbox One и PC одинаковые.\n",
    "\n",
    "**Альтернативная гипотеза (H1)**: Средние пользовательские рейтинги платформ Xbox One и PC различаются. (двусторонняя альтернативная гипотеза)"
   ]
  },
  {
   "cell_type": "markdown",
   "metadata": {},
   "source": [
    "**Критерий проверки гипотез:**\n",
    "\n",
    "Мы используем независимый t-тест, потому что он подходит для сравнения средних двух независимых выборок, так как сравниваем мы две абсолютно разные платформы."
   ]
  },
  {
   "cell_type": "code",
   "execution_count": 34,
   "metadata": {},
   "outputs": [
    {
     "name": "stdout",
     "output_type": "stream",
     "text": [
      "p-значение: 0.14012658403611647\n",
      "средние значение для платформы xbox 6.521428571428572\n",
      "средние значение для  PC 6.2696774193548395\n",
      "Не отвергаем нулевую гипотезу: средние пользовательские рейтинги двух платформ не различаются.\n"
     ]
    }
   ],
   "source": [
    "xbox_one_ratings = data_games_2013[data_games_2013['platform'] == 'XOne']['user_score'].dropna()\n",
    "pc_ratings = data_games_2013[data_games_2013['platform'] == 'PC']['user_score'].dropna()\n",
    "\n",
    "alpha = 0.05 \n",
    "\n",
    "results = st.ttest_ind(xbox_one_ratings, pc_ratings)\n",
    "\n",
    "print('p-значение:', results.pvalue)\n",
    "print('средние значение для платформы xbox', xbox_one_ratings.mean())\n",
    "print('средние значение для  PC', pc_ratings.mean())\n",
    "\n",
    "if results.pvalue < alpha:\n",
    "    print('Отвергаем нулевую гипотезу: средние пользовательские рейтинги платформ Xbox One и PC различаются.')\n",
    "else:\n",
    "    print(\"Не отвергаем нулевую гипотезу: средние пользовательские рейтинги двух платформ не различаются.\")"
   ]
  },
  {
   "cell_type": "markdown",
   "metadata": {},
   "source": [
    "#### Средние пользовательские рейтинги жанров Action  и Sports разные."
   ]
  },
  {
   "cell_type": "markdown",
   "metadata": {},
   "source": [
    "**Нулевая гипотеза (H0)**: Средние пользовательские рейтинги жанров Action и Sports не различаются.\n",
    "\n",
    "**Альтернативная гипотеза (H1)**: Средние пользовательские рейтинги жанров Action и Sports различаются."
   ]
  },
  {
   "cell_type": "markdown",
   "metadata": {},
   "source": [
    "**Критерий проверки гипотез:**\n",
    "\n",
    "Мы будем опять используем независимый t-тест, потому что он подходит для сравнения средних двух независимых выборок. Тут мы уже сравниваем два разных жанра, и так как в таблице указан только один жанр для каждой игр, то можно счиать, что переменные действительно независимые."
   ]
  },
  {
   "cell_type": "code",
   "execution_count": 35,
   "metadata": {},
   "outputs": [
    {
     "name": "stdout",
     "output_type": "stream",
     "text": [
      "p-значение: 1.0517832389140023e-27\n",
      "средние значение для экшн игр 6.837532133676092\n",
      "средние значение для спортивных игр 5.238124999999999\n",
      "Отвергаем нулевую гипотезу: средние пользовательские рейтинги жанров Action и Sports различаются.\n"
     ]
    }
   ],
   "source": [
    "action_ratings = data_games_2013[data_games_2013['genre'] == 'Action']['user_score'].dropna()\n",
    "sports_ratings = data_games_2013[data_games_2013['genre'] == 'Sports']['user_score'].dropna()\n",
    "\n",
    "results = st.ttest_ind(action_ratings, sports_ratings)\n",
    "\n",
    "print('p-значение:', results.pvalue)\n",
    "print('средние значение для экшн игр', action_ratings.mean())\n",
    "print('средние значение для спортивных игр', sports_ratings.mean())\n",
    "\n",
    "if results.pvalue < alpha:\n",
    "    print(\"Отвергаем нулевую гипотезу: средние пользовательские рейтинги жанров Action и Sports различаются.\")\n",
    "else:\n",
    "    print(\"Не отвергаем нулевую гипотезу: нет значимых различий между средними пользовательскими рейтингами жанров Action и Sports.\")"
   ]
  },
  {
   "cell_type": "markdown",
   "metadata": {},
   "source": [
    "#### Промежуточные итоги.\n",
    "1. Первая гипотеза подтвердиалсь, средние пользовательские рейтинги платформ Xbox One и PC одинаковые, так как при проведении независимого t-теста мы не увидели сколь либо значимых значений, превышающих уровень статистической значимости. \n",
    "2. Вторая гипотеза тоже подтвердилась - средние пользовательские рейтинги жанров Action и Sports разные. Для этого нам пришлось отвергнуть нулевую гипотезу, в которой утверждалось, что различий нет. Альтернативная гипотеза подтвердилась, так как p-значение больше уровня статистической значимости. "
   ]
  },
  {
   "cell_type": "markdown",
   "metadata": {},
   "source": [
    "## Общий вывод"
   ]
  },
  {
   "cell_type": "markdown",
   "metadata": {},
   "source": [
    "**1. Подготовка данных:**\n",
    "\n",
    "* Проведены косметические улучшения: названия столбцов приведены к нижнему регистру.\n",
    "* Обработаны типы данных: год релиза преобразован в int64, пользовательские оценки - в float64.\n",
    "* Проанализированы пропуски: много пропусков в оценках критиков/пользователей/возрастном рейтинге.\n",
    "* Значение 'tbd' в user_score заменено на NaN.\n",
    "* Пропуски в дате релиза оставлены (незначительное количество).\n",
    "* Добавлен столбец с суммарными продажами.\n",
    "* Дубликаты не найдены.\n",
    "\n",
    "**2. Анализ данных:**\n",
    "\n",
    "* **Распределение по годам:** пик в 2008-2010 годах. Для прогноза на будущее использованы данные за последние 5-10 лет.\n",
    "* **Актуальный период для прогноза на 2017 год:** 2013-2016. Лидеры продаж: PS4, PS3, XboxOne, 3DS, Xbox360. Потенциально прибыльные: PS4, XboxOne.\n",
    "* **Распределение по платформам:** Xbox360 - самая большая медиана и размах усов (широкий диапазон продаж).\n",
    "* **Влияние оценок критиков:** слабая корреляция с продажами (много пропусков). Оценки критиков не являются определяющим фактором.\n",
    "* **Распределение по жанрам:** лидеры - Spots, Shooter; наименьшие продажи - Puzzle, Strategy.\n",
    "\n",
    "* **Портрет пользователей по регионам:**\n",
    "\n",
    "**Северная Америка:**\n",
    "\n",
    "*Платформы:* Лидером продаж является PS4, но также популярны платформы XboxOne и Xbox360. Это  может свидетельствовать о конкуренции между продуктами Sony и Microsoft на этом рынке.\n",
    "\n",
    "*Жанры:* Шутеры, Экшн, Спорт,РПГ  и жанр Misc пользуются популярностью.\n",
    "\n",
    "*Рейтинг ESRB:* Преобладают игры с рейтингом M (Mature), что свидетельствует о спросе на контент для взрослых пользователей.\n",
    "\n",
    "Портрет: пользователи от 17 лет, играющие преимущественно в Шутеры, Экшн, Спорт,РПГ  и жанр Misc на стационарных консолях от Sony/Microsoft.\n",
    "\n",
    "**Европа:**\n",
    "\n",
    "*Платформы:* Схожая ситуация с Северной Америкой, лидирует PS4, но с некоторыми отличиями в количестве продаж платформ Xbox. В \n",
    "\n",
    "*Жанры:* Предпочтения по жанрам в целом схожи с Америкой, но в Европе больше популярны гонки, чем в Северной Америке.\n",
    "\n",
    "*Рейтинг ESRB:* Также преобладают игры с рейтингом M (Mature).\n",
    "\n",
    "Портрет: пользователи от 17 лет, играющие преимущественно в Шутеры, Экшн, Спорт,РПГ  и жанр Misc на стационарных консолях от Sony/Microsoft. \n",
    "\n",
    "**Япония:**\n",
    "\n",
    "*Платформы:* Продажи полностью доминируются платформами от японских производителей - Sony и Nintendo, причем портативные платформы (3DS, PSV) наиболее популярны.\n",
    "\n",
    "*Жанры:* РПГ - наиболее популярный жанр Экшн игры также пользуются спросом. Остальные жанры, включая шутеры, имеют нишевое положение.\n",
    "\n",
    "*Рейтинг ESRB:* большинство игр не имеют рейтинга ESRB, поэтому мы мало что можем сказать исходя из этого.\n",
    "\n",
    "Портрет: пользователи всех возрастов, играющие преимущественно в РПГ на портативных консолях от Sony и Nintendo.\n",
    "\n",
    "\n",
    "**3. Подтверждение гипотез:**\n",
    "\n",
    "* **Первая гипотеза:** средние пользовательские рейтинги Xbox One и PC одинаковые (подтверждена).\n",
    "* **Вторая гипотеза:** средние пользовательские рейтинги Action и Sports разные (подтверждена).\n",
    "\n",
    "\n",
    "**4. На что тратить рекламный бюджет?**\n",
    "\n",
    "В основе рекламной кампании стоит выбор платформы, на которой будут продвигаться игры. Рекомендуется сосредоточиться на 1-2 платформах с высокими продажами и широкой аудиторией. Возможные варианты - PS4, Xbox One, и Nintendo 3DS, учитывая их популярность в различных регионах.\n",
    "\n",
    "Анализируя данные о продажах по жанрам, стоит отдать предпочтение жанрам с высокими объемами продаж. Например, в Северной Америке и Европе стоит обратить внимание на жанры Misc и шутеры, а в Японии - на РПГ и экшн игры.\n",
    "\n",
    "При выборе игры для рекламы важно учитывать ее рейтинг ESRB, чтобы ориентироваться на целевую аудиторию. В Европе и Северной Америке доминируют игры с рейтингом M (Mature), а в Японии делать выводы по этому рейтингу тяжело.\n",
    "\n",
    "Поскольку игровые предпочтения различаются в разных регионах, важно учитывать эту специфику при планировании рекламной кампании. Например, в Северной Америке широко распространены игры на Xbox, в то время как в Японии популярны игры на портативных платформах Nintendo.\n",
    "\n",
    "Учитывая большую изученность рынка для Северной Америки и Европы, **лучшим решением будет продвигать игры на платформе PS4 с рейтингом M, а также в жанре Shooter или Sports**, так как именно они имеют наибольшие общие и медианные продажи.\n",
    "\n"
   ]
  }
 ],
 "metadata": {
  "ExecuteTimeLog": [
   {
    "duration": 430,
    "start_time": "2024-04-08T08:55:16.376Z"
   },
   {
    "duration": 3,
    "start_time": "2024-04-08T08:55:19.365Z"
   },
   {
    "duration": 205,
    "start_time": "2024-04-08T08:55:47.478Z"
   },
   {
    "duration": 71,
    "start_time": "2024-04-08T08:56:01.972Z"
   },
   {
    "duration": 71,
    "start_time": "2024-04-08T08:56:40.476Z"
   },
   {
    "duration": 66,
    "start_time": "2024-04-08T08:58:25.186Z"
   },
   {
    "duration": 99,
    "start_time": "2024-04-08T09:00:09.677Z"
   },
   {
    "duration": 82,
    "start_time": "2024-04-08T09:54:43.685Z"
   },
   {
    "duration": 8,
    "start_time": "2024-04-08T10:00:03.540Z"
   },
   {
    "duration": 7,
    "start_time": "2024-04-08T10:00:19.544Z"
   },
   {
    "duration": 71,
    "start_time": "2024-04-08T10:02:36.127Z"
   },
   {
    "duration": 23,
    "start_time": "2024-04-08T10:06:32.938Z"
   },
   {
    "duration": 20,
    "start_time": "2024-04-08T10:09:05.877Z"
   },
   {
    "duration": 15,
    "start_time": "2024-04-08T10:09:15.014Z"
   },
   {
    "duration": 4,
    "start_time": "2024-04-08T10:09:21.813Z"
   },
   {
    "duration": 5,
    "start_time": "2024-04-08T10:09:41.408Z"
   },
   {
    "duration": 50,
    "start_time": "2024-04-08T10:26:10.619Z"
   },
   {
    "duration": 8,
    "start_time": "2024-04-08T10:26:22.817Z"
   },
   {
    "duration": 325,
    "start_time": "2024-04-08T10:27:33.886Z"
   },
   {
    "duration": 12,
    "start_time": "2024-04-08T10:31:45.089Z"
   },
   {
    "duration": 10,
    "start_time": "2024-04-08T10:31:59.949Z"
   },
   {
    "duration": 89,
    "start_time": "2024-04-08T10:33:00.960Z"
   },
   {
    "duration": 76,
    "start_time": "2024-04-08T10:36:15.844Z"
   },
   {
    "duration": 49,
    "start_time": "2024-04-08T19:56:46.289Z"
   },
   {
    "duration": 399,
    "start_time": "2024-04-08T19:56:52.693Z"
   },
   {
    "duration": 220,
    "start_time": "2024-04-08T19:56:53.094Z"
   },
   {
    "duration": 5,
    "start_time": "2024-04-08T19:56:53.315Z"
   },
   {
    "duration": 32,
    "start_time": "2024-04-08T19:56:55.517Z"
   },
   {
    "duration": 3,
    "start_time": "2024-04-08T20:46:10.494Z"
   },
   {
    "duration": 94,
    "start_time": "2024-04-08T20:46:10.499Z"
   },
   {
    "duration": 4,
    "start_time": "2024-04-08T20:46:10.594Z"
   },
   {
    "duration": 7,
    "start_time": "2024-04-08T20:46:12.035Z"
   },
   {
    "duration": 7,
    "start_time": "2024-04-08T20:46:40.684Z"
   },
   {
    "duration": 7,
    "start_time": "2024-04-08T20:47:05.028Z"
   },
   {
    "duration": 7,
    "start_time": "2024-04-08T20:47:24.268Z"
   },
   {
    "duration": 7,
    "start_time": "2024-04-08T20:47:38.133Z"
   },
   {
    "duration": 6,
    "start_time": "2024-04-08T20:47:49.125Z"
   },
   {
    "duration": 92,
    "start_time": "2024-04-08T20:48:42.502Z"
   },
   {
    "duration": 70,
    "start_time": "2024-04-08T20:48:55.248Z"
   },
   {
    "duration": 1264,
    "start_time": "2024-04-08T22:07:48.214Z"
   },
   {
    "duration": 1317,
    "start_time": "2024-04-08T22:08:19.111Z"
   },
   {
    "duration": 1251,
    "start_time": "2024-04-08T22:08:38.607Z"
   },
   {
    "duration": 1252,
    "start_time": "2024-04-08T22:11:37.354Z"
   },
   {
    "duration": 1212,
    "start_time": "2024-04-08T22:11:55.338Z"
   },
   {
    "duration": 5,
    "start_time": "2024-04-08T22:12:10.882Z"
   },
   {
    "duration": 3,
    "start_time": "2024-04-08T22:12:27.884Z"
   },
   {
    "duration": 77,
    "start_time": "2024-04-08T22:12:27.888Z"
   },
   {
    "duration": 8,
    "start_time": "2024-04-08T22:12:27.967Z"
   },
   {
    "duration": 6,
    "start_time": "2024-04-08T22:12:30.980Z"
   },
   {
    "duration": 58,
    "start_time": "2024-04-08T22:12:41.796Z"
   },
   {
    "duration": 21,
    "start_time": "2024-04-08T22:12:48.611Z"
   },
   {
    "duration": 14,
    "start_time": "2024-04-08T22:13:23.739Z"
   },
   {
    "duration": 11,
    "start_time": "2024-04-08T22:13:39.340Z"
   },
   {
    "duration": 45,
    "start_time": "2024-04-08T22:14:34.716Z"
   },
   {
    "duration": 408,
    "start_time": "2024-04-08T22:14:38.858Z"
   },
   {
    "duration": 83,
    "start_time": "2024-04-08T22:14:39.268Z"
   },
   {
    "duration": 5,
    "start_time": "2024-04-08T22:14:39.352Z"
   },
   {
    "duration": 29,
    "start_time": "2024-04-08T22:14:39.358Z"
   },
   {
    "duration": 4,
    "start_time": "2024-04-08T22:14:41.187Z"
   },
   {
    "duration": 14,
    "start_time": "2024-04-08T22:14:49.012Z"
   },
   {
    "duration": 14,
    "start_time": "2024-04-08T22:15:02.180Z"
   },
   {
    "duration": 20,
    "start_time": "2024-04-08T22:15:17.468Z"
   },
   {
    "duration": 398,
    "start_time": "2024-04-08T22:16:07.387Z"
   },
   {
    "duration": 79,
    "start_time": "2024-04-08T22:16:07.787Z"
   },
   {
    "duration": 5,
    "start_time": "2024-04-08T22:16:07.868Z"
   },
   {
    "duration": 16,
    "start_time": "2024-04-08T22:16:09.389Z"
   },
   {
    "duration": 15,
    "start_time": "2024-04-08T22:18:12.560Z"
   },
   {
    "duration": 13,
    "start_time": "2024-04-08T22:18:31.048Z"
   },
   {
    "duration": 15,
    "start_time": "2024-04-08T22:19:41.257Z"
   },
   {
    "duration": 25,
    "start_time": "2024-04-08T22:19:57.154Z"
   },
   {
    "duration": 24,
    "start_time": "2024-04-08T22:21:18.628Z"
   },
   {
    "duration": 405,
    "start_time": "2024-04-08T22:21:34.137Z"
   },
   {
    "duration": 79,
    "start_time": "2024-04-08T22:21:34.544Z"
   },
   {
    "duration": 4,
    "start_time": "2024-04-08T22:21:34.624Z"
   },
   {
    "duration": 23,
    "start_time": "2024-04-08T22:21:36.436Z"
   },
   {
    "duration": 22,
    "start_time": "2024-04-08T22:21:45.181Z"
   },
   {
    "duration": 408,
    "start_time": "2024-04-08T22:21:54.265Z"
   },
   {
    "duration": 81,
    "start_time": "2024-04-08T22:21:54.674Z"
   },
   {
    "duration": 4,
    "start_time": "2024-04-08T22:21:54.756Z"
   },
   {
    "duration": 25,
    "start_time": "2024-04-08T22:21:56.948Z"
   },
   {
    "duration": 67,
    "start_time": "2024-04-08T22:22:06.173Z"
   },
   {
    "duration": 33,
    "start_time": "2024-04-08T22:22:14.133Z"
   },
   {
    "duration": 18,
    "start_time": "2024-04-08T22:22:38.373Z"
   },
   {
    "duration": 22,
    "start_time": "2024-04-08T22:36:25.671Z"
   },
   {
    "duration": 4,
    "start_time": "2024-04-08T22:36:38.024Z"
   },
   {
    "duration": 20,
    "start_time": "2024-04-08T22:36:49.159Z"
   },
   {
    "duration": 10,
    "start_time": "2024-04-08T22:37:08.120Z"
   },
   {
    "duration": 15,
    "start_time": "2024-04-08T22:37:17.776Z"
   },
   {
    "duration": 16,
    "start_time": "2024-04-08T22:44:31.409Z"
   },
   {
    "duration": 6,
    "start_time": "2024-04-08T22:54:24.428Z"
   },
   {
    "duration": 7,
    "start_time": "2024-04-08T23:01:11.954Z"
   },
   {
    "duration": 8,
    "start_time": "2024-04-08T23:01:25.834Z"
   },
   {
    "duration": 6,
    "start_time": "2024-04-08T23:01:29.658Z"
   },
   {
    "duration": 17,
    "start_time": "2024-04-08T23:02:27.427Z"
   },
   {
    "duration": 182,
    "start_time": "2024-04-08T23:02:53.276Z"
   },
   {
    "duration": 92,
    "start_time": "2024-04-08T23:03:02.780Z"
   },
   {
    "duration": 7,
    "start_time": "2024-04-08T23:03:17.844Z"
   },
   {
    "duration": 6,
    "start_time": "2024-04-08T23:03:23.397Z"
   },
   {
    "duration": 7,
    "start_time": "2024-04-08T23:04:32.317Z"
   },
   {
    "duration": 2,
    "start_time": "2024-04-08T23:04:53.237Z"
   },
   {
    "duration": 7,
    "start_time": "2024-04-08T23:04:56.374Z"
   },
   {
    "duration": 404,
    "start_time": "2024-04-08T23:05:15.035Z"
   },
   {
    "duration": 78,
    "start_time": "2024-04-08T23:05:15.442Z"
   },
   {
    "duration": 4,
    "start_time": "2024-04-08T23:05:15.522Z"
   },
   {
    "duration": 36,
    "start_time": "2024-04-08T23:05:15.527Z"
   },
   {
    "duration": 4,
    "start_time": "2024-04-08T23:05:17.543Z"
   },
   {
    "duration": 389,
    "start_time": "2024-04-08T23:05:44.568Z"
   },
   {
    "duration": 93,
    "start_time": "2024-04-08T23:05:46.407Z"
   },
   {
    "duration": 75,
    "start_time": "2024-04-08T23:05:54.887Z"
   },
   {
    "duration": 91,
    "start_time": "2024-04-08T23:06:01.128Z"
   },
   {
    "duration": 72,
    "start_time": "2024-04-08T23:06:30.241Z"
   },
   {
    "duration": 92,
    "start_time": "2024-04-08T23:06:35.234Z"
   },
   {
    "duration": 75,
    "start_time": "2024-04-08T23:06:51.681Z"
   },
   {
    "duration": 371,
    "start_time": "2024-04-08T23:07:09.912Z"
   },
   {
    "duration": 83,
    "start_time": "2024-04-08T23:07:10.284Z"
   },
   {
    "duration": 5,
    "start_time": "2024-04-08T23:07:10.369Z"
   },
   {
    "duration": 20,
    "start_time": "2024-04-08T23:07:10.375Z"
   },
   {
    "duration": 3,
    "start_time": "2024-04-08T23:07:12.272Z"
   },
   {
    "duration": 29,
    "start_time": "2024-04-08T23:08:06.041Z"
   },
   {
    "duration": 3,
    "start_time": "2024-04-08T23:08:19.475Z"
   },
   {
    "duration": 10,
    "start_time": "2024-04-08T23:16:44.821Z"
   },
   {
    "duration": 17,
    "start_time": "2024-04-08T23:16:49.251Z"
   },
   {
    "duration": 9,
    "start_time": "2024-04-08T23:16:54.411Z"
   },
   {
    "duration": 370,
    "start_time": "2024-04-08T23:20:17.708Z"
   },
   {
    "duration": 83,
    "start_time": "2024-04-08T23:20:18.080Z"
   },
   {
    "duration": 5,
    "start_time": "2024-04-08T23:20:18.164Z"
   },
   {
    "duration": 20,
    "start_time": "2024-04-08T23:20:21.223Z"
   },
   {
    "duration": 71,
    "start_time": "2024-04-08T23:20:30.352Z"
   },
   {
    "duration": 33,
    "start_time": "2024-04-08T23:21:58.994Z"
   },
   {
    "duration": 381,
    "start_time": "2024-04-08T23:22:15.807Z"
   },
   {
    "duration": 85,
    "start_time": "2024-04-08T23:22:16.190Z"
   },
   {
    "duration": 4,
    "start_time": "2024-04-08T23:22:16.276Z"
   },
   {
    "duration": 35,
    "start_time": "2024-04-08T23:22:17.978Z"
   },
   {
    "duration": 16,
    "start_time": "2024-04-08T23:22:42.410Z"
   },
   {
    "duration": 11,
    "start_time": "2024-04-09T00:16:35.449Z"
   },
   {
    "duration": 75,
    "start_time": "2024-04-09T00:28:29.766Z"
   },
   {
    "duration": 74,
    "start_time": "2024-04-09T00:28:36.422Z"
   },
   {
    "duration": 92,
    "start_time": "2024-04-09T00:43:40.542Z"
   },
   {
    "duration": 71,
    "start_time": "2024-04-09T00:43:57.175Z"
   },
   {
    "duration": 1513,
    "start_time": "2024-04-09T00:54:29.642Z"
   },
   {
    "duration": 381,
    "start_time": "2024-04-09T00:54:45.103Z"
   },
   {
    "duration": 80,
    "start_time": "2024-04-09T00:54:45.486Z"
   },
   {
    "duration": 4,
    "start_time": "2024-04-09T00:54:45.568Z"
   },
   {
    "duration": 27,
    "start_time": "2024-04-09T00:54:45.573Z"
   },
   {
    "duration": 9,
    "start_time": "2024-04-09T00:54:45.602Z"
   },
   {
    "duration": 3,
    "start_time": "2024-04-09T00:54:48.249Z"
   },
   {
    "duration": 6,
    "start_time": "2024-04-09T00:59:22.502Z"
   },
   {
    "duration": 16,
    "start_time": "2024-04-09T00:59:32.734Z"
   },
   {
    "duration": 18,
    "start_time": "2024-04-09T01:19:37.629Z"
   },
   {
    "duration": 14,
    "start_time": "2024-04-09T01:19:42.669Z"
   },
   {
    "duration": 42,
    "start_time": "2024-04-10T08:30:04.317Z"
   },
   {
    "duration": 1125,
    "start_time": "2024-04-10T08:30:08.748Z"
   },
   {
    "duration": 119,
    "start_time": "2024-04-10T08:30:09.875Z"
   },
   {
    "duration": 3,
    "start_time": "2024-04-10T08:30:09.996Z"
   },
   {
    "duration": 51,
    "start_time": "2024-04-10T08:30:10.001Z"
   },
   {
    "duration": 18,
    "start_time": "2024-04-10T08:30:10.054Z"
   },
   {
    "duration": 21,
    "start_time": "2024-04-10T08:30:10.073Z"
   },
   {
    "duration": 30,
    "start_time": "2024-04-10T08:30:10.096Z"
   },
   {
    "duration": 35,
    "start_time": "2024-04-10T08:30:10.127Z"
   },
   {
    "duration": 109,
    "start_time": "2024-04-10T08:30:12.871Z"
   },
   {
    "duration": 8,
    "start_time": "2024-04-10T08:47:41.418Z"
   },
   {
    "duration": 6,
    "start_time": "2024-04-10T08:50:41.274Z"
   },
   {
    "duration": 4,
    "start_time": "2024-04-10T08:50:48.667Z"
   },
   {
    "duration": 321,
    "start_time": "2024-04-10T08:54:52.075Z"
   },
   {
    "duration": 184,
    "start_time": "2024-04-10T08:55:21.223Z"
   },
   {
    "duration": 150,
    "start_time": "2024-04-10T08:56:17.664Z"
   },
   {
    "duration": 187,
    "start_time": "2024-04-10T09:02:09.424Z"
   },
   {
    "duration": 165,
    "start_time": "2024-04-10T09:02:34.126Z"
   },
   {
    "duration": 6,
    "start_time": "2024-04-10T09:03:12.440Z"
   },
   {
    "duration": 4,
    "start_time": "2024-04-10T09:03:22.910Z"
   },
   {
    "duration": 5,
    "start_time": "2024-04-10T09:03:33.038Z"
   },
   {
    "duration": 221,
    "start_time": "2024-04-10T09:04:05.296Z"
   },
   {
    "duration": 192,
    "start_time": "2024-04-10T09:04:27.415Z"
   },
   {
    "duration": 166,
    "start_time": "2024-04-10T09:05:01.347Z"
   },
   {
    "duration": 48,
    "start_time": "2024-04-10T10:57:32.802Z"
   },
   {
    "duration": 1349,
    "start_time": "2024-04-10T10:57:37.344Z"
   },
   {
    "duration": 131,
    "start_time": "2024-04-10T10:57:38.695Z"
   },
   {
    "duration": 5,
    "start_time": "2024-04-10T10:57:38.827Z"
   },
   {
    "duration": 49,
    "start_time": "2024-04-10T10:57:38.834Z"
   },
   {
    "duration": 8,
    "start_time": "2024-04-10T10:57:38.885Z"
   },
   {
    "duration": 9,
    "start_time": "2024-04-10T10:57:38.895Z"
   },
   {
    "duration": 37,
    "start_time": "2024-04-10T10:57:38.905Z"
   },
   {
    "duration": 22,
    "start_time": "2024-04-10T10:57:38.944Z"
   },
   {
    "duration": 142,
    "start_time": "2024-04-10T10:57:38.968Z"
   },
   {
    "duration": 233,
    "start_time": "2024-04-10T10:57:39.112Z"
   },
   {
    "duration": 402,
    "start_time": "2024-04-10T10:58:01.705Z"
   },
   {
    "duration": 230,
    "start_time": "2024-04-10T10:58:19.772Z"
   },
   {
    "duration": 200,
    "start_time": "2024-04-10T10:58:37.899Z"
   },
   {
    "duration": 5,
    "start_time": "2024-04-10T11:02:07.255Z"
   },
   {
    "duration": 5,
    "start_time": "2024-04-10T11:04:25.074Z"
   },
   {
    "duration": 4,
    "start_time": "2024-04-10T11:04:57.631Z"
   },
   {
    "duration": 368,
    "start_time": "2024-04-10T11:05:43.526Z"
   },
   {
    "duration": 576,
    "start_time": "2024-04-10T11:05:54.555Z"
   },
   {
    "duration": 232,
    "start_time": "2024-04-10T11:06:12.057Z"
   },
   {
    "duration": 65,
    "start_time": "2024-04-10T11:10:24.203Z"
   },
   {
    "duration": 5,
    "start_time": "2024-04-10T11:10:50.604Z"
   },
   {
    "duration": 14,
    "start_time": "2024-04-10T11:10:55.698Z"
   },
   {
    "duration": 12,
    "start_time": "2024-04-10T11:11:22.678Z"
   },
   {
    "duration": 249,
    "start_time": "2024-04-10T11:12:19.697Z"
   },
   {
    "duration": 14,
    "start_time": "2024-04-10T11:12:46.637Z"
   },
   {
    "duration": 6,
    "start_time": "2024-04-10T11:13:14.185Z"
   },
   {
    "duration": 15,
    "start_time": "2024-04-10T11:24:00.232Z"
   },
   {
    "duration": 23,
    "start_time": "2024-04-10T11:30:18.809Z"
   },
   {
    "duration": 22,
    "start_time": "2024-04-10T11:30:26.777Z"
   },
   {
    "duration": 240,
    "start_time": "2024-04-10T11:35:46.717Z"
   },
   {
    "duration": 233,
    "start_time": "2024-04-10T11:37:30.751Z"
   },
   {
    "duration": 237,
    "start_time": "2024-04-10T11:38:46.163Z"
   },
   {
    "duration": 236,
    "start_time": "2024-04-10T11:38:52.696Z"
   },
   {
    "duration": 208,
    "start_time": "2024-04-10T11:39:14.610Z"
   },
   {
    "duration": 316,
    "start_time": "2024-04-10T11:39:42.443Z"
   },
   {
    "duration": 379,
    "start_time": "2024-04-10T11:40:29.325Z"
   },
   {
    "duration": 252,
    "start_time": "2024-04-10T11:40:35.185Z"
   },
   {
    "duration": 198,
    "start_time": "2024-04-10T11:41:38.692Z"
   },
   {
    "duration": 246,
    "start_time": "2024-04-10T11:41:47.214Z"
   },
   {
    "duration": 402,
    "start_time": "2024-04-10T11:42:10.061Z"
   },
   {
    "duration": 321,
    "start_time": "2024-04-10T11:43:57.623Z"
   },
   {
    "duration": 334,
    "start_time": "2024-04-10T11:44:23.654Z"
   },
   {
    "duration": 230,
    "start_time": "2024-04-10T11:44:29.354Z"
   },
   {
    "duration": 415,
    "start_time": "2024-04-10T11:44:36.447Z"
   },
   {
    "duration": 1178,
    "start_time": "2024-04-10T11:44:50.560Z"
   },
   {
    "duration": 81,
    "start_time": "2024-04-10T11:44:51.740Z"
   },
   {
    "duration": 4,
    "start_time": "2024-04-10T11:44:51.823Z"
   },
   {
    "duration": 67,
    "start_time": "2024-04-10T11:44:51.830Z"
   },
   {
    "duration": 14,
    "start_time": "2024-04-10T11:44:51.899Z"
   },
   {
    "duration": 7,
    "start_time": "2024-04-10T11:44:51.914Z"
   },
   {
    "duration": 41,
    "start_time": "2024-04-10T11:44:51.923Z"
   },
   {
    "duration": 16,
    "start_time": "2024-04-10T11:44:51.966Z"
   },
   {
    "duration": 148,
    "start_time": "2024-04-10T11:44:51.984Z"
   },
   {
    "duration": 219,
    "start_time": "2024-04-10T11:44:52.134Z"
   },
   {
    "duration": 197,
    "start_time": "2024-04-10T11:45:04.295Z"
   },
   {
    "duration": 232,
    "start_time": "2024-04-10T11:45:10.125Z"
   },
   {
    "duration": 322,
    "start_time": "2024-04-10T11:45:14.318Z"
   },
   {
    "duration": 260,
    "start_time": "2024-04-10T11:45:30.693Z"
   },
   {
    "duration": 338,
    "start_time": "2024-04-10T11:45:57.009Z"
   },
   {
    "duration": 379,
    "start_time": "2024-04-10T11:46:02.213Z"
   },
   {
    "duration": 232,
    "start_time": "2024-04-10T11:52:33.422Z"
   },
   {
    "duration": 262,
    "start_time": "2024-04-10T11:52:48.975Z"
   },
   {
    "duration": 203,
    "start_time": "2024-04-10T11:53:01.794Z"
   },
   {
    "duration": 188,
    "start_time": "2024-04-10T11:53:13.282Z"
   },
   {
    "duration": 202,
    "start_time": "2024-04-10T11:53:21.797Z"
   },
   {
    "duration": 213,
    "start_time": "2024-04-10T11:53:50.481Z"
   },
   {
    "duration": 329,
    "start_time": "2024-04-10T12:01:12.765Z"
   },
   {
    "duration": 210,
    "start_time": "2024-04-10T12:01:23.842Z"
   },
   {
    "duration": 206,
    "start_time": "2024-04-10T12:02:15.033Z"
   },
   {
    "duration": 220,
    "start_time": "2024-04-10T12:02:23.532Z"
   },
   {
    "duration": 555,
    "start_time": "2024-04-10T12:23:39.511Z"
   },
   {
    "duration": 484,
    "start_time": "2024-04-10T12:27:52.363Z"
   },
   {
    "duration": 505,
    "start_time": "2024-04-10T12:28:01.507Z"
   },
   {
    "duration": 300,
    "start_time": "2024-04-10T12:28:47.440Z"
   },
   {
    "duration": 205,
    "start_time": "2024-04-10T12:30:06.769Z"
   },
   {
    "duration": 232,
    "start_time": "2024-04-10T12:31:58.042Z"
   },
   {
    "duration": 240,
    "start_time": "2024-04-10T12:33:00.773Z"
   },
   {
    "duration": 461,
    "start_time": "2024-04-10T12:34:12.772Z"
   },
   {
    "duration": 363,
    "start_time": "2024-04-10T14:29:59.796Z"
   },
   {
    "duration": 241,
    "start_time": "2024-04-10T14:30:16.832Z"
   },
   {
    "duration": 272,
    "start_time": "2024-04-10T14:31:28.473Z"
   },
   {
    "duration": 269,
    "start_time": "2024-04-10T14:34:29.781Z"
   },
   {
    "duration": 239,
    "start_time": "2024-04-10T14:34:58.162Z"
   },
   {
    "duration": 222,
    "start_time": "2024-04-10T15:04:21.261Z"
   },
   {
    "duration": 303,
    "start_time": "2024-04-10T15:06:00.754Z"
   },
   {
    "duration": 222,
    "start_time": "2024-04-10T15:06:12.977Z"
   },
   {
    "duration": 221,
    "start_time": "2024-04-10T15:09:14.148Z"
   },
   {
    "duration": 214,
    "start_time": "2024-04-10T15:14:08.815Z"
   },
   {
    "duration": 235,
    "start_time": "2024-04-10T15:15:05.054Z"
   },
   {
    "duration": 238,
    "start_time": "2024-04-10T15:15:48.920Z"
   },
   {
    "duration": 12,
    "start_time": "2024-04-10T15:22:15.835Z"
   },
   {
    "duration": 6,
    "start_time": "2024-04-10T15:22:43.532Z"
   },
   {
    "duration": 8,
    "start_time": "2024-04-10T15:22:50.192Z"
   },
   {
    "duration": 112,
    "start_time": "2024-04-10T15:23:46.690Z"
   },
   {
    "duration": 134,
    "start_time": "2024-04-10T15:24:01.395Z"
   },
   {
    "duration": 11,
    "start_time": "2024-04-10T15:24:08.205Z"
   },
   {
    "duration": 89,
    "start_time": "2024-04-10T15:25:28.792Z"
   },
   {
    "duration": 15,
    "start_time": "2024-04-10T15:26:40.846Z"
   },
   {
    "duration": 187,
    "start_time": "2024-04-10T15:27:53.938Z"
   },
   {
    "duration": 172,
    "start_time": "2024-04-10T15:28:04.957Z"
   },
   {
    "duration": 186,
    "start_time": "2024-04-10T15:29:27.744Z"
   },
   {
    "duration": 350,
    "start_time": "2024-04-10T15:30:41.612Z"
   },
   {
    "duration": 231,
    "start_time": "2024-04-10T15:30:56.194Z"
   },
   {
    "duration": 261,
    "start_time": "2024-04-10T15:31:18.503Z"
   },
   {
    "duration": 231,
    "start_time": "2024-04-10T15:31:28.091Z"
   },
   {
    "duration": 138,
    "start_time": "2024-04-10T15:31:41.798Z"
   },
   {
    "duration": 200,
    "start_time": "2024-04-10T15:32:00.613Z"
   },
   {
    "duration": 192,
    "start_time": "2024-04-10T15:32:22.197Z"
   },
   {
    "duration": 1367,
    "start_time": "2024-04-11T14:47:06.855Z"
   },
   {
    "duration": 230,
    "start_time": "2024-04-11T14:47:08.224Z"
   },
   {
    "duration": 5,
    "start_time": "2024-04-11T14:47:08.455Z"
   },
   {
    "duration": 42,
    "start_time": "2024-04-11T14:47:08.461Z"
   },
   {
    "duration": 10,
    "start_time": "2024-04-11T14:47:08.505Z"
   },
   {
    "duration": 13,
    "start_time": "2024-04-11T14:47:08.516Z"
   },
   {
    "duration": 27,
    "start_time": "2024-04-11T14:47:08.531Z"
   },
   {
    "duration": 21,
    "start_time": "2024-04-11T14:47:08.560Z"
   },
   {
    "duration": 166,
    "start_time": "2024-04-11T14:47:08.582Z"
   },
   {
    "duration": 273,
    "start_time": "2024-04-11T14:47:08.749Z"
   },
   {
    "duration": 224,
    "start_time": "2024-04-11T14:47:09.024Z"
   },
   {
    "duration": 262,
    "start_time": "2024-04-11T14:47:09.249Z"
   },
   {
    "duration": 234,
    "start_time": "2024-04-11T14:47:09.513Z"
   },
   {
    "duration": 233,
    "start_time": "2024-04-11T14:47:09.749Z"
   },
   {
    "duration": 226,
    "start_time": "2024-04-11T14:47:09.983Z"
   },
   {
    "duration": 203,
    "start_time": "2024-04-11T14:47:10.210Z"
   },
   {
    "duration": 196,
    "start_time": "2024-04-11T14:47:10.415Z"
   },
   {
    "duration": 212,
    "start_time": "2024-04-11T14:47:39.526Z"
   },
   {
    "duration": 7,
    "start_time": "2024-04-11T14:49:28.131Z"
   },
   {
    "duration": 7,
    "start_time": "2024-04-11T14:50:10.636Z"
   },
   {
    "duration": 4,
    "start_time": "2024-04-11T14:50:17.861Z"
   },
   {
    "duration": 586,
    "start_time": "2024-04-11T14:55:45.104Z"
   },
   {
    "duration": 537,
    "start_time": "2024-04-11T14:55:56.985Z"
   },
   {
    "duration": 517,
    "start_time": "2024-04-11T14:56:59.186Z"
   },
   {
    "duration": 468,
    "start_time": "2024-04-11T14:58:25.224Z"
   },
   {
    "duration": 573,
    "start_time": "2024-04-11T14:58:30.143Z"
   },
   {
    "duration": 520,
    "start_time": "2024-04-11T14:58:38.174Z"
   },
   {
    "duration": 494,
    "start_time": "2024-04-11T14:58:52.319Z"
   },
   {
    "duration": 525,
    "start_time": "2024-04-11T14:58:58.519Z"
   },
   {
    "duration": 527,
    "start_time": "2024-04-11T14:59:04.103Z"
   },
   {
    "duration": 562,
    "start_time": "2024-04-11T14:59:10.040Z"
   },
   {
    "duration": 466,
    "start_time": "2024-04-11T14:59:16.240Z"
   },
   {
    "duration": 524,
    "start_time": "2024-04-11T14:59:20.655Z"
   },
   {
    "duration": 523,
    "start_time": "2024-04-11T15:00:13.217Z"
   },
   {
    "duration": 317,
    "start_time": "2024-04-11T15:00:37.465Z"
   },
   {
    "duration": 501,
    "start_time": "2024-04-11T15:00:45.121Z"
   },
   {
    "duration": 480,
    "start_time": "2024-04-11T15:02:27.781Z"
   },
   {
    "duration": 523,
    "start_time": "2024-04-11T15:02:40.508Z"
   },
   {
    "duration": 321,
    "start_time": "2024-04-11T15:04:42.614Z"
   },
   {
    "duration": 335,
    "start_time": "2024-04-11T15:08:22.475Z"
   },
   {
    "duration": 337,
    "start_time": "2024-04-11T15:09:40.956Z"
   },
   {
    "duration": 333,
    "start_time": "2024-04-11T15:13:14.728Z"
   },
   {
    "duration": 408,
    "start_time": "2024-04-11T15:15:12.203Z"
   },
   {
    "duration": 9,
    "start_time": "2024-04-11T18:13:20.797Z"
   },
   {
    "duration": 7,
    "start_time": "2024-04-11T18:13:29.604Z"
   },
   {
    "duration": 90,
    "start_time": "2024-04-11T18:13:40.716Z"
   },
   {
    "duration": 16,
    "start_time": "2024-04-11T18:13:53.372Z"
   },
   {
    "duration": 8,
    "start_time": "2024-04-11T18:15:15.702Z"
   },
   {
    "duration": 7,
    "start_time": "2024-04-11T18:15:45.087Z"
   },
   {
    "duration": 8,
    "start_time": "2024-04-11T18:15:52.550Z"
   },
   {
    "duration": 8,
    "start_time": "2024-04-11T18:17:48.465Z"
   },
   {
    "duration": 8,
    "start_time": "2024-04-11T18:31:26.128Z"
   },
   {
    "duration": 115,
    "start_time": "2024-04-11T18:32:01.378Z"
   },
   {
    "duration": 9,
    "start_time": "2024-04-11T18:32:22.945Z"
   },
   {
    "duration": 9,
    "start_time": "2024-04-11T18:32:32.186Z"
   },
   {
    "duration": 7,
    "start_time": "2024-04-11T18:32:44.258Z"
   },
   {
    "duration": 1195,
    "start_time": "2024-04-11T19:56:12.075Z"
   },
   {
    "duration": 97,
    "start_time": "2024-04-11T19:56:13.272Z"
   },
   {
    "duration": 5,
    "start_time": "2024-04-11T19:56:13.371Z"
   },
   {
    "duration": 37,
    "start_time": "2024-04-11T19:56:13.377Z"
   },
   {
    "duration": 10,
    "start_time": "2024-04-11T19:56:13.415Z"
   },
   {
    "duration": 3,
    "start_time": "2024-04-11T19:56:13.427Z"
   },
   {
    "duration": 30,
    "start_time": "2024-04-11T19:56:13.432Z"
   },
   {
    "duration": 20,
    "start_time": "2024-04-11T19:56:13.463Z"
   },
   {
    "duration": 176,
    "start_time": "2024-04-11T19:56:13.484Z"
   },
   {
    "duration": 239,
    "start_time": "2024-04-11T19:56:13.662Z"
   },
   {
    "duration": 222,
    "start_time": "2024-04-11T19:56:13.902Z"
   },
   {
    "duration": 256,
    "start_time": "2024-04-11T19:56:14.125Z"
   },
   {
    "duration": 237,
    "start_time": "2024-04-11T19:56:14.383Z"
   },
   {
    "duration": 238,
    "start_time": "2024-04-11T19:56:14.623Z"
   },
   {
    "duration": 221,
    "start_time": "2024-04-11T19:56:14.863Z"
   },
   {
    "duration": 288,
    "start_time": "2024-04-11T19:56:15.085Z"
   },
   {
    "duration": 204,
    "start_time": "2024-04-11T19:56:15.374Z"
   },
   {
    "duration": 354,
    "start_time": "2024-04-11T19:56:15.580Z"
   },
   {
    "duration": 339,
    "start_time": "2024-04-11T19:56:15.936Z"
   },
   {
    "duration": 331,
    "start_time": "2024-04-11T19:56:16.277Z"
   },
   {
    "duration": 8,
    "start_time": "2024-04-11T19:56:16.609Z"
   },
   {
    "duration": 10,
    "start_time": "2024-04-11T19:56:16.619Z"
   },
   {
    "duration": 81,
    "start_time": "2024-04-11T22:01:46.633Z"
   },
   {
    "duration": 25,
    "start_time": "2024-04-11T22:05:52.822Z"
   },
   {
    "duration": 8,
    "start_time": "2024-04-11T22:11:41.974Z"
   },
   {
    "duration": 1280,
    "start_time": "2024-04-12T11:04:35.031Z"
   },
   {
    "duration": 222,
    "start_time": "2024-04-12T11:04:36.313Z"
   },
   {
    "duration": 5,
    "start_time": "2024-04-12T11:04:36.536Z"
   },
   {
    "duration": 27,
    "start_time": "2024-04-12T11:04:36.542Z"
   },
   {
    "duration": 7,
    "start_time": "2024-04-12T11:04:36.571Z"
   },
   {
    "duration": 4,
    "start_time": "2024-04-12T11:04:36.579Z"
   },
   {
    "duration": 16,
    "start_time": "2024-04-12T11:04:38.586Z"
   },
   {
    "duration": 3,
    "start_time": "2024-04-12T11:05:26.944Z"
   },
   {
    "duration": 92,
    "start_time": "2024-04-12T11:05:26.949Z"
   },
   {
    "duration": 4,
    "start_time": "2024-04-12T11:05:27.043Z"
   },
   {
    "duration": 33,
    "start_time": "2024-04-12T11:05:27.049Z"
   },
   {
    "duration": 19,
    "start_time": "2024-04-12T11:05:27.084Z"
   },
   {
    "duration": 55,
    "start_time": "2024-04-12T11:05:27.105Z"
   },
   {
    "duration": 47,
    "start_time": "2024-04-12T11:05:27.162Z"
   },
   {
    "duration": 16,
    "start_time": "2024-04-12T11:05:27.211Z"
   },
   {
    "duration": 76,
    "start_time": "2024-04-12T11:05:31.035Z"
   },
   {
    "duration": 4,
    "start_time": "2024-04-12T13:19:47.686Z"
   },
   {
    "duration": 18,
    "start_time": "2024-04-12T13:37:56.720Z"
   },
   {
    "duration": 108,
    "start_time": "2024-04-12T13:40:51.034Z"
   },
   {
    "duration": 20,
    "start_time": "2024-04-12T13:41:06.266Z"
   },
   {
    "duration": 27,
    "start_time": "2024-04-12T13:41:18.675Z"
   },
   {
    "duration": 10,
    "start_time": "2024-04-12T13:41:23.595Z"
   },
   {
    "duration": 78,
    "start_time": "2024-04-12T16:32:28.147Z"
   },
   {
    "duration": 11,
    "start_time": "2024-04-12T16:34:30.788Z"
   },
   {
    "duration": 16,
    "start_time": "2024-04-12T16:34:34.755Z"
   },
   {
    "duration": 13,
    "start_time": "2024-04-12T16:34:41.924Z"
   },
   {
    "duration": 50,
    "start_time": "2024-04-12T16:36:34.860Z"
   },
   {
    "duration": 1134,
    "start_time": "2024-04-12T16:36:39.179Z"
   },
   {
    "duration": 80,
    "start_time": "2024-04-12T16:36:40.315Z"
   },
   {
    "duration": 4,
    "start_time": "2024-04-12T16:36:40.397Z"
   },
   {
    "duration": 20,
    "start_time": "2024-04-12T16:36:40.403Z"
   },
   {
    "duration": 9,
    "start_time": "2024-04-12T16:36:40.425Z"
   },
   {
    "duration": 2,
    "start_time": "2024-04-12T16:36:40.435Z"
   },
   {
    "duration": 18,
    "start_time": "2024-04-12T16:36:40.439Z"
   },
   {
    "duration": 15,
    "start_time": "2024-04-12T16:36:40.459Z"
   },
   {
    "duration": 37,
    "start_time": "2024-04-12T16:36:40.475Z"
   },
   {
    "duration": 24,
    "start_time": "2024-04-12T16:36:42.588Z"
   },
   {
    "duration": 15,
    "start_time": "2024-04-12T16:36:48.940Z"
   },
   {
    "duration": 73,
    "start_time": "2024-04-12T16:36:52.532Z"
   },
   {
    "duration": 18,
    "start_time": "2024-04-12T16:39:20.026Z"
   },
   {
    "duration": 72,
    "start_time": "2024-04-12T16:39:22.806Z"
   },
   {
    "duration": 155,
    "start_time": "2024-04-12T16:40:56.302Z"
   },
   {
    "duration": 225,
    "start_time": "2024-04-12T16:45:32.834Z"
   },
   {
    "duration": 8,
    "start_time": "2024-04-12T16:54:16.275Z"
   },
   {
    "duration": 207,
    "start_time": "2024-04-12T16:54:19.210Z"
   },
   {
    "duration": 23,
    "start_time": "2024-04-12T17:01:11.953Z"
   },
   {
    "duration": 23,
    "start_time": "2024-04-12T17:04:20.244Z"
   },
   {
    "duration": 62,
    "start_time": "2024-04-12T17:05:04.076Z"
   },
   {
    "duration": 3,
    "start_time": "2024-04-12T17:05:11.581Z"
   },
   {
    "duration": 78,
    "start_time": "2024-04-12T17:05:11.585Z"
   },
   {
    "duration": 4,
    "start_time": "2024-04-12T17:05:11.665Z"
   },
   {
    "duration": 28,
    "start_time": "2024-04-12T17:05:11.670Z"
   },
   {
    "duration": 11,
    "start_time": "2024-04-12T17:05:11.700Z"
   },
   {
    "duration": 21,
    "start_time": "2024-04-12T17:05:11.713Z"
   },
   {
    "duration": 30,
    "start_time": "2024-04-12T17:05:11.735Z"
   },
   {
    "duration": 13,
    "start_time": "2024-04-12T17:05:11.766Z"
   },
   {
    "duration": 18,
    "start_time": "2024-04-12T17:05:11.781Z"
   },
   {
    "duration": 12,
    "start_time": "2024-04-12T17:05:11.800Z"
   },
   {
    "duration": 74,
    "start_time": "2024-04-12T17:05:11.814Z"
   },
   {
    "duration": 160,
    "start_time": "2024-04-12T17:05:11.889Z"
   },
   {
    "duration": 219,
    "start_time": "2024-04-12T17:05:12.051Z"
   },
   {
    "duration": 7,
    "start_time": "2024-04-12T17:05:12.272Z"
   },
   {
    "duration": 32,
    "start_time": "2024-04-12T17:05:12.281Z"
   },
   {
    "duration": 21,
    "start_time": "2024-04-12T17:05:12.314Z"
   },
   {
    "duration": 225,
    "start_time": "2024-04-12T17:05:12.336Z"
   },
   {
    "duration": 347,
    "start_time": "2024-04-12T17:05:13.797Z"
   },
   {
    "duration": 94,
    "start_time": "2024-04-12T17:07:40.055Z"
   },
   {
    "duration": 255,
    "start_time": "2024-04-12T17:07:46.815Z"
   },
   {
    "duration": 259,
    "start_time": "2024-04-12T17:07:53.720Z"
   },
   {
    "duration": 12,
    "start_time": "2024-04-12T17:08:00.010Z"
   },
   {
    "duration": 244,
    "start_time": "2024-04-12T17:08:04.327Z"
   },
   {
    "duration": 205,
    "start_time": "2024-04-12T17:09:22.562Z"
   },
   {
    "duration": 183,
    "start_time": "2024-04-12T17:18:46.436Z"
   },
   {
    "duration": 247,
    "start_time": "2024-04-12T17:20:08.645Z"
   },
   {
    "duration": 322,
    "start_time": "2024-04-12T17:20:16.045Z"
   },
   {
    "duration": 227,
    "start_time": "2024-04-12T17:21:08.397Z"
   },
   {
    "duration": 248,
    "start_time": "2024-04-12T17:22:21.032Z"
   },
   {
    "duration": 242,
    "start_time": "2024-04-12T17:22:45.839Z"
   },
   {
    "duration": 232,
    "start_time": "2024-04-12T17:22:58.263Z"
   },
   {
    "duration": 263,
    "start_time": "2024-04-12T17:23:14.440Z"
   },
   {
    "duration": 234,
    "start_time": "2024-04-12T17:23:23.647Z"
   },
   {
    "duration": 244,
    "start_time": "2024-04-12T17:24:23.841Z"
   },
   {
    "duration": 238,
    "start_time": "2024-04-12T17:26:35.531Z"
   },
   {
    "duration": 17,
    "start_time": "2024-04-12T17:27:02.116Z"
   },
   {
    "duration": 230,
    "start_time": "2024-04-12T17:27:08.476Z"
   },
   {
    "duration": 232,
    "start_time": "2024-04-12T17:27:12.317Z"
   },
   {
    "duration": 290,
    "start_time": "2024-04-12T17:28:04.621Z"
   },
   {
    "duration": 217,
    "start_time": "2024-04-12T17:28:42.023Z"
   },
   {
    "duration": 217,
    "start_time": "2024-04-12T17:30:34.615Z"
   },
   {
    "duration": 223,
    "start_time": "2024-04-12T17:30:45.831Z"
   },
   {
    "duration": 208,
    "start_time": "2024-04-12T17:30:54.888Z"
   },
   {
    "duration": 20,
    "start_time": "2024-04-12T18:14:50.689Z"
   },
   {
    "duration": 13,
    "start_time": "2024-04-12T18:14:59.599Z"
   },
   {
    "duration": 188,
    "start_time": "2024-04-12T18:16:36.561Z"
   },
   {
    "duration": 170,
    "start_time": "2024-04-12T18:16:50.857Z"
   },
   {
    "duration": 347,
    "start_time": "2024-04-12T18:18:11.441Z"
   },
   {
    "duration": 339,
    "start_time": "2024-04-12T18:19:25.954Z"
   },
   {
    "duration": 369,
    "start_time": "2024-04-12T18:35:45.705Z"
   },
   {
    "duration": 302,
    "start_time": "2024-04-12T18:36:22.872Z"
   },
   {
    "duration": 288,
    "start_time": "2024-04-12T18:37:15.761Z"
   },
   {
    "duration": 254,
    "start_time": "2024-04-12T18:39:05.484Z"
   },
   {
    "duration": 282,
    "start_time": "2024-04-12T18:41:35.710Z"
   },
   {
    "duration": 1087,
    "start_time": "2024-04-12T18:42:11.469Z"
   },
   {
    "duration": 79,
    "start_time": "2024-04-12T18:42:12.557Z"
   },
   {
    "duration": 4,
    "start_time": "2024-04-12T18:42:12.638Z"
   },
   {
    "duration": 32,
    "start_time": "2024-04-12T18:42:12.643Z"
   },
   {
    "duration": 8,
    "start_time": "2024-04-12T18:42:12.676Z"
   },
   {
    "duration": 3,
    "start_time": "2024-04-12T18:42:12.685Z"
   },
   {
    "duration": 22,
    "start_time": "2024-04-12T18:42:12.689Z"
   },
   {
    "duration": 15,
    "start_time": "2024-04-12T18:42:12.712Z"
   },
   {
    "duration": 12,
    "start_time": "2024-04-12T18:42:12.728Z"
   },
   {
    "duration": 15,
    "start_time": "2024-04-12T18:42:12.742Z"
   },
   {
    "duration": 94,
    "start_time": "2024-04-12T18:42:12.758Z"
   },
   {
    "duration": 167,
    "start_time": "2024-04-12T18:42:12.854Z"
   },
   {
    "duration": 241,
    "start_time": "2024-04-12T18:42:13.022Z"
   },
   {
    "duration": 9,
    "start_time": "2024-04-12T18:42:13.265Z"
   },
   {
    "duration": 26,
    "start_time": "2024-04-12T18:42:13.275Z"
   },
   {
    "duration": 22,
    "start_time": "2024-04-12T18:42:13.302Z"
   },
   {
    "duration": 239,
    "start_time": "2024-04-12T18:42:13.325Z"
   },
   {
    "duration": 249,
    "start_time": "2024-04-12T18:42:13.565Z"
   },
   {
    "duration": 252,
    "start_time": "2024-04-12T18:42:13.815Z"
   },
   {
    "duration": 226,
    "start_time": "2024-04-12T18:42:14.068Z"
   },
   {
    "duration": 305,
    "start_time": "2024-04-12T18:42:14.295Z"
   },
   {
    "duration": 217,
    "start_time": "2024-04-12T18:42:14.608Z"
   },
   {
    "duration": 222,
    "start_time": "2024-04-12T18:42:14.827Z"
   },
   {
    "duration": 235,
    "start_time": "2024-04-12T18:42:15.050Z"
   },
   {
    "duration": 242,
    "start_time": "2024-04-12T18:42:15.287Z"
   },
   {
    "duration": 222,
    "start_time": "2024-04-12T18:42:15.531Z"
   },
   {
    "duration": 225,
    "start_time": "2024-04-12T18:42:15.755Z"
   },
   {
    "duration": 359,
    "start_time": "2024-04-12T18:42:15.983Z"
   },
   {
    "duration": 319,
    "start_time": "2024-04-12T18:42:16.344Z"
   },
   {
    "duration": 396,
    "start_time": "2024-04-12T18:42:16.664Z"
   },
   {
    "duration": 285,
    "start_time": "2024-04-12T18:42:20.303Z"
   },
   {
    "duration": 13,
    "start_time": "2024-04-12T18:55:31.954Z"
   },
   {
    "duration": 11,
    "start_time": "2024-04-12T18:55:45.011Z"
   },
   {
    "duration": 90,
    "start_time": "2024-04-12T18:56:32.338Z"
   },
   {
    "duration": 181,
    "start_time": "2024-04-12T18:56:58.027Z"
   },
   {
    "duration": 29,
    "start_time": "2024-04-12T18:58:11.660Z"
   },
   {
    "duration": 33,
    "start_time": "2024-04-12T18:58:31.003Z"
   },
   {
    "duration": 281,
    "start_time": "2024-04-12T18:58:41.259Z"
   },
   {
    "duration": 274,
    "start_time": "2024-04-12T18:59:51.957Z"
   },
   {
    "duration": 360,
    "start_time": "2024-04-12T19:01:47.373Z"
   },
   {
    "duration": 275,
    "start_time": "2024-04-12T19:01:57.086Z"
   },
   {
    "duration": 292,
    "start_time": "2024-04-12T19:03:37.087Z"
   },
   {
    "duration": 307,
    "start_time": "2024-04-12T19:04:20.328Z"
   },
   {
    "duration": 287,
    "start_time": "2024-04-12T19:04:42.048Z"
   },
   {
    "duration": 271,
    "start_time": "2024-04-12T19:04:47.320Z"
   },
   {
    "duration": 363,
    "start_time": "2024-04-12T19:04:55.199Z"
   },
   {
    "duration": 265,
    "start_time": "2024-04-12T19:05:00.824Z"
   },
   {
    "duration": 1090,
    "start_time": "2024-04-12T19:05:13.792Z"
   },
   {
    "duration": 78,
    "start_time": "2024-04-12T19:05:14.884Z"
   },
   {
    "duration": 4,
    "start_time": "2024-04-12T19:05:14.963Z"
   },
   {
    "duration": 46,
    "start_time": "2024-04-12T19:05:14.969Z"
   },
   {
    "duration": 185,
    "start_time": "2024-04-12T19:05:15.017Z"
   },
   {
    "duration": 127,
    "start_time": "2024-04-12T19:05:15.204Z"
   },
   {
    "duration": 196,
    "start_time": "2024-04-12T19:05:15.333Z"
   },
   {
    "duration": 65,
    "start_time": "2024-04-12T19:05:15.531Z"
   },
   {
    "duration": 30,
    "start_time": "2024-04-12T19:05:15.598Z"
   },
   {
    "duration": 52,
    "start_time": "2024-04-12T19:05:15.630Z"
   },
   {
    "duration": 95,
    "start_time": "2024-04-12T19:05:15.684Z"
   },
   {
    "duration": 173,
    "start_time": "2024-04-12T19:05:15.781Z"
   },
   {
    "duration": 255,
    "start_time": "2024-04-12T19:05:15.956Z"
   },
   {
    "duration": 7,
    "start_time": "2024-04-12T19:05:16.214Z"
   },
   {
    "duration": 39,
    "start_time": "2024-04-12T19:05:16.222Z"
   },
   {
    "duration": 23,
    "start_time": "2024-04-12T19:05:16.263Z"
   },
   {
    "duration": 230,
    "start_time": "2024-04-12T19:05:16.288Z"
   },
   {
    "duration": 244,
    "start_time": "2024-04-12T19:05:16.520Z"
   },
   {
    "duration": 262,
    "start_time": "2024-04-12T19:05:16.765Z"
   },
   {
    "duration": 227,
    "start_time": "2024-04-12T19:05:17.028Z"
   },
   {
    "duration": 305,
    "start_time": "2024-04-12T19:05:17.256Z"
   },
   {
    "duration": 233,
    "start_time": "2024-04-12T19:05:17.562Z"
   },
   {
    "duration": 225,
    "start_time": "2024-04-12T19:05:17.796Z"
   },
   {
    "duration": 223,
    "start_time": "2024-04-12T19:05:18.023Z"
   },
   {
    "duration": 229,
    "start_time": "2024-04-12T19:05:18.247Z"
   },
   {
    "duration": 216,
    "start_time": "2024-04-12T19:05:18.477Z"
   },
   {
    "duration": 215,
    "start_time": "2024-04-12T19:05:18.695Z"
   },
   {
    "duration": 341,
    "start_time": "2024-04-12T19:05:18.911Z"
   },
   {
    "duration": 109,
    "start_time": "2024-04-12T19:05:19.253Z"
   },
   {
    "duration": 237,
    "start_time": "2024-04-12T19:05:22.328Z"
   },
   {
    "duration": 269,
    "start_time": "2024-04-12T19:06:01.073Z"
   },
   {
    "duration": 368,
    "start_time": "2024-04-12T19:06:48.026Z"
   },
   {
    "duration": 208,
    "start_time": "2024-04-12T19:07:30.834Z"
   },
   {
    "duration": 268,
    "start_time": "2024-04-12T19:08:26.587Z"
   },
   {
    "duration": 289,
    "start_time": "2024-04-12T19:09:38.781Z"
   },
   {
    "duration": 18,
    "start_time": "2024-04-12T19:15:17.930Z"
   },
   {
    "duration": 21,
    "start_time": "2024-04-12T19:16:05.636Z"
   },
   {
    "duration": 15,
    "start_time": "2024-04-12T19:16:24.371Z"
   },
   {
    "duration": 263,
    "start_time": "2024-04-12T19:16:30.867Z"
   },
   {
    "duration": 1173,
    "start_time": "2024-04-12T19:38:59.596Z"
   },
   {
    "duration": 230,
    "start_time": "2024-04-12T19:39:29.556Z"
   },
   {
    "duration": 1223,
    "start_time": "2024-04-12T19:40:26.045Z"
   },
   {
    "duration": 221,
    "start_time": "2024-04-12T19:41:14.367Z"
   },
   {
    "duration": 221,
    "start_time": "2024-04-12T19:42:35.832Z"
   },
   {
    "duration": 5,
    "start_time": "2024-04-12T19:45:20.683Z"
   },
   {
    "duration": 1136,
    "start_time": "2024-04-12T19:46:27.680Z"
   },
   {
    "duration": 79,
    "start_time": "2024-04-12T19:46:28.819Z"
   },
   {
    "duration": 5,
    "start_time": "2024-04-12T19:46:28.900Z"
   },
   {
    "duration": 30,
    "start_time": "2024-04-12T19:46:28.907Z"
   },
   {
    "duration": 13,
    "start_time": "2024-04-12T19:46:28.939Z"
   },
   {
    "duration": 2,
    "start_time": "2024-04-12T19:46:28.954Z"
   },
   {
    "duration": 6,
    "start_time": "2024-04-12T19:46:28.958Z"
   },
   {
    "duration": 32,
    "start_time": "2024-04-12T19:46:28.966Z"
   },
   {
    "duration": 22,
    "start_time": "2024-04-12T19:46:29.009Z"
   },
   {
    "duration": 19,
    "start_time": "2024-04-12T19:46:29.034Z"
   },
   {
    "duration": 19,
    "start_time": "2024-04-12T19:46:29.054Z"
   },
   {
    "duration": 93,
    "start_time": "2024-04-12T19:46:29.074Z"
   },
   {
    "duration": 177,
    "start_time": "2024-04-12T19:46:29.169Z"
   },
   {
    "duration": 247,
    "start_time": "2024-04-12T19:46:29.348Z"
   },
   {
    "duration": 8,
    "start_time": "2024-04-12T19:46:29.597Z"
   },
   {
    "duration": 211,
    "start_time": "2024-04-12T19:46:29.606Z"
   },
   {
    "duration": 23,
    "start_time": "2024-04-12T19:46:29.818Z"
   },
   {
    "duration": 21,
    "start_time": "2024-04-12T19:46:29.842Z"
   },
   {
    "duration": 259,
    "start_time": "2024-04-12T19:46:29.865Z"
   },
   {
    "duration": 252,
    "start_time": "2024-04-12T19:46:30.126Z"
   },
   {
    "duration": 275,
    "start_time": "2024-04-12T19:46:30.379Z"
   },
   {
    "duration": 323,
    "start_time": "2024-04-12T19:46:30.655Z"
   },
   {
    "duration": 249,
    "start_time": "2024-04-12T19:46:30.980Z"
   },
   {
    "duration": 249,
    "start_time": "2024-04-12T19:46:31.231Z"
   },
   {
    "duration": 248,
    "start_time": "2024-04-12T19:46:31.481Z"
   },
   {
    "duration": 256,
    "start_time": "2024-04-12T19:46:31.731Z"
   },
   {
    "duration": 238,
    "start_time": "2024-04-12T19:46:31.988Z"
   },
   {
    "duration": 214,
    "start_time": "2024-04-12T19:46:32.230Z"
   },
   {
    "duration": 227,
    "start_time": "2024-04-12T19:46:32.446Z"
   },
   {
    "duration": 366,
    "start_time": "2024-04-12T19:46:32.675Z"
   },
   {
    "duration": 142,
    "start_time": "2024-04-12T19:46:33.042Z"
   },
   {
    "duration": 0,
    "start_time": "2024-04-12T19:46:33.186Z"
   },
   {
    "duration": 115,
    "start_time": "2024-04-12T19:46:35.613Z"
   },
   {
    "duration": 360,
    "start_time": "2024-04-12T19:47:33.558Z"
   },
   {
    "duration": 109,
    "start_time": "2024-04-12T19:47:46.782Z"
   },
   {
    "duration": 111,
    "start_time": "2024-04-12T19:48:11.167Z"
   },
   {
    "duration": 103,
    "start_time": "2024-04-12T19:48:35.911Z"
   },
   {
    "duration": 100,
    "start_time": "2024-04-12T19:48:42.775Z"
   },
   {
    "duration": 118,
    "start_time": "2024-04-12T19:49:16.241Z"
   },
   {
    "duration": 8,
    "start_time": "2024-04-12T19:49:52.777Z"
   },
   {
    "duration": 1117,
    "start_time": "2024-04-12T19:51:22.783Z"
   },
   {
    "duration": 76,
    "start_time": "2024-04-12T19:51:23.902Z"
   },
   {
    "duration": 4,
    "start_time": "2024-04-12T19:51:23.980Z"
   },
   {
    "duration": 18,
    "start_time": "2024-04-12T19:51:23.985Z"
   },
   {
    "duration": 8,
    "start_time": "2024-04-12T19:51:24.005Z"
   },
   {
    "duration": 7,
    "start_time": "2024-04-12T19:51:24.014Z"
   },
   {
    "duration": 17,
    "start_time": "2024-04-12T19:51:24.023Z"
   },
   {
    "duration": 15,
    "start_time": "2024-04-12T19:51:24.041Z"
   },
   {
    "duration": 19,
    "start_time": "2024-04-12T19:51:24.057Z"
   },
   {
    "duration": 28,
    "start_time": "2024-04-12T19:51:24.078Z"
   },
   {
    "duration": 84,
    "start_time": "2024-04-12T19:51:24.108Z"
   },
   {
    "duration": 151,
    "start_time": "2024-04-12T19:51:24.193Z"
   },
   {
    "duration": 230,
    "start_time": "2024-04-12T19:51:24.345Z"
   },
   {
    "duration": 7,
    "start_time": "2024-04-12T19:51:24.577Z"
   },
   {
    "duration": 224,
    "start_time": "2024-04-12T19:51:24.586Z"
   },
   {
    "duration": 22,
    "start_time": "2024-04-12T19:51:24.811Z"
   },
   {
    "duration": 20,
    "start_time": "2024-04-12T19:51:24.834Z"
   },
   {
    "duration": 226,
    "start_time": "2024-04-12T19:51:24.856Z"
   },
   {
    "duration": 234,
    "start_time": "2024-04-12T19:51:25.084Z"
   },
   {
    "duration": 268,
    "start_time": "2024-04-12T19:51:25.320Z"
   },
   {
    "duration": 325,
    "start_time": "2024-04-12T19:51:25.590Z"
   },
   {
    "duration": 248,
    "start_time": "2024-04-12T19:51:25.917Z"
   },
   {
    "duration": 226,
    "start_time": "2024-04-12T19:51:26.167Z"
   },
   {
    "duration": 215,
    "start_time": "2024-04-12T19:51:26.394Z"
   },
   {
    "duration": 222,
    "start_time": "2024-04-12T19:51:26.611Z"
   },
   {
    "duration": 221,
    "start_time": "2024-04-12T19:51:26.834Z"
   },
   {
    "duration": 197,
    "start_time": "2024-04-12T19:51:27.057Z"
   },
   {
    "duration": 210,
    "start_time": "2024-04-12T19:51:27.256Z"
   },
   {
    "duration": 347,
    "start_time": "2024-04-12T19:51:27.467Z"
   },
   {
    "duration": 353,
    "start_time": "2024-04-12T19:51:27.816Z"
   },
   {
    "duration": 297,
    "start_time": "2024-04-12T19:51:28.171Z"
   },
   {
    "duration": 292,
    "start_time": "2024-04-12T19:51:29.931Z"
   },
   {
    "duration": 301,
    "start_time": "2024-04-12T19:52:00.172Z"
   },
   {
    "duration": 308,
    "start_time": "2024-04-12T19:52:17.092Z"
   },
   {
    "duration": 1321,
    "start_time": "2024-04-12T19:52:39.052Z"
   },
   {
    "duration": 298,
    "start_time": "2024-04-12T19:53:15.836Z"
   },
   {
    "duration": 426,
    "start_time": "2024-04-12T19:55:04.047Z"
   },
   {
    "duration": 369,
    "start_time": "2024-04-12T19:55:23.391Z"
   },
   {
    "duration": 348,
    "start_time": "2024-04-12T19:55:51.488Z"
   },
   {
    "duration": 1201,
    "start_time": "2024-04-12T19:56:04.773Z"
   },
   {
    "duration": 93,
    "start_time": "2024-04-12T19:56:05.976Z"
   },
   {
    "duration": 5,
    "start_time": "2024-04-12T19:56:06.070Z"
   },
   {
    "duration": 43,
    "start_time": "2024-04-12T19:56:06.076Z"
   },
   {
    "duration": 15,
    "start_time": "2024-04-12T19:56:06.122Z"
   },
   {
    "duration": 3,
    "start_time": "2024-04-12T19:56:06.139Z"
   },
   {
    "duration": 26,
    "start_time": "2024-04-12T19:56:06.144Z"
   },
   {
    "duration": 16,
    "start_time": "2024-04-12T19:56:06.171Z"
   },
   {
    "duration": 42,
    "start_time": "2024-04-12T19:56:06.188Z"
   },
   {
    "duration": 23,
    "start_time": "2024-04-12T19:56:06.232Z"
   },
   {
    "duration": 111,
    "start_time": "2024-04-12T19:56:06.257Z"
   },
   {
    "duration": 172,
    "start_time": "2024-04-12T19:56:06.370Z"
   },
   {
    "duration": 343,
    "start_time": "2024-04-12T19:56:06.544Z"
   },
   {
    "duration": 7,
    "start_time": "2024-04-12T19:56:06.889Z"
   },
   {
    "duration": 262,
    "start_time": "2024-04-12T19:56:06.898Z"
   },
   {
    "duration": 22,
    "start_time": "2024-04-12T19:56:07.161Z"
   },
   {
    "duration": 33,
    "start_time": "2024-04-12T19:56:07.184Z"
   },
   {
    "duration": 228,
    "start_time": "2024-04-12T19:56:07.219Z"
   },
   {
    "duration": 257,
    "start_time": "2024-04-12T19:56:07.449Z"
   },
   {
    "duration": 289,
    "start_time": "2024-04-12T19:56:07.710Z"
   },
   {
    "duration": 320,
    "start_time": "2024-04-12T19:56:08.000Z"
   },
   {
    "duration": 249,
    "start_time": "2024-04-12T19:56:08.322Z"
   },
   {
    "duration": 229,
    "start_time": "2024-04-12T19:56:08.572Z"
   },
   {
    "duration": 226,
    "start_time": "2024-04-12T19:56:08.810Z"
   },
   {
    "duration": 241,
    "start_time": "2024-04-12T19:56:09.037Z"
   },
   {
    "duration": 229,
    "start_time": "2024-04-12T19:56:09.280Z"
   },
   {
    "duration": 202,
    "start_time": "2024-04-12T19:56:09.510Z"
   },
   {
    "duration": 202,
    "start_time": "2024-04-12T19:56:09.713Z"
   },
   {
    "duration": 348,
    "start_time": "2024-04-12T19:56:09.916Z"
   },
   {
    "duration": 364,
    "start_time": "2024-04-12T19:56:10.265Z"
   },
   {
    "duration": 287,
    "start_time": "2024-04-12T19:56:10.630Z"
   },
   {
    "duration": 333,
    "start_time": "2024-04-12T19:56:13.048Z"
   },
   {
    "duration": 9,
    "start_time": "2024-04-12T19:56:44.233Z"
   },
   {
    "duration": 330,
    "start_time": "2024-04-12T19:57:43.938Z"
   },
   {
    "duration": 279,
    "start_time": "2024-04-12T19:58:01.835Z"
   },
   {
    "duration": 3,
    "start_time": "2024-04-12T20:07:17.748Z"
   },
   {
    "duration": 126,
    "start_time": "2024-04-12T20:07:17.753Z"
   },
   {
    "duration": 4,
    "start_time": "2024-04-12T20:07:17.881Z"
   },
   {
    "duration": 57,
    "start_time": "2024-04-12T20:07:17.887Z"
   },
   {
    "duration": 36,
    "start_time": "2024-04-12T20:07:17.946Z"
   },
   {
    "duration": 12,
    "start_time": "2024-04-12T20:07:17.984Z"
   },
   {
    "duration": 38,
    "start_time": "2024-04-12T20:07:17.998Z"
   },
   {
    "duration": 17,
    "start_time": "2024-04-12T20:07:18.037Z"
   },
   {
    "duration": 16,
    "start_time": "2024-04-12T20:07:18.056Z"
   },
   {
    "duration": 20,
    "start_time": "2024-04-12T20:07:18.073Z"
   },
   {
    "duration": 72,
    "start_time": "2024-04-12T20:07:18.094Z"
   },
   {
    "duration": 149,
    "start_time": "2024-04-12T20:07:18.168Z"
   },
   {
    "duration": 218,
    "start_time": "2024-04-12T20:07:18.319Z"
   },
   {
    "duration": 9,
    "start_time": "2024-04-12T20:07:18.539Z"
   },
   {
    "duration": 305,
    "start_time": "2024-04-12T20:07:18.550Z"
   },
   {
    "duration": 22,
    "start_time": "2024-04-12T20:07:18.856Z"
   },
   {
    "duration": 31,
    "start_time": "2024-04-12T20:07:18.879Z"
   },
   {
    "duration": 222,
    "start_time": "2024-04-12T20:07:18.912Z"
   },
   {
    "duration": 235,
    "start_time": "2024-04-12T20:07:19.135Z"
   },
   {
    "duration": 249,
    "start_time": "2024-04-12T20:07:19.372Z"
   },
   {
    "duration": 234,
    "start_time": "2024-04-12T20:07:19.623Z"
   },
   {
    "duration": 220,
    "start_time": "2024-04-12T20:07:19.858Z"
   },
   {
    "duration": 210,
    "start_time": "2024-04-12T20:07:20.079Z"
   },
   {
    "duration": 211,
    "start_time": "2024-04-12T20:07:20.292Z"
   },
   {
    "duration": 221,
    "start_time": "2024-04-12T20:07:20.504Z"
   },
   {
    "duration": 331,
    "start_time": "2024-04-12T20:07:20.727Z"
   },
   {
    "duration": 200,
    "start_time": "2024-04-12T20:07:21.059Z"
   },
   {
    "duration": 211,
    "start_time": "2024-04-12T20:07:21.260Z"
   },
   {
    "duration": 347,
    "start_time": "2024-04-12T20:07:21.473Z"
   },
   {
    "duration": 284,
    "start_time": "2024-04-12T20:07:21.822Z"
   },
   {
    "duration": 284,
    "start_time": "2024-04-12T20:07:22.108Z"
   },
   {
    "duration": 267,
    "start_time": "2024-04-12T20:07:22.394Z"
   },
   {
    "duration": 8,
    "start_time": "2024-04-12T20:07:22.663Z"
   },
   {
    "duration": 33,
    "start_time": "2024-04-12T20:07:22.673Z"
   },
   {
    "duration": 8,
    "start_time": "2024-04-12T20:07:27.573Z"
   },
   {
    "duration": 9,
    "start_time": "2024-04-12T20:08:48.743Z"
   },
   {
    "duration": 101,
    "start_time": "2024-04-12T20:09:45.873Z"
   },
   {
    "duration": 10,
    "start_time": "2024-04-12T20:09:53.504Z"
   },
   {
    "duration": 317,
    "start_time": "2024-04-12T20:15:46.216Z"
   },
   {
    "duration": 1116,
    "start_time": "2024-04-12T20:29:45.402Z"
   },
   {
    "duration": 78,
    "start_time": "2024-04-12T20:29:46.520Z"
   },
   {
    "duration": 5,
    "start_time": "2024-04-12T20:29:46.599Z"
   },
   {
    "duration": 35,
    "start_time": "2024-04-12T20:29:46.605Z"
   },
   {
    "duration": 8,
    "start_time": "2024-04-12T20:29:46.642Z"
   },
   {
    "duration": 6,
    "start_time": "2024-04-12T20:29:46.652Z"
   },
   {
    "duration": 38,
    "start_time": "2024-04-12T20:29:46.660Z"
   },
   {
    "duration": 15,
    "start_time": "2024-04-12T20:29:46.700Z"
   },
   {
    "duration": 17,
    "start_time": "2024-04-12T20:29:46.717Z"
   },
   {
    "duration": 28,
    "start_time": "2024-04-12T20:29:46.736Z"
   },
   {
    "duration": 77,
    "start_time": "2024-04-12T20:29:46.766Z"
   },
   {
    "duration": 165,
    "start_time": "2024-04-12T20:29:46.844Z"
   },
   {
    "duration": 232,
    "start_time": "2024-04-12T20:29:47.011Z"
   },
   {
    "duration": 8,
    "start_time": "2024-04-12T20:29:47.244Z"
   },
   {
    "duration": 218,
    "start_time": "2024-04-12T20:29:47.254Z"
   },
   {
    "duration": 22,
    "start_time": "2024-04-12T20:29:47.474Z"
   },
   {
    "duration": 31,
    "start_time": "2024-04-12T20:29:47.498Z"
   },
   {
    "duration": 230,
    "start_time": "2024-04-12T20:29:47.530Z"
   },
   {
    "duration": 239,
    "start_time": "2024-04-12T20:29:47.761Z"
   },
   {
    "duration": 262,
    "start_time": "2024-04-12T20:29:48.008Z"
   },
   {
    "duration": 307,
    "start_time": "2024-04-12T20:29:48.272Z"
   },
   {
    "duration": 224,
    "start_time": "2024-04-12T20:29:48.580Z"
   },
   {
    "duration": 226,
    "start_time": "2024-04-12T20:29:48.808Z"
   },
   {
    "duration": 221,
    "start_time": "2024-04-12T20:29:49.036Z"
   },
   {
    "duration": 228,
    "start_time": "2024-04-12T20:29:49.259Z"
   },
   {
    "duration": 214,
    "start_time": "2024-04-12T20:29:49.489Z"
   },
   {
    "duration": 187,
    "start_time": "2024-04-12T20:29:49.709Z"
   },
   {
    "duration": 186,
    "start_time": "2024-04-12T20:29:49.908Z"
   },
   {
    "duration": 340,
    "start_time": "2024-04-12T20:29:50.096Z"
   },
   {
    "duration": 357,
    "start_time": "2024-04-12T20:29:50.438Z"
   },
   {
    "duration": 269,
    "start_time": "2024-04-12T20:29:50.796Z"
   },
   {
    "duration": 248,
    "start_time": "2024-04-12T20:29:51.067Z"
   },
   {
    "duration": 8,
    "start_time": "2024-04-12T20:29:51.316Z"
   },
   {
    "duration": 19,
    "start_time": "2024-04-12T20:29:51.326Z"
   },
   {
    "duration": 9,
    "start_time": "2024-04-12T20:29:53.560Z"
   },
   {
    "duration": 1163,
    "start_time": "2024-04-12T22:39:10.281Z"
   },
   {
    "duration": 119,
    "start_time": "2024-04-12T22:39:11.445Z"
   },
   {
    "duration": 3,
    "start_time": "2024-04-12T22:39:11.566Z"
   },
   {
    "duration": 24,
    "start_time": "2024-04-12T22:39:11.570Z"
   },
   {
    "duration": 7,
    "start_time": "2024-04-12T22:39:11.596Z"
   },
   {
    "duration": 5,
    "start_time": "2024-04-12T22:39:11.604Z"
   },
   {
    "duration": 14,
    "start_time": "2024-04-12T22:39:11.610Z"
   },
   {
    "duration": 13,
    "start_time": "2024-04-12T22:39:11.625Z"
   },
   {
    "duration": 10,
    "start_time": "2024-04-12T22:39:11.639Z"
   },
   {
    "duration": 11,
    "start_time": "2024-04-12T22:39:11.650Z"
   },
   {
    "duration": 77,
    "start_time": "2024-04-12T22:39:11.663Z"
   },
   {
    "duration": 147,
    "start_time": "2024-04-12T22:39:11.742Z"
   },
   {
    "duration": 226,
    "start_time": "2024-04-12T22:39:11.890Z"
   },
   {
    "duration": 6,
    "start_time": "2024-04-12T22:39:12.118Z"
   },
   {
    "duration": 183,
    "start_time": "2024-04-12T22:39:12.125Z"
   },
   {
    "duration": 18,
    "start_time": "2024-04-12T22:39:12.309Z"
   },
   {
    "duration": 17,
    "start_time": "2024-04-12T22:39:12.328Z"
   },
   {
    "duration": 202,
    "start_time": "2024-04-12T22:39:12.346Z"
   },
   {
    "duration": 213,
    "start_time": "2024-04-12T22:39:12.549Z"
   },
   {
    "duration": 226,
    "start_time": "2024-04-12T22:39:12.764Z"
   },
   {
    "duration": 242,
    "start_time": "2024-04-12T22:39:12.991Z"
   },
   {
    "duration": 191,
    "start_time": "2024-04-12T22:39:13.234Z"
   },
   {
    "duration": 191,
    "start_time": "2024-04-12T22:39:13.426Z"
   },
   {
    "duration": 182,
    "start_time": "2024-04-12T22:39:13.619Z"
   },
   {
    "duration": 182,
    "start_time": "2024-04-12T22:39:13.802Z"
   },
   {
    "duration": 195,
    "start_time": "2024-04-12T22:39:13.986Z"
   },
   {
    "duration": 165,
    "start_time": "2024-04-12T22:39:14.183Z"
   },
   {
    "duration": 175,
    "start_time": "2024-04-12T22:39:14.349Z"
   },
   {
    "duration": 312,
    "start_time": "2024-04-12T22:39:14.526Z"
   },
   {
    "duration": 292,
    "start_time": "2024-04-12T22:39:14.839Z"
   },
   {
    "duration": 278,
    "start_time": "2024-04-12T22:39:15.132Z"
   },
   {
    "duration": 222,
    "start_time": "2024-04-12T22:39:15.411Z"
   },
   {
    "duration": 7,
    "start_time": "2024-04-12T22:39:15.634Z"
   },
   {
    "duration": 14,
    "start_time": "2024-04-12T22:39:15.642Z"
   },
   {
    "duration": 23,
    "start_time": "2024-04-12T22:39:15.657Z"
   },
   {
    "duration": 84,
    "start_time": "2024-04-12T22:45:59.778Z"
   },
   {
    "duration": 1544,
    "start_time": "2024-04-12T22:46:31.682Z"
   },
   {
    "duration": 1613,
    "start_time": "2024-04-12T22:48:48.849Z"
   }
  ],
  "kernelspec": {
   "display_name": "Python 3 (ipykernel)",
   "language": "python",
   "name": "python3"
  },
  "language_info": {
   "codemirror_mode": {
    "name": "ipython",
    "version": 3
   },
   "file_extension": ".py",
   "mimetype": "text/x-python",
   "name": "python",
   "nbconvert_exporter": "python",
   "pygments_lexer": "ipython3",
   "version": "3.11.5"
  },
  "toc": {
   "base_numbering": 1,
   "nav_menu": {
    "height": "154px",
    "width": "198px"
   },
   "number_sections": true,
   "sideBar": true,
   "skip_h1_title": true,
   "title_cell": "Table of Contents",
   "title_sidebar": "Contents",
   "toc_cell": false,
   "toc_position": {
    "height": "calc(100% - 180px)",
    "left": "10px",
    "top": "150px",
    "width": "206.78px"
   },
   "toc_section_display": true,
   "toc_window_display": false
  }
 },
 "nbformat": 4,
 "nbformat_minor": 2
}
