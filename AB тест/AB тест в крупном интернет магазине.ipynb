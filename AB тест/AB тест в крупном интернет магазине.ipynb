{
 "cells": [
  {
   "cell_type": "markdown",
   "metadata": {},
   "source": [
    "# A/B тест в крупном интернет-магазине\n",
    "## Введение\n",
    "\n",
    "### Цели проекта\n",
    "\n",
    "Цель данного проекта состоит в анализе и оптимизации маркетинговых стратегий интернет-магазина для увеличения его выручки. Для достижения этой цели необходимо:\n",
    "\n",
    "1. Приоритизировать гипотезы, направленные на увеличение выручки, с использованием фреймворков ICE и RICE.\n",
    "2. Провести A/B-тестирование и на основании полученных данных определить наиболее эффективные маркетинговые меры.\n",
    "\n",
    "### Задачи проекта\n",
    "\n",
    "**Часть 1: Приоритизация гипотез**\n",
    "1. Применить фреймворк ICE для оценки и приоритизации гипотез.\n",
    "2. Применить фреймворк RICE для повторной оценки и приоритизации гипотез.\n",
    "3. Сравнить результаты приоритизации по ICE и RICE, объяснить различия.\n",
    "\n",
    "**Часть 2: Анализ A/B-теста**\n",
    "1. Проанализировать данные о заказах и посетителях из файлов /datasets/orders.csv и /datasets/visitors.csv.\n",
    "2. Построить и проанализировать следующие графики:\n",
    "   - Кумулятивной выручки по группам.\n",
    "   - Кумулятивного среднего чека по группам.\n",
    "   - Относительного изменения кумулятивного среднего чека группы B к группе A.\n",
    "   - Кумулятивного среднего количества заказов на посетителя по группам.\n",
    "   - Относительного изменения кумулятивного среднего количества заказов на посетителя группы B к группе A.\n",
    "3. Построить точечные графики:\n",
    "   - Количества заказов по пользователям.\n",
    "   - Стоимостей заказов.\n",
    "4. Определить перцентили для количества заказов и стоимости заказов, выявить аномальные значения.\n",
    "5. Рассчитать статистическую значимость различий в среднем количестве заказов и среднем чеке между группами по «сырым» и «очищенным» данным.\n",
    "6. Принять решение по результатам теста: остановить тест, зафиксировав победу одной из групп, зафиксировать отсутствие различий, или продолжить тест.\n",
    "\n",
    "### Описание данных\n",
    "\n",
    "Для выполнения поставленных задач используются два набора данных:\n",
    "\n",
    "1. **Гипотезы (/datasets/hypothesis.csv)**\n",
    "   - Hypothesis: краткое описание гипотезы.\n",
    "   - Reach: охват пользователей по 10-балльной шкале.\n",
    "   - Impact: влияние на пользователей по 10-балльной шкале.\n",
    "   - Confidence: уверенность в гипотезе по 10-балльной шкале.\n",
    "   - Efforts: затраты ресурсов на проверку гипотезы по 10-балльной шкале.\n",
    "\n",
    "2. **Данные для A/B-теста**\n",
    "   - **Orders (/datasets/orders.csv)**\n",
    "     - transactionId: идентификатор заказа.\n",
    "     - visitorId: идентификатор пользователя, совершившего заказ.\n",
    "     - date: дата, когда был совершён заказ.\n",
    "     - revenue: выручка заказа.\n",
    "     - group: группа A/B-теста.\n",
    "   - **Visitors (/datasets/visitors.csv)**\n",
    "     - date: дата.\n",
    "     - group: группа A/B-теста.\n",
    "     - visitors: количество пользователей в указанную дату в указанной группе.\n",
    "\n",
    "### План проекта\n",
    "\n",
    "1. **Этап 1: Приоритизация гипотез**\n",
    "   - Оценка гипотез с помощью фреймворка ICE.\n",
    "   - Оценка гипотез с помощью фреймворка RICE.\n",
    "   - Сравнение результатов и объяснение различий.\n",
    "\n",
    "2. **Этап 2: Анализ A/B-теста**\n",
    "   - Первичная обработка данных.\n",
    "   - Визуализация и анализ кумулятивных показателей (выручка, средний чек, количество заказов).\n",
    "   - Выявление и анализ аномальных значений.\n",
    "   - Расчёт статистической значимости различий между группами.\n",
    "   - Принятие решения по результатам теста.\n"
   ]
  },
  {
   "cell_type": "markdown",
   "metadata": {},
   "source": [
    "## Приоритизация гипотез"
   ]
  },
  {
   "cell_type": "code",
   "execution_count": 1,
   "metadata": {},
   "outputs": [],
   "source": [
    "#импортируем основные библиотеки, с которыми будем работать\n",
    "import pandas as pd\n",
    "import matplotlib.pyplot as plt\n",
    "import numpy as np\n",
    "import datetime as dt\n",
    "from scipy import stats as st\n"
   ]
  },
  {
   "cell_type": "markdown",
   "metadata": {},
   "source": [
    "### Загрузка и первичная обработка данных"
   ]
  },
  {
   "cell_type": "code",
   "execution_count": 2,
   "metadata": {},
   "outputs": [
    {
     "data": {
      "text/html": [
       "<div>\n",
       "<style scoped>\n",
       "    .dataframe tbody tr th:only-of-type {\n",
       "        vertical-align: middle;\n",
       "    }\n",
       "\n",
       "    .dataframe tbody tr th {\n",
       "        vertical-align: top;\n",
       "    }\n",
       "\n",
       "    .dataframe thead th {\n",
       "        text-align: right;\n",
       "    }\n",
       "</style>\n",
       "<table border=\"1\" class=\"dataframe\">\n",
       "  <thead>\n",
       "    <tr style=\"text-align: right;\">\n",
       "      <th></th>\n",
       "      <th>Hypothesis</th>\n",
       "      <th>Reach</th>\n",
       "      <th>Impact</th>\n",
       "      <th>Confidence</th>\n",
       "      <th>Efforts</th>\n",
       "    </tr>\n",
       "  </thead>\n",
       "  <tbody>\n",
       "    <tr>\n",
       "      <th>0</th>\n",
       "      <td>Добавить два новых канала привлечения трафика,...</td>\n",
       "      <td>3</td>\n",
       "      <td>10</td>\n",
       "      <td>8</td>\n",
       "      <td>6</td>\n",
       "    </tr>\n",
       "    <tr>\n",
       "      <th>1</th>\n",
       "      <td>Запустить собственную службу доставки, что сок...</td>\n",
       "      <td>2</td>\n",
       "      <td>5</td>\n",
       "      <td>4</td>\n",
       "      <td>10</td>\n",
       "    </tr>\n",
       "    <tr>\n",
       "      <th>2</th>\n",
       "      <td>Добавить блоки рекомендаций товаров на сайт ин...</td>\n",
       "      <td>8</td>\n",
       "      <td>3</td>\n",
       "      <td>7</td>\n",
       "      <td>3</td>\n",
       "    </tr>\n",
       "    <tr>\n",
       "      <th>3</th>\n",
       "      <td>Изменить структура категорий, что увеличит кон...</td>\n",
       "      <td>8</td>\n",
       "      <td>3</td>\n",
       "      <td>3</td>\n",
       "      <td>8</td>\n",
       "    </tr>\n",
       "    <tr>\n",
       "      <th>4</th>\n",
       "      <td>Изменить цвет фона главной страницы, чтобы уве...</td>\n",
       "      <td>3</td>\n",
       "      <td>1</td>\n",
       "      <td>1</td>\n",
       "      <td>1</td>\n",
       "    </tr>\n",
       "  </tbody>\n",
       "</table>\n",
       "</div>"
      ],
      "text/plain": [
       "                                          Hypothesis  Reach  Impact  \\\n",
       "0  Добавить два новых канала привлечения трафика,...      3      10   \n",
       "1  Запустить собственную службу доставки, что сок...      2       5   \n",
       "2  Добавить блоки рекомендаций товаров на сайт ин...      8       3   \n",
       "3  Изменить структура категорий, что увеличит кон...      8       3   \n",
       "4  Изменить цвет фона главной страницы, чтобы уве...      3       1   \n",
       "\n",
       "   Confidence  Efforts  \n",
       "0           8        6  \n",
       "1           4       10  \n",
       "2           7        3  \n",
       "3           3        8  \n",
       "4           1        1  "
      ]
     },
     "metadata": {},
     "output_type": "display_data"
    }
   ],
   "source": [
    "hypo = pd.read_csv('/datasets/hypothesis.csv')\n",
    "display(hypo.head())"
   ]
  },
  {
   "cell_type": "markdown",
   "metadata": {},
   "source": [
    "Как мы видим, названия столбцов не соответствуют змеиному регистру. Также половина текста гипотез пропадает, лучше это всё исправить."
   ]
  },
  {
   "cell_type": "code",
   "execution_count": 3,
   "metadata": {},
   "outputs": [
    {
     "data": {
      "text/html": [
       "<div>\n",
       "<style scoped>\n",
       "    .dataframe tbody tr th:only-of-type {\n",
       "        vertical-align: middle;\n",
       "    }\n",
       "\n",
       "    .dataframe tbody tr th {\n",
       "        vertical-align: top;\n",
       "    }\n",
       "\n",
       "    .dataframe thead th {\n",
       "        text-align: right;\n",
       "    }\n",
       "</style>\n",
       "<table border=\"1\" class=\"dataframe\">\n",
       "  <thead>\n",
       "    <tr style=\"text-align: right;\">\n",
       "      <th></th>\n",
       "      <th>hypothesis</th>\n",
       "      <th>reach</th>\n",
       "      <th>impact</th>\n",
       "      <th>confidence</th>\n",
       "      <th>efforts</th>\n",
       "    </tr>\n",
       "  </thead>\n",
       "  <tbody>\n",
       "    <tr>\n",
       "      <th>0</th>\n",
       "      <td>Добавить два новых канала привлечения трафика, что позволит привлекать на 30% больше пользователей</td>\n",
       "      <td>3</td>\n",
       "      <td>10</td>\n",
       "      <td>8</td>\n",
       "      <td>6</td>\n",
       "    </tr>\n",
       "    <tr>\n",
       "      <th>1</th>\n",
       "      <td>Запустить собственную службу доставки, что сократит срок доставки заказов</td>\n",
       "      <td>2</td>\n",
       "      <td>5</td>\n",
       "      <td>4</td>\n",
       "      <td>10</td>\n",
       "    </tr>\n",
       "    <tr>\n",
       "      <th>2</th>\n",
       "      <td>Добавить блоки рекомендаций товаров на сайт интернет магазина, чтобы повысить конверсию и средний чек заказа</td>\n",
       "      <td>8</td>\n",
       "      <td>3</td>\n",
       "      <td>7</td>\n",
       "      <td>3</td>\n",
       "    </tr>\n",
       "    <tr>\n",
       "      <th>3</th>\n",
       "      <td>Изменить структура категорий, что увеличит конверсию, т.к. пользователи быстрее найдут нужный товар</td>\n",
       "      <td>8</td>\n",
       "      <td>3</td>\n",
       "      <td>3</td>\n",
       "      <td>8</td>\n",
       "    </tr>\n",
       "    <tr>\n",
       "      <th>4</th>\n",
       "      <td>Изменить цвет фона главной страницы, чтобы увеличить вовлеченность пользователей</td>\n",
       "      <td>3</td>\n",
       "      <td>1</td>\n",
       "      <td>1</td>\n",
       "      <td>1</td>\n",
       "    </tr>\n",
       "  </tbody>\n",
       "</table>\n",
       "</div>"
      ],
      "text/plain": [
       "                                                                                                     hypothesis  \\\n",
       "0            Добавить два новых канала привлечения трафика, что позволит привлекать на 30% больше пользователей   \n",
       "1                                     Запустить собственную службу доставки, что сократит срок доставки заказов   \n",
       "2  Добавить блоки рекомендаций товаров на сайт интернет магазина, чтобы повысить конверсию и средний чек заказа   \n",
       "3           Изменить структура категорий, что увеличит конверсию, т.к. пользователи быстрее найдут нужный товар   \n",
       "4                              Изменить цвет фона главной страницы, чтобы увеличить вовлеченность пользователей   \n",
       "\n",
       "   reach  impact  confidence  efforts  \n",
       "0      3      10           8        6  \n",
       "1      2       5           4       10  \n",
       "2      8       3           7        3  \n",
       "3      8       3           3        8  \n",
       "4      3       1           1        1  "
      ]
     },
     "metadata": {},
     "output_type": "display_data"
    }
   ],
   "source": [
    "hypo.columns = hypo.columns.str.lower()\n",
    "pd.set_option('max_colwidth', 200)\n",
    "display(hypo.head())"
   ]
  },
  {
   "cell_type": "markdown",
   "metadata": {},
   "source": [
    "### Приоритизация гипотез с помощью фреймворка ICE"
   ]
  },
  {
   "cell_type": "markdown",
   "metadata": {},
   "source": [
    "ICE (от англ. impact, confidence, effort / ease «влияние, уверенность, усилия / простота») считается путем произведения нескольких метрик, которые приведены в таблице. Так как вместо ease у нас efforts, мы должны произведение impact и confidence разделить на efforts. "
   ]
  },
  {
   "cell_type": "code",
   "execution_count": 4,
   "metadata": {},
   "outputs": [
    {
     "data": {
      "text/html": [
       "<div>\n",
       "<style scoped>\n",
       "    .dataframe tbody tr th:only-of-type {\n",
       "        vertical-align: middle;\n",
       "    }\n",
       "\n",
       "    .dataframe tbody tr th {\n",
       "        vertical-align: top;\n",
       "    }\n",
       "\n",
       "    .dataframe thead th {\n",
       "        text-align: right;\n",
       "    }\n",
       "</style>\n",
       "<table border=\"1\" class=\"dataframe\">\n",
       "  <thead>\n",
       "    <tr style=\"text-align: right;\">\n",
       "      <th></th>\n",
       "      <th>hypothesis</th>\n",
       "      <th>ICE</th>\n",
       "    </tr>\n",
       "  </thead>\n",
       "  <tbody>\n",
       "    <tr>\n",
       "      <th>8</th>\n",
       "      <td>Запустить акцию, дающую скидку на товар в день рождения</td>\n",
       "      <td>16.20</td>\n",
       "    </tr>\n",
       "    <tr>\n",
       "      <th>0</th>\n",
       "      <td>Добавить два новых канала привлечения трафика, что позволит привлекать на 30% больше пользователей</td>\n",
       "      <td>13.33</td>\n",
       "    </tr>\n",
       "    <tr>\n",
       "      <th>7</th>\n",
       "      <td>Добавить форму подписки на все основные страницы, чтобы собрать базу клиентов для email-рассылок</td>\n",
       "      <td>11.20</td>\n",
       "    </tr>\n",
       "    <tr>\n",
       "      <th>6</th>\n",
       "      <td>Показать на главной странице баннеры с актуальными акциями и распродажами, чтобы увеличить конверсию</td>\n",
       "      <td>8.00</td>\n",
       "    </tr>\n",
       "    <tr>\n",
       "      <th>2</th>\n",
       "      <td>Добавить блоки рекомендаций товаров на сайт интернет магазина, чтобы повысить конверсию и средний чек заказа</td>\n",
       "      <td>7.00</td>\n",
       "    </tr>\n",
       "    <tr>\n",
       "      <th>1</th>\n",
       "      <td>Запустить собственную службу доставки, что сократит срок доставки заказов</td>\n",
       "      <td>2.00</td>\n",
       "    </tr>\n",
       "    <tr>\n",
       "      <th>5</th>\n",
       "      <td>Добавить страницу отзывов клиентов о магазине, что позволит увеличить количество заказов</td>\n",
       "      <td>1.33</td>\n",
       "    </tr>\n",
       "    <tr>\n",
       "      <th>3</th>\n",
       "      <td>Изменить структура категорий, что увеличит конверсию, т.к. пользователи быстрее найдут нужный товар</td>\n",
       "      <td>1.12</td>\n",
       "    </tr>\n",
       "    <tr>\n",
       "      <th>4</th>\n",
       "      <td>Изменить цвет фона главной страницы, чтобы увеличить вовлеченность пользователей</td>\n",
       "      <td>1.00</td>\n",
       "    </tr>\n",
       "  </tbody>\n",
       "</table>\n",
       "</div>"
      ],
      "text/plain": [
       "                                                                                                     hypothesis  \\\n",
       "8                                                       Запустить акцию, дающую скидку на товар в день рождения   \n",
       "0            Добавить два новых канала привлечения трафика, что позволит привлекать на 30% больше пользователей   \n",
       "7              Добавить форму подписки на все основные страницы, чтобы собрать базу клиентов для email-рассылок   \n",
       "6          Показать на главной странице баннеры с актуальными акциями и распродажами, чтобы увеличить конверсию   \n",
       "2  Добавить блоки рекомендаций товаров на сайт интернет магазина, чтобы повысить конверсию и средний чек заказа   \n",
       "1                                     Запустить собственную службу доставки, что сократит срок доставки заказов   \n",
       "5                      Добавить страницу отзывов клиентов о магазине, что позволит увеличить количество заказов   \n",
       "3           Изменить структура категорий, что увеличит конверсию, т.к. пользователи быстрее найдут нужный товар   \n",
       "4                              Изменить цвет фона главной страницы, чтобы увеличить вовлеченность пользователей   \n",
       "\n",
       "     ICE  \n",
       "8  16.20  \n",
       "0  13.33  \n",
       "7  11.20  \n",
       "6   8.00  \n",
       "2   7.00  \n",
       "1   2.00  \n",
       "5   1.33  \n",
       "3   1.12  \n",
       "4   1.00  "
      ]
     },
     "metadata": {},
     "output_type": "display_data"
    }
   ],
   "source": [
    "hypo['ICE'] = round((hypo['impact'] * hypo['confidence']) / hypo['efforts'],2)\n",
    "display(hypo[['hypothesis', 'ICE']].sort_values(by='ICE', ascending=False))"
   ]
  },
  {
   "cell_type": "markdown",
   "metadata": {},
   "source": [
    "Как мы видим, наиболее высокий показатель ICE у гипотезы №9. Также среди наиболее приоритетных гипотез по этому показателю можно выделить гипотезы под номером 1, 8, 7."
   ]
  },
  {
   "cell_type": "markdown",
   "metadata": {},
   "source": [
    "### Приоритизация гипотез с помощью фреймворка RICE"
   ]
  },
  {
   "cell_type": "markdown",
   "metadata": {},
   "source": [
    "У первого метода есть модификация RICE (R от англ. reach, «охват»). В этом фреймворке мы учитываем оценку охвата пользователей, на которых влияют результаты гипотезы. Рассчитывается он аналогично - к произведению impact и confidence мы добовляем reach и делим на efforts."
   ]
  },
  {
   "cell_type": "code",
   "execution_count": 5,
   "metadata": {},
   "outputs": [
    {
     "data": {
      "text/html": [
       "<div>\n",
       "<style scoped>\n",
       "    .dataframe tbody tr th:only-of-type {\n",
       "        vertical-align: middle;\n",
       "    }\n",
       "\n",
       "    .dataframe tbody tr th {\n",
       "        vertical-align: top;\n",
       "    }\n",
       "\n",
       "    .dataframe thead th {\n",
       "        text-align: right;\n",
       "    }\n",
       "</style>\n",
       "<table border=\"1\" class=\"dataframe\">\n",
       "  <thead>\n",
       "    <tr style=\"text-align: right;\">\n",
       "      <th></th>\n",
       "      <th>hypothesis</th>\n",
       "      <th>RICE</th>\n",
       "    </tr>\n",
       "  </thead>\n",
       "  <tbody>\n",
       "    <tr>\n",
       "      <th>7</th>\n",
       "      <td>Добавить форму подписки на все основные страницы, чтобы собрать базу клиентов для email-рассылок</td>\n",
       "      <td>112.0</td>\n",
       "    </tr>\n",
       "    <tr>\n",
       "      <th>2</th>\n",
       "      <td>Добавить блоки рекомендаций товаров на сайт интернет магазина, чтобы повысить конверсию и средний чек заказа</td>\n",
       "      <td>56.0</td>\n",
       "    </tr>\n",
       "    <tr>\n",
       "      <th>0</th>\n",
       "      <td>Добавить два новых канала привлечения трафика, что позволит привлекать на 30% больше пользователей</td>\n",
       "      <td>40.0</td>\n",
       "    </tr>\n",
       "    <tr>\n",
       "      <th>6</th>\n",
       "      <td>Показать на главной странице баннеры с актуальными акциями и распродажами, чтобы увеличить конверсию</td>\n",
       "      <td>40.0</td>\n",
       "    </tr>\n",
       "    <tr>\n",
       "      <th>8</th>\n",
       "      <td>Запустить акцию, дающую скидку на товар в день рождения</td>\n",
       "      <td>16.2</td>\n",
       "    </tr>\n",
       "    <tr>\n",
       "      <th>3</th>\n",
       "      <td>Изменить структура категорий, что увеличит конверсию, т.к. пользователи быстрее найдут нужный товар</td>\n",
       "      <td>9.0</td>\n",
       "    </tr>\n",
       "    <tr>\n",
       "      <th>1</th>\n",
       "      <td>Запустить собственную службу доставки, что сократит срок доставки заказов</td>\n",
       "      <td>4.0</td>\n",
       "    </tr>\n",
       "    <tr>\n",
       "      <th>5</th>\n",
       "      <td>Добавить страницу отзывов клиентов о магазине, что позволит увеличить количество заказов</td>\n",
       "      <td>4.0</td>\n",
       "    </tr>\n",
       "    <tr>\n",
       "      <th>4</th>\n",
       "      <td>Изменить цвет фона главной страницы, чтобы увеличить вовлеченность пользователей</td>\n",
       "      <td>3.0</td>\n",
       "    </tr>\n",
       "  </tbody>\n",
       "</table>\n",
       "</div>"
      ],
      "text/plain": [
       "                                                                                                     hypothesis  \\\n",
       "7              Добавить форму подписки на все основные страницы, чтобы собрать базу клиентов для email-рассылок   \n",
       "2  Добавить блоки рекомендаций товаров на сайт интернет магазина, чтобы повысить конверсию и средний чек заказа   \n",
       "0            Добавить два новых канала привлечения трафика, что позволит привлекать на 30% больше пользователей   \n",
       "6          Показать на главной странице баннеры с актуальными акциями и распродажами, чтобы увеличить конверсию   \n",
       "8                                                       Запустить акцию, дающую скидку на товар в день рождения   \n",
       "3           Изменить структура категорий, что увеличит конверсию, т.к. пользователи быстрее найдут нужный товар   \n",
       "1                                     Запустить собственную службу доставки, что сократит срок доставки заказов   \n",
       "5                      Добавить страницу отзывов клиентов о магазине, что позволит увеличить количество заказов   \n",
       "4                              Изменить цвет фона главной страницы, чтобы увеличить вовлеченность пользователей   \n",
       "\n",
       "    RICE  \n",
       "7  112.0  \n",
       "2   56.0  \n",
       "0   40.0  \n",
       "6   40.0  \n",
       "8   16.2  \n",
       "3    9.0  \n",
       "1    4.0  \n",
       "5    4.0  \n",
       "4    3.0  "
      ]
     },
     "metadata": {},
     "output_type": "display_data"
    }
   ],
   "source": [
    "hypo['RICE'] = (hypo['reach'] * hypo['impact'] * hypo['confidence']) / hypo['efforts']\n",
    "display(hypo[['hypothesis', 'RICE']].sort_values(by='RICE', ascending=False))"
   ]
  },
  {
   "cell_type": "markdown",
   "metadata": {},
   "source": [
    "Наиболее приоритетные гипотезы по фреймворку RICE - 8, 3, 1, 7. Причём гипотеза под номером 8 значительно лидирует по этому показателю - показатель в 2 раза больше RICE у гипотезы №3, которая находится на втором месте."
   ]
  },
  {
   "cell_type": "markdown",
   "metadata": {},
   "source": [
    "### Изменение приоритизации гипотез при использовании разных фреймворков"
   ]
  },
  {
   "cell_type": "markdown",
   "metadata": {},
   "source": [
    "Как мы видим - результаты в обоих таблицах значительно различаются в нескольких аспектах: \n",
    "\n",
    "1. Порядок распределения гипотез меняется в зависимости от фреймворка.\n",
    "Когда мы посчитали ICE в первой четвёрке приоритетных гипотез оказались номера 9, 1, 8, 7. После смены фреймворка на RICE позиции четырёх приоритетных гипотез поменялись - наиболее приоритетными гипотезами стали 8, 3, 1, 7. Как мы видим в фреймворке RICE остались гипотезы под номером 1, 7, 8, среди которых приоритет не поменяла гипотеза под номером 7 - она на 4 месте. Также стоит отметить, что четверка наименее приоритетных гипотез осталась в пределах наименее приоритетных гипотез, это связано с тем, что лишь один фактор аудитории не может увеличить низкие показатели по другим метрикам. \n",
    "\n",
    "2. Разрыв в распределении показателей по ICE и RICE увеличился. \n",
    "Как можно заметить при использовании фреймворка ICE разрыв в показателях не такой большой, как при фреймворке RICE - разница в первых трёх наиболее приоритетных гипотезах буквально несколько единиц в первом случае, во втором же показатели различаются в 2-3 раза. Также наиболее приоритетная гипотеза имеет в 16 раз выше показатель, чем наименее приоритетная гипотеза в первом случае, во втором случае наиболее приоритетная гипотеза имеет показатель в 37 раз выше минимального.\n",
    "\n",
    "\n",
    "Все изменения выше можно объяснить тем, что мы добавили дополнительную метрику при приоритизации гипотез - Reach (охват), то есть скольких пользователей затронет изменение, которое хотят ввести в гипотезе. Перестановка приоритетов, как и разрыв в показателях связаны именно с этим. Данную метрику необходимо включать, когда изменения в гипотезах влияют на охват пользователей, когда нам нужно приоритизировать гипотезы с учётом того, на скольких пользователей влияют изменения.\n",
    "\n",
    "Из за того, что охват пользователей может влиять на работу интернет магазина, **лучше приоритизировать гипотезы в соответствии с фреймворком RICE**, и, соответственно, первая гипотеза, которую стоит проверить находится под **номером 8** (7 если считаем от 0)."
   ]
  },
  {
   "cell_type": "markdown",
   "metadata": {},
   "source": [
    "## Анализ A/B-теста"
   ]
  },
  {
   "cell_type": "code",
   "execution_count": 6,
   "metadata": {},
   "outputs": [
    {
     "data": {
      "text/html": [
       "<div>\n",
       "<style scoped>\n",
       "    .dataframe tbody tr th:only-of-type {\n",
       "        vertical-align: middle;\n",
       "    }\n",
       "\n",
       "    .dataframe tbody tr th {\n",
       "        vertical-align: top;\n",
       "    }\n",
       "\n",
       "    .dataframe thead th {\n",
       "        text-align: right;\n",
       "    }\n",
       "</style>\n",
       "<table border=\"1\" class=\"dataframe\">\n",
       "  <thead>\n",
       "    <tr style=\"text-align: right;\">\n",
       "      <th></th>\n",
       "      <th>transactionId</th>\n",
       "      <th>visitorId</th>\n",
       "      <th>date</th>\n",
       "      <th>revenue</th>\n",
       "      <th>group</th>\n",
       "    </tr>\n",
       "  </thead>\n",
       "  <tbody>\n",
       "    <tr>\n",
       "      <th>0</th>\n",
       "      <td>3667963787</td>\n",
       "      <td>3312258926</td>\n",
       "      <td>2019-08-15</td>\n",
       "      <td>1650</td>\n",
       "      <td>B</td>\n",
       "    </tr>\n",
       "    <tr>\n",
       "      <th>1</th>\n",
       "      <td>2804400009</td>\n",
       "      <td>3642806036</td>\n",
       "      <td>2019-08-15</td>\n",
       "      <td>730</td>\n",
       "      <td>B</td>\n",
       "    </tr>\n",
       "    <tr>\n",
       "      <th>2</th>\n",
       "      <td>2961555356</td>\n",
       "      <td>4069496402</td>\n",
       "      <td>2019-08-15</td>\n",
       "      <td>400</td>\n",
       "      <td>A</td>\n",
       "    </tr>\n",
       "    <tr>\n",
       "      <th>3</th>\n",
       "      <td>3797467345</td>\n",
       "      <td>1196621759</td>\n",
       "      <td>2019-08-15</td>\n",
       "      <td>9759</td>\n",
       "      <td>B</td>\n",
       "    </tr>\n",
       "    <tr>\n",
       "      <th>4</th>\n",
       "      <td>2282983706</td>\n",
       "      <td>2322279887</td>\n",
       "      <td>2019-08-15</td>\n",
       "      <td>2308</td>\n",
       "      <td>B</td>\n",
       "    </tr>\n",
       "  </tbody>\n",
       "</table>\n",
       "</div>"
      ],
      "text/plain": [
       "   transactionId   visitorId        date  revenue group\n",
       "0     3667963787  3312258926  2019-08-15     1650     B\n",
       "1     2804400009  3642806036  2019-08-15      730     B\n",
       "2     2961555356  4069496402  2019-08-15      400     A\n",
       "3     3797467345  1196621759  2019-08-15     9759     B\n",
       "4     2282983706  2322279887  2019-08-15     2308     B"
      ]
     },
     "metadata": {},
     "output_type": "display_data"
    },
    {
     "data": {
      "text/html": [
       "<div>\n",
       "<style scoped>\n",
       "    .dataframe tbody tr th:only-of-type {\n",
       "        vertical-align: middle;\n",
       "    }\n",
       "\n",
       "    .dataframe tbody tr th {\n",
       "        vertical-align: top;\n",
       "    }\n",
       "\n",
       "    .dataframe thead th {\n",
       "        text-align: right;\n",
       "    }\n",
       "</style>\n",
       "<table border=\"1\" class=\"dataframe\">\n",
       "  <thead>\n",
       "    <tr style=\"text-align: right;\">\n",
       "      <th></th>\n",
       "      <th>date</th>\n",
       "      <th>group</th>\n",
       "      <th>visitors</th>\n",
       "    </tr>\n",
       "  </thead>\n",
       "  <tbody>\n",
       "    <tr>\n",
       "      <th>0</th>\n",
       "      <td>2019-08-01</td>\n",
       "      <td>A</td>\n",
       "      <td>719</td>\n",
       "    </tr>\n",
       "    <tr>\n",
       "      <th>1</th>\n",
       "      <td>2019-08-02</td>\n",
       "      <td>A</td>\n",
       "      <td>619</td>\n",
       "    </tr>\n",
       "    <tr>\n",
       "      <th>2</th>\n",
       "      <td>2019-08-03</td>\n",
       "      <td>A</td>\n",
       "      <td>507</td>\n",
       "    </tr>\n",
       "    <tr>\n",
       "      <th>3</th>\n",
       "      <td>2019-08-04</td>\n",
       "      <td>A</td>\n",
       "      <td>717</td>\n",
       "    </tr>\n",
       "    <tr>\n",
       "      <th>4</th>\n",
       "      <td>2019-08-05</td>\n",
       "      <td>A</td>\n",
       "      <td>756</td>\n",
       "    </tr>\n",
       "  </tbody>\n",
       "</table>\n",
       "</div>"
      ],
      "text/plain": [
       "         date group  visitors\n",
       "0  2019-08-01     A       719\n",
       "1  2019-08-02     A       619\n",
       "2  2019-08-03     A       507\n",
       "3  2019-08-04     A       717\n",
       "4  2019-08-05     A       756"
      ]
     },
     "metadata": {},
     "output_type": "display_data"
    },
    {
     "name": "stdout",
     "output_type": "stream",
     "text": [
      "<class 'pandas.core.frame.DataFrame'>\n",
      "RangeIndex: 1197 entries, 0 to 1196\n",
      "Data columns (total 5 columns):\n",
      " #   Column         Non-Null Count  Dtype \n",
      "---  ------         --------------  ----- \n",
      " 0   transactionId  1197 non-null   int64 \n",
      " 1   visitorId      1197 non-null   int64 \n",
      " 2   date           1197 non-null   object\n",
      " 3   revenue        1197 non-null   int64 \n",
      " 4   group          1197 non-null   object\n",
      "dtypes: int64(3), object(2)\n",
      "memory usage: 46.9+ KB\n"
     ]
    },
    {
     "data": {
      "text/plain": [
       "None"
      ]
     },
     "metadata": {},
     "output_type": "display_data"
    },
    {
     "name": "stdout",
     "output_type": "stream",
     "text": [
      "<class 'pandas.core.frame.DataFrame'>\n",
      "RangeIndex: 62 entries, 0 to 61\n",
      "Data columns (total 3 columns):\n",
      " #   Column    Non-Null Count  Dtype \n",
      "---  ------    --------------  ----- \n",
      " 0   date      62 non-null     object\n",
      " 1   group     62 non-null     object\n",
      " 2   visitors  62 non-null     int64 \n",
      "dtypes: int64(1), object(2)\n",
      "memory usage: 1.6+ KB\n"
     ]
    },
    {
     "data": {
      "text/plain": [
       "None"
      ]
     },
     "metadata": {},
     "output_type": "display_data"
    }
   ],
   "source": [
    "#загрузим данные\n",
    "orders = pd.read_csv('/datasets/orders.csv')\n",
    "visitors = pd.read_csv('/datasets/visitors.csv')\n",
    "\n",
    "display(orders.head())\n",
    "display(visitors.head())\n",
    "\n",
    "display(orders.info())\n",
    "display(visitors.info())"
   ]
  },
  {
   "cell_type": "code",
   "execution_count": 7,
   "metadata": {},
   "outputs": [
    {
     "name": "stdout",
     "output_type": "stream",
     "text": [
      "0\n",
      "0\n",
      "<class 'pandas.core.frame.DataFrame'>\n",
      "RangeIndex: 1197 entries, 0 to 1196\n",
      "Data columns (total 5 columns):\n",
      " #   Column          Non-Null Count  Dtype         \n",
      "---  ------          --------------  -----         \n",
      " 0   transaction_id  1197 non-null   int64         \n",
      " 1   visitor_id      1197 non-null   int64         \n",
      " 2   date            1197 non-null   datetime64[ns]\n",
      " 3   revenue         1197 non-null   int64         \n",
      " 4   group           1197 non-null   object        \n",
      "dtypes: datetime64[ns](1), int64(3), object(1)\n",
      "memory usage: 46.9+ KB\n"
     ]
    },
    {
     "data": {
      "text/plain": [
       "None"
      ]
     },
     "metadata": {},
     "output_type": "display_data"
    },
    {
     "name": "stdout",
     "output_type": "stream",
     "text": [
      "<class 'pandas.core.frame.DataFrame'>\n",
      "RangeIndex: 62 entries, 0 to 61\n",
      "Data columns (total 3 columns):\n",
      " #   Column    Non-Null Count  Dtype         \n",
      "---  ------    --------------  -----         \n",
      " 0   date      62 non-null     datetime64[ns]\n",
      " 1   group     62 non-null     object        \n",
      " 2   visitors  62 non-null     int64         \n",
      "dtypes: datetime64[ns](1), int64(1), object(1)\n",
      "memory usage: 1.6+ KB\n"
     ]
    },
    {
     "data": {
      "text/plain": [
       "None"
      ]
     },
     "metadata": {},
     "output_type": "display_data"
    }
   ],
   "source": [
    "#переименуем столбцы, выполним проверку на дубликаты, а также приведем столбцы date к типу datetime\n",
    "orders = orders.rename(columns={'transactionId': 'transaction_id', 'visitorId': 'visitor_id'})\n",
    "\n",
    "orders['date'] = orders['date'].map(lambda x: dt.datetime.strptime(x, '%Y-%m-%d'))\n",
    "visitors['date'] = visitors['date'].map(lambda x: dt.datetime.strptime(x, '%Y-%m-%d'))\n",
    "\n",
    "\n",
    "print(orders.duplicated().sum())\n",
    "print(visitors.duplicated().sum())\n",
    "\n",
    "\n",
    "display(orders.info())\n",
    "display(visitors.info())"
   ]
  },
  {
   "cell_type": "code",
   "execution_count": 8,
   "metadata": {},
   "outputs": [
    {
     "name": "stdout",
     "output_type": "stream",
     "text": [
      "Число посетителей, которые находятся в обеих группах: 58\n"
     ]
    }
   ],
   "source": [
    "# Получаем уникальные visitor_id для каждой группы\n",
    "group_a_visitors = set(orders[orders['group'] == 'A']['visitor_id'])\n",
    "group_b_visitors = set(orders[orders['group'] == 'B']['visitor_id'])\n",
    "\n",
    "# Находим пересечение между группами\n",
    "common_visitors = group_a_visitors.intersection(group_b_visitors)\n",
    "\n",
    "if common_visitors:\n",
    "    print(\"Число посетителей, которые находятся в обеих группах:\", len(common_visitors))\n",
    "else:\n",
    "    print(\"Нет посетителей, которые находятся в обеих группах.\")"
   ]
  },
  {
   "cell_type": "markdown",
   "metadata": {},
   "source": [
    "### График кумулятивной выручки по группам"
   ]
  },
  {
   "cell_type": "markdown",
   "metadata": {},
   "source": [
    "Создадим таблицу cumulative_data куммулятивных данных по обеим таблицам"
   ]
  },
  {
   "cell_type": "code",
   "execution_count": 9,
   "metadata": {},
   "outputs": [],
   "source": [
    "# создаем массив уникальных пар значений дат и групп теста\n",
    "dates_groups = orders[['date','group']].drop_duplicates()"
   ]
  },
  {
   "cell_type": "code",
   "execution_count": 10,
   "metadata": {},
   "outputs": [
    {
     "data": {
      "text/html": [
       "<div>\n",
       "<style scoped>\n",
       "    .dataframe tbody tr th:only-of-type {\n",
       "        vertical-align: middle;\n",
       "    }\n",
       "\n",
       "    .dataframe tbody tr th {\n",
       "        vertical-align: top;\n",
       "    }\n",
       "\n",
       "    .dataframe thead th {\n",
       "        text-align: right;\n",
       "    }\n",
       "</style>\n",
       "<table border=\"1\" class=\"dataframe\">\n",
       "  <thead>\n",
       "    <tr style=\"text-align: right;\">\n",
       "      <th></th>\n",
       "      <th>date</th>\n",
       "      <th>group</th>\n",
       "      <th>orders</th>\n",
       "      <th>buyers</th>\n",
       "      <th>revenue</th>\n",
       "      <th>visitors</th>\n",
       "    </tr>\n",
       "  </thead>\n",
       "  <tbody>\n",
       "    <tr>\n",
       "      <th>0</th>\n",
       "      <td>2019-08-01</td>\n",
       "      <td>A</td>\n",
       "      <td>24</td>\n",
       "      <td>20</td>\n",
       "      <td>148579</td>\n",
       "      <td>719</td>\n",
       "    </tr>\n",
       "    <tr>\n",
       "      <th>1</th>\n",
       "      <td>2019-08-01</td>\n",
       "      <td>B</td>\n",
       "      <td>21</td>\n",
       "      <td>20</td>\n",
       "      <td>101217</td>\n",
       "      <td>713</td>\n",
       "    </tr>\n",
       "    <tr>\n",
       "      <th>2</th>\n",
       "      <td>2019-08-02</td>\n",
       "      <td>A</td>\n",
       "      <td>44</td>\n",
       "      <td>38</td>\n",
       "      <td>242401</td>\n",
       "      <td>1338</td>\n",
       "    </tr>\n",
       "    <tr>\n",
       "      <th>3</th>\n",
       "      <td>2019-08-02</td>\n",
       "      <td>B</td>\n",
       "      <td>45</td>\n",
       "      <td>43</td>\n",
       "      <td>266748</td>\n",
       "      <td>1294</td>\n",
       "    </tr>\n",
       "    <tr>\n",
       "      <th>4</th>\n",
       "      <td>2019-08-03</td>\n",
       "      <td>A</td>\n",
       "      <td>68</td>\n",
       "      <td>62</td>\n",
       "      <td>354874</td>\n",
       "      <td>1845</td>\n",
       "    </tr>\n",
       "  </tbody>\n",
       "</table>\n",
       "</div>"
      ],
      "text/plain": [
       "        date group  orders  buyers  revenue  visitors\n",
       "0 2019-08-01     A      24      20   148579       719\n",
       "1 2019-08-01     B      21      20   101217       713\n",
       "2 2019-08-02     A      44      38   242401      1338\n",
       "3 2019-08-02     B      45      43   266748      1294\n",
       "4 2019-08-03     A      68      62   354874      1845"
      ]
     },
     "metadata": {},
     "output_type": "display_data"
    }
   ],
   "source": [
    "# получаем агрегированные кумулятивные по дням данные о заказах \n",
    "orders_aggregated = dates_groups.apply(lambda x: orders[np.logical_and(orders['date'] <= x['date'], orders['group'] == x['group'])]\\\n",
    ".agg({'date' : 'max', 'group' : 'max', 'transaction_id' : 'nunique', 'visitor_id' : 'nunique', 'revenue' : 'sum'}), axis=1).sort_values(by=['date','group'])\n",
    "\n",
    "# получаем агрегированные кумулятивные по дням данные о посетителях интернет-магазина \n",
    "visitors_aggregated = dates_groups.apply(lambda x: visitors[np.logical_and(visitors['date'] <= x['date'], visitors['group'] == x['group'])].agg({'date' : 'max', 'group' : 'max', 'visitors' : 'sum'}), axis=1).sort_values(by=['date','group'])\n",
    "\n",
    "\n",
    "# объединяем кумулятивные данные в одной таблице и присваиваем ее столбцам понятные названия\n",
    "cumulative_data = orders_aggregated.merge(visitors_aggregated, left_on=['date', 'group'], right_on=['date', 'group'])\n",
    "cumulative_data.columns = ['date', 'group', 'orders', 'buyers', 'revenue', 'visitors']\n",
    "\n",
    "display(cumulative_data.head(5)) \n"
   ]
  },
  {
   "cell_type": "code",
   "execution_count": 11,
   "metadata": {},
   "outputs": [
    {
     "name": "stdout",
     "output_type": "stream",
     "text": [
      "Min date in orders: 2019-08-01 00:00:00\n",
      "Max date in orders: 2019-08-31 00:00:00\n",
      "Min date in visitors: 2019-08-01 00:00:00\n",
      "Max date in visitors: 2019-08-31 00:00:00\n",
      "Min date in cumulative_data: 2019-08-01 00:00:00\n",
      "Max date in cumulative_data: 2019-08-31 00:00:00\n",
      "Датафрейм cumulative_data создан корректно.\n"
     ]
    }
   ],
   "source": [
    "# Проверка корректности создания cumulative_data\n",
    "min_date_orders = orders['date'].min()\n",
    "max_date_orders = orders['date'].max()\n",
    "min_date_visitors = visitors['date'].min()\n",
    "max_date_visitors = visitors['date'].max()\n",
    "\n",
    "min_date_cumulative = cumulative_data['date'].min()\n",
    "max_date_cumulative = cumulative_data['date'].max()\n",
    "\n",
    "print(\"Min date in orders:\", min_date_orders)\n",
    "print(\"Max date in orders:\", max_date_orders)\n",
    "print(\"Min date in visitors:\", min_date_visitors)\n",
    "print(\"Max date in visitors:\", max_date_visitors)\n",
    "print(\"Min date in cumulative_data:\", min_date_cumulative)\n",
    "print(\"Max date in cumulative_data:\", max_date_cumulative)\n",
    "\n",
    "if (min_date_cumulative == min_date_orders == min_date_visitors) and (max_date_cumulative == max_date_orders == max_date_visitors):\n",
    "    print(\"Датафрейм cumulative_data создан корректно.\")\n",
    "else:\n",
    "    print(\"Ошибка в создании датафрейма cumulative_data.\")"
   ]
  },
  {
   "cell_type": "code",
   "execution_count": 12,
   "metadata": {},
   "outputs": [
    {
     "data": {
      "image/png": "[encoded data removed]",
      "text/plain": [
       "<Figure size 1080x576 with 1 Axes>"
      ]
     },
     "metadata": {
      "needs_background": "light"
     },
     "output_type": "display_data"
    }
   ],
   "source": [
    "# датафрейм с кумулятивным количеством заказов и кумулятивной выручкой по дням в группе А\n",
    "cumulative_revenue_a = cumulative_data[cumulative_data['group']=='A'][['date','revenue', 'orders']]\n",
    "\n",
    "# датафрейм с кумулятивным количеством заказов и кумулятивной выручкой по дням в группе B\n",
    "cumulative_revenue_b = cumulative_data[cumulative_data['group']=='B'][['date','revenue', 'orders']]\n",
    "\n",
    "#задаем размер графику\n",
    "plt.figure(figsize=(15,8))\n",
    "\n",
    "# Строим график выручки группы А\n",
    "plt.plot(cumulative_revenue_a['date'], cumulative_revenue_a['revenue'], label='A')\n",
    "\n",
    "# Строим график выручки группы B\n",
    "plt.plot(cumulative_revenue_b['date'], cumulative_revenue_b['revenue'], label='B')\n",
    "\n",
    "plt.grid()\n",
    "\n",
    "plt.xlabel('Дата')\n",
    "plt.ylabel('Выручка')\n",
    "plt.title('График кумулятивной выручки по группам А и В')\n",
    "\n",
    "plt.legend() \n",
    "\n",
    "plt.show()"
   ]
  },
  {
   "cell_type": "markdown",
   "metadata": {},
   "source": [
    "Как можно заметить на графике, первая половина месяца сопровождалась равномерным ростом - рост выручки мало чем отличался у обеих групп (разве что у группы B выручка росла чуть быстрее). Но со второй половины месяца выручка у группы В значительно вырастает - в период с 18 по 20 число происходит резкий рост выручки. Скорее всего его можно объянить значительным увеличением заказов, либо несколькими крупными заказами. Скорее всего без этого всплеска выручка росла бы примерно одинаково у каждой из групп. \n",
    "\n",
    "Проверим это - выведем медиану для заказов в период с 18 по 20 августа, и выведем самые крупные заказы в эти дни."
   ]
  },
  {
   "cell_type": "code",
   "execution_count": 13,
   "metadata": {
    "scrolled": true
   },
   "outputs": [
    {
     "name": "stdout",
     "output_type": "stream",
     "text": [
      "Медианное значение заказов в период с 18 по 20 августа: 3342.0\n"
     ]
    },
    {
     "data": {
      "text/html": [
       "<div>\n",
       "<style scoped>\n",
       "    .dataframe tbody tr th:only-of-type {\n",
       "        vertical-align: middle;\n",
       "    }\n",
       "\n",
       "    .dataframe tbody tr th {\n",
       "        vertical-align: top;\n",
       "    }\n",
       "\n",
       "    .dataframe thead th {\n",
       "        text-align: right;\n",
       "    }\n",
       "</style>\n",
       "<table border=\"1\" class=\"dataframe\">\n",
       "  <thead>\n",
       "    <tr style=\"text-align: right;\">\n",
       "      <th></th>\n",
       "      <th>transaction_id</th>\n",
       "      <th>visitor_id</th>\n",
       "      <th>date</th>\n",
       "      <th>revenue</th>\n",
       "      <th>group</th>\n",
       "    </tr>\n",
       "  </thead>\n",
       "  <tbody>\n",
       "    <tr>\n",
       "      <th>425</th>\n",
       "      <td>590470918</td>\n",
       "      <td>1920142716</td>\n",
       "      <td>2019-08-19</td>\n",
       "      <td>1294500</td>\n",
       "      <td>B</td>\n",
       "    </tr>\n",
       "    <tr>\n",
       "      <th>949</th>\n",
       "      <td>1347999392</td>\n",
       "      <td>887908475</td>\n",
       "      <td>2019-08-21</td>\n",
       "      <td>60450</td>\n",
       "      <td>A</td>\n",
       "    </tr>\n",
       "    <tr>\n",
       "      <th>530</th>\n",
       "      <td>3970235543</td>\n",
       "      <td>2912540959</td>\n",
       "      <td>2019-08-19</td>\n",
       "      <td>43990</td>\n",
       "      <td>A</td>\n",
       "    </tr>\n",
       "    <tr>\n",
       "      <th>751</th>\n",
       "      <td>348143148</td>\n",
       "      <td>689129267</td>\n",
       "      <td>2019-08-20</td>\n",
       "      <td>37150</td>\n",
       "      <td>B</td>\n",
       "    </tr>\n",
       "    <tr>\n",
       "      <th>527</th>\n",
       "      <td>1570513684</td>\n",
       "      <td>2837914161</td>\n",
       "      <td>2019-08-19</td>\n",
       "      <td>33405</td>\n",
       "      <td>B</td>\n",
       "    </tr>\n",
       "  </tbody>\n",
       "</table>\n",
       "</div>"
      ],
      "text/plain": [
       "     transaction_id  visitor_id       date  revenue group\n",
       "425       590470918  1920142716 2019-08-19  1294500     B\n",
       "949      1347999392   887908475 2019-08-21    60450     A\n",
       "530      3970235543  2912540959 2019-08-19    43990     A\n",
       "751       348143148   689129267 2019-08-20    37150     B\n",
       "527      1570513684  2837914161 2019-08-19    33405     B"
      ]
     },
     "execution_count": 13,
     "metadata": {},
     "output_type": "execute_result"
    }
   ],
   "source": [
    "print('Медианное значение заказов в период с 18 по 20 августа:',orders.query(' \"2019-08-17\" <= date <= \"2019-08-21\" ')['revenue'].median())\n",
    "orders.query(' \"2019-08-17\" <= date <= \"2019-08-21\" ').sort_values(by='revenue', ascending=False).head()"
   ]
  },
  {
   "cell_type": "markdown",
   "metadata": {},
   "source": [
    "Как мы видим, заказ под номером 425 меняет всю картину - заказ на 1.3 миллиона может объяснить такой прирост выручки и среднего чека в эти дни. Для сравнения - медиана в период с 18 по 20 августа составляла 3.3 тысячи рублей, а максимальная цена других заказов не превышает 65 тысяч рублей. Поэтому 425 заказ следует учитывать в дальнейших расчётах."
   ]
  },
  {
   "cell_type": "markdown",
   "metadata": {},
   "source": [
    "###  График кумулятивного среднего чека по группам."
   ]
  },
  {
   "cell_type": "code",
   "execution_count": 14,
   "metadata": {
    "scrolled": true
   },
   "outputs": [
    {
     "data": {
      "image/png": "[encoded data removed]",
      "text/plain": [
       "<Figure size 1080x576 with 1 Axes>"
      ]
     },
     "metadata": {
      "needs_background": "light"
     },
     "output_type": "display_data"
    }
   ],
   "source": [
    "plt.figure(figsize=(15,8))\n",
    "\n",
    "plt.plot(cumulative_revenue_a['date'], cumulative_revenue_a['revenue']/cumulative_revenue_a['orders'], label='A')\n",
    "\n",
    "plt.plot(cumulative_revenue_b['date'], cumulative_revenue_b['revenue']/cumulative_revenue_b['orders'], label='B')\n",
    "\n",
    "plt.grid()\n",
    "\n",
    "plt.xlabel('Дата')\n",
    "plt.ylabel('Средний чек')\n",
    "plt.title('График кумулятивного среднего чека по группам А и В')\n",
    "\n",
    "plt.legend() \n",
    "\n",
    "plt.show()"
   ]
  },
  {
   "cell_type": "markdown",
   "metadata": {},
   "source": [
    "На данном графике мы наблюдаем схожую картину - в районе 18 и 20 дней мы наблюдаем значительное увеличение среднего чека, также можно увидеть тренд на его снижение после 21 августа, что может говорить, что данное увеличение среднего чека у группы В временное явление и обусловлено лишь резким ростом в два конкретных дня. \n",
    "\n",
    "Также можно увидеть, что средний чек у группы А постепенно растет в первую половину месяца, а 13 августа обгоняет средний чек группы В. После 15 августа средний чек группы А находится примерно на одном уровне, чего нельзя сказать про средний чек группы В."
   ]
  },
  {
   "cell_type": "markdown",
   "metadata": {},
   "source": [
    "### График относительного изменения кумулятивного среднего чека группы B к группе A."
   ]
  },
  {
   "cell_type": "code",
   "execution_count": 15,
   "metadata": {},
   "outputs": [
    {
     "data": {
      "text/plain": [
       "<matplotlib.lines.Line2D at 0x7f3b9526c310>"
      ]
     },
     "execution_count": 15,
     "metadata": {},
     "output_type": "execute_result"
    },
    {
     "data": {
      "image/png": "[encoded data removed]",
      "text/plain": [
       "<Figure size 1080x576 with 1 Axes>"
      ]
     },
     "metadata": {
      "needs_background": "light"
     },
     "output_type": "display_data"
    }
   ],
   "source": [
    "# собираем данные в одном датафрейме\n",
    "merged_cumulative_revenue = cumulative_revenue_a.merge(cumulative_revenue_b, left_on='date', right_on='date', how='left', suffixes=['_a', '_b'])\n",
    "\n",
    "plt.figure(figsize=(15,8))\n",
    "\n",
    "# cтроим отношение средних чеков\n",
    "plt.plot(merged_cumulative_revenue['date'], (merged_cumulative_revenue['revenue_b']/merged_cumulative_revenue['orders_b'])/(merged_cumulative_revenue['revenue_a']/merged_cumulative_revenue['orders_a'])-1)\n",
    "\n",
    "plt.grid()\n",
    "\n",
    "plt.xlabel('Дата')\n",
    "plt.ylabel('Отношение В к А')\n",
    "plt.title('Относительное изменение кумулятивного среднего чека группы B к А')\n",
    "\n",
    "# добавляем ось X\n",
    "plt.axhline(y=0, color='black', linestyle='--')"
   ]
  },
  {
   "cell_type": "markdown",
   "metadata": {},
   "source": [
    "Выводы, которые можно сделать по этому графику аналогичны выводам из предыдущего графика по кумулятивному среднему чеку, но данный график будет более наглядным. Как мы видим, наблюдается волнообразный рост среднего чека у группы В с 1 по 10 августа, дальше идет снижение и уже 13 августа (когда средний чек группы А превышал средний чек группы В) мы наблюдаем минимальный средний чек после 1 августа. Дальше идет постепенный рост и в районе 18 числа мы наблюдаем огромный всплеск среднего чека группы В в сравнении с группой А. \n",
    "\n",
    "Также на этом графике более наглядно виден тренд на снижение среднего чека группы В после 21 августа."
   ]
  },
  {
   "cell_type": "markdown",
   "metadata": {},
   "source": [
    "### График кумулятивного среднего количества заказов на посетителя по группам."
   ]
  },
  {
   "cell_type": "code",
   "execution_count": 16,
   "metadata": {},
   "outputs": [
    {
     "data": {
      "image/png": "[encoded data removed]",
      "text/plain": [
       "<Figure size 1080x360 with 1 Axes>"
      ]
     },
     "metadata": {
      "needs_background": "light"
     },
     "output_type": "display_data"
    }
   ],
   "source": [
    "# считаем среднее количество заказов на посетителя\n",
    "cumulative_data['conversion'] = cumulative_data['orders']/cumulative_data['visitors']\n",
    "\n",
    "# отделяем данные по группе A\n",
    "cumulative_data_a = cumulative_data[cumulative_data['group']=='A']\n",
    "\n",
    "# отделяем данные по группе B\n",
    "cumulative_data_b = cumulative_data[cumulative_data['group']=='B']\n",
    "\n",
    "# строим графики\n",
    "plt.figure(figsize=(15,5))\n",
    "\n",
    "plt.plot(cumulative_data_a['date'], cumulative_data_a['conversion'], label='A')\n",
    "\n",
    "plt.plot(cumulative_data_b['date'], cumulative_data_b['conversion'], label='B')\n",
    "\n",
    "plt.grid()\n",
    "\n",
    "plt.xlabel('Дата')\n",
    "plt.ylabel('Конверсия')\n",
    "plt.title('График кумулятивного среднего количества заказов на посетителя по группам')\n",
    "\n",
    "plt.legend()\n",
    "\n",
    "plt.show()"
   ]
  },
  {
   "cell_type": "markdown",
   "metadata": {},
   "source": [
    "Как можно заметить из данного графика, конверсия группы А в первую неделю августа была больше, чем у группы В (кроме 2 августа, в тот  день у группы В конверсия была выше), также максимальная конверсия была у группы А 3 августа, однако после 5 августа мы наблюдаем тренд на снижение конверсии, а уже после 10 августа наблюдается стабилизация этого тренда и конверсия находится в районе 0.030 - 0.031. В группе В после 5 августа наоборот наблюдается тренд на повышение конверсии, а стабилизация конверсии происходит после 17 августа - значение конверсии в период с 17 по 31 августа находятся между 0.033 и 0.034. "
   ]
  },
  {
   "cell_type": "markdown",
   "metadata": {},
   "source": [
    "### График относительного изменения кумулятивного среднего количества заказов на посетителя группы B к группе A."
   ]
  },
  {
   "cell_type": "code",
   "execution_count": 17,
   "metadata": {},
   "outputs": [
    {
     "data": {
      "image/png": "[encoded data removed]",
      "text/plain": [
       "<Figure size 1080x576 with 1 Axes>"
      ]
     },
     "metadata": {
      "needs_background": "light"
     },
     "output_type": "display_data"
    }
   ],
   "source": [
    "merged_cumulative_conversions = cumulative_data_a[['date','conversion']].merge(cumulative_data_b[['date','conversion']], left_on='date', right_on='date', how='left', suffixes=['_a', '_b'])\n",
    "\n",
    "plt.figure(figsize=(15,8))\n",
    "\n",
    "plt.plot(merged_cumulative_conversions['date'], merged_cumulative_conversions['conversion_b']/merged_cumulative_conversions['conversion_a']-1)\n",
    "\n",
    "plt.grid()\n",
    "\n",
    "plt.xlabel('Дата')\n",
    "plt.ylabel('Отношение В к А')\n",
    "plt.title('Относительный прирост кумулятивного среднего количества заказов на посетителя группы B относительно группы A')\n",
    "\n",
    "plt.axhline(y=0, color='black', linestyle='--')\n",
    "\n",
    "plt.axhline(y=0.15, color='grey', linestyle='--')\n",
    "\n",
    "plt.show()"
   ]
  },
  {
   "cell_type": "markdown",
   "metadata": {},
   "source": [
    "Как мы видим, и как было видно из предыдущего графика, 2 августа среднее количество заказов у группы В было выше, чем у группы А на 5 %, хотя первые 5 дней августа группа А опережает показатели среднего количества заказов у группы В на 5-10%. Однако уже после 8 августа показатели группы В начинают стремительно расти и в своем пике достигают прироста в 21% относительно группы А, однако к концу месяца показатель относительного прироста конверсии группы В стабилизируется в районе 10-15% прироста."
   ]
  },
  {
   "cell_type": "markdown",
   "metadata": {},
   "source": [
    "### Точечный график количества заказов по пользователям."
   ]
  },
  {
   "cell_type": "code",
   "execution_count": 18,
   "metadata": {},
   "outputs": [
    {
     "data": {
      "text/html": [
       "<div>\n",
       "<style scoped>\n",
       "    .dataframe tbody tr th:only-of-type {\n",
       "        vertical-align: middle;\n",
       "    }\n",
       "\n",
       "    .dataframe tbody tr th {\n",
       "        vertical-align: top;\n",
       "    }\n",
       "\n",
       "    .dataframe thead th {\n",
       "        text-align: right;\n",
       "    }\n",
       "</style>\n",
       "<table border=\"1\" class=\"dataframe\">\n",
       "  <thead>\n",
       "    <tr style=\"text-align: right;\">\n",
       "      <th></th>\n",
       "      <th>user_id</th>\n",
       "      <th>orders</th>\n",
       "    </tr>\n",
       "  </thead>\n",
       "  <tbody>\n",
       "    <tr>\n",
       "      <th>1023</th>\n",
       "      <td>4256040402</td>\n",
       "      <td>11</td>\n",
       "    </tr>\n",
       "    <tr>\n",
       "      <th>591</th>\n",
       "      <td>2458001652</td>\n",
       "      <td>11</td>\n",
       "    </tr>\n",
       "    <tr>\n",
       "      <th>569</th>\n",
       "      <td>2378935119</td>\n",
       "      <td>9</td>\n",
       "    </tr>\n",
       "    <tr>\n",
       "      <th>487</th>\n",
       "      <td>2038680547</td>\n",
       "      <td>8</td>\n",
       "    </tr>\n",
       "    <tr>\n",
       "      <th>44</th>\n",
       "      <td>199603092</td>\n",
       "      <td>5</td>\n",
       "    </tr>\n",
       "    <tr>\n",
       "      <th>744</th>\n",
       "      <td>3062433592</td>\n",
       "      <td>5</td>\n",
       "    </tr>\n",
       "    <tr>\n",
       "      <th>55</th>\n",
       "      <td>237748145</td>\n",
       "      <td>5</td>\n",
       "    </tr>\n",
       "    <tr>\n",
       "      <th>917</th>\n",
       "      <td>3803269165</td>\n",
       "      <td>5</td>\n",
       "    </tr>\n",
       "    <tr>\n",
       "      <th>299</th>\n",
       "      <td>1230306981</td>\n",
       "      <td>5</td>\n",
       "    </tr>\n",
       "    <tr>\n",
       "      <th>897</th>\n",
       "      <td>3717692402</td>\n",
       "      <td>5</td>\n",
       "    </tr>\n",
       "  </tbody>\n",
       "</table>\n",
       "</div>"
      ],
      "text/plain": [
       "         user_id  orders\n",
       "1023  4256040402      11\n",
       "591   2458001652      11\n",
       "569   2378935119       9\n",
       "487   2038680547       8\n",
       "44     199603092       5\n",
       "744   3062433592       5\n",
       "55     237748145       5\n",
       "917   3803269165       5\n",
       "299   1230306981       5\n",
       "897   3717692402       5"
      ]
     },
     "metadata": {},
     "output_type": "display_data"
    }
   ],
   "source": [
    "#Подсчитаем количество заказов по пользователям и посмотрим на результат\n",
    "orders_by_users = (orders.groupby('visitor_id', as_index=False).agg({'transaction_id': 'nunique'}))\n",
    "\n",
    "orders_by_users.columns = ['user_id', 'orders']\n",
    "\n",
    "display(orders_by_users.sort_values(by='orders', ascending=False).head(10)) "
   ]
  },
  {
   "cell_type": "markdown",
   "metadata": {},
   "source": [
    "Есть пользователи, которые совершали 5, 8, 9, и 11 заказов. Значительно больше, чем обычный пользователь за неделю. Построим точечную диаграмму числа заказов на одного пользователя:"
   ]
  },
  {
   "cell_type": "code",
   "execution_count": 19,
   "metadata": {},
   "outputs": [
    {
     "data": {
      "image/png": "[encoded data removed]",
      "text/plain": [
       "<Figure size 1080x576 with 1 Axes>"
      ]
     },
     "metadata": {
      "needs_background": "light"
     },
     "output_type": "display_data"
    }
   ],
   "source": [
    "x_values = pd.Series(range(0,len(orders_by_users)))\n",
    "\n",
    "plt.figure(figsize=(15,8))\n",
    "plt.grid()\n",
    "\n",
    "plt.xlabel('Пользователи')\n",
    "plt.ylabel('Количество заказов')\n",
    "plt.title('Точечный график количества заказов по пользователям.')\n",
    "plt.scatter(x_values, orders_by_users['orders'])\n",
    "\n",
    "plt.show()"
   ]
  },
  {
   "cell_type": "markdown",
   "metadata": {},
   "source": [
    "Как можно заметить, больше всего людей делали 1 заказ, тех, кто сделал два заказа уже не так много. Сделавших 3 заказа и больше - единицы, но по графику говорить об аномальных значениях недостаточно, следует проверить это с помощью определения верхних перцентилей."
   ]
  },
  {
   "cell_type": "markdown",
   "metadata": {},
   "source": [
    "### 95-й и 99-й перцентили количества заказов на пользователя. Граница для определения аномальных пользователей."
   ]
  },
  {
   "cell_type": "code",
   "execution_count": 20,
   "metadata": {},
   "outputs": [
    {
     "name": "stdout",
     "output_type": "stream",
     "text": [
      "[1. 2. 4.]\n"
     ]
    }
   ],
   "source": [
    "#посчитаем выборочные перцентили количества заказов на одного пользователя\n",
    "print(np.percentile(orders_by_users['orders'], [90, 95, 99])) "
   ]
  },
  {
   "cell_type": "markdown",
   "metadata": {},
   "source": [
    "Не более 5% пользователей оформляли больше 2х заказов. И 10% пользователей заказывали более одного раза. \n",
    "Разумно выбрать 2 заказа на одного пользователя за верхнюю границу числа заказов, и отсеять аномальных пользователей по ней."
   ]
  },
  {
   "cell_type": "markdown",
   "metadata": {},
   "source": [
    "###  Точечный график стоимостей заказов."
   ]
  },
  {
   "cell_type": "code",
   "execution_count": 21,
   "metadata": {},
   "outputs": [
    {
     "data": {
      "image/png": "[encoded data removed]",
      "text/plain": [
       "<Figure size 1080x576 with 1 Axes>"
      ]
     },
     "metadata": {
      "needs_background": "light"
     },
     "output_type": "display_data"
    }
   ],
   "source": [
    "x_values = pd.Series(range(0,len(orders['revenue'])))\n",
    "\n",
    "\n",
    "plt.figure(figsize=(15,8))\n",
    "plt.grid()\n",
    "plt.xlabel('Пользователи')\n",
    "plt.ylabel('Стоимость заказа')\n",
    "plt.title('Точечный график стоимостей заказов.')\n",
    "plt.scatter(x_values, orders['revenue']) \n",
    "\n",
    "plt.show()"
   ]
  },
  {
   "cell_type": "markdown",
   "metadata": {},
   "source": [
    "Из за аномального заказа 425 масштаб графика не отражает основную массу стоимостей заказов. Построим график без учета заказа на миллион."
   ]
  },
  {
   "cell_type": "code",
   "execution_count": 22,
   "metadata": {},
   "outputs": [
    {
     "data": {
      "image/png": "[encoded data removed]",
      "text/plain": [
       "<Figure size 1080x576 with 1 Axes>"
      ]
     },
     "metadata": {
      "needs_background": "light"
     },
     "output_type": "display_data"
    }
   ],
   "source": [
    "orders_without_anomaly = orders[orders['revenue']<=200000]['revenue']\n",
    "xn_values = pd.Series(range(0,len(orders_without_anomaly)))\n",
    "plt.figure(figsize=(15,8))\n",
    "plt.grid()\n",
    "plt.xlabel('Стоимость заказа')\n",
    "plt.ylabel('Пользователи')\n",
    "plt.title('График стоимостей заказов')\n",
    "plt.scatter(xn_values, orders_without_anomaly);\n",
    "plt.show()"
   ]
  },
  {
   "cell_type": "markdown",
   "metadata": {},
   "source": [
    "Как видно из данного графика, основная масса заказов была сделана в районе до 20 тыс. рублей. Посчитаем персентили, чтобы более точно определить границу аномальных значений."
   ]
  },
  {
   "cell_type": "markdown",
   "metadata": {},
   "source": [
    "### 95-й и 99-й перцентили стоимости заказов. Граница для определения аномальных заказов."
   ]
  },
  {
   "cell_type": "code",
   "execution_count": 23,
   "metadata": {},
   "outputs": [
    {
     "name": "stdout",
     "output_type": "stream",
     "text": [
      "[18168.  28000.  58233.2]\n"
     ]
    }
   ],
   "source": [
    "print(np.percentile(orders['revenue'], [90, 95, 99])) "
   ]
  },
  {
   "cell_type": "markdown",
   "metadata": {},
   "source": [
    "Не более 5% заказов дороже 28000 рублей и не более 1% дороже 58233 рублей. Поставим границу определения аномальных заказов на уровне 99 перцентиля."
   ]
  },
  {
   "cell_type": "markdown",
   "metadata": {},
   "source": [
    "### Статистическая значимость различий в среднем количестве заказов на посетителя между группами по «сырым» данным."
   ]
  },
  {
   "cell_type": "markdown",
   "metadata": {},
   "source": [
    "Посчитаем статистическую значимость различий в среднем числе заказов на посетителя между группами по «сырым» данным — без удаления аномальных пользователей.\n",
    "\n",
    "Сформулируем гипотезы.\n",
    "\n",
    "**Нулевая гипотеза** Статистически значимых различий в среднем количестве заказов на посетителя между группами по \"сырым\" данным нет.\n",
    "\n",
    "**Альтернативная гипотеза** Статистически значимые различия в среднем количестве заказов на посетителя между группами по \"сырым\" данным есть."
   ]
  },
  {
   "cell_type": "code",
   "execution_count": 24,
   "metadata": {},
   "outputs": [
    {
     "data": {
      "text/html": [
       "<div>\n",
       "<style scoped>\n",
       "    .dataframe tbody tr th:only-of-type {\n",
       "        vertical-align: middle;\n",
       "    }\n",
       "\n",
       "    .dataframe tbody tr th {\n",
       "        vertical-align: top;\n",
       "    }\n",
       "\n",
       "    .dataframe thead th {\n",
       "        text-align: right;\n",
       "    }\n",
       "</style>\n",
       "<table border=\"1\" class=\"dataframe\">\n",
       "  <thead>\n",
       "    <tr style=\"text-align: right;\">\n",
       "      <th></th>\n",
       "      <th>date</th>\n",
       "      <th>orders_cummulative_a</th>\n",
       "      <th>revenue_cummulative_a</th>\n",
       "      <th>visitors_cummulative_a</th>\n",
       "      <th>orders_cummulative_b</th>\n",
       "      <th>revenue_cummulative_b</th>\n",
       "      <th>visitors_cummulative_b</th>\n",
       "      <th>visitors_per_date_a</th>\n",
       "      <th>visitors_per_date_b</th>\n",
       "    </tr>\n",
       "  </thead>\n",
       "  <tbody>\n",
       "    <tr>\n",
       "      <th>0</th>\n",
       "      <td>2019-08-01</td>\n",
       "      <td>24</td>\n",
       "      <td>148579</td>\n",
       "      <td>719</td>\n",
       "      <td>21</td>\n",
       "      <td>101217</td>\n",
       "      <td>713</td>\n",
       "      <td>719</td>\n",
       "      <td>713</td>\n",
       "    </tr>\n",
       "    <tr>\n",
       "      <th>1</th>\n",
       "      <td>2019-08-02</td>\n",
       "      <td>44</td>\n",
       "      <td>242401</td>\n",
       "      <td>1338</td>\n",
       "      <td>45</td>\n",
       "      <td>266748</td>\n",
       "      <td>1294</td>\n",
       "      <td>619</td>\n",
       "      <td>581</td>\n",
       "    </tr>\n",
       "    <tr>\n",
       "      <th>2</th>\n",
       "      <td>2019-08-03</td>\n",
       "      <td>68</td>\n",
       "      <td>354874</td>\n",
       "      <td>1845</td>\n",
       "      <td>61</td>\n",
       "      <td>380996</td>\n",
       "      <td>1803</td>\n",
       "      <td>507</td>\n",
       "      <td>509</td>\n",
       "    </tr>\n",
       "    <tr>\n",
       "      <th>3</th>\n",
       "      <td>2019-08-04</td>\n",
       "      <td>84</td>\n",
       "      <td>425699</td>\n",
       "      <td>2562</td>\n",
       "      <td>78</td>\n",
       "      <td>489567</td>\n",
       "      <td>2573</td>\n",
       "      <td>717</td>\n",
       "      <td>770</td>\n",
       "    </tr>\n",
       "    <tr>\n",
       "      <th>4</th>\n",
       "      <td>2019-08-05</td>\n",
       "      <td>109</td>\n",
       "      <td>549917</td>\n",
       "      <td>3318</td>\n",
       "      <td>101</td>\n",
       "      <td>581995</td>\n",
       "      <td>3280</td>\n",
       "      <td>756</td>\n",
       "      <td>707</td>\n",
       "    </tr>\n",
       "  </tbody>\n",
       "</table>\n",
       "</div>"
      ],
      "text/plain": [
       "        date  orders_cummulative_a  revenue_cummulative_a  \\\n",
       "0 2019-08-01                    24                 148579   \n",
       "1 2019-08-02                    44                 242401   \n",
       "2 2019-08-03                    68                 354874   \n",
       "3 2019-08-04                    84                 425699   \n",
       "4 2019-08-05                   109                 549917   \n",
       "\n",
       "   visitors_cummulative_a  orders_cummulative_b  revenue_cummulative_b  \\\n",
       "0                     719                    21                 101217   \n",
       "1                    1338                    45                 266748   \n",
       "2                    1845                    61                 380996   \n",
       "3                    2562                    78                 489567   \n",
       "4                    3318                   101                 581995   \n",
       "\n",
       "   visitors_cummulative_b  visitors_per_date_a  visitors_per_date_b  \n",
       "0                     713                  719                  713  \n",
       "1                    1294                  619                  581  \n",
       "2                    1803                  507                  509  \n",
       "3                    2573                  717                  770  \n",
       "4                    3280                  756                  707  "
      ]
     },
     "metadata": {},
     "output_type": "display_data"
    }
   ],
   "source": [
    "cumulative_data_a = cumulative_data[cumulative_data['group'] == 'A']\n",
    "cumulative_data_b = cumulative_data[cumulative_data['group'] == 'B']\n",
    "\n",
    "data = (\n",
    "    cumulative_data_a[['date', 'orders', 'revenue', 'visitors']]\n",
    "    .rename(columns={'orders': 'orders_cummulative_a', 'revenue': 'revenue_cummulative_a', 'visitors': 'visitors_cummulative_a'})\n",
    "    .merge(\n",
    "        cumulative_data_b[['date', 'orders', 'revenue', 'visitors']].rename(columns={'orders': 'orders_cummulative_b', 'revenue': 'revenue_cummulative_b', 'visitors': 'visitors_cummulative_b'}),\n",
    "        on='date',\n",
    "        how='left'\n",
    "    )\n",
    "    .merge(\n",
    "        visitors[visitors['group'] == 'A'][['date', 'visitors']].rename(columns={'visitors': 'visitors_per_date_a'}),\n",
    "        on='date',\n",
    "        how='left'\n",
    "    )\n",
    "    .merge(\n",
    "        visitors[visitors['group'] == 'B'][['date', 'visitors']].rename(columns={'visitors': 'visitors_per_date_b'}),\n",
    "        on='date',\n",
    "        how='left'\n",
    "    )\n",
    ")\n",
    "\n",
    "display(data.head(5))\n"
   ]
  },
  {
   "cell_type": "markdown",
   "metadata": {},
   "source": [
    "Теперь посчитаем статистическую значимость различия в среднем количестве заказов между группами. Создадим переменные orders_by_users_a и orders_by_users_b со столбцами 'user_id', 'orders'. В них для пользователей, которые заказывали хотя бы 1 раз, укажем число совершённых заказов. "
   ]
  },
  {
   "cell_type": "code",
   "execution_count": 25,
   "metadata": {},
   "outputs": [],
   "source": [
    "orders_by_users_a = (\n",
    "    orders[orders['group'] == 'A']\n",
    "    .groupby('visitor_id', as_index=False)\n",
    "    .agg({'transaction_id': pd.Series.nunique})\n",
    ")\n",
    "orders_by_users_a.columns = ['user_id', 'orders']\n",
    "\n",
    "orders_by_users_b = (\n",
    "    orders[orders['group'] == 'B']\n",
    "    .groupby('visitor_id', as_index=False)\n",
    "    .agg({'transaction_id': pd.Series.nunique})\n",
    ")\n",
    "orders_by_users_b.columns = ['user_id', 'orders']"
   ]
  },
  {
   "cell_type": "markdown",
   "metadata": {},
   "source": [
    "Объявим переменные sample_a и sample_b, в которых пользователям из разных групп будет соответствовать количество заказов. Тем, кто ничего не заказал, будут соответствовать нули. Это нужно, чтобы подготовить выборки к проверке критерием Манна-Уитни."
   ]
  },
  {
   "cell_type": "code",
   "execution_count": 26,
   "metadata": {},
   "outputs": [],
   "source": [
    "sample_a = pd.concat([orders_by_users_a['orders'],pd.Series(0, index=np.arange(data['visitors_per_date_a'].sum() - len(orders_by_users_a['orders'])), name='orders')],axis=0)\n",
    "\n",
    "sample_b = pd.concat([orders_by_users_b['orders'],pd.Series(0, index=np.arange(data['visitors_per_date_b'].sum() - len(orders_by_users_b['orders'])), name='orders')],axis=0)"
   ]
  },
  {
   "cell_type": "code",
   "execution_count": 27,
   "metadata": {},
   "outputs": [
    {
     "name": "stdout",
     "output_type": "stream",
     "text": [
      "Уровень статистической значимости 0.05\n",
      "p-value = 0.017\n",
      "Относительный показатель B и A: 0.138\n"
     ]
    }
   ],
   "source": [
    "#установим уровень статистической значимости alpha\n",
    "alpha = 0.05\n",
    "print('Уровень статистической значимости',alpha)\n",
    "#применим критерий и отформатируем p-value, округлив его до трёх знаков после запятой.\n",
    "print(\"p-value = {0:.3f}\".format(st.mannwhitneyu(sample_a, sample_b)[1]))\n",
    "\n",
    "print(\"Относительный показатель B и A: {0:.3f}\".format(sample_b.mean() / sample_a.mean() - 1))"
   ]
  },
  {
   "cell_type": "markdown",
   "metadata": {},
   "source": [
    "При уровне статистической значимости равном 5% мы должны отвергнуть нулевую гипотезу о том, что различий между группами нет. Также относительный прирост группы B относительно группы А составил 13.8%.\n",
    "Из этого можно сделать вывод о том, что различия по \"сырым\" данным между группами есть."
   ]
  },
  {
   "cell_type": "markdown",
   "metadata": {},
   "source": [
    "### Статистическая значимость различий в среднем чеке заказа между группами по «сырым» данным."
   ]
  },
  {
   "cell_type": "markdown",
   "metadata": {},
   "source": [
    "Теперь проверим статистическую значимость различий в среднем чеке между сегментами.\n",
    "\n",
    "Нулевая гипотеза Статистически значимых различий в среднем чеке заказа между группами по \"сырым\" данным нет.\n",
    "\n",
    "Альтернативная гипотеза Статистически значимые различия в среднем чеке заказа между группами по \"сырым\" данным есть"
   ]
  },
  {
   "cell_type": "code",
   "execution_count": 28,
   "metadata": {},
   "outputs": [
    {
     "name": "stdout",
     "output_type": "stream",
     "text": [
      "p-value = 0.729\n",
      "Относительный показатель B и A: 0.259\n"
     ]
    }
   ],
   "source": [
    "print('p-value = {0:.3f}'.format(st.mannwhitneyu(orders[orders['group']=='A']['revenue'], orders[orders['group']=='B']['revenue'])[1]))\n",
    "print('Относительный показатель B и A: {0:.3f}'.format(orders[orders['group']=='B']['revenue'].mean()/orders[orders['group']=='A']['revenue'].mean()-1))"
   ]
  },
  {
   "cell_type": "markdown",
   "metadata": {},
   "source": [
    "При уровне статистической значимости равном 5% мы принимаем нулевую гипотезу об отсутствии различий между группами. А относительный показатель равный 0.259 говорит о том, что средний чек пользователей из группы B на 25.9% больше, чем у пользователей из группы А.\n",
    "Из этого делаем вывод о том, что различия по \"сырым\" данным между группами А и В в среднем чеке отсутствуют."
   ]
  },
  {
   "cell_type": "markdown",
   "metadata": {},
   "source": [
    "###  Статистическая значимость различий в среднем количестве заказов на посетителя между группами по «очищенным» данным."
   ]
  },
  {
   "cell_type": "markdown",
   "metadata": {},
   "source": [
    "**Нулевая гипотеза** Статистически значимых различий в среднем количестве заказов на посетителя между группами по \"сырым\" данным нет.\n",
    "\n",
    "**Альтернативная гипотеза** Статистически значимые различия в среднем количестве заказов на посетителя между группами по \"сырым\" данным есть.\n",
    "\n",
    "Избавимся от аномальных значений. Напомню, что за границу аномальных значений я выбрал значения **больше двух заказов и дороже 58234 рублей**. "
   ]
  },
  {
   "cell_type": "code",
   "execution_count": 29,
   "metadata": {},
   "outputs": [
    {
     "name": "stdout",
     "output_type": "stream",
     "text": [
      "1099    148427295\n",
      "18      199603092\n",
      "23      237748145\n",
      "37      249864742\n",
      "68      457167155\n",
      "dtype: int64\n",
      "31\n"
     ]
    }
   ],
   "source": [
    "many_orders_threshold = np.percentile(orders_by_users['orders'], 95)\n",
    "expensive_orders_threshold = np.percentile(orders['revenue'], 99)\n",
    "\n",
    "users_with_many_orders = pd.concat(\n",
    "    [\n",
    "        orders_by_users_a[orders_by_users_a['orders'] > many_orders_threshold]['user_id'],\n",
    "        orders_by_users_b[orders_by_users_b['orders'] > many_orders_threshold]['user_id'],\n",
    "    ],\n",
    "    axis=0,\n",
    ")\n",
    "\n",
    "users_with_expensive_orders = orders[orders['revenue'] > expensive_orders_threshold]['visitor_id']\n",
    "\n",
    "abnormal_users = (\n",
    "    pd.concat([users_with_many_orders, users_with_expensive_orders], axis=0)\n",
    "    .drop_duplicates()\n",
    "    .sort_values()\n",
    ")\n",
    "\n",
    "print(abnormal_users.head(5))\n",
    "print(abnormal_users.shape[0])"
   ]
  },
  {
   "cell_type": "markdown",
   "metadata": {},
   "source": [
    "Всего 31 аномальных пользователей. \n",
    "Узнаем, как их действия повлияли на результаты теста. Посчитаем статистическую значимость различий в среднем количестве заказов между группами теста по очищенным данным. Сначала подготовим выборки количества заказов по пользователям по группам теста:"
   ]
  },
  {
   "cell_type": "code",
   "execution_count": 30,
   "metadata": {},
   "outputs": [],
   "source": [
    "sample_a_filtered = pd.concat(\n",
    "    [\n",
    "        orders_by_users_a[\n",
    "            np.logical_not(orders_by_users_a['user_id'].isin(abnormal_users))\n",
    "        ]['orders'],\n",
    "        pd.Series(\n",
    "            0,\n",
    "            index=np.arange(\n",
    "                data['visitors_per_date_a'].sum() - len(orders_by_users_a['orders'])\n",
    "            ),\n",
    "            name='orders',\n",
    "        ),\n",
    "    ],\n",
    "    axis=0,\n",
    ")\n",
    "\n",
    "sample_b_filtered = pd.concat(\n",
    "    [\n",
    "        orders_by_users_b[\n",
    "            np.logical_not(orders_by_users_b['user_id'].isin(abnormal_users))\n",
    "        ]['orders'],\n",
    "        pd.Series(\n",
    "            0,\n",
    "            index=np.arange(\n",
    "                data['visitors_per_date_b'].sum() - len(orders_by_users_b['orders'])\n",
    "            ),\n",
    "            name='orders',\n",
    "        ),\n",
    "    ],\n",
    "    axis=0,\n",
    ")"
   ]
  },
  {
   "cell_type": "markdown",
   "metadata": {},
   "source": [
    "Применим статистический критерий Манна-Уитни к полученным выборкам:"
   ]
  },
  {
   "cell_type": "code",
   "execution_count": 31,
   "metadata": {},
   "outputs": [
    {
     "name": "stdout",
     "output_type": "stream",
     "text": [
      "Уровень статистической значимости 0.05\n",
      "p-value = 0.010\n",
      "Относительный показатель B и A: 0.174\n"
     ]
    }
   ],
   "source": [
    "print('Уровень статистической значимости',alpha)\n",
    "print('p-value = {0:.3f}'.format(st.mannwhitneyu(sample_a_filtered, sample_b_filtered)[1]))\n",
    "print('Относительный показатель B и A: {0:.3f}'.format(sample_b_filtered.mean()/sample_a_filtered.mean()-1))"
   ]
  },
  {
   "cell_type": "markdown",
   "metadata": {},
   "source": [
    "По \"очищенным\" данным мы также отвергаем нулевую гипотезу об отсутствии различий между группами. Также мы наблюдаем прирост относительного показателя B и А - количество заказов в группе В на 17.4 % больше (по \"сырым\" данным этот показатель составлял 13.8%)"
   ]
  },
  {
   "cell_type": "markdown",
   "metadata": {},
   "source": [
    "### Статистическая значимость различий в среднем чеке заказа между группами по «очищенным» данным."
   ]
  },
  {
   "cell_type": "markdown",
   "metadata": {},
   "source": [
    "Применим статистический критерий Манна-Уитни к полученным выборкам, чтобы получить результат по среднему чеку. Гипотезы не изменились.\n",
    "\n",
    "**Нулевая гипотеза** Статистически значимых различий в среднем чеке заказа между группами по \"очищенным\" данным нет.\n",
    "\n",
    "**Альтернативная гипотеза** Статистически значимые различия в среднем чеке заказа между группами по \"очищенным\" данным есть"
   ]
  },
  {
   "cell_type": "code",
   "execution_count": 32,
   "metadata": {},
   "outputs": [
    {
     "name": "stdout",
     "output_type": "stream",
     "text": [
      "Уровень статистической значимости 0.05\n",
      "p-value = 0.798\n",
      "Относительный показатель B и A: -0.020\n"
     ]
    }
   ],
   "source": [
    "print('Уровень статистической значимости',alpha)\n",
    "print(\n",
    "    'p-value = {0:.3f}'.format(\n",
    "        st.mannwhitneyu(\n",
    "            orders[\n",
    "                np.logical_and(\n",
    "                    orders['group'] == 'A',\n",
    "                    np.logical_not(orders['visitor_id'].isin(abnormal_users)),\n",
    "                )\n",
    "            ]['revenue'],\n",
    "            orders[\n",
    "                np.logical_and(\n",
    "                    orders['group'] == 'B',\n",
    "                    np.logical_not(orders['visitor_id'].isin(abnormal_users)),\n",
    "                )\n",
    "            ]['revenue'],\n",
    "        )[1]\n",
    "    )\n",
    ")\n",
    "\n",
    "print(\n",
    "    \"Относительный показатель B и A: {0:.3f}\".format(\n",
    "        orders[\n",
    "            np.logical_and(\n",
    "                orders['group'] == 'B',\n",
    "                np.logical_not(orders['visitor_id'].isin(abnormal_users)),\n",
    "            )\n",
    "        ]['revenue'].mean()\n",
    "        / orders[\n",
    "            np.logical_and(\n",
    "                orders['group'] == 'A',\n",
    "                np.logical_not(orders['visitor_id'].isin(abnormal_users)),\n",
    "            )\n",
    "        ]['revenue'].mean()\n",
    "        - 1\n",
    "    )\n",
    ")"
   ]
  },
  {
   "cell_type": "markdown",
   "metadata": {},
   "source": [
    "Полученный результат говорит о том, что мы также не можем отвергнуть нулевую гипотезу об отсутствии различий - то есть различий в среднем чеке нет. Следует отметить, что относительный показатель превосходства В над А значительно упал, по сравнению с этим же показателем только по \"сырым\" данным - средний чек группы В на 2% ниже, чем у группы А (в то время как по \"сырым\" данным группа В превосходила группу А по среднему чеку на 25.9%). На этом примере можно заметить, как аномально высокие значения влияют на средний чек."
   ]
  },
  {
   "cell_type": "markdown",
   "metadata": {},
   "source": [
    "### Решение по результатам теста "
   ]
  },
  {
   "cell_type": "markdown",
   "metadata": {},
   "source": [
    "На мой взгляд, следует остановить A/B-тест,так как мы имеем вполне однозначные результаты, которые одновременно говорят как о победе одной группы над другой, так и об отсутствии различий между группами, а именно:\n",
    "\n",
    "* Статистические различия есть в среднем количестве заказов на посетителя, у группы B конверсия выше на 17.4%\n",
    "* Статистических различий нет в среднем чеке нет, у группы В средний чек ниже на 2%, чем у группы А."
   ]
  },
  {
   "cell_type": "markdown",
   "metadata": {},
   "source": [
    "Рекомендации бизнесу: \n",
    "* На основе полученных данных, можно сказать, что изменения успешно повлияли на увеличение конверсии среди пользователей интернет-магазина, поэтому следует сосредоточиться на увеличение других показателей, если компания хочет дальше увеличивать выручку (можно сосредоточиться на увеличении среднего чека (ARPU или ARPPU), удержании (Retention), LTV и т.д.)"
   ]
  },
  {
   "cell_type": "code",
   "execution_count": null,
   "metadata": {},
   "outputs": [],
   "source": []
  }
 ],
 "metadata": {
  "ExecuteTimeLog": [
   {
    "duration": 1187,
    "start_time": "2024-06-17T19:22:44.129Z"
   },
   {
    "duration": 70,
    "start_time": "2024-06-17T19:24:34.864Z"
   },
   {
    "duration": 35,
    "start_time": "2024-06-17T19:24:47.580Z"
   },
   {
    "duration": 28,
    "start_time": "2024-06-17T19:26:03.482Z"
   },
   {
    "duration": 29,
    "start_time": "2024-06-17T19:26:10.034Z"
   },
   {
    "duration": 88,
    "start_time": "2024-06-17T19:29:37.278Z"
   },
   {
    "duration": 9,
    "start_time": "2024-06-17T19:29:49.175Z"
   },
   {
    "duration": 8,
    "start_time": "2024-06-17T19:31:09.872Z"
   },
   {
    "duration": 31,
    "start_time": "2024-06-17T19:31:19.829Z"
   },
   {
    "duration": 2,
    "start_time": "2024-06-17T19:31:22.376Z"
   },
   {
    "duration": 8,
    "start_time": "2024-06-17T19:31:26.616Z"
   },
   {
    "duration": 8,
    "start_time": "2024-06-17T19:31:34.080Z"
   },
   {
    "duration": 31,
    "start_time": "2024-06-17T19:31:37.272Z"
   },
   {
    "duration": 3,
    "start_time": "2024-06-17T19:31:39.136Z"
   },
   {
    "duration": 8,
    "start_time": "2024-06-17T19:31:41.016Z"
   },
   {
    "duration": 3,
    "start_time": "2024-06-17T19:31:54.832Z"
   },
   {
    "duration": 8,
    "start_time": "2024-06-17T19:31:58.772Z"
   },
   {
    "duration": 27,
    "start_time": "2024-06-17T19:32:07.297Z"
   },
   {
    "duration": 2,
    "start_time": "2024-06-17T19:32:09.545Z"
   },
   {
    "duration": 7,
    "start_time": "2024-06-17T19:32:17.537Z"
   },
   {
    "duration": 8,
    "start_time": "2024-06-17T19:32:22.016Z"
   },
   {
    "duration": 7,
    "start_time": "2024-06-17T19:32:55.363Z"
   },
   {
    "duration": 45,
    "start_time": "2024-06-17T19:33:13.024Z"
   },
   {
    "duration": 1005,
    "start_time": "2024-06-17T19:33:18.920Z"
   },
   {
    "duration": 31,
    "start_time": "2024-06-17T19:33:19.927Z"
   },
   {
    "duration": 3,
    "start_time": "2024-06-17T19:33:19.960Z"
   },
   {
    "duration": 54,
    "start_time": "2024-06-17T19:33:21.680Z"
   },
   {
    "duration": 8,
    "start_time": "2024-06-17T19:39:00.599Z"
   },
   {
    "duration": 1088,
    "start_time": "2024-06-17T19:39:11.248Z"
   },
   {
    "duration": 31,
    "start_time": "2024-06-17T19:39:12.337Z"
   },
   {
    "duration": 3,
    "start_time": "2024-06-17T19:39:14.095Z"
   },
   {
    "duration": 10,
    "start_time": "2024-06-17T19:39:19.471Z"
   },
   {
    "duration": 9,
    "start_time": "2024-06-17T19:40:36.336Z"
   },
   {
    "duration": 1170,
    "start_time": "2024-06-17T19:40:56.327Z"
   },
   {
    "duration": 34,
    "start_time": "2024-06-17T19:40:57.498Z"
   },
   {
    "duration": 7,
    "start_time": "2024-06-17T19:40:57.534Z"
   },
   {
    "duration": 12,
    "start_time": "2024-06-17T20:03:39.644Z"
   },
   {
    "duration": 10,
    "start_time": "2024-06-17T20:12:45.654Z"
   },
   {
    "duration": 1068,
    "start_time": "2024-06-19T22:15:15.323Z"
   },
   {
    "duration": 82,
    "start_time": "2024-06-19T22:15:16.392Z"
   },
   {
    "duration": 8,
    "start_time": "2024-06-19T22:15:16.475Z"
   },
   {
    "duration": 11,
    "start_time": "2024-06-19T22:15:16.484Z"
   },
   {
    "duration": 8,
    "start_time": "2024-06-19T22:15:16.496Z"
   },
   {
    "duration": 137,
    "start_time": "2024-06-19T22:15:29.086Z"
   },
   {
    "duration": 55,
    "start_time": "2024-06-19T22:15:32.545Z"
   },
   {
    "duration": 3,
    "start_time": "2024-06-19T22:18:37.261Z"
   },
   {
    "duration": 6,
    "start_time": "2024-06-19T22:19:13.262Z"
   },
   {
    "duration": 64,
    "start_time": "2024-06-19T22:19:23.790Z"
   },
   {
    "duration": 6,
    "start_time": "2024-06-19T22:19:28.566Z"
   },
   {
    "duration": 62,
    "start_time": "2024-06-19T22:20:14.471Z"
   },
   {
    "duration": 76,
    "start_time": "2024-06-19T22:22:32.326Z"
   },
   {
    "duration": 317,
    "start_time": "2024-06-19T22:26:29.133Z"
   },
   {
    "duration": 3,
    "start_time": "2024-06-19T22:27:14.351Z"
   },
   {
    "duration": 226,
    "start_time": "2024-06-19T22:27:18.759Z"
   },
   {
    "duration": 314,
    "start_time": "2024-06-19T22:28:18.632Z"
   },
   {
    "duration": 867,
    "start_time": "2024-06-19T22:29:17.613Z"
   },
   {
    "duration": 31,
    "start_time": "2024-06-19T22:29:18.482Z"
   },
   {
    "duration": 6,
    "start_time": "2024-06-19T22:29:18.514Z"
   },
   {
    "duration": 8,
    "start_time": "2024-06-19T22:29:18.521Z"
   },
   {
    "duration": 7,
    "start_time": "2024-06-19T22:29:18.531Z"
   },
   {
    "duration": 66,
    "start_time": "2024-06-19T22:29:18.539Z"
   },
   {
    "duration": 286,
    "start_time": "2024-06-19T22:29:20.410Z"
   },
   {
    "duration": 243,
    "start_time": "2024-06-19T22:30:05.946Z"
   },
   {
    "duration": 858,
    "start_time": "2024-06-19T22:30:19.228Z"
   },
   {
    "duration": 32,
    "start_time": "2024-06-19T22:30:20.087Z"
   },
   {
    "duration": 7,
    "start_time": "2024-06-19T22:30:20.120Z"
   },
   {
    "duration": 10,
    "start_time": "2024-06-19T22:30:20.128Z"
   },
   {
    "duration": 8,
    "start_time": "2024-06-19T22:30:20.139Z"
   },
   {
    "duration": 70,
    "start_time": "2024-06-19T22:30:20.149Z"
   },
   {
    "duration": 29,
    "start_time": "2024-06-19T22:30:22.844Z"
   },
   {
    "duration": 314,
    "start_time": "2024-06-19T22:30:40.212Z"
   },
   {
    "duration": 10,
    "start_time": "2024-06-19T22:30:49.252Z"
   },
   {
    "duration": 25,
    "start_time": "2024-06-19T22:31:01.909Z"
   },
   {
    "duration": 966,
    "start_time": "2024-06-19T22:31:21.155Z"
   },
   {
    "duration": 31,
    "start_time": "2024-06-19T22:31:22.123Z"
   },
   {
    "duration": 6,
    "start_time": "2024-06-19T22:31:22.155Z"
   },
   {
    "duration": 19,
    "start_time": "2024-06-19T22:31:22.163Z"
   },
   {
    "duration": 9,
    "start_time": "2024-06-19T22:31:22.184Z"
   },
   {
    "duration": 74,
    "start_time": "2024-06-19T22:31:22.194Z"
   },
   {
    "duration": 27,
    "start_time": "2024-06-19T22:31:25.180Z"
   },
   {
    "duration": 1362,
    "start_time": "2024-06-20T10:54:28.816Z"
   },
   {
    "duration": 92,
    "start_time": "2024-06-20T10:54:30.180Z"
   },
   {
    "duration": 8,
    "start_time": "2024-06-20T10:54:30.274Z"
   },
   {
    "duration": 83,
    "start_time": "2024-06-20T10:54:30.284Z"
   },
   {
    "duration": 64,
    "start_time": "2024-06-20T10:54:30.369Z"
   },
   {
    "duration": 213,
    "start_time": "2024-06-20T10:54:30.434Z"
   },
   {
    "duration": 38,
    "start_time": "2024-06-20T10:54:30.649Z"
   },
   {
    "duration": 38,
    "start_time": "2024-06-20T10:54:30.688Z"
   },
   {
    "duration": 401,
    "start_time": "2024-06-20T10:54:32.568Z"
   },
   {
    "duration": 280,
    "start_time": "2024-06-20T10:54:44.805Z"
   },
   {
    "duration": 281,
    "start_time": "2024-06-20T10:54:52.160Z"
   },
   {
    "duration": 281,
    "start_time": "2024-06-20T11:01:01.006Z"
   },
   {
    "duration": 233,
    "start_time": "2024-06-20T11:02:20.688Z"
   },
   {
    "duration": 203,
    "start_time": "2024-06-20T12:23:20.715Z"
   },
   {
    "duration": 221,
    "start_time": "2024-06-20T12:23:50.631Z"
   },
   {
    "duration": 255,
    "start_time": "2024-06-20T12:24:00.547Z"
   },
   {
    "duration": 14,
    "start_time": "2024-06-20T12:42:34.362Z"
   },
   {
    "duration": 18,
    "start_time": "2024-06-20T12:42:50.312Z"
   },
   {
    "duration": 16,
    "start_time": "2024-06-20T12:47:28.908Z"
   },
   {
    "duration": 21,
    "start_time": "2024-06-20T13:11:09.397Z"
   },
   {
    "duration": 334,
    "start_time": "2024-06-20T13:11:38.794Z"
   },
   {
    "duration": 318,
    "start_time": "2024-06-20T13:15:43.580Z"
   },
   {
    "duration": 446,
    "start_time": "2024-06-20T13:15:52.355Z"
   },
   {
    "duration": 300,
    "start_time": "2024-06-20T13:16:06.291Z"
   },
   {
    "duration": 239,
    "start_time": "2024-06-20T13:16:27.972Z"
   },
   {
    "duration": 241,
    "start_time": "2024-06-20T13:16:54.980Z"
   },
   {
    "duration": 297,
    "start_time": "2024-06-20T13:34:02.529Z"
   },
   {
    "duration": 333,
    "start_time": "2024-06-20T14:33:56.306Z"
   },
   {
    "duration": 213,
    "start_time": "2024-06-20T14:34:56.659Z"
   },
   {
    "duration": 211,
    "start_time": "2024-06-20T14:35:02.147Z"
   },
   {
    "duration": 345,
    "start_time": "2024-06-20T14:35:12.067Z"
   },
   {
    "duration": 317,
    "start_time": "2024-06-20T14:35:21.787Z"
   },
   {
    "duration": 17,
    "start_time": "2024-06-20T15:04:28.583Z"
   },
   {
    "duration": 14,
    "start_time": "2024-06-20T15:04:38.388Z"
   },
   {
    "duration": 11,
    "start_time": "2024-06-20T15:04:49.471Z"
   },
   {
    "duration": 13,
    "start_time": "2024-06-20T15:04:54.775Z"
   },
   {
    "duration": 119,
    "start_time": "2024-06-20T15:07:25.699Z"
   },
   {
    "duration": 158,
    "start_time": "2024-06-20T15:08:04.507Z"
   },
   {
    "duration": 469,
    "start_time": "2024-06-20T15:08:15.380Z"
   },
   {
    "duration": 183,
    "start_time": "2024-06-20T15:08:20.812Z"
   },
   {
    "duration": 395,
    "start_time": "2024-06-20T15:08:29.244Z"
   },
   {
    "duration": 247,
    "start_time": "2024-06-20T15:08:35.524Z"
   },
   {
    "duration": 248,
    "start_time": "2024-06-20T15:08:46.796Z"
   },
   {
    "duration": 5,
    "start_time": "2024-06-20T15:15:54.214Z"
   },
   {
    "duration": 205,
    "start_time": "2024-06-20T15:22:20.166Z"
   },
   {
    "duration": 157,
    "start_time": "2024-06-20T15:22:33.070Z"
   },
   {
    "duration": 216,
    "start_time": "2024-06-20T15:22:39.207Z"
   },
   {
    "duration": 16,
    "start_time": "2024-06-20T15:52:16.158Z"
   },
   {
    "duration": 160,
    "start_time": "2024-06-20T15:52:30.876Z"
   },
   {
    "duration": 176,
    "start_time": "2024-06-20T15:53:09.383Z"
   },
   {
    "duration": 5,
    "start_time": "2024-06-20T15:58:40.781Z"
   },
   {
    "duration": 45,
    "start_time": "2024-06-20T18:36:47.698Z"
   },
   {
    "duration": 1150,
    "start_time": "2024-06-20T18:36:55.371Z"
   },
   {
    "duration": 83,
    "start_time": "2024-06-20T18:36:56.522Z"
   },
   {
    "duration": 8,
    "start_time": "2024-06-20T18:36:56.607Z"
   },
   {
    "duration": 9,
    "start_time": "2024-06-20T18:36:56.616Z"
   },
   {
    "duration": 8,
    "start_time": "2024-06-20T18:36:56.627Z"
   },
   {
    "duration": 149,
    "start_time": "2024-06-20T18:36:56.637Z"
   },
   {
    "duration": 29,
    "start_time": "2024-06-20T18:36:56.788Z"
   },
   {
    "duration": 5,
    "start_time": "2024-06-20T18:36:56.818Z"
   },
   {
    "duration": 266,
    "start_time": "2024-06-20T18:36:56.825Z"
   },
   {
    "duration": 296,
    "start_time": "2024-06-20T18:36:57.092Z"
   },
   {
    "duration": 21,
    "start_time": "2024-06-20T18:36:57.390Z"
   },
   {
    "duration": 210,
    "start_time": "2024-06-20T18:36:57.412Z"
   },
   {
    "duration": 347,
    "start_time": "2024-06-20T18:36:57.623Z"
   },
   {
    "duration": 222,
    "start_time": "2024-06-20T18:36:57.973Z"
   },
   {
    "duration": 335,
    "start_time": "2024-06-20T18:36:58.196Z"
   },
   {
    "duration": 10,
    "start_time": "2024-06-20T18:36:58.532Z"
   },
   {
    "duration": 158,
    "start_time": "2024-06-20T18:36:58.543Z"
   },
   {
    "duration": 12,
    "start_time": "2024-06-20T18:36:58.703Z"
   },
   {
    "duration": 160,
    "start_time": "2024-06-20T18:36:58.717Z"
   },
   {
    "duration": 159,
    "start_time": "2024-06-20T18:36:58.878Z"
   },
   {
    "duration": 4,
    "start_time": "2024-06-20T18:36:59.039Z"
   },
   {
    "duration": 11,
    "start_time": "2024-06-20T18:37:07.168Z"
   },
   {
    "duration": 232,
    "start_time": "2024-06-20T18:45:32.810Z"
   },
   {
    "duration": 188,
    "start_time": "2024-06-20T18:45:41.403Z"
   },
   {
    "duration": 181,
    "start_time": "2024-06-20T18:53:33.630Z"
   },
   {
    "duration": 140,
    "start_time": "2024-06-20T18:53:47.083Z"
   },
   {
    "duration": 5,
    "start_time": "2024-06-20T18:57:40.592Z"
   },
   {
    "duration": 8,
    "start_time": "2024-06-20T18:59:20.084Z"
   },
   {
    "duration": 19,
    "start_time": "2024-06-20T18:59:40.809Z"
   },
   {
    "duration": 19,
    "start_time": "2024-06-20T19:14:16.220Z"
   },
   {
    "duration": 9,
    "start_time": "2024-06-20T19:21:01.979Z"
   },
   {
    "duration": 10,
    "start_time": "2024-06-20T19:21:07.016Z"
   },
   {
    "duration": 894,
    "start_time": "2024-06-20T19:39:40.961Z"
   },
   {
    "duration": 8,
    "start_time": "2024-06-20T19:40:25.807Z"
   },
   {
    "duration": 8,
    "start_time": "2024-06-20T19:40:55.154Z"
   },
   {
    "duration": 8,
    "start_time": "2024-06-20T19:41:02.826Z"
   },
   {
    "duration": 9,
    "start_time": "2024-06-20T19:46:25.325Z"
   },
   {
    "duration": 20,
    "start_time": "2024-06-20T19:48:07.706Z"
   },
   {
    "duration": 9,
    "start_time": "2024-06-20T19:58:25.691Z"
   },
   {
    "duration": 12,
    "start_time": "2024-06-20T19:58:33.466Z"
   },
   {
    "duration": 979,
    "start_time": "2024-06-20T20:53:31.152Z"
   },
   {
    "duration": 33,
    "start_time": "2024-06-20T20:53:32.133Z"
   },
   {
    "duration": 7,
    "start_time": "2024-06-20T20:53:32.168Z"
   },
   {
    "duration": 24,
    "start_time": "2024-06-20T20:53:32.176Z"
   },
   {
    "duration": 37,
    "start_time": "2024-06-20T20:53:32.202Z"
   },
   {
    "duration": 191,
    "start_time": "2024-06-20T20:53:32.240Z"
   },
   {
    "duration": 112,
    "start_time": "2024-06-20T20:53:32.432Z"
   },
   {
    "duration": 5,
    "start_time": "2024-06-20T20:53:32.545Z"
   },
   {
    "duration": 258,
    "start_time": "2024-06-20T20:53:32.551Z"
   },
   {
    "duration": 292,
    "start_time": "2024-06-20T20:53:32.810Z"
   },
   {
    "duration": 15,
    "start_time": "2024-06-20T20:53:33.108Z"
   },
   {
    "duration": 222,
    "start_time": "2024-06-20T20:53:33.125Z"
   },
   {
    "duration": 294,
    "start_time": "2024-06-20T20:53:33.349Z"
   },
   {
    "duration": 207,
    "start_time": "2024-06-20T20:53:33.646Z"
   },
   {
    "duration": 289,
    "start_time": "2024-06-20T20:53:33.855Z"
   },
   {
    "duration": 10,
    "start_time": "2024-06-20T20:53:34.145Z"
   },
   {
    "duration": 146,
    "start_time": "2024-06-20T20:53:34.156Z"
   },
   {
    "duration": 4,
    "start_time": "2024-06-20T20:53:34.308Z"
   },
   {
    "duration": 165,
    "start_time": "2024-06-20T20:53:34.313Z"
   },
   {
    "duration": 166,
    "start_time": "2024-06-20T20:53:34.480Z"
   },
   {
    "duration": 4,
    "start_time": "2024-06-20T20:53:34.647Z"
   },
   {
    "duration": 259,
    "start_time": "2024-06-20T20:53:34.652Z"
   },
   {
    "duration": 136,
    "start_time": "2024-06-20T20:53:34.912Z"
   },
   {
    "duration": 5,
    "start_time": "2024-06-20T20:53:35.050Z"
   },
   {
    "duration": 28,
    "start_time": "2024-06-20T20:53:35.056Z"
   },
   {
    "duration": 9,
    "start_time": "2024-06-20T20:53:35.086Z"
   },
   {
    "duration": 8,
    "start_time": "2024-06-20T20:53:35.109Z"
   },
   {
    "duration": 6,
    "start_time": "2024-06-20T20:53:35.119Z"
   },
   {
    "duration": 19,
    "start_time": "2024-06-20T20:53:35.126Z"
   },
   {
    "duration": 11,
    "start_time": "2024-06-20T20:53:37.064Z"
   },
   {
    "duration": 1457,
    "start_time": "2024-06-21T09:09:01.624Z"
   },
   {
    "duration": 83,
    "start_time": "2024-06-21T09:09:03.083Z"
   },
   {
    "duration": 10,
    "start_time": "2024-06-21T09:09:03.168Z"
   },
   {
    "duration": 13,
    "start_time": "2024-06-21T09:09:05.388Z"
   },
   {
    "duration": 102,
    "start_time": "2024-06-21T09:11:03.199Z"
   },
   {
    "duration": 3,
    "start_time": "2024-06-21T09:11:09.944Z"
   },
   {
    "duration": 47,
    "start_time": "2024-06-21T09:11:09.950Z"
   },
   {
    "duration": 10,
    "start_time": "2024-06-21T09:11:09.999Z"
   },
   {
    "duration": 38,
    "start_time": "2024-06-21T09:11:10.012Z"
   },
   {
    "duration": 58,
    "start_time": "2024-06-21T09:11:10.052Z"
   },
   {
    "duration": 226,
    "start_time": "2024-06-21T09:11:10.112Z"
   },
   {
    "duration": 39,
    "start_time": "2024-06-21T09:11:10.340Z"
   },
   {
    "duration": 6,
    "start_time": "2024-06-21T09:11:10.381Z"
   },
   {
    "duration": 330,
    "start_time": "2024-06-21T09:11:10.389Z"
   },
   {
    "duration": 314,
    "start_time": "2024-06-21T09:11:12.206Z"
   },
   {
    "duration": 256,
    "start_time": "2024-06-21T09:11:19.990Z"
   },
   {
    "duration": 230,
    "start_time": "2024-06-21T09:11:36.454Z"
   },
   {
    "duration": 249,
    "start_time": "2024-06-21T09:11:41.735Z"
   },
   {
    "duration": 12,
    "start_time": "2024-06-21T09:29:56.668Z"
   },
   {
    "duration": 10,
    "start_time": "2024-06-21T09:30:11.564Z"
   },
   {
    "duration": 7,
    "start_time": "2024-06-21T09:30:42.227Z"
   },
   {
    "duration": 3,
    "start_time": "2024-06-21T09:41:06.032Z"
   },
   {
    "duration": 52,
    "start_time": "2024-06-21T09:41:06.037Z"
   },
   {
    "duration": 9,
    "start_time": "2024-06-21T09:41:06.091Z"
   },
   {
    "duration": 13,
    "start_time": "2024-06-21T09:41:06.102Z"
   },
   {
    "duration": 16,
    "start_time": "2024-06-21T09:41:06.116Z"
   },
   {
    "duration": 100,
    "start_time": "2024-06-21T09:41:06.134Z"
   },
   {
    "duration": 42,
    "start_time": "2024-06-21T09:41:06.235Z"
   },
   {
    "duration": 17,
    "start_time": "2024-06-21T09:41:06.280Z"
   },
   {
    "duration": 21,
    "start_time": "2024-06-21T09:41:06.299Z"
   },
   {
    "duration": 308,
    "start_time": "2024-06-21T09:41:06.322Z"
   },
   {
    "duration": 10,
    "start_time": "2024-06-21T09:41:08.456Z"
   },
   {
    "duration": 255,
    "start_time": "2024-06-21T09:45:31.070Z"
   },
   {
    "duration": 255,
    "start_time": "2024-06-21T09:45:45.774Z"
   },
   {
    "duration": 255,
    "start_time": "2024-06-21T09:46:44.704Z"
   },
   {
    "duration": 272,
    "start_time": "2024-06-21T09:47:20.632Z"
   },
   {
    "duration": 333,
    "start_time": "2024-06-21T09:49:10.099Z"
   },
   {
    "duration": 401,
    "start_time": "2024-06-21T09:49:50.955Z"
   },
   {
    "duration": 295,
    "start_time": "2024-06-21T09:50:31.740Z"
   },
   {
    "duration": 385,
    "start_time": "2024-06-21T09:51:01.605Z"
   },
   {
    "duration": 358,
    "start_time": "2024-06-21T09:51:22.772Z"
   },
   {
    "duration": 10,
    "start_time": "2024-06-21T09:53:58.374Z"
   },
   {
    "duration": 3,
    "start_time": "2024-06-21T09:54:03.222Z"
   },
   {
    "duration": 48,
    "start_time": "2024-06-21T09:54:03.227Z"
   },
   {
    "duration": 9,
    "start_time": "2024-06-21T09:54:03.277Z"
   },
   {
    "duration": 45,
    "start_time": "2024-06-21T09:54:03.288Z"
   },
   {
    "duration": 14,
    "start_time": "2024-06-21T09:54:03.334Z"
   },
   {
    "duration": 97,
    "start_time": "2024-06-21T09:54:03.350Z"
   },
   {
    "duration": 45,
    "start_time": "2024-06-21T09:54:03.449Z"
   },
   {
    "duration": 10,
    "start_time": "2024-06-21T09:54:03.496Z"
   },
   {
    "duration": 27,
    "start_time": "2024-06-21T09:54:03.508Z"
   },
   {
    "duration": 400,
    "start_time": "2024-06-21T09:54:03.539Z"
   },
   {
    "duration": 9,
    "start_time": "2024-06-21T09:54:03.941Z"
   },
   {
    "duration": 308,
    "start_time": "2024-06-21T09:54:03.965Z"
   },
   {
    "duration": 17,
    "start_time": "2024-06-21T09:54:04.274Z"
   },
   {
    "duration": 311,
    "start_time": "2024-06-21T09:54:04.293Z"
   },
   {
    "duration": 349,
    "start_time": "2024-06-21T09:54:04.606Z"
   },
   {
    "duration": 273,
    "start_time": "2024-06-21T09:54:04.960Z"
   },
   {
    "duration": 407,
    "start_time": "2024-06-21T09:54:05.235Z"
   },
   {
    "duration": 20,
    "start_time": "2024-06-21T09:54:05.644Z"
   },
   {
    "duration": 225,
    "start_time": "2024-06-21T09:54:06.975Z"
   },
   {
    "duration": 300,
    "start_time": "2024-06-21T09:54:43.320Z"
   },
   {
    "duration": 220,
    "start_time": "2024-06-21T09:55:16.113Z"
   },
   {
    "duration": 242,
    "start_time": "2024-06-21T10:11:43.011Z"
   },
   {
    "duration": 26,
    "start_time": "2024-06-21T10:13:09.317Z"
   },
   {
    "duration": 13,
    "start_time": "2024-06-21T10:15:31.446Z"
   },
   {
    "duration": 3,
    "start_time": "2024-06-21T10:15:37.461Z"
   },
   {
    "duration": 43,
    "start_time": "2024-06-21T10:15:37.466Z"
   },
   {
    "duration": 8,
    "start_time": "2024-06-21T10:15:37.511Z"
   },
   {
    "duration": 32,
    "start_time": "2024-06-21T10:15:37.522Z"
   },
   {
    "duration": 26,
    "start_time": "2024-06-21T10:15:37.557Z"
   },
   {
    "duration": 120,
    "start_time": "2024-06-21T10:15:37.585Z"
   },
   {
    "duration": 34,
    "start_time": "2024-06-21T10:15:37.707Z"
   },
   {
    "duration": 20,
    "start_time": "2024-06-21T10:15:37.743Z"
   },
   {
    "duration": 10,
    "start_time": "2024-06-21T10:15:37.764Z"
   },
   {
    "duration": 332,
    "start_time": "2024-06-21T10:15:37.776Z"
   },
   {
    "duration": 9,
    "start_time": "2024-06-21T10:15:38.110Z"
   },
   {
    "duration": 274,
    "start_time": "2024-06-21T10:15:38.120Z"
   },
   {
    "duration": 20,
    "start_time": "2024-06-21T10:15:38.396Z"
   },
   {
    "duration": 291,
    "start_time": "2024-06-21T10:15:38.418Z"
   },
   {
    "duration": 360,
    "start_time": "2024-06-21T10:15:38.712Z"
   },
   {
    "duration": 279,
    "start_time": "2024-06-21T10:15:39.074Z"
   },
   {
    "duration": 370,
    "start_time": "2024-06-21T10:15:39.355Z"
   },
   {
    "duration": 15,
    "start_time": "2024-06-21T10:15:39.726Z"
   },
   {
    "duration": 212,
    "start_time": "2024-06-21T10:15:39.744Z"
   },
   {
    "duration": 4,
    "start_time": "2024-06-21T10:15:39.958Z"
   },
   {
    "duration": 214,
    "start_time": "2024-06-21T10:15:39.964Z"
   },
   {
    "duration": 215,
    "start_time": "2024-06-21T10:15:40.179Z"
   },
   {
    "duration": 5,
    "start_time": "2024-06-21T10:15:40.395Z"
   },
   {
    "duration": 70,
    "start_time": "2024-06-21T10:15:40.402Z"
   },
   {
    "duration": 209,
    "start_time": "2024-06-21T10:15:40.474Z"
   },
   {
    "duration": 7,
    "start_time": "2024-06-21T10:15:40.685Z"
   },
   {
    "duration": 44,
    "start_time": "2024-06-21T10:15:41.862Z"
   },
   {
    "duration": 43,
    "start_time": "2024-06-21T10:16:03.671Z"
   },
   {
    "duration": 15,
    "start_time": "2024-06-21T10:49:45.523Z"
   },
   {
    "duration": 12,
    "start_time": "2024-06-21T10:49:47.705Z"
   },
   {
    "duration": 4,
    "start_time": "2024-06-21T10:55:05.477Z"
   },
   {
    "duration": 43,
    "start_time": "2024-06-21T10:55:05.483Z"
   },
   {
    "duration": 9,
    "start_time": "2024-06-21T10:55:05.528Z"
   },
   {
    "duration": 37,
    "start_time": "2024-06-21T10:55:05.540Z"
   },
   {
    "duration": 38,
    "start_time": "2024-06-21T10:55:05.580Z"
   },
   {
    "duration": 95,
    "start_time": "2024-06-21T10:55:05.620Z"
   },
   {
    "duration": 36,
    "start_time": "2024-06-21T10:55:05.717Z"
   },
   {
    "duration": 9,
    "start_time": "2024-06-21T10:55:05.755Z"
   },
   {
    "duration": 17,
    "start_time": "2024-06-21T10:55:05.766Z"
   },
   {
    "duration": 331,
    "start_time": "2024-06-21T10:55:05.786Z"
   },
   {
    "duration": 9,
    "start_time": "2024-06-21T10:55:06.119Z"
   },
   {
    "duration": 278,
    "start_time": "2024-06-21T10:55:06.130Z"
   },
   {
    "duration": 17,
    "start_time": "2024-06-21T10:55:06.410Z"
   },
   {
    "duration": 288,
    "start_time": "2024-06-21T10:55:06.428Z"
   },
   {
    "duration": 527,
    "start_time": "2024-06-21T10:55:06.718Z"
   },
   {
    "duration": 275,
    "start_time": "2024-06-21T10:55:07.247Z"
   },
   {
    "duration": 393,
    "start_time": "2024-06-21T10:55:07.524Z"
   },
   {
    "duration": 11,
    "start_time": "2024-06-21T10:55:07.919Z"
   },
   {
    "duration": 196,
    "start_time": "2024-06-21T10:55:07.932Z"
   },
   {
    "duration": 5,
    "start_time": "2024-06-21T10:55:08.129Z"
   },
   {
    "duration": 205,
    "start_time": "2024-06-21T10:55:08.135Z"
   },
   {
    "duration": 195,
    "start_time": "2024-06-21T10:55:08.342Z"
   },
   {
    "duration": 4,
    "start_time": "2024-06-21T10:55:08.539Z"
   },
   {
    "duration": 39,
    "start_time": "2024-06-21T10:55:08.545Z"
   },
   {
    "duration": 156,
    "start_time": "2024-06-21T10:55:08.585Z"
   },
   {
    "duration": 21,
    "start_time": "2024-06-21T10:55:08.743Z"
   },
   {
    "duration": 46,
    "start_time": "2024-06-21T10:55:08.766Z"
   },
   {
    "duration": 12,
    "start_time": "2024-06-21T10:55:08.815Z"
   },
   {
    "duration": 17,
    "start_time": "2024-06-21T10:55:08.828Z"
   },
   {
    "duration": 37,
    "start_time": "2024-06-21T10:55:08.847Z"
   },
   {
    "duration": 32,
    "start_time": "2024-06-21T10:55:08.886Z"
   },
   {
    "duration": 15,
    "start_time": "2024-06-21T10:55:08.920Z"
   },
   {
    "duration": 1008,
    "start_time": "2024-06-21T11:08:52.643Z"
   },
   {
    "duration": 90,
    "start_time": "2024-06-21T11:08:53.653Z"
   },
   {
    "duration": 8,
    "start_time": "2024-06-21T11:08:53.744Z"
   },
   {
    "duration": 21,
    "start_time": "2024-06-21T11:08:53.753Z"
   },
   {
    "duration": 10,
    "start_time": "2024-06-21T11:08:53.775Z"
   },
   {
    "duration": 184,
    "start_time": "2024-06-21T11:08:53.786Z"
   },
   {
    "duration": 30,
    "start_time": "2024-06-21T11:08:53.971Z"
   },
   {
    "duration": 24,
    "start_time": "2024-06-21T11:08:54.003Z"
   },
   {
    "duration": 6,
    "start_time": "2024-06-21T11:08:54.029Z"
   },
   {
    "duration": 273,
    "start_time": "2024-06-21T11:08:54.038Z"
   },
   {
    "duration": 14,
    "start_time": "2024-06-21T11:08:54.312Z"
   },
   {
    "duration": 297,
    "start_time": "2024-06-21T11:08:54.328Z"
   },
   {
    "duration": 15,
    "start_time": "2024-06-21T11:08:54.626Z"
   },
   {
    "duration": 213,
    "start_time": "2024-06-21T11:08:54.642Z"
   },
   {
    "duration": 292,
    "start_time": "2024-06-21T11:08:54.857Z"
   },
   {
    "duration": 215,
    "start_time": "2024-06-21T11:08:55.150Z"
   },
   {
    "duration": 315,
    "start_time": "2024-06-21T11:08:55.366Z"
   },
   {
    "duration": 9,
    "start_time": "2024-06-21T11:08:55.682Z"
   },
   {
    "duration": 174,
    "start_time": "2024-06-21T11:08:55.692Z"
   },
   {
    "duration": 4,
    "start_time": "2024-06-21T11:08:55.867Z"
   },
   {
    "duration": 178,
    "start_time": "2024-06-21T11:08:55.872Z"
   },
   {
    "duration": 154,
    "start_time": "2024-06-21T11:08:56.052Z"
   },
   {
    "duration": 4,
    "start_time": "2024-06-21T11:08:56.207Z"
   },
   {
    "duration": 76,
    "start_time": "2024-06-21T11:08:56.220Z"
   },
   {
    "duration": 144,
    "start_time": "2024-06-21T11:08:56.297Z"
   },
   {
    "duration": 5,
    "start_time": "2024-06-21T11:08:56.443Z"
   },
   {
    "duration": 24,
    "start_time": "2024-06-21T11:08:56.449Z"
   },
   {
    "duration": 23,
    "start_time": "2024-06-21T11:08:56.476Z"
   },
   {
    "duration": 22,
    "start_time": "2024-06-21T11:08:56.500Z"
   },
   {
    "duration": 11,
    "start_time": "2024-06-21T11:08:56.524Z"
   },
   {
    "duration": 24,
    "start_time": "2024-06-21T11:08:56.537Z"
   },
   {
    "duration": 11,
    "start_time": "2024-06-21T11:08:56.562Z"
   }
  ],
  "kernelspec": {
   "display_name": "Python 3 (ipykernel)",
   "language": "python",
   "name": "python3"
  },
  "language_info": {
   "codemirror_mode": {
    "name": "ipython",
    "version": 3
   },
   "file_extension": ".py",
   "mimetype": "text/x-python",
   "name": "python",
   "nbconvert_exporter": "python",
   "pygments_lexer": "ipython3",
   "version": "3.11.5"
  },
  "toc": {
   "base_numbering": 1,
   "nav_menu": {},
   "number_sections": true,
   "sideBar": true,
   "skip_h1_title": true,
   "title_cell": "Table of Contents",
   "title_sidebar": "Contents",
   "toc_cell": false,
   "toc_position": {
    "height": "calc(100% - 180px)",
    "left": "10px",
    "top": "150px",
    "width": "378px"
   },
   "toc_section_display": true,
   "toc_window_display": true
  }
 },
 "nbformat": 4,
 "nbformat_minor": 2
}
