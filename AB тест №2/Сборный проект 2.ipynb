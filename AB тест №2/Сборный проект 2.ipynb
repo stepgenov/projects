{
 "cells": [
  {
   "cell_type": "markdown",
   "metadata": {},
   "source": [
    "## Сборный проект 2\n",
    "\n",
    "### Цель проекта\n",
    "Целью данного проекта является анализ поведения пользователей мобильного приложения стартапа по продаже продуктов питания. Необходимо изучить воронку продаж и провести A/A/B-тестирование, чтобы понять, как изменение шрифтов в приложении влияет на пользователей.\n",
    "\n",
    "### Задачи проекта\n",
    "1. Изучить и визуализировать воронку продаж, выявить ключевые этапы, на которых пользователи теряются.\n",
    "2. Провести анализ A/A/B-эксперимента для оценки влияния новых шрифтов на поведение пользователей.\n",
    "3. Сравнить контрольные группы между собой, чтобы проверить корректность эксперимента.\n",
    "4. Сравнить экспериментальную группу с контрольными группами и сделать выводы о влиянии изменения шрифтов.\n",
    "\n",
    "### Описание проекта\n",
    "Проект состоит из нескольких этапов. Сначала мы проанализируем общие данные, чтобы понять структуру и полноту данных. Затем, проведем анализ воронки продаж для выявления ключевых этапов, где пользователи могут \"застревать\". После этого мы изучим результаты A/A/B-эксперимента, чтобы определить, как новые шрифты влияют на поведение пользователей. Важной частью анализа будет проверка корректности эксперимента путем сравнения двух контрольных групп.\n",
    "\n",
    "### Содержание проекта\n",
    "1. **Общая информация о данных**\n",
    "   - Изучение файла с данными.\n",
    "   - Подготовка данных: замена названий столбцов, проверка пропусков и типов данных.\n",
    "   - Добавление столбцов даты и времени.\n",
    "\n",
    "2. **Анализ данных**\n",
    "   - Подсчет общего количества событий и пользователей.\n",
    "   - Анализ среднего числа событий на пользователя.\n",
    "   - Определение временного диапазона данных.\n",
    "   - Анализ полноты данных и исключение неполных данных.\n",
    "   - Проверка наличия пользователей из всех экспериментальных групп.\n",
    "\n",
    "3. **Изучение воронки событий**\n",
    "   - Анализ и сортировка событий по частоте и числу пользователей.\n",
    "   - Построение последовательности событий.\n",
    "   - Расчет долей пользователей, проходящих через каждый этап воронки.\n",
    "   - Выявление этапов, на которых теряется наибольшее число пользователей.\n",
    "\n",
    "4. **Анализ A/A/B-эксперимента**\n",
    "   - Подсчет числа пользователей в каждой экспериментальной группе.\n",
    "   - Проверка корректности эксперимента путем сравнения контрольных групп.\n",
    "   - Сравнение экспериментальной группы с контрольными группами.\n",
    "   - Анализ статистической значимости различий между группами.\n",
    "\n",
    "5. **Выводы и рекомендации**\n",
    "   - Определение влияния изменения шрифтов на поведение пользователей.\n",
    "   - Рекомендации по дальнейшим действиям на основе полученных данных и результатов анализа.\n",
    "\n",
    "### Описание данных\n",
    "Данные включают информацию о действиях пользователей в мобильном приложении:\n",
    "- `event_name` — название события;\n",
    "- `device_id_hash` — уникальный идентификатор пользователя;\n",
    "- `event_timestamp` — время события;\n",
    "- `exp_id` — номер эксперимента: 246 и 247 — контрольные группы, 248 — экспериментальная."
   ]
  },
  {
   "cell_type": "markdown",
   "metadata": {},
   "source": [
    "## Подготовка данных"
   ]
  },
  {
   "cell_type": "markdown",
   "metadata": {},
   "source": [
    "### Изучение файла с данными"
   ]
  },
  {
   "cell_type": "code",
   "execution_count": 29,
   "metadata": {},
   "outputs": [],
   "source": [
    "#импортируем основные библиотеки, с которыми будем работать\n",
    "import pandas as pd\n",
    "import matplotlib.pyplot as plt\n",
    "import numpy as np\n",
    "import datetime as dt\n",
    "from scipy import stats as st\n",
    "import math as mth\n",
    "from plotly import graph_objects as go"
   ]
  },
  {
   "cell_type": "code",
   "execution_count": 30,
   "metadata": {
    "scrolled": true
   },
   "outputs": [
    {
     "data": {
      "text/html": [
       "<div>\n",
       "<style scoped>\n",
       "    .dataframe tbody tr th:only-of-type {\n",
       "        vertical-align: middle;\n",
       "    }\n",
       "\n",
       "    .dataframe tbody tr th {\n",
       "        vertical-align: top;\n",
       "    }\n",
       "\n",
       "    .dataframe thead th {\n",
       "        text-align: right;\n",
       "    }\n",
       "</style>\n",
       "<table border=\"1\" class=\"dataframe\">\n",
       "  <thead>\n",
       "    <tr style=\"text-align: right;\">\n",
       "      <th></th>\n",
       "      <th>EventName</th>\n",
       "      <th>DeviceIDHash</th>\n",
       "      <th>EventTimestamp</th>\n",
       "      <th>ExpId</th>\n",
       "    </tr>\n",
       "  </thead>\n",
       "  <tbody>\n",
       "    <tr>\n",
       "      <th>0</th>\n",
       "      <td>MainScreenAppear</td>\n",
       "      <td>4575588528974610257</td>\n",
       "      <td>1564029816</td>\n",
       "      <td>246</td>\n",
       "    </tr>\n",
       "    <tr>\n",
       "      <th>1</th>\n",
       "      <td>MainScreenAppear</td>\n",
       "      <td>7416695313311560658</td>\n",
       "      <td>1564053102</td>\n",
       "      <td>246</td>\n",
       "    </tr>\n",
       "    <tr>\n",
       "      <th>2</th>\n",
       "      <td>PaymentScreenSuccessful</td>\n",
       "      <td>3518123091307005509</td>\n",
       "      <td>1564054127</td>\n",
       "      <td>248</td>\n",
       "    </tr>\n",
       "    <tr>\n",
       "      <th>3</th>\n",
       "      <td>CartScreenAppear</td>\n",
       "      <td>3518123091307005509</td>\n",
       "      <td>1564054127</td>\n",
       "      <td>248</td>\n",
       "    </tr>\n",
       "    <tr>\n",
       "      <th>4</th>\n",
       "      <td>PaymentScreenSuccessful</td>\n",
       "      <td>6217807653094995999</td>\n",
       "      <td>1564055322</td>\n",
       "      <td>248</td>\n",
       "    </tr>\n",
       "  </tbody>\n",
       "</table>\n",
       "</div>"
      ],
      "text/plain": [
       "                 EventName         DeviceIDHash  EventTimestamp  ExpId\n",
       "0         MainScreenAppear  4575588528974610257      1564029816    246\n",
       "1         MainScreenAppear  7416695313311560658      1564053102    246\n",
       "2  PaymentScreenSuccessful  3518123091307005509      1564054127    248\n",
       "3         CartScreenAppear  3518123091307005509      1564054127    248\n",
       "4  PaymentScreenSuccessful  6217807653094995999      1564055322    248"
      ]
     },
     "metadata": {},
     "output_type": "display_data"
    },
    {
     "name": "stdout",
     "output_type": "stream",
     "text": [
      "<class 'pandas.core.frame.DataFrame'>\n",
      "RangeIndex: 244126 entries, 0 to 244125\n",
      "Data columns (total 4 columns):\n",
      " #   Column          Non-Null Count   Dtype \n",
      "---  ------          --------------   ----- \n",
      " 0   EventName       244126 non-null  object\n",
      " 1   DeviceIDHash    244126 non-null  int64 \n",
      " 2   EventTimestamp  244126 non-null  int64 \n",
      " 3   ExpId           244126 non-null  int64 \n",
      "dtypes: int64(3), object(1)\n",
      "memory usage: 7.5+ MB\n"
     ]
    },
    {
     "data": {
      "text/plain": [
       "None"
      ]
     },
     "metadata": {},
     "output_type": "display_data"
    }
   ],
   "source": [
    "events = pd.read_csv('/datasets/logs_exp.csv', sep='\\t')\n",
    "display(events.head())\n",
    "display(events.info())"
   ]
  },
  {
   "cell_type": "markdown",
   "metadata": {},
   "source": [
    "Как мы видим, датафрейм состоит из четырех столбцов с информацией о событиях, пользователях, датах и номерах групп. \n",
    "Из некритичного - **следует изменить название столбцов** на змеиный регистр для более удобной работы.\n",
    "Также нужно обязательно **создать столбец с привычным форматом даты**, так как информация в датафрейме указана в целочисленном типе и, скорее всего, в секундах. \n",
    "Будем с этим работать. "
   ]
  },
  {
   "cell_type": "markdown",
   "metadata": {},
   "source": [
    "### Подготовка данных"
   ]
  },
  {
   "cell_type": "code",
   "execution_count": 31,
   "metadata": {},
   "outputs": [
    {
     "data": {
      "text/html": [
       "<div>\n",
       "<style scoped>\n",
       "    .dataframe tbody tr th:only-of-type {\n",
       "        vertical-align: middle;\n",
       "    }\n",
       "\n",
       "    .dataframe tbody tr th {\n",
       "        vertical-align: top;\n",
       "    }\n",
       "\n",
       "    .dataframe thead th {\n",
       "        text-align: right;\n",
       "    }\n",
       "</style>\n",
       "<table border=\"1\" class=\"dataframe\">\n",
       "  <thead>\n",
       "    <tr style=\"text-align: right;\">\n",
       "      <th></th>\n",
       "      <th>event_name</th>\n",
       "      <th>device_id_hash</th>\n",
       "      <th>event_timestamp</th>\n",
       "      <th>exp_id</th>\n",
       "    </tr>\n",
       "  </thead>\n",
       "  <tbody>\n",
       "    <tr>\n",
       "      <th>0</th>\n",
       "      <td>MainScreenAppear</td>\n",
       "      <td>4575588528974610257</td>\n",
       "      <td>1564029816</td>\n",
       "      <td>246</td>\n",
       "    </tr>\n",
       "    <tr>\n",
       "      <th>1</th>\n",
       "      <td>MainScreenAppear</td>\n",
       "      <td>7416695313311560658</td>\n",
       "      <td>1564053102</td>\n",
       "      <td>246</td>\n",
       "    </tr>\n",
       "    <tr>\n",
       "      <th>2</th>\n",
       "      <td>PaymentScreenSuccessful</td>\n",
       "      <td>3518123091307005509</td>\n",
       "      <td>1564054127</td>\n",
       "      <td>248</td>\n",
       "    </tr>\n",
       "    <tr>\n",
       "      <th>3</th>\n",
       "      <td>CartScreenAppear</td>\n",
       "      <td>3518123091307005509</td>\n",
       "      <td>1564054127</td>\n",
       "      <td>248</td>\n",
       "    </tr>\n",
       "    <tr>\n",
       "      <th>4</th>\n",
       "      <td>PaymentScreenSuccessful</td>\n",
       "      <td>6217807653094995999</td>\n",
       "      <td>1564055322</td>\n",
       "      <td>248</td>\n",
       "    </tr>\n",
       "  </tbody>\n",
       "</table>\n",
       "</div>"
      ],
      "text/plain": [
       "                event_name       device_id_hash  event_timestamp  exp_id\n",
       "0         MainScreenAppear  4575588528974610257       1564029816     246\n",
       "1         MainScreenAppear  7416695313311560658       1564053102     246\n",
       "2  PaymentScreenSuccessful  3518123091307005509       1564054127     248\n",
       "3         CartScreenAppear  3518123091307005509       1564054127     248\n",
       "4  PaymentScreenSuccessful  6217807653094995999       1564055322     248"
      ]
     },
     "metadata": {},
     "output_type": "display_data"
    }
   ],
   "source": [
    "#изменим названия столбцов\n",
    "events.rename(columns={\n",
    "    'EventName': 'event_name',\n",
    "    'DeviceIDHash': 'device_id_hash',\n",
    "    'EventTimestamp': 'event_timestamp',\n",
    "    'ExpId': 'exp_id'\n",
    "}, inplace=True)\n",
    "\n",
    "display(events.head())"
   ]
  },
  {
   "cell_type": "code",
   "execution_count": 32,
   "metadata": {},
   "outputs": [
    {
     "name": "stdout",
     "output_type": "stream",
     "text": [
      "Пропущенные значения в каждом столбце: event_name         0\n",
      "device_id_hash     0\n",
      "event_timestamp    0\n",
      "exp_id             0\n",
      "dtype: int64\n",
      "Дубликатов найдено: 413\n",
      "Доля дубликатов в датафрейме: 0.0017\n"
     ]
    }
   ],
   "source": [
    "#проверим на пропуски и дубликаты \n",
    "print('Пропущенные значения в каждом столбце:',events.isna().sum())\n",
    "print('Дубликатов найдено:',events.duplicated().sum())\n",
    "print('Доля дубликатов в датафрейме:',round(events.duplicated().sum() / len(events),4))"
   ]
  },
  {
   "cell_type": "markdown",
   "metadata": {},
   "source": [
    "Как мы видим, пропущенных значений в каждом из столбцов не найдено, а вот польностью дублирующихся строк найдено 413. Общая доля дубликатов в датафрейме меньше 1%, а точнее 0.17%, что можно считать незначительным. Удалим их."
   ]
  },
  {
   "cell_type": "code",
   "execution_count": 33,
   "metadata": {},
   "outputs": [
    {
     "name": "stdout",
     "output_type": "stream",
     "text": [
      "Дубликатов найдено: 0\n"
     ]
    }
   ],
   "source": [
    "events.drop_duplicates(inplace=True)\n",
    "print('Дубликатов найдено:',events.duplicated().sum())"
   ]
  },
  {
   "cell_type": "markdown",
   "metadata": {},
   "source": [
    "### Добавление столбцов даты и времени."
   ]
  },
  {
   "cell_type": "code",
   "execution_count": 34,
   "metadata": {},
   "outputs": [
    {
     "data": {
      "text/html": [
       "<div>\n",
       "<style scoped>\n",
       "    .dataframe tbody tr th:only-of-type {\n",
       "        vertical-align: middle;\n",
       "    }\n",
       "\n",
       "    .dataframe tbody tr th {\n",
       "        vertical-align: top;\n",
       "    }\n",
       "\n",
       "    .dataframe thead th {\n",
       "        text-align: right;\n",
       "    }\n",
       "</style>\n",
       "<table border=\"1\" class=\"dataframe\">\n",
       "  <thead>\n",
       "    <tr style=\"text-align: right;\">\n",
       "      <th></th>\n",
       "      <th>event_name</th>\n",
       "      <th>device_id_hash</th>\n",
       "      <th>event_timestamp</th>\n",
       "      <th>exp_id</th>\n",
       "      <th>event_datetime</th>\n",
       "      <th>event_date</th>\n",
       "    </tr>\n",
       "  </thead>\n",
       "  <tbody>\n",
       "    <tr>\n",
       "      <th>0</th>\n",
       "      <td>MainScreenAppear</td>\n",
       "      <td>4575588528974610257</td>\n",
       "      <td>1564029816</td>\n",
       "      <td>246</td>\n",
       "      <td>2019-07-25 04:43:36</td>\n",
       "      <td>2019-07-25</td>\n",
       "    </tr>\n",
       "    <tr>\n",
       "      <th>1</th>\n",
       "      <td>MainScreenAppear</td>\n",
       "      <td>7416695313311560658</td>\n",
       "      <td>1564053102</td>\n",
       "      <td>246</td>\n",
       "      <td>2019-07-25 11:11:42</td>\n",
       "      <td>2019-07-25</td>\n",
       "    </tr>\n",
       "    <tr>\n",
       "      <th>2</th>\n",
       "      <td>PaymentScreenSuccessful</td>\n",
       "      <td>3518123091307005509</td>\n",
       "      <td>1564054127</td>\n",
       "      <td>248</td>\n",
       "      <td>2019-07-25 11:28:47</td>\n",
       "      <td>2019-07-25</td>\n",
       "    </tr>\n",
       "    <tr>\n",
       "      <th>3</th>\n",
       "      <td>CartScreenAppear</td>\n",
       "      <td>3518123091307005509</td>\n",
       "      <td>1564054127</td>\n",
       "      <td>248</td>\n",
       "      <td>2019-07-25 11:28:47</td>\n",
       "      <td>2019-07-25</td>\n",
       "    </tr>\n",
       "    <tr>\n",
       "      <th>4</th>\n",
       "      <td>PaymentScreenSuccessful</td>\n",
       "      <td>6217807653094995999</td>\n",
       "      <td>1564055322</td>\n",
       "      <td>248</td>\n",
       "      <td>2019-07-25 11:48:42</td>\n",
       "      <td>2019-07-25</td>\n",
       "    </tr>\n",
       "  </tbody>\n",
       "</table>\n",
       "</div>"
      ],
      "text/plain": [
       "                event_name       device_id_hash  event_timestamp  exp_id  \\\n",
       "0         MainScreenAppear  4575588528974610257       1564029816     246   \n",
       "1         MainScreenAppear  7416695313311560658       1564053102     246   \n",
       "2  PaymentScreenSuccessful  3518123091307005509       1564054127     248   \n",
       "3         CartScreenAppear  3518123091307005509       1564054127     248   \n",
       "4  PaymentScreenSuccessful  6217807653094995999       1564055322     248   \n",
       "\n",
       "       event_datetime  event_date  \n",
       "0 2019-07-25 04:43:36  2019-07-25  \n",
       "1 2019-07-25 11:11:42  2019-07-25  \n",
       "2 2019-07-25 11:28:47  2019-07-25  \n",
       "3 2019-07-25 11:28:47  2019-07-25  \n",
       "4 2019-07-25 11:48:42  2019-07-25  "
      ]
     },
     "metadata": {},
     "output_type": "display_data"
    }
   ],
   "source": [
    "#добавим новые столбцы к существующему датафрейму\n",
    "events['event_datetime'] = pd.to_datetime(events['event_timestamp'], unit='s')\n",
    "events['event_date'] = events['event_datetime'].dt.date\n",
    "\n",
    "display(events.head())"
   ]
  },
  {
   "cell_type": "markdown",
   "metadata": {},
   "source": [
    "К существующему датафрейму присоединили новые столбцы с датой и временем и датой для большего удобства. Перейдём к следующему шагу."
   ]
  },
  {
   "cell_type": "markdown",
   "metadata": {},
   "source": [
    "## Изучение и проверка данных"
   ]
  },
  {
   "cell_type": "markdown",
   "metadata": {},
   "source": [
    "### Общее количество событий в логе"
   ]
  },
  {
   "cell_type": "code",
   "execution_count": 35,
   "metadata": {},
   "outputs": [
    {
     "name": "stdout",
     "output_type": "stream",
     "text": [
      "Количество событий в логе: 243713\n",
      "MainScreenAppear           119101\n",
      "OffersScreenAppear          46808\n",
      "CartScreenAppear            42668\n",
      "PaymentScreenSuccessful     34118\n",
      "Tutorial                     1018\n",
      "Name: event_name, dtype: int64\n"
     ]
    }
   ],
   "source": [
    "num_events = events.shape[0]\n",
    "print(f'Количество событий в логе: {num_events}')\n",
    "print(events['event_name'].value_counts())"
   ]
  },
  {
   "cell_type": "markdown",
   "metadata": {},
   "source": [
    "### Общее количество пользователей"
   ]
  },
  {
   "cell_type": "code",
   "execution_count": 36,
   "metadata": {},
   "outputs": [
    {
     "name": "stdout",
     "output_type": "stream",
     "text": [
      "Количество уникальных пользователей в логе: 7551\n"
     ]
    }
   ],
   "source": [
    "num_users = events['device_id_hash'].nunique()\n",
    "\n",
    "print(f'Количество уникальных пользователей в логе: {num_users}')"
   ]
  },
  {
   "cell_type": "markdown",
   "metadata": {},
   "source": [
    "### Среднее количество событий на пользователя"
   ]
  },
  {
   "cell_type": "code",
   "execution_count": 37,
   "metadata": {
    "scrolled": true
   },
   "outputs": [
    {
     "name": "stdout",
     "output_type": "stream",
     "text": [
      "Среднее количество событий на пользователя: 32.28\n"
     ]
    }
   ],
   "source": [
    "avg_events_per_user = num_events / num_users\n",
    "\n",
    "print(f\"Среднее количество событий на пользователя: {avg_events_per_user:.2f}\")"
   ]
  },
  {
   "cell_type": "markdown",
   "metadata": {},
   "source": [
    "Также следует посчитать медиану на случай, если выбросов много."
   ]
  },
  {
   "cell_type": "code",
   "execution_count": 38,
   "metadata": {
    "scrolled": false
   },
   "outputs": [
    {
     "data": {
      "text/plain": [
       "count    7551.000000\n",
       "mean       32.275593\n",
       "std        65.154219\n",
       "min         1.000000\n",
       "25%         9.000000\n",
       "50%        20.000000\n",
       "75%        37.000000\n",
       "max      2307.000000\n",
       "Name: event_name, dtype: float64"
      ]
     },
     "execution_count": 38,
     "metadata": {},
     "output_type": "execute_result"
    }
   ],
   "source": [
    "events_per_user = events.groupby('device_id_hash')['event_name'].count()\n",
    "events_per_user.describe()"
   ]
  },
  {
   "cell_type": "markdown",
   "metadata": {},
   "source": [
    "Как мы видим из информации о сгруппированном датафрейме с количеством событий на каждого пользователя - медиана составляет 20 событий на пользователя. А максимальное значение достигает 2307 событий на пользователя - это может значительно увеличить среднее, поэтому в данном случае лучше использовать медиану."
   ]
  },
  {
   "cell_type": "markdown",
   "metadata": {},
   "source": [
    "### Изучение дат проведения теста"
   ]
  },
  {
   "cell_type": "code",
   "execution_count": 39,
   "metadata": {},
   "outputs": [
    {
     "name": "stdout",
     "output_type": "stream",
     "text": [
      "Минимальная дата: 2019-07-25 04:43:36\n",
      "Максимальная дата: 2019-08-07 21:15:17\n"
     ]
    }
   ],
   "source": [
    "# Определение минимальной и максимальной даты\n",
    "min_date = events['event_datetime'].min()\n",
    "max_date = events['event_datetime'].max()\n",
    "\n",
    "print(f\"Минимальная дата: {min_date}\")\n",
    "print(f\"Максимальная дата: {max_date}\")"
   ]
  },
  {
   "cell_type": "code",
   "execution_count": 40,
   "metadata": {
    "scrolled": true
   },
   "outputs": [
    {
     "data": {
      "image/png": "[encoded data removed]",
      "text/plain": [
       "<Figure size 1080x504 with 1 Axes>"
      ]
     },
     "metadata": {
      "needs_background": "light"
     },
     "output_type": "display_data"
    }
   ],
   "source": [
    "grouped_events = events.groupby(['event_date', 'exp_id']).size().unstack(fill_value=0)\n",
    "\n",
    "grouped_events.plot(kind='bar', stacked=True, figsize=(15, 7))\n",
    "plt.title('Количество событий по датам и экспериментальным группам')\n",
    "plt.xlabel('Дата')\n",
    "plt.ylabel('Количество событий')\n",
    "plt.legend(title='Экспериментальная группа')\n",
    "plt.show()"
   ]
  },
  {
   "cell_type": "markdown",
   "metadata": {},
   "source": [
    "Как видно из графика - в первой неделе эксперимента довольно маленькое количество событий, скорее всего данные по этим дням неполные и их можно не учитывать в эксперименте. Зададим рамки после удаления старых данных."
   ]
  },
  {
   "cell_type": "code",
   "execution_count": 41,
   "metadata": {},
   "outputs": [
    {
     "name": "stdout",
     "output_type": "stream",
     "text": [
      "Количество событий по дням:\n",
      " event_date\n",
      "2019-07-25        9\n",
      "2019-07-26       31\n",
      "2019-07-27       55\n",
      "2019-07-28      105\n",
      "2019-07-29      184\n",
      "2019-07-30      412\n",
      "2019-07-31     2030\n",
      "2019-08-01    36141\n",
      "2019-08-02    35554\n",
      "2019-08-03    33282\n",
      "2019-08-04    32968\n",
      "2019-08-05    36058\n",
      "2019-08-06    35788\n",
      "2019-08-07    31096\n",
      "dtype: int64\n",
      "Данные после удаления старых: от 2019-08-01 00:07:28 до 2019-08-07 21:15:17\n"
     ]
    }
   ],
   "source": [
    "# Анализ полноты данных\n",
    "daily_event_counts = events.groupby('event_date').size()\n",
    "print('Количество событий по дням:\\n',daily_event_counts)\n",
    "\n",
    "# Определение даты, с которой данные полные\n",
    "full_data_start_date = '2019-08-01'\n",
    "full_data_start_date = pd.to_datetime(full_data_start_date)\n",
    "full_data_events = events[events['event_date'] >= full_data_start_date]\n",
    "\n",
    "# Подтверждение диапазона дат после удаления старых данных\n",
    "full_min_date = full_data_events['event_datetime'].min()\n",
    "full_max_date = full_data_events['event_datetime'].max()\n",
    "\n",
    "print(f\"Данные после удаления старых: от {full_min_date} до {full_max_date}\")"
   ]
  },
  {
   "cell_type": "code",
   "execution_count": 42,
   "metadata": {},
   "outputs": [
    {
     "name": "stdout",
     "output_type": "stream",
     "text": [
      "Количество потерянных событий: 2826 Доля от общего числа событий: 0.0116\n",
      "Количество потерянных пользователей: 17 Доля от общего числа пользователей: 0.0023\n"
     ]
    }
   ],
   "source": [
    "# Общее количество событий до удаления старых данных\n",
    "initial_num_events = events.shape[0]\n",
    "\n",
    "# Общее количество уникальных пользователей до удаления старых данных\n",
    "initial_num_users = events['device_id_hash'].nunique()\n",
    "\n",
    "# Подсчет количества событий после удаления старых данных\n",
    "final_num_events = full_data_events.shape[0]\n",
    "\n",
    "# Подсчет количества уникальных пользователей после удаления старых данных\n",
    "final_num_users = full_data_events['device_id_hash'].nunique()\n",
    "\n",
    "\n",
    "# Потери событий и пользователей\n",
    "lost_events = initial_num_events - final_num_events\n",
    "lost_users = initial_num_users - final_num_users\n",
    "share_events = lost_events / initial_num_events\n",
    "share_users = lost_users / initial_num_users\n",
    "\n",
    "print(f'Количество потерянных событий: {lost_events}', f'Доля от общего числа событий: {share_events:.4f}')\n",
    "print(f'Количество потерянных пользователей: {lost_users}', f'Доля от общего числа пользователей: {share_users:.4f}')\n"
   ]
  },
  {
   "cell_type": "markdown",
   "metadata": {},
   "source": [
    "Итого мы потеряли 2826 событий и 17 пользователей, что составляет 1,2% от числа событий и 0,23% от числа пользователей, что незначительно."
   ]
  },
  {
   "cell_type": "code",
   "execution_count": 43,
   "metadata": {},
   "outputs": [
    {
     "name": "stdout",
     "output_type": "stream",
     "text": [
      "Экспериментальные группы в данных: [246 247 248]\n",
      "Все три экспериментальные группы присутствуют в данных.\n"
     ]
    }
   ],
   "source": [
    "# Проверка на наличие всех трёх групп \n",
    "exp_groups = full_data_events['exp_id'].unique()\n",
    "print(f'Экспериментальные группы в данных: {exp_groups}')\n",
    "\n",
    "expected_groups = {246, 247, 248}\n",
    "missing_groups = expected_groups - set(exp_groups)\n",
    "\n",
    "if not missing_groups:\n",
    "    print('Все три экспериментальные группы присутствуют в данных.')\n",
    "else:\n",
    "    print(f'Отсутствующие группы: {missing_groups}')"
   ]
  },
  {
   "cell_type": "code",
   "execution_count": 44,
   "metadata": {},
   "outputs": [
    {
     "name": "stdout",
     "output_type": "stream",
     "text": [
      "Пересечения пользователей между группами не обнаружено.\n"
     ]
    }
   ],
   "source": [
    "# Проверка на пересечение пользователей между группами\n",
    "user_group_counts = full_data_events.groupby('device_id_hash')['exp_id'].nunique()\n",
    "multiple_groups_users = user_group_counts[user_group_counts > 1]\n",
    "\n",
    "if not multiple_groups_users.empty:\n",
    "    print(f'Пользователи, присутствующие в нескольких группах: {multiple_groups_users.index.tolist()}')\n",
    "    print(f'Количество таких пользователей: {multiple_groups_users.count()}')\n",
    "else:\n",
    "    print('Пересечения пользователей между группами не обнаружено.')"
   ]
  },
  {
   "cell_type": "markdown",
   "metadata": {},
   "source": [
    "**Промежуточный итог:** Мы определили общее количество событий и пользователей в логе 243713 и 7551 соответственно. Также мы посчитали среднее число событий на пользователя и выяснили, что из за наличия выбросов для подсчёта истинного среднего лучше использовать медиану, так как не неё не влияют выбросы. Также мы выяснили минимальную и максимальную дату проведения эксперимента (25 июля и 7 августа). Из-за малого количества данных в июле было принято решение удалить данные о событиях в июля и для дальнейшего анализа использовать данные из августа. Проведённые проверки о наличии групп в эксперименте показали, что пользователи из всех трёх групп присутствуют в новом датафрейме."
   ]
  },
  {
   "cell_type": "markdown",
   "metadata": {},
   "source": [
    "## Изучение воронки событий"
   ]
  },
  {
   "cell_type": "markdown",
   "metadata": {},
   "source": [
    "### Какие события есть в логах"
   ]
  },
  {
   "cell_type": "code",
   "execution_count": 45,
   "metadata": {},
   "outputs": [
    {
     "name": "stdout",
     "output_type": "stream",
     "text": [
      "События в логах и их частота:\n",
      " MainScreenAppear           117328\n",
      "OffersScreenAppear          46333\n",
      "CartScreenAppear            42303\n",
      "PaymentScreenSuccessful     33918\n",
      "Tutorial                     1005\n",
      "Name: event_name, dtype: int64\n"
     ]
    }
   ],
   "source": [
    "event_counts = full_data_events['event_name'].value_counts()\n",
    "\n",
    "sorted_event_counts = event_counts.sort_values(ascending=False)\n",
    "\n",
    "print(\"События в логах и их частота:\\n\",sorted_event_counts)"
   ]
  },
  {
   "cell_type": "markdown",
   "metadata": {},
   "source": [
    "Событие отображения главного экрана происходит наиболее часто, с 117328 записями. Это логично, так как главный экран обычно является первой точкой входа для пользователей в приложении.\n",
    "\n",
    "Отображение экрана предложений произошло 46333 раза. Это событие значительно реже, чем отображение главного экрана, но все еще имеет высокую частоту, указывая на интерес пользователей к специальным предложениям или скидкам.\n",
    "\n",
    "Событие отображения экрана корзины зарегистрировано 42303 раза. Это показывает, что значительное число пользователей добавляет товары в корзину и переходит к следующему шагу процесса покупки.\n",
    "\n",
    "Успешное завершение платежа зарегистрировано 33918 раз. Это событие показывает количество успешных покупок и является важным индикатором конверсии пользователей от просмотра товаров до их покупки.\n",
    "\n",
    "Событие прохождения обучающего материала произошло 1005 раз. Это наименее частое событие, что может указывать на низкую потребность в обучении для пользователей или на то, что пользователи пропускают этот шаг."
   ]
  },
  {
   "cell_type": "markdown",
   "metadata": {},
   "source": [
    "### Сколько пользователей совершали эти события"
   ]
  },
  {
   "cell_type": "code",
   "execution_count": 46,
   "metadata": {},
   "outputs": [
    {
     "data": {
      "text/html": [
       "<div>\n",
       "<style scoped>\n",
       "    .dataframe tbody tr th:only-of-type {\n",
       "        vertical-align: middle;\n",
       "    }\n",
       "\n",
       "    .dataframe tbody tr th {\n",
       "        vertical-align: top;\n",
       "    }\n",
       "\n",
       "    .dataframe thead th {\n",
       "        text-align: right;\n",
       "    }\n",
       "</style>\n",
       "<table border=\"1\" class=\"dataframe\">\n",
       "  <thead>\n",
       "    <tr style=\"text-align: right;\">\n",
       "      <th></th>\n",
       "      <th>unique_users</th>\n",
       "      <th>user_event_ratio</th>\n",
       "    </tr>\n",
       "    <tr>\n",
       "      <th>event_name</th>\n",
       "      <th></th>\n",
       "      <th></th>\n",
       "    </tr>\n",
       "  </thead>\n",
       "  <tbody>\n",
       "    <tr>\n",
       "      <th>MainScreenAppear</th>\n",
       "      <td>7419</td>\n",
       "      <td>0.98</td>\n",
       "    </tr>\n",
       "    <tr>\n",
       "      <th>OffersScreenAppear</th>\n",
       "      <td>4593</td>\n",
       "      <td>0.61</td>\n",
       "    </tr>\n",
       "    <tr>\n",
       "      <th>CartScreenAppear</th>\n",
       "      <td>3734</td>\n",
       "      <td>0.50</td>\n",
       "    </tr>\n",
       "    <tr>\n",
       "      <th>PaymentScreenSuccessful</th>\n",
       "      <td>3539</td>\n",
       "      <td>0.47</td>\n",
       "    </tr>\n",
       "    <tr>\n",
       "      <th>Tutorial</th>\n",
       "      <td>840</td>\n",
       "      <td>0.11</td>\n",
       "    </tr>\n",
       "  </tbody>\n",
       "</table>\n",
       "</div>"
      ],
      "text/plain": [
       "                         unique_users  user_event_ratio\n",
       "event_name                                             \n",
       "MainScreenAppear                 7419              0.98\n",
       "OffersScreenAppear               4593              0.61\n",
       "CartScreenAppear                 3734              0.50\n",
       "PaymentScreenSuccessful          3539              0.47\n",
       "Tutorial                          840              0.11"
      ]
     },
     "metadata": {},
     "output_type": "display_data"
    }
   ],
   "source": [
    "# Подсчет количества уникальных пользователей для каждого типа события\n",
    "unique_users_per_event = full_data_events.groupby('event_name')['device_id_hash'].nunique()\n",
    "\n",
    "# Общее количество уникальных пользователей в логе\n",
    "total_unique_users = full_data_events['device_id_hash'].nunique()\n",
    "\n",
    "# Расчет доли пользователей, которые хоть раз совершали каждое событие\n",
    "user_event_ratio = round(unique_users_per_event / total_unique_users, 2)\n",
    "\n",
    "# Создание датафрейма для удобства отображения\n",
    "event_analysis = pd.DataFrame({\n",
    "    'unique_users': unique_users_per_event,\n",
    "    'user_event_ratio': user_event_ratio\n",
    "})\n",
    "\n",
    "# Сортировка событий по числу уникальных пользователей\n",
    "event_analysis_sorted = event_analysis.sort_values(by='unique_users', ascending=False)\n",
    "\n",
    "# Вывод результата\n",
    "display(event_analysis_sorted)"
   ]
  },
  {
   "cell_type": "markdown",
   "metadata": {},
   "source": [
    "Как мы видим, воронка количества событий и количества уникальных пользователей по событиям мало чем отличается - 98% уникальных пользователей как минимум заходили на главную страницу, 61% столкнулся с экраном предложения, 50% пользователей переходили в карзину и 47% покупали товар - конверсия в покупку 47% довольно высокая. Стоит также отметить, что обучение прошли всего лишь 11% всех пользователей, что может говорить о низкой потребности пользователей в обучении."
   ]
  },
  {
   "cell_type": "markdown",
   "metadata": {},
   "source": [
    "### Последовательность событий "
   ]
  },
  {
   "cell_type": "markdown",
   "metadata": {},
   "source": [
    "**Предполагаемый порядок событий**\n",
    "\n",
    "На основе частоты событий и числа уникальных пользователей, совершивших эти события, можно предположить следующий порядок событий в приложении:\n",
    "\n",
    "1. **MainScreenAppear**: первое событие, которое видит пользователь после запуска приложения, - отображение главного экрана. Это логично, так как большинство пользователей начинает взаимодействие с приложения с главного экрана.\n",
    "\n",
    "2. **OffersScreenAppear**: после главного экрана пользователи могут перейти к экрану с предложениями, чтобы просмотреть доступные скидки и акции.\n",
    "\n",
    "3. **CartScreenAppear**: следующим шагом после просмотра предложений пользователи могут добавить товары в корзину, что приводит к отображению экрана корзины.\n",
    "\n",
    "4. **PaymentScreenSuccessful**: после добавления товаров в корзину пользователи переходят к оплате. Успешное завершение платежа регистрируется как событие \"PaymentScreenSuccessful\".\n",
    "\n",
    "5. **Tutorial**: это событие происходит редко, предположительно, в начале использования приложения новым пользователем. Оно может не быть частью основной последовательности взаимодействий большинства пользователей.\n",
    "\n",
    "**Анализ последовательной цепочки событий**\n",
    "\n",
    "Все перечисленные события, кроме \"Tutorial\", можно считать последовательной цепочкой, ведущей к завершению покупки:\n",
    "\n",
    "1. **MainScreenAppear** → 2. **OffersScreenAppear** → 3. **CartScreenAppear** → 4. **PaymentScreenSuccessful**\n",
    "\n",
    "Событие \"Tutorial\" не является частью основной воронки, поскольку оно происходит редко и не обязательно в строгой последовательности с другими событиями.\n",
    "\n",
    "**Вывод**\n",
    "\n",
    "**События, которые нужно учитывать при расчёте воронки продаж:**\n",
    "- MainScreenAppear\n",
    "- OffersScreenAppear\n",
    "- CartScreenAppear\n",
    "- PaymentScreenSuccessful\n",
    "\n",
    "**Событие, которое не нужно учитывать при расчёте воронки:**\n",
    "- Tutorial"
   ]
  },
  {
   "cell_type": "markdown",
   "metadata": {},
   "source": [
    "### Доля пользователей на каждом шагу воронки"
   ]
  },
  {
   "cell_type": "code",
   "execution_count": 47,
   "metadata": {
    "scrolled": false
   },
   "outputs": [
    {
     "name": "stdout",
     "output_type": "stream",
     "text": [
      "Доля пользователей, переходящих с MainScreenAppear на OffersScreenAppear: 0.62\n",
      "Доля пользователей, переходящих с OffersScreenAppear на CartScreenAppear: 0.81\n",
      "Доля пользователей, переходящих с CartScreenAppear на PaymentScreenSuccessful: 0.95\n"
     ]
    }
   ],
   "source": [
    "# Подсчет количества уникальных пользователей для каждого типа события\n",
    "unique_users_per_event = full_data_events.groupby('event_name')['device_id_hash'].nunique()\n",
    "\n",
    "# Определение последовательности событий\n",
    "event_sequence = ['MainScreenAppear', 'OffersScreenAppear', 'CartScreenAppear', 'PaymentScreenSuccessful']\n",
    "\n",
    "# Фильтрация и сортировка событий\n",
    "unique_users_per_event = unique_users_per_event[event_sequence]\n",
    "\n",
    "# Расчет долей перехода на следующий шаг с использованием функции shift()\n",
    "conversion_rates = unique_users_per_event.shift(-1) / unique_users_per_event\n",
    "\n",
    "# Извлечение количества пользователей для каждого события\n",
    "main_screen_users = unique_users_per_event['MainScreenAppear']\n",
    "offers_screen_users = unique_users_per_event['OffersScreenAppear']\n",
    "cart_screen_users = unique_users_per_event['CartScreenAppear']\n",
    "payment_success_users = unique_users_per_event['PaymentScreenSuccessful']\n",
    "\n",
    "# Расчет долей перехода на следующий шаг\n",
    "offers_to_main_ratio = conversion_rates['MainScreenAppear']\n",
    "cart_to_offers_ratio = conversion_rates['OffersScreenAppear']\n",
    "payment_to_cart_ratio = conversion_rates['CartScreenAppear']\n",
    "\n",
    "# Вывод результатов\n",
    "print(f'Доля пользователей, переходящих с MainScreenAppear на OffersScreenAppear: {offers_to_main_ratio:.2f}')\n",
    "print(f'Доля пользователей, переходящих с OffersScreenAppear на CartScreenAppear: {cart_to_offers_ratio:.2f}')\n",
    "print(f'Доля пользователей, переходящих с CartScreenAppear на PaymentScreenSuccessful: {payment_to_cart_ratio:.2f}')"
   ]
  },
  {
   "cell_type": "markdown",
   "metadata": {},
   "source": [
    "### На каком шаге теряется больше всего пользователей"
   ]
  },
  {
   "cell_type": "code",
   "execution_count": 48,
   "metadata": {
    "scrolled": true
   },
   "outputs": [
    {
     "name": "stdout",
     "output_type": "stream",
     "text": [
      "Наибольшие потери пользователей происходят на этапе: MainScreenAppear to OffersScreenAppear с потерей 0.38\n"
     ]
    }
   ],
   "source": [
    "loss_ratios = {\n",
    "    'MainScreenAppear to OffersScreenAppear': 1 - offers_to_main_ratio,\n",
    "    'OffersScreenAppear to CartScreenAppear': 1 - cart_to_offers_ratio,\n",
    "    'CartScreenAppear to PaymentScreenSuccessful': 1 - payment_to_cart_ratio\n",
    "}\n",
    "\n",
    "max_loss_step = max(loss_ratios, key=loss_ratios.get)\n",
    "max_loss_value = loss_ratios[max_loss_step]\n",
    "\n",
    "\n",
    "print(f\"Наибольшие потери пользователей происходят на этапе: {max_loss_step} с потерей {max_loss_value:.2f}\")"
   ]
  },
  {
   "cell_type": "markdown",
   "metadata": {},
   "source": [
    "### Сколько всего пользователей доходит до оплаты"
   ]
  },
  {
   "cell_type": "code",
   "execution_count": 49,
   "metadata": {},
   "outputs": [
    {
     "name": "stdout",
     "output_type": "stream",
     "text": [
      "Доля пользователей, доходящих от первого события до оплаты: 0.48\n"
     ]
    }
   ],
   "source": [
    "first_to_last_ratio = payment_success_users / main_screen_users\n",
    "print(f\"Доля пользователей, доходящих от первого события до оплаты: {first_to_last_ratio:.2f}\")"
   ]
  },
  {
   "cell_type": "markdown",
   "metadata": {},
   "source": [
    "Для наглядности построим график, на котором можно будет увидеть воронку."
   ]
  },
  {
   "cell_type": "code",
   "execution_count": 50,
   "metadata": {},
   "outputs": [
    {
     "data": {
      "application/vnd.plotly.v1+json": {
       "config": {
        "plotlyServerURL": "https://plot.ly"
       },
       "data": [
        {
         "textinfo": "value+percent initial",
         "type": "funnel",
         "x": [
          7419,
          4593,
          3734,
          3539
         ],
         "y": [
          "MainScreenAppear",
          "OffersScreenAppear",
          "CartScreenAppear",
          "PaymentScreenSuccessful"
         ]
        }
       ],
       "layout": {
        "template": {
         "data": {
          "bar": [
           {
            "error_x": {
             "color": "#2a3f5f"
            },
            "error_y": {
             "color": "#2a3f5f"
            },
            "marker": {
             "line": {
              "color": "#E5ECF6",
              "width": 0.5
             },
             "pattern": {
              "fillmode": "overlay",
              "size": 10,
              "solidity": 0.2
             }
            },
            "type": "bar"
           }
          ],
          "barpolar": [
           {
            "marker": {
             "line": {
              "color": "#E5ECF6",
              "width": 0.5
             },
             "pattern": {
              "fillmode": "overlay",
              "size": 10,
              "solidity": 0.2
             }
            },
            "type": "barpolar"
           }
          ],
          "carpet": [
           {
            "aaxis": {
             "endlinecolor": "#2a3f5f",
             "gridcolor": "white",
             "linecolor": "white",
             "minorgridcolor": "white",
             "startlinecolor": "#2a3f5f"
            },
            "baxis": {
             "endlinecolor": "#2a3f5f",
             "gridcolor": "white",
             "linecolor": "white",
             "minorgridcolor": "white",
             "startlinecolor": "#2a3f5f"
            },
            "type": "carpet"
           }
          ],
          "choropleth": [
           {
            "colorbar": {
             "outlinewidth": 0,
             "ticks": ""
            },
            "type": "choropleth"
           }
          ],
          "contour": [
           {
            "colorbar": {
             "outlinewidth": 0,
             "ticks": ""
            },
            "colorscale": [
             [
              0,
              "#0d0887"
             ],
             [
              0.1111111111111111,
              "#46039f"
             ],
             [
              0.2222222222222222,
              "#7201a8"
             ],
             [
              0.3333333333333333,
              "#9c179e"
             ],
             [
              0.4444444444444444,
              "#bd3786"
             ],
             [
              0.5555555555555556,
              "#d8576b"
             ],
             [
              0.6666666666666666,
              "#ed7953"
             ],
             [
              0.7777777777777778,
              "#fb9f3a"
             ],
             [
              0.8888888888888888,
              "#fdca26"
             ],
             [
              1,
              "#f0f921"
             ]
            ],
            "type": "contour"
           }
          ],
          "contourcarpet": [
           {
            "colorbar": {
             "outlinewidth": 0,
             "ticks": ""
            },
            "type": "contourcarpet"
           }
          ],
          "heatmap": [
           {
            "colorbar": {
             "outlinewidth": 0,
             "ticks": ""
            },
            "colorscale": [
             [
              0,
              "#0d0887"
             ],
             [
              0.1111111111111111,
              "#46039f"
             ],
             [
              0.2222222222222222,
              "#7201a8"
             ],
             [
              0.3333333333333333,
              "#9c179e"
             ],
             [
              0.4444444444444444,
              "#bd3786"
             ],
             [
              0.5555555555555556,
              "#d8576b"
             ],
             [
              0.6666666666666666,
              "#ed7953"
             ],
             [
              0.7777777777777778,
              "#fb9f3a"
             ],
             [
              0.8888888888888888,
              "#fdca26"
             ],
             [
              1,
              "#f0f921"
             ]
            ],
            "type": "heatmap"
           }
          ],
          "heatmapgl": [
           {
            "colorbar": {
             "outlinewidth": 0,
             "ticks": ""
            },
            "colorscale": [
             [
              0,
              "#0d0887"
             ],
             [
              0.1111111111111111,
              "#46039f"
             ],
             [
              0.2222222222222222,
              "#7201a8"
             ],
             [
              0.3333333333333333,
              "#9c179e"
             ],
             [
              0.4444444444444444,
              "#bd3786"
             ],
             [
              0.5555555555555556,
              "#d8576b"
             ],
             [
              0.6666666666666666,
              "#ed7953"
             ],
             [
              0.7777777777777778,
              "#fb9f3a"
             ],
             [
              0.8888888888888888,
              "#fdca26"
             ],
             [
              1,
              "#f0f921"
             ]
            ],
            "type": "heatmapgl"
           }
          ],
          "histogram": [
           {
            "marker": {
             "pattern": {
              "fillmode": "overlay",
              "size": 10,
              "solidity": 0.2
             }
            },
            "type": "histogram"
           }
          ],
          "histogram2d": [
           {
            "colorbar": {
             "outlinewidth": 0,
             "ticks": ""
            },
            "colorscale": [
             [
              0,
              "#0d0887"
             ],
             [
              0.1111111111111111,
              "#46039f"
             ],
             [
              0.2222222222222222,
              "#7201a8"
             ],
             [
              0.3333333333333333,
              "#9c179e"
             ],
             [
              0.4444444444444444,
              "#bd3786"
             ],
             [
              0.5555555555555556,
              "#d8576b"
             ],
             [
              0.6666666666666666,
              "#ed7953"
             ],
             [
              0.7777777777777778,
              "#fb9f3a"
             ],
             [
              0.8888888888888888,
              "#fdca26"
             ],
             [
              1,
              "#f0f921"
             ]
            ],
            "type": "histogram2d"
           }
          ],
          "histogram2dcontour": [
           {
            "colorbar": {
             "outlinewidth": 0,
             "ticks": ""
            },
            "colorscale": [
             [
              0,
              "#0d0887"
             ],
             [
              0.1111111111111111,
              "#46039f"
             ],
             [
              0.2222222222222222,
              "#7201a8"
             ],
             [
              0.3333333333333333,
              "#9c179e"
             ],
             [
              0.4444444444444444,
              "#bd3786"
             ],
             [
              0.5555555555555556,
              "#d8576b"
             ],
             [
              0.6666666666666666,
              "#ed7953"
             ],
             [
              0.7777777777777778,
              "#fb9f3a"
             ],
             [
              0.8888888888888888,
              "#fdca26"
             ],
             [
              1,
              "#f0f921"
             ]
            ],
            "type": "histogram2dcontour"
           }
          ],
          "mesh3d": [
           {
            "colorbar": {
             "outlinewidth": 0,
             "ticks": ""
            },
            "type": "mesh3d"
           }
          ],
          "parcoords": [
           {
            "line": {
             "colorbar": {
              "outlinewidth": 0,
              "ticks": ""
             }
            },
            "type": "parcoords"
           }
          ],
          "pie": [
           {
            "automargin": true,
            "type": "pie"
           }
          ],
          "scatter": [
           {
            "marker": {
             "colorbar": {
              "outlinewidth": 0,
              "ticks": ""
             }
            },
            "type": "scatter"
           }
          ],
          "scatter3d": [
           {
            "line": {
             "colorbar": {
              "outlinewidth": 0,
              "ticks": ""
             }
            },
            "marker": {
             "colorbar": {
              "outlinewidth": 0,
              "ticks": ""
             }
            },
            "type": "scatter3d"
           }
          ],
          "scattercarpet": [
           {
            "marker": {
             "colorbar": {
              "outlinewidth": 0,
              "ticks": ""
             }
            },
            "type": "scattercarpet"
           }
          ],
          "scattergeo": [
           {
            "marker": {
             "colorbar": {
              "outlinewidth": 0,
              "ticks": ""
             }
            },
            "type": "scattergeo"
           }
          ],
          "scattergl": [
           {
            "marker": {
             "colorbar": {
              "outlinewidth": 0,
              "ticks": ""
             }
            },
            "type": "scattergl"
           }
          ],
          "scattermapbox": [
           {
            "marker": {
             "colorbar": {
              "outlinewidth": 0,
              "ticks": ""
             }
            },
            "type": "scattermapbox"
           }
          ],
          "scatterpolar": [
           {
            "marker": {
             "colorbar": {
              "outlinewidth": 0,
              "ticks": ""
             }
            },
            "type": "scatterpolar"
           }
          ],
          "scatterpolargl": [
           {
            "marker": {
             "colorbar": {
              "outlinewidth": 0,
              "ticks": ""
             }
            },
            "type": "scatterpolargl"
           }
          ],
          "scatterternary": [
           {
            "marker": {
             "colorbar": {
              "outlinewidth": 0,
              "ticks": ""
             }
            },
            "type": "scatterternary"
           }
          ],
          "surface": [
           {
            "colorbar": {
             "outlinewidth": 0,
             "ticks": ""
            },
            "colorscale": [
             [
              0,
              "#0d0887"
             ],
             [
              0.1111111111111111,
              "#46039f"
             ],
             [
              0.2222222222222222,
              "#7201a8"
             ],
             [
              0.3333333333333333,
              "#9c179e"
             ],
             [
              0.4444444444444444,
              "#bd3786"
             ],
             [
              0.5555555555555556,
              "#d8576b"
             ],
             [
              0.6666666666666666,
              "#ed7953"
             ],
             [
              0.7777777777777778,
              "#fb9f3a"
             ],
             [
              0.8888888888888888,
              "#fdca26"
             ],
             [
              1,
              "#f0f921"
             ]
            ],
            "type": "surface"
           }
          ],
          "table": [
           {
            "cells": {
             "fill": {
              "color": "#EBF0F8"
             },
             "line": {
              "color": "white"
             }
            },
            "header": {
             "fill": {
              "color": "#C8D4E3"
             },
             "line": {
              "color": "white"
             }
            },
            "type": "table"
           }
          ]
         },
         "layout": {
          "annotationdefaults": {
           "arrowcolor": "#2a3f5f",
           "arrowhead": 0,
           "arrowwidth": 1
          },
          "autotypenumbers": "strict",
          "coloraxis": {
           "colorbar": {
            "outlinewidth": 0,
            "ticks": ""
           }
          },
          "colorscale": {
           "diverging": [
            [
             0,
             "#8e0152"
            ],
            [
             0.1,
             "#c51b7d"
            ],
            [
             0.2,
             "#de77ae"
            ],
            [
             0.3,
             "#f1b6da"
            ],
            [
             0.4,
             "#fde0ef"
            ],
            [
             0.5,
             "#f7f7f7"
            ],
            [
             0.6,
             "#e6f5d0"
            ],
            [
             0.7,
             "#b8e186"
            ],
            [
             0.8,
             "#7fbc41"
            ],
            [
             0.9,
             "#4d9221"
            ],
            [
             1,
             "#276419"
            ]
           ],
           "sequential": [
            [
             0,
             "#0d0887"
            ],
            [
             0.1111111111111111,
             "#46039f"
            ],
            [
             0.2222222222222222,
             "#7201a8"
            ],
            [
             0.3333333333333333,
             "#9c179e"
            ],
            [
             0.4444444444444444,
             "#bd3786"
            ],
            [
             0.5555555555555556,
             "#d8576b"
            ],
            [
             0.6666666666666666,
             "#ed7953"
            ],
            [
             0.7777777777777778,
             "#fb9f3a"
            ],
            [
             0.8888888888888888,
             "#fdca26"
            ],
            [
             1,
             "#f0f921"
            ]
           ],
           "sequentialminus": [
            [
             0,
             "#0d0887"
            ],
            [
             0.1111111111111111,
             "#46039f"
            ],
            [
             0.2222222222222222,
             "#7201a8"
            ],
            [
             0.3333333333333333,
             "#9c179e"
            ],
            [
             0.4444444444444444,
             "#bd3786"
            ],
            [
             0.5555555555555556,
             "#d8576b"
            ],
            [
             0.6666666666666666,
             "#ed7953"
            ],
            [
             0.7777777777777778,
             "#fb9f3a"
            ],
            [
             0.8888888888888888,
             "#fdca26"
            ],
            [
             1,
             "#f0f921"
            ]
           ]
          },
          "colorway": [
           "#636efa",
           "#EF553B",
           "#00cc96",
           "#ab63fa",
           "#FFA15A",
           "#19d3f3",
           "#FF6692",
           "#B6E880",
           "#FF97FF",
           "#FECB52"
          ],
          "font": {
           "color": "#2a3f5f"
          },
          "geo": {
           "bgcolor": "white",
           "lakecolor": "white",
           "landcolor": "#E5ECF6",
           "showlakes": true,
           "showland": true,
           "subunitcolor": "white"
          },
          "hoverlabel": {
           "align": "left"
          },
          "hovermode": "closest",
          "mapbox": {
           "style": "light"
          },
          "paper_bgcolor": "white",
          "plot_bgcolor": "#E5ECF6",
          "polar": {
           "angularaxis": {
            "gridcolor": "white",
            "linecolor": "white",
            "ticks": ""
           },
           "bgcolor": "#E5ECF6",
           "radialaxis": {
            "gridcolor": "white",
            "linecolor": "white",
            "ticks": ""
           }
          },
          "scene": {
           "xaxis": {
            "backgroundcolor": "#E5ECF6",
            "gridcolor": "white",
            "gridwidth": 2,
            "linecolor": "white",
            "showbackground": true,
            "ticks": "",
            "zerolinecolor": "white"
           },
           "yaxis": {
            "backgroundcolor": "#E5ECF6",
            "gridcolor": "white",
            "gridwidth": 2,
            "linecolor": "white",
            "showbackground": true,
            "ticks": "",
            "zerolinecolor": "white"
           },
           "zaxis": {
            "backgroundcolor": "#E5ECF6",
            "gridcolor": "white",
            "gridwidth": 2,
            "linecolor": "white",
            "showbackground": true,
            "ticks": "",
            "zerolinecolor": "white"
           }
          },
          "shapedefaults": {
           "line": {
            "color": "#2a3f5f"
           }
          },
          "ternary": {
           "aaxis": {
            "gridcolor": "white",
            "linecolor": "white",
            "ticks": ""
           },
           "baxis": {
            "gridcolor": "white",
            "linecolor": "white",
            "ticks": ""
           },
           "bgcolor": "#E5ECF6",
           "caxis": {
            "gridcolor": "white",
            "linecolor": "white",
            "ticks": ""
           }
          },
          "title": {
           "x": 0.05
          },
          "xaxis": {
           "automargin": true,
           "gridcolor": "white",
           "linecolor": "white",
           "ticks": "",
           "title": {
            "standoff": 15
           },
           "zerolinecolor": "white",
           "zerolinewidth": 2
          },
          "yaxis": {
           "automargin": true,
           "gridcolor": "white",
           "linecolor": "white",
           "ticks": "",
           "title": {
            "standoff": 15
           },
           "zerolinecolor": "white",
           "zerolinewidth": 2
          }
         }
        },
        "title": {
         "text": "Воронка событий по количеству пользователей"
        }
       }
      },
      "text/html": [
       "<div>                            <div id=\"3beaac14-f555-4c2c-8c04-c03a52585d0d\" class=\"plotly-graph-div\" style=\"height:525px; width:100%;\"></div>            <script type=\"text/javascript\">                require([\"plotly\"], function(Plotly) {                    window.PLOTLYENV=window.PLOTLYENV || {};                                    if (document.getElementById(\"3beaac14-f555-4c2c-8c04-c03a52585d0d\")) {                    Plotly.newPlot(                        \"3beaac14-f555-4c2c-8c04-c03a52585d0d\",                        [{\"textinfo\":\"value+percent initial\",\"x\":[7419,4593,3734,3539],\"y\":[\"MainScreenAppear\",\"OffersScreenAppear\",\"CartScreenAppear\",\"PaymentScreenSuccessful\"],\"type\":\"funnel\"}],                        {\"template\":{\"data\":{\"bar\":[{\"error_x\":{\"color\":\"#2a3f5f\"},\"error_y\":{\"color\":\"#2a3f5f\"},\"marker\":{\"line\":{\"color\":\"#E5ECF6\",\"width\":0.5},\"pattern\":{\"fillmode\":\"overlay\",\"size\":10,\"solidity\":0.2}},\"type\":\"bar\"}],\"barpolar\":[{\"marker\":{\"line\":{\"color\":\"#E5ECF6\",\"width\":0.5},\"pattern\":{\"fillmode\":\"overlay\",\"size\":10,\"solidity\":0.2}},\"type\":\"barpolar\"}],\"carpet\":[{\"aaxis\":{\"endlinecolor\":\"#2a3f5f\",\"gridcolor\":\"white\",\"linecolor\":\"white\",\"minorgridcolor\":\"white\",\"startlinecolor\":\"#2a3f5f\"},\"baxis\":{\"endlinecolor\":\"#2a3f5f\",\"gridcolor\":\"white\",\"linecolor\":\"white\",\"minorgridcolor\":\"white\",\"startlinecolor\":\"#2a3f5f\"},\"type\":\"carpet\"}],\"choropleth\":[{\"colorbar\":{\"outlinewidth\":0,\"ticks\":\"\"},\"type\":\"choropleth\"}],\"contour\":[{\"colorbar\":{\"outlinewidth\":0,\"ticks\":\"\"},\"colorscale\":[[0.0,\"#0d0887\"],[0.1111111111111111,\"#46039f\"],[0.2222222222222222,\"#7201a8\"],[0.3333333333333333,\"#9c179e\"],[0.4444444444444444,\"#bd3786\"],[0.5555555555555556,\"#d8576b\"],[0.6666666666666666,\"#ed7953\"],[0.7777777777777778,\"#fb9f3a\"],[0.8888888888888888,\"#fdca26\"],[1.0,\"#f0f921\"]],\"type\":\"contour\"}],\"contourcarpet\":[{\"colorbar\":{\"outlinewidth\":0,\"ticks\":\"\"},\"type\":\"contourcarpet\"}],\"heatmap\":[{\"colorbar\":{\"outlinewidth\":0,\"ticks\":\"\"},\"colorscale\":[[0.0,\"#0d0887\"],[0.1111111111111111,\"#46039f\"],[0.2222222222222222,\"#7201a8\"],[0.3333333333333333,\"#9c179e\"],[0.4444444444444444,\"#bd3786\"],[0.5555555555555556,\"#d8576b\"],[0.6666666666666666,\"#ed7953\"],[0.7777777777777778,\"#fb9f3a\"],[0.8888888888888888,\"#fdca26\"],[1.0,\"#f0f921\"]],\"type\":\"heatmap\"}],\"heatmapgl\":[{\"colorbar\":{\"outlinewidth\":0,\"ticks\":\"\"},\"colorscale\":[[0.0,\"#0d0887\"],[0.1111111111111111,\"#46039f\"],[0.2222222222222222,\"#7201a8\"],[0.3333333333333333,\"#9c179e\"],[0.4444444444444444,\"#bd3786\"],[0.5555555555555556,\"#d8576b\"],[0.6666666666666666,\"#ed7953\"],[0.7777777777777778,\"#fb9f3a\"],[0.8888888888888888,\"#fdca26\"],[1.0,\"#f0f921\"]],\"type\":\"heatmapgl\"}],\"histogram\":[{\"marker\":{\"pattern\":{\"fillmode\":\"overlay\",\"size\":10,\"solidity\":0.2}},\"type\":\"histogram\"}],\"histogram2d\":[{\"colorbar\":{\"outlinewidth\":0,\"ticks\":\"\"},\"colorscale\":[[0.0,\"#0d0887\"],[0.1111111111111111,\"#46039f\"],[0.2222222222222222,\"#7201a8\"],[0.3333333333333333,\"#9c179e\"],[0.4444444444444444,\"#bd3786\"],[0.5555555555555556,\"#d8576b\"],[0.6666666666666666,\"#ed7953\"],[0.7777777777777778,\"#fb9f3a\"],[0.8888888888888888,\"#fdca26\"],[1.0,\"#f0f921\"]],\"type\":\"histogram2d\"}],\"histogram2dcontour\":[{\"colorbar\":{\"outlinewidth\":0,\"ticks\":\"\"},\"colorscale\":[[0.0,\"#0d0887\"],[0.1111111111111111,\"#46039f\"],[0.2222222222222222,\"#7201a8\"],[0.3333333333333333,\"#9c179e\"],[0.4444444444444444,\"#bd3786\"],[0.5555555555555556,\"#d8576b\"],[0.6666666666666666,\"#ed7953\"],[0.7777777777777778,\"#fb9f3a\"],[0.8888888888888888,\"#fdca26\"],[1.0,\"#f0f921\"]],\"type\":\"histogram2dcontour\"}],\"mesh3d\":[{\"colorbar\":{\"outlinewidth\":0,\"ticks\":\"\"},\"type\":\"mesh3d\"}],\"parcoords\":[{\"line\":{\"colorbar\":{\"outlinewidth\":0,\"ticks\":\"\"}},\"type\":\"parcoords\"}],\"pie\":[{\"automargin\":true,\"type\":\"pie\"}],\"scatter\":[{\"marker\":{\"colorbar\":{\"outlinewidth\":0,\"ticks\":\"\"}},\"type\":\"scatter\"}],\"scatter3d\":[{\"line\":{\"colorbar\":{\"outlinewidth\":0,\"ticks\":\"\"}},\"marker\":{\"colorbar\":{\"outlinewidth\":0,\"ticks\":\"\"}},\"type\":\"scatter3d\"}],\"scattercarpet\":[{\"marker\":{\"colorbar\":{\"outlinewidth\":0,\"ticks\":\"\"}},\"type\":\"scattercarpet\"}],\"scattergeo\":[{\"marker\":{\"colorbar\":{\"outlinewidth\":0,\"ticks\":\"\"}},\"type\":\"scattergeo\"}],\"scattergl\":[{\"marker\":{\"colorbar\":{\"outlinewidth\":0,\"ticks\":\"\"}},\"type\":\"scattergl\"}],\"scattermapbox\":[{\"marker\":{\"colorbar\":{\"outlinewidth\":0,\"ticks\":\"\"}},\"type\":\"scattermapbox\"}],\"scatterpolar\":[{\"marker\":{\"colorbar\":{\"outlinewidth\":0,\"ticks\":\"\"}},\"type\":\"scatterpolar\"}],\"scatterpolargl\":[{\"marker\":{\"colorbar\":{\"outlinewidth\":0,\"ticks\":\"\"}},\"type\":\"scatterpolargl\"}],\"scatterternary\":[{\"marker\":{\"colorbar\":{\"outlinewidth\":0,\"ticks\":\"\"}},\"type\":\"scatterternary\"}],\"surface\":[{\"colorbar\":{\"outlinewidth\":0,\"ticks\":\"\"},\"colorscale\":[[0.0,\"#0d0887\"],[0.1111111111111111,\"#46039f\"],[0.2222222222222222,\"#7201a8\"],[0.3333333333333333,\"#9c179e\"],[0.4444444444444444,\"#bd3786\"],[0.5555555555555556,\"#d8576b\"],[0.6666666666666666,\"#ed7953\"],[0.7777777777777778,\"#fb9f3a\"],[0.8888888888888888,\"#fdca26\"],[1.0,\"#f0f921\"]],\"type\":\"surface\"}],\"table\":[{\"cells\":{\"fill\":{\"color\":\"#EBF0F8\"},\"line\":{\"color\":\"white\"}},\"header\":{\"fill\":{\"color\":\"#C8D4E3\"},\"line\":{\"color\":\"white\"}},\"type\":\"table\"}]},\"layout\":{\"annotationdefaults\":{\"arrowcolor\":\"#2a3f5f\",\"arrowhead\":0,\"arrowwidth\":1},\"autotypenumbers\":\"strict\",\"coloraxis\":{\"colorbar\":{\"outlinewidth\":0,\"ticks\":\"\"}},\"colorscale\":{\"diverging\":[[0,\"#8e0152\"],[0.1,\"#c51b7d\"],[0.2,\"#de77ae\"],[0.3,\"#f1b6da\"],[0.4,\"#fde0ef\"],[0.5,\"#f7f7f7\"],[0.6,\"#e6f5d0\"],[0.7,\"#b8e186\"],[0.8,\"#7fbc41\"],[0.9,\"#4d9221\"],[1,\"#276419\"]],\"sequential\":[[0.0,\"#0d0887\"],[0.1111111111111111,\"#46039f\"],[0.2222222222222222,\"#7201a8\"],[0.3333333333333333,\"#9c179e\"],[0.4444444444444444,\"#bd3786\"],[0.5555555555555556,\"#d8576b\"],[0.6666666666666666,\"#ed7953\"],[0.7777777777777778,\"#fb9f3a\"],[0.8888888888888888,\"#fdca26\"],[1.0,\"#f0f921\"]],\"sequentialminus\":[[0.0,\"#0d0887\"],[0.1111111111111111,\"#46039f\"],[0.2222222222222222,\"#7201a8\"],[0.3333333333333333,\"#9c179e\"],[0.4444444444444444,\"#bd3786\"],[0.5555555555555556,\"#d8576b\"],[0.6666666666666666,\"#ed7953\"],[0.7777777777777778,\"#fb9f3a\"],[0.8888888888888888,\"#fdca26\"],[1.0,\"#f0f921\"]]},\"colorway\":[\"#636efa\",\"#EF553B\",\"#00cc96\",\"#ab63fa\",\"#FFA15A\",\"#19d3f3\",\"#FF6692\",\"#B6E880\",\"#FF97FF\",\"#FECB52\"],\"font\":{\"color\":\"#2a3f5f\"},\"geo\":{\"bgcolor\":\"white\",\"lakecolor\":\"white\",\"landcolor\":\"#E5ECF6\",\"showlakes\":true,\"showland\":true,\"subunitcolor\":\"white\"},\"hoverlabel\":{\"align\":\"left\"},\"hovermode\":\"closest\",\"mapbox\":{\"style\":\"light\"},\"paper_bgcolor\":\"white\",\"plot_bgcolor\":\"#E5ECF6\",\"polar\":{\"angularaxis\":{\"gridcolor\":\"white\",\"linecolor\":\"white\",\"ticks\":\"\"},\"bgcolor\":\"#E5ECF6\",\"radialaxis\":{\"gridcolor\":\"white\",\"linecolor\":\"white\",\"ticks\":\"\"}},\"scene\":{\"xaxis\":{\"backgroundcolor\":\"#E5ECF6\",\"gridcolor\":\"white\",\"gridwidth\":2,\"linecolor\":\"white\",\"showbackground\":true,\"ticks\":\"\",\"zerolinecolor\":\"white\"},\"yaxis\":{\"backgroundcolor\":\"#E5ECF6\",\"gridcolor\":\"white\",\"gridwidth\":2,\"linecolor\":\"white\",\"showbackground\":true,\"ticks\":\"\",\"zerolinecolor\":\"white\"},\"zaxis\":{\"backgroundcolor\":\"#E5ECF6\",\"gridcolor\":\"white\",\"gridwidth\":2,\"linecolor\":\"white\",\"showbackground\":true,\"ticks\":\"\",\"zerolinecolor\":\"white\"}},\"shapedefaults\":{\"line\":{\"color\":\"#2a3f5f\"}},\"ternary\":{\"aaxis\":{\"gridcolor\":\"white\",\"linecolor\":\"white\",\"ticks\":\"\"},\"baxis\":{\"gridcolor\":\"white\",\"linecolor\":\"white\",\"ticks\":\"\"},\"bgcolor\":\"#E5ECF6\",\"caxis\":{\"gridcolor\":\"white\",\"linecolor\":\"white\",\"ticks\":\"\"}},\"title\":{\"x\":0.05},\"xaxis\":{\"automargin\":true,\"gridcolor\":\"white\",\"linecolor\":\"white\",\"ticks\":\"\",\"title\":{\"standoff\":15},\"zerolinecolor\":\"white\",\"zerolinewidth\":2},\"yaxis\":{\"automargin\":true,\"gridcolor\":\"white\",\"linecolor\":\"white\",\"ticks\":\"\",\"title\":{\"standoff\":15},\"zerolinecolor\":\"white\",\"zerolinewidth\":2}}},\"title\":{\"text\":\"\\u0412\\u043e\\u0440\\u043e\\u043d\\u043a\\u0430 \\u0441\\u043e\\u0431\\u044b\\u0442\\u0438\\u0439 \\u043f\\u043e \\u043a\\u043e\\u043b\\u0438\\u0447\\u0435\\u0441\\u0442\\u0432\\u0443 \\u043f\\u043e\\u043b\\u044c\\u0437\\u043e\\u0432\\u0430\\u0442\\u0435\\u043b\\u0435\\u0439\"}},                        {\"responsive\": true}                    ).then(function(){\n",
       "                            \n",
       "var gd = document.getElementById('3beaac14-f555-4c2c-8c04-c03a52585d0d');\n",
       "var x = new MutationObserver(function (mutations, observer) {{\n",
       "        var display = window.getComputedStyle(gd).display;\n",
       "        if (!display || display === 'none') {{\n",
       "            console.log([gd, 'removed!']);\n",
       "            Plotly.purge(gd);\n",
       "            observer.disconnect();\n",
       "        }}\n",
       "}});\n",
       "\n",
       "// Listen for the removal of the full notebook cells\n",
       "var notebookContainer = gd.closest('#notebook-container');\n",
       "if (notebookContainer) {{\n",
       "    x.observe(notebookContainer, {childList: true});\n",
       "}}\n",
       "\n",
       "// Listen for the clearing of the current output cell\n",
       "var outputEl = gd.closest('.output');\n",
       "if (outputEl) {{\n",
       "    x.observe(outputEl, {childList: true});\n",
       "}}\n",
       "\n",
       "                        })                };                });            </script>        </div>"
      ]
     },
     "metadata": {},
     "output_type": "display_data"
    }
   ],
   "source": [
    "unique_users_per_event = unique_users_per_event.reset_index()\n",
    "unique_users_per_event.columns = ['event_name', 'unique_users']\n",
    "\n",
    "fig = go.Figure(go.Funnel(\n",
    "    y=unique_users_per_event['event_name'],\n",
    "    x=unique_users_per_event['unique_users'],\n",
    "    textinfo='value+percent initial'))\n",
    "\n",
    "fig.update_layout(title=\"Воронка событий по количеству пользователей\")\n",
    "fig.show()"
   ]
  },
  {
   "cell_type": "markdown",
   "metadata": {},
   "source": [
    "**Выводы**\n",
    "\n",
    "* Воронка событий выглядит следующим образом  **MainScreenAppear** → **OffersScreenAppear** →  **CartScreenAppear** → **PaymentScreenSuccessful**\n",
    "* Событие \"Tutorial\" не является частью основной воронки, поскольку оно происходит редко и не обязательно в строгой последовательности с другими событиями.\n",
    "\n",
    "* Доля пользователей, переходящих с MainScreenAppear на OffersScreenAppear: 0.62, доля пользователей, переходящих с OffersScreenAppear на CartScreenAppear: 0.81, доля пользователей, переходящих с CartScreenAppear на PaymentScreenSuccessful: 0.95\n",
    "\n",
    "* Наибольшие потери пользователей происходят на этапе MainScreenAppear и OffersScreenAppear с потерей 0.38"
   ]
  },
  {
   "cell_type": "markdown",
   "metadata": {},
   "source": [
    "## Изучение результатов эксперимента"
   ]
  },
  {
   "cell_type": "markdown",
   "metadata": {},
   "source": [
    "### Количество пользователей в каждой экспериментальной группе "
   ]
  },
  {
   "cell_type": "code",
   "execution_count": 51,
   "metadata": {},
   "outputs": [
    {
     "name": "stdout",
     "output_type": "stream",
     "text": [
      "exp_id\n",
      "246                       2484\n",
      "247                       2513\n",
      "248                       2537\n",
      "combined_control_group    4997\n",
      "Name: device_id_hash, dtype: int64\n"
     ]
    }
   ],
   "source": [
    "users_by_group = full_data_events.groupby('exp_id')['device_id_hash'].nunique()\n",
    "users_by_group['combined_control_group'] = users_by_group[246] + users_by_group[247]\n",
    "print(users_by_group)"
   ]
  },
  {
   "cell_type": "markdown",
   "metadata": {},
   "source": [
    "Группы разделены почти поровну, численность каждой группы около 2.5 тысяч пользователей."
   ]
  },
  {
   "cell_type": "markdown",
   "metadata": {},
   "source": [
    "### A/A-тест"
   ]
  },
  {
   "cell_type": "markdown",
   "metadata": {},
   "source": [
    "Подготовим данные для тестов."
   ]
  },
  {
   "cell_type": "code",
   "execution_count": 52,
   "metadata": {
    "scrolled": true
   },
   "outputs": [
    {
     "data": {
      "text/html": [
       "<div>\n",
       "<style scoped>\n",
       "    .dataframe tbody tr th:only-of-type {\n",
       "        vertical-align: middle;\n",
       "    }\n",
       "\n",
       "    .dataframe tbody tr th {\n",
       "        vertical-align: top;\n",
       "    }\n",
       "\n",
       "    .dataframe thead th {\n",
       "        text-align: right;\n",
       "    }\n",
       "</style>\n",
       "<table border=\"1\" class=\"dataframe\">\n",
       "  <thead>\n",
       "    <tr style=\"text-align: right;\">\n",
       "      <th>exp_id</th>\n",
       "      <th>event_name</th>\n",
       "      <th>246</th>\n",
       "      <th>247</th>\n",
       "      <th>248</th>\n",
       "      <th>combined_control_group</th>\n",
       "      <th>all</th>\n",
       "      <th>share_246</th>\n",
       "      <th>share_247</th>\n",
       "      <th>share_248</th>\n",
       "    </tr>\n",
       "  </thead>\n",
       "  <tbody>\n",
       "    <tr>\n",
       "      <th>0</th>\n",
       "      <td>MainScreenAppear</td>\n",
       "      <td>2450</td>\n",
       "      <td>2476</td>\n",
       "      <td>2493</td>\n",
       "      <td>4926</td>\n",
       "      <td>7419</td>\n",
       "      <td>98.63</td>\n",
       "      <td>98.53</td>\n",
       "      <td>98.27</td>\n",
       "    </tr>\n",
       "    <tr>\n",
       "      <th>1</th>\n",
       "      <td>OffersScreenAppear</td>\n",
       "      <td>1542</td>\n",
       "      <td>1520</td>\n",
       "      <td>1531</td>\n",
       "      <td>3062</td>\n",
       "      <td>4593</td>\n",
       "      <td>62.08</td>\n",
       "      <td>60.49</td>\n",
       "      <td>60.35</td>\n",
       "    </tr>\n",
       "    <tr>\n",
       "      <th>2</th>\n",
       "      <td>CartScreenAppear</td>\n",
       "      <td>1266</td>\n",
       "      <td>1238</td>\n",
       "      <td>1230</td>\n",
       "      <td>2504</td>\n",
       "      <td>3734</td>\n",
       "      <td>50.97</td>\n",
       "      <td>49.26</td>\n",
       "      <td>48.48</td>\n",
       "    </tr>\n",
       "    <tr>\n",
       "      <th>3</th>\n",
       "      <td>PaymentScreenSuccessful</td>\n",
       "      <td>1200</td>\n",
       "      <td>1158</td>\n",
       "      <td>1181</td>\n",
       "      <td>2358</td>\n",
       "      <td>3539</td>\n",
       "      <td>48.31</td>\n",
       "      <td>46.08</td>\n",
       "      <td>46.55</td>\n",
       "    </tr>\n",
       "  </tbody>\n",
       "</table>\n",
       "</div>"
      ],
      "text/plain": [
       "exp_id               event_name   246   247   248  combined_control_group  \\\n",
       "0              MainScreenAppear  2450  2476  2493                    4926   \n",
       "1            OffersScreenAppear  1542  1520  1531                    3062   \n",
       "2              CartScreenAppear  1266  1238  1230                    2504   \n",
       "3       PaymentScreenSuccessful  1200  1158  1181                    2358   \n",
       "\n",
       "exp_id   all  share_246  share_247  share_248  \n",
       "0       7419      98.63      98.53      98.27  \n",
       "1       4593      62.08      60.49      60.35  \n",
       "2       3734      50.97      49.26      48.48  \n",
       "3       3539      48.31      46.08      46.55  "
      ]
     },
     "metadata": {},
     "output_type": "display_data"
    }
   ],
   "source": [
    "event_group_test = full_data_events[full_data_events['event_name']!='Tutorial'].pivot_table(\n",
    "    index='event_name', \n",
    "    columns='exp_id', \n",
    "    values='device_id_hash',\n",
    "    aggfunc='nunique').sort_values(by=246, ascending=False)\n",
    "\n",
    "event_group_test = event_group_test.reset_index()\n",
    "event_group_test['combined_control_group'] = event_group_test[246] + event_group_test[247]\n",
    "event_group_test['all'] = event_group_test['combined_control_group'] + event_group_test[248]\n",
    "\n",
    "event_group_test['share_246'] = round((event_group_test[246] / users_by_group[246] * 100),2)\n",
    "event_group_test['share_247'] = round((event_group_test[247] / users_by_group[247] * 100),2)\n",
    "event_group_test['share_248'] = round((event_group_test[248] / users_by_group[248] * 100),2)\n",
    "display(event_group_test)"
   ]
  },
  {
   "cell_type": "markdown",
   "metadata": {},
   "source": [
    "Проведем статистические тесты, за основу я взял t-критерий Стьюдента. В качестве уровня статистической значимости возьмем 1%, так как чтобы сравнить две контрольные группы важна точность и \"ложные срабатывания\" недопустимы, из за этого увеличивается ошибка второго рода (принятие ложной нулевой гипотезы), поэтому количество экспериментов может увеличится."
   ]
  },
  {
   "cell_type": "code",
   "execution_count": 53,
   "metadata": {},
   "outputs": [
    {
     "name": "stdout",
     "output_type": "stream",
     "text": [
      "MainScreenAppear p-значение: 0.7570597232046099\n",
      "Не получилось отвергнуть нулевую гипотезу, нет оснований считать доли разными\n",
      "\n",
      "OffersScreenAppear p-значение: 0.2480954578522181\n",
      "Не получилось отвергнуть нулевую гипотезу, нет оснований считать доли разными\n",
      "\n",
      "CartScreenAppear p-значение: 0.22883372237997213\n",
      "Не получилось отвергнуть нулевую гипотезу, нет оснований считать доли разными\n",
      "\n",
      "PaymentScreenSuccessful p-значение: 0.11456679313141849\n",
      "Не получилось отвергнуть нулевую гипотезу, нет оснований считать доли разными\n",
      "\n"
     ]
    }
   ],
   "source": [
    "def z_test(group1, group2, alpha):\n",
    "    for i in event_group_test.index:\n",
    "        p1 = event_group_test[group1][i] / users_by_group[group1]\n",
    "        p2 = event_group_test[group2][i] / users_by_group[group2]\n",
    "        p_combined = ((event_group_test[group1][i] + event_group_test[group2][i]) / \n",
    "                      (users_by_group[group1] + users_by_group[group2]))\n",
    "        difference = p1 - p2\n",
    "        z_value = difference / mth.sqrt(p_combined * (1 - p_combined) * \n",
    "                                        (1/users_by_group[group1] + 1/users_by_group[group2]))\n",
    "        distr = st.norm(0, 1) \n",
    "        p_value = (1 - distr.cdf(abs(z_value))) * 2\n",
    "        print('{} p-значение: {}'.format(event_group_test['event_name'][i], p_value))\n",
    "        if (p_value < alpha):\n",
    "            print('Отвергаем нулевую гипотезу: между долями есть значимая разница')\n",
    "        else:\n",
    "            print('Не получилось отвергнуть нулевую гипотезу, нет оснований считать доли разными')\n",
    "        print('')\n",
    "        \n",
    "        \n",
    "        \n",
    "        \n",
    "z_test(246, 247, 0.01)\n"
   ]
  },
  {
   "cell_type": "markdown",
   "metadata": {},
   "source": [
    "Как мы видим, обе группы по всем событиям статистически значимо не отличаются - по всем событиям довольно высокий p-value. Можно сказать, что разбиение по группам работает корректно. В дальнейших экспериментах можно увеличить уровень статистической значимости, так как мы будем сравнивать не только контрольные группы, но и экспериментальные. "
   ]
  },
  {
   "cell_type": "markdown",
   "metadata": {},
   "source": [
    "### A/B-тесты"
   ]
  },
  {
   "cell_type": "code",
   "execution_count": 54,
   "metadata": {},
   "outputs": [
    {
     "name": "stdout",
     "output_type": "stream",
     "text": [
      "MainScreenAppear p-значение: 0.2949721933554552\n",
      "Не получилось отвергнуть нулевую гипотезу, нет оснований считать доли разными\n",
      "\n",
      "OffersScreenAppear p-значение: 0.20836205402738917\n",
      "Не получилось отвергнуть нулевую гипотезу, нет оснований считать доли разными\n",
      "\n",
      "CartScreenAppear p-значение: 0.07842923237520116\n",
      "Не получилось отвергнуть нулевую гипотезу, нет оснований считать доли разными\n",
      "\n",
      "PaymentScreenSuccessful p-значение: 0.2122553275697796\n",
      "Не получилось отвергнуть нулевую гипотезу, нет оснований считать доли разными\n",
      "\n"
     ]
    }
   ],
   "source": [
    "#сравним первую контрольную группу и экспериментальную группу\n",
    "z_test(246, 248, 0.05)"
   ]
  },
  {
   "cell_type": "code",
   "execution_count": 55,
   "metadata": {},
   "outputs": [
    {
     "name": "stdout",
     "output_type": "stream",
     "text": [
      "MainScreenAppear p-значение: 0.4587053616621515\n",
      "Не получилось отвергнуть нулевую гипотезу, нет оснований считать доли разными\n",
      "\n",
      "OffersScreenAppear p-значение: 0.9197817830592261\n",
      "Не получилось отвергнуть нулевую гипотезу, нет оснований считать доли разными\n",
      "\n",
      "CartScreenAppear p-значение: 0.5786197879539783\n",
      "Не получилось отвергнуть нулевую гипотезу, нет оснований считать доли разными\n",
      "\n",
      "PaymentScreenSuccessful p-значение: 0.7373415053803964\n",
      "Не получилось отвергнуть нулевую гипотезу, нет оснований считать доли разными\n",
      "\n"
     ]
    }
   ],
   "source": [
    "#сравним вторую контрольную группу и экспериментальную группу\n",
    "z_test(247, 248, 0.05)"
   ]
  },
  {
   "cell_type": "code",
   "execution_count": 56,
   "metadata": {},
   "outputs": [
    {
     "name": "stdout",
     "output_type": "stream",
     "text": [
      "MainScreenAppear p-значение: 0.29424526837179577\n",
      "Не получилось отвергнуть нулевую гипотезу, нет оснований считать доли разными\n",
      "\n",
      "OffersScreenAppear p-значение: 0.43425549655188256\n",
      "Не получилось отвергнуть нулевую гипотезу, нет оснований считать доли разными\n",
      "\n",
      "CartScreenAppear p-значение: 0.18175875284404386\n",
      "Не получилось отвергнуть нулевую гипотезу, нет оснований считать доли разными\n",
      "\n",
      "PaymentScreenSuccessful p-значение: 0.6004294282308704\n",
      "Не получилось отвергнуть нулевую гипотезу, нет оснований считать доли разными\n",
      "\n"
     ]
    }
   ],
   "source": [
    "#сравним объединенную контрольную группу и экспериментальную группу\n",
    "z_test('combined_control_group', 248, 0.05)"
   ]
  },
  {
   "cell_type": "markdown",
   "metadata": {},
   "source": [
    "Во всех тестах не было выявлено статистически значимых изменений.\n",
    "Из представленных результатов можно сделать вывод, что **корректировка уровня значимости не требуется**, так как p-значения уже значительно превышают стандартный уровень значимости (у нас это 0.05). В таком случае даже после корректировки результат не изменится, поскольку значения остаются выше скорректированного уровня значимости."
   ]
  },
  {
   "cell_type": "markdown",
   "metadata": {},
   "source": [
    "## Выводы"
   ]
  },
  {
   "cell_type": "markdown",
   "metadata": {},
   "source": [
    "**Изучение и проверка данных**\n",
    "\n",
    "Мы провели детальный анализ логов событий мобильного приложения, выявив ключевые статистические показатели и особенности данных.\n",
    "\n",
    "- **Количество уникальных пользователей в логе**: 7551\n",
    "- **Среднее количество событий на пользователя**: 32.28\n",
    "\n",
    "Однако, медиана количества событий на пользователя составляет 20, что указывает на значительное влияние выбросов на среднее значение (максимальное значение достигает 2307 событий на пользователя). Таким образом, медиана является более подходящим показателем для оценки среднего числа событий на пользователя в этом контексте.\n",
    "\n",
    "Исследование данных показало, что в первой неделе эксперимента количество событий было незначительным, что указывает на неполноту данных за этот период. В связи с этим мы решили исключить данные первой недели из анализа.\n",
    "\n",
    "- **Количество потерянных событий**: 2826 (1.16% от общего числа событий)\n",
    "- **Количество потерянных пользователей**: 17 (0.23% от общего числа пользователей)\n",
    "\n",
    "Потери данных оказались незначительными, что не повлияло на общую картину.\n",
    "\n",
    "Мы определили общее количество событий и пользователей в логе (243713 и 7551 соответственно). Также было установлено, что из-за выбросов медиана является более точным показателем среднего числа событий на пользователя. Эксперимент охватывает период с 25 июля по 7 августа, однако для анализа используются только данные с августа. Проведенные проверки показали, что пользователи из всех трех экспериментальных групп присутствуют в новом датафрейме.\n",
    "\n",
    "**Изучение воронки событий**\n",
    "\n",
    "Мы анализировали воронку событий, начиная с главного экрана до успешного завершения платежа:\n",
    "\n",
    "1. **MainScreenAppear**: 117328 записей\n",
    "2. **OffersScreenAppear**: 46333 записей\n",
    "3. **CartScreenAppear**: 42303 записей\n",
    "4. **PaymentScreenSuccessful**: 33918 записей\n",
    "5. **Tutorial**: 1005 записей\n",
    "\n",
    "Анализ показал, что 98% уникальных пользователей посещают главный экран, 61% просматривают предложения, 50% добавляют товары в корзину и 47% завершают покупку. Конверсия в покупку составляет 47%, что является довольно высоким показателем.\n",
    "\n",
    "Событие \"Tutorial\" не является частью основной последовательности событий, поскольку оно происходит редко и не влияет на основную воронку продаж.\n",
    "\n",
    "- **Доля пользователей, переходящих с MainScreenAppear на OffersScreenAppear**: 62%\n",
    "- **Доля пользователей, переходящих с OffersScreenAppear на CartScreenAppear**: 81%\n",
    "- **Доля пользователей, переходящих с CartScreenAppear на PaymentScreenSuccessful**: 95%\n",
    "\n",
    "Наибольшие потери пользователей происходят на этапе перехода с главного экрана на экран предложений, где теряется 38% пользователей.\n",
    "\n",
    "**Изучение результатов эксперимента**\n",
    "\n",
    "Мы проверили количество уникальных пользователей в каждой экспериментальной группе и объединили контрольные группы:\n",
    "\n",
    "- **Группа 246**: 2484 пользователей\n",
    "- **Группа 247**: 2513 пользователей\n",
    "- **Группа 248**: 2537 пользователей\n",
    "- **Объединенная контрольная группа (246+247)**: 4997 пользователей\n",
    "\n",
    "Группы разделены почти поровну, каждая включает около 2.5 тысяч пользователей.\n",
    "\n",
    "Для проверки корректности разбиения на группы мы провели t-тест Стьюдента с уровнем значимости 1%. Анализ показал, что между группами 246 и 247 нет статистически значимых различий по всем событиям, что свидетельствует о корректном разбиении на группы.\n",
    "\n",
    "При проведении A/B тестов был взят уровень статистической значимости в 5%. Все тесты не показали статистически значимых изменений. Даже если бы уровень статистической значимости был бы увеличен до 10% статистически значимых изменений не было бы (кроме CartScreenAppear у 246 и 248 группы), но при увеличении уровня статистической значимости увеличивается и ошибка первого рода (неверно отвергнутая нулевая гипотеза). Поэтому лучше всего оставить уровень статистической значимости на уровне 5% и констатировать отсутствие изменений в контрольных и экспериментальной группе.\n"
   ]
  }
 ],
 "metadata": {
  "ExecuteTimeLog": [
   {
    "duration": 68,
    "start_time": "2024-06-24T23:23:37.244Z"
   },
   {
    "duration": 39,
    "start_time": "2024-06-24T23:33:17.779Z"
   },
   {
    "duration": 1143,
    "start_time": "2024-06-24T23:33:34.325Z"
   },
   {
    "duration": 928,
    "start_time": "2024-06-24T23:33:36.340Z"
   },
   {
    "duration": 172,
    "start_time": "2024-06-24T23:33:54.369Z"
   },
   {
    "duration": 6,
    "start_time": "2024-06-24T23:44:36.471Z"
   },
   {
    "duration": 7,
    "start_time": "2024-06-24T23:44:44.728Z"
   },
   {
    "duration": 13,
    "start_time": "2024-06-24T23:46:41.717Z"
   },
   {
    "duration": 11,
    "start_time": "2024-06-24T23:46:50.501Z"
   },
   {
    "duration": 58,
    "start_time": "2024-06-24T23:47:10.590Z"
   },
   {
    "duration": 63,
    "start_time": "2024-06-24T23:47:35.558Z"
   },
   {
    "duration": 15,
    "start_time": "2024-06-24T23:47:50.118Z"
   },
   {
    "duration": 58,
    "start_time": "2024-06-24T23:48:06.071Z"
   },
   {
    "duration": 67,
    "start_time": "2024-06-24T23:51:34.372Z"
   },
   {
    "duration": 97,
    "start_time": "2024-06-24T23:54:08.630Z"
   },
   {
    "duration": 99,
    "start_time": "2024-06-24T23:54:22.783Z"
   },
   {
    "duration": 7,
    "start_time": "2024-06-24T23:57:49.587Z"
   },
   {
    "duration": 16,
    "start_time": "2024-06-24T23:57:58.234Z"
   },
   {
    "duration": 7,
    "start_time": "2024-06-24T23:58:04.235Z"
   },
   {
    "duration": 42,
    "start_time": "2024-06-25T00:03:40.143Z"
   },
   {
    "duration": 1026,
    "start_time": "2024-06-25T00:03:46.351Z"
   },
   {
    "duration": 181,
    "start_time": "2024-06-25T00:03:47.378Z"
   },
   {
    "duration": 11,
    "start_time": "2024-06-25T00:03:47.561Z"
   },
   {
    "duration": 80,
    "start_time": "2024-06-25T00:03:47.574Z"
   },
   {
    "duration": 118,
    "start_time": "2024-06-25T00:03:47.655Z"
   },
   {
    "duration": 66,
    "start_time": "2024-06-25T00:03:48.785Z"
   },
   {
    "duration": 63,
    "start_time": "2024-06-25T00:03:54.266Z"
   },
   {
    "duration": 39,
    "start_time": "2024-06-25T21:17:45.459Z"
   },
   {
    "duration": 1117,
    "start_time": "2024-06-25T21:17:52.965Z"
   },
   {
    "duration": 778,
    "start_time": "2024-06-25T21:17:54.083Z"
   },
   {
    "duration": 6,
    "start_time": "2024-06-25T21:17:54.862Z"
   },
   {
    "duration": 66,
    "start_time": "2024-06-25T21:17:54.869Z"
   },
   {
    "duration": 98,
    "start_time": "2024-06-25T21:17:54.937Z"
   },
   {
    "duration": 59,
    "start_time": "2024-06-25T21:17:55.036Z"
   },
   {
    "duration": 3,
    "start_time": "2024-06-25T21:17:57.697Z"
   },
   {
    "duration": 19,
    "start_time": "2024-06-25T21:20:20.232Z"
   },
   {
    "duration": 62,
    "start_time": "2024-06-25T21:20:28.016Z"
   },
   {
    "duration": 60,
    "start_time": "2024-06-25T21:20:35.080Z"
   },
   {
    "duration": 8,
    "start_time": "2024-06-25T21:20:37.936Z"
   },
   {
    "duration": 3,
    "start_time": "2024-06-25T21:20:41.680Z"
   },
   {
    "duration": 6,
    "start_time": "2024-06-25T21:22:07.057Z"
   },
   {
    "duration": 25,
    "start_time": "2024-06-25T21:22:20.377Z"
   },
   {
    "duration": 59,
    "start_time": "2024-06-25T21:22:34.330Z"
   },
   {
    "duration": 105,
    "start_time": "2024-06-25T21:22:48.427Z"
   },
   {
    "duration": 23,
    "start_time": "2024-06-25T21:23:16.355Z"
   },
   {
    "duration": 6,
    "start_time": "2024-06-25T21:23:37.731Z"
   },
   {
    "duration": 7,
    "start_time": "2024-06-25T21:23:42.956Z"
   },
   {
    "duration": 24,
    "start_time": "2024-06-25T21:23:45.219Z"
   },
   {
    "duration": 3,
    "start_time": "2024-06-25T21:42:31.394Z"
   },
   {
    "duration": 6,
    "start_time": "2024-06-25T21:42:33.994Z"
   },
   {
    "duration": 3,
    "start_time": "2024-06-25T21:42:43.498Z"
   },
   {
    "duration": 6,
    "start_time": "2024-06-25T21:42:50.978Z"
   },
   {
    "duration": 6,
    "start_time": "2024-06-25T21:43:03.299Z"
   },
   {
    "duration": 5,
    "start_time": "2024-06-25T22:33:03.456Z"
   },
   {
    "duration": 272,
    "start_time": "2024-06-25T22:38:05.333Z"
   },
   {
    "duration": 255,
    "start_time": "2024-06-25T22:39:17.579Z"
   },
   {
    "duration": 344,
    "start_time": "2024-06-25T22:39:54.559Z"
   },
   {
    "duration": 281,
    "start_time": "2024-06-25T22:43:30.692Z"
   },
   {
    "duration": 48,
    "start_time": "2024-06-25T22:44:15.021Z"
   },
   {
    "duration": 10,
    "start_time": "2024-06-26T00:29:39.800Z"
   },
   {
    "duration": 1030,
    "start_time": "2024-06-26T00:30:56.122Z"
   },
   {
    "duration": 17,
    "start_time": "2024-06-26T00:31:07.784Z"
   },
   {
    "duration": 9,
    "start_time": "2024-06-26T00:35:31.766Z"
   },
   {
    "duration": 9,
    "start_time": "2024-06-26T00:35:51.841Z"
   },
   {
    "duration": 9,
    "start_time": "2024-06-26T00:36:30.058Z"
   },
   {
    "duration": 9,
    "start_time": "2024-06-26T00:36:33.601Z"
   },
   {
    "duration": 13,
    "start_time": "2024-06-26T00:36:37.857Z"
   },
   {
    "duration": 10,
    "start_time": "2024-06-26T00:36:42.505Z"
   },
   {
    "duration": 10,
    "start_time": "2024-06-26T00:36:45.073Z"
   },
   {
    "duration": 13,
    "start_time": "2024-06-26T00:36:50.122Z"
   },
   {
    "duration": 10,
    "start_time": "2024-06-26T00:38:24.307Z"
   },
   {
    "duration": 5,
    "start_time": "2024-06-26T00:40:59.142Z"
   },
   {
    "duration": 54,
    "start_time": "2024-06-26T00:43:58.962Z"
   },
   {
    "duration": 36,
    "start_time": "2024-06-26T00:44:21.442Z"
   },
   {
    "duration": 34,
    "start_time": "2024-06-26T00:44:34.787Z"
   },
   {
    "duration": 36,
    "start_time": "2024-06-26T00:45:07.211Z"
   },
   {
    "duration": 16,
    "start_time": "2024-06-26T00:51:57.675Z"
   },
   {
    "duration": 50,
    "start_time": "2024-06-26T12:59:18.390Z"
   },
   {
    "duration": 1048,
    "start_time": "2024-06-26T12:59:38.337Z"
   },
   {
    "duration": 768,
    "start_time": "2024-06-26T12:59:39.387Z"
   },
   {
    "duration": 6,
    "start_time": "2024-06-26T12:59:40.156Z"
   },
   {
    "duration": 68,
    "start_time": "2024-06-26T12:59:40.163Z"
   },
   {
    "duration": 113,
    "start_time": "2024-06-26T12:59:40.233Z"
   },
   {
    "duration": 73,
    "start_time": "2024-06-26T12:59:40.347Z"
   },
   {
    "duration": 17,
    "start_time": "2024-06-26T12:59:40.421Z"
   },
   {
    "duration": 50,
    "start_time": "2024-06-26T12:59:40.439Z"
   },
   {
    "duration": 23,
    "start_time": "2024-06-26T12:59:40.490Z"
   },
   {
    "duration": 42,
    "start_time": "2024-06-26T12:59:40.514Z"
   },
   {
    "duration": 4,
    "start_time": "2024-06-26T12:59:40.557Z"
   },
   {
    "duration": 272,
    "start_time": "2024-06-26T12:59:40.562Z"
   },
   {
    "duration": 44,
    "start_time": "2024-06-26T12:59:40.835Z"
   },
   {
    "duration": 17,
    "start_time": "2024-06-26T12:59:40.880Z"
   },
   {
    "duration": 14,
    "start_time": "2024-06-26T12:59:40.898Z"
   },
   {
    "duration": 16,
    "start_time": "2024-06-26T12:59:44.743Z"
   },
   {
    "duration": 26,
    "start_time": "2024-06-26T13:01:21.978Z"
   },
   {
    "duration": 16,
    "start_time": "2024-06-26T13:06:41.847Z"
   },
   {
    "duration": 49,
    "start_time": "2024-06-26T13:07:44.776Z"
   },
   {
    "duration": 49,
    "start_time": "2024-06-26T13:07:56.713Z"
   },
   {
    "duration": 55,
    "start_time": "2024-06-26T13:10:22.419Z"
   },
   {
    "duration": 53,
    "start_time": "2024-06-26T16:44:13.998Z"
   },
   {
    "duration": 1399,
    "start_time": "2024-06-26T16:44:35.770Z"
   },
   {
    "duration": 890,
    "start_time": "2024-06-26T16:44:37.172Z"
   },
   {
    "duration": 9,
    "start_time": "2024-06-26T16:44:38.063Z"
   },
   {
    "duration": 95,
    "start_time": "2024-06-26T16:44:38.074Z"
   },
   {
    "duration": 156,
    "start_time": "2024-06-26T16:44:38.172Z"
   },
   {
    "duration": 92,
    "start_time": "2024-06-26T16:44:38.330Z"
   },
   {
    "duration": 35,
    "start_time": "2024-06-26T16:44:38.424Z"
   },
   {
    "duration": 7,
    "start_time": "2024-06-26T16:44:38.461Z"
   },
   {
    "duration": 3,
    "start_time": "2024-06-26T16:44:38.470Z"
   },
   {
    "duration": 25,
    "start_time": "2024-06-26T16:44:38.475Z"
   },
   {
    "duration": 5,
    "start_time": "2024-06-26T16:44:38.502Z"
   },
   {
    "duration": 462,
    "start_time": "2024-06-26T16:44:38.509Z"
   },
   {
    "duration": 67,
    "start_time": "2024-06-26T16:44:38.973Z"
   },
   {
    "duration": 24,
    "start_time": "2024-06-26T16:44:39.043Z"
   },
   {
    "duration": 6,
    "start_time": "2024-06-26T16:44:39.069Z"
   },
   {
    "duration": 33,
    "start_time": "2024-06-26T16:44:39.077Z"
   },
   {
    "duration": 82,
    "start_time": "2024-06-26T16:44:39.112Z"
   },
   {
    "duration": 54,
    "start_time": "2024-06-26T16:44:41.364Z"
   },
   {
    "duration": 3,
    "start_time": "2024-06-26T16:51:16.691Z"
   },
   {
    "duration": 5,
    "start_time": "2024-06-26T16:51:33.651Z"
   },
   {
    "duration": 5,
    "start_time": "2024-06-26T16:53:35.562Z"
   },
   {
    "duration": 3,
    "start_time": "2024-06-26T16:54:17.622Z"
   },
   {
    "duration": 62,
    "start_time": "2024-06-26T16:54:51.683Z"
   },
   {
    "duration": 64,
    "start_time": "2024-06-26T16:55:35.232Z"
   },
   {
    "duration": 62,
    "start_time": "2024-06-26T16:55:38.280Z"
   },
   {
    "duration": 5,
    "start_time": "2024-06-26T16:58:06.306Z"
   },
   {
    "duration": 4,
    "start_time": "2024-06-26T16:58:15.603Z"
   },
   {
    "duration": 4,
    "start_time": "2024-06-26T16:58:27.579Z"
   },
   {
    "duration": 4,
    "start_time": "2024-06-26T16:58:35.611Z"
   },
   {
    "duration": 42,
    "start_time": "2024-06-26T17:30:26.598Z"
   },
   {
    "duration": 32,
    "start_time": "2024-06-26T17:30:30.698Z"
   },
   {
    "duration": 32,
    "start_time": "2024-06-26T17:30:33.925Z"
   },
   {
    "duration": 36,
    "start_time": "2024-06-26T17:30:36.053Z"
   },
   {
    "duration": 31,
    "start_time": "2024-06-26T17:30:40.349Z"
   },
   {
    "duration": 121,
    "start_time": "2024-06-26T18:18:31.290Z"
   },
   {
    "duration": 56,
    "start_time": "2024-06-26T18:18:47.740Z"
   },
   {
    "duration": 55,
    "start_time": "2024-06-26T18:24:52.307Z"
   },
   {
    "duration": 38,
    "start_time": "2024-06-26T20:09:12.422Z"
   },
   {
    "duration": 990,
    "start_time": "2024-06-26T20:14:31.580Z"
   },
   {
    "duration": 659,
    "start_time": "2024-06-26T20:14:41.620Z"
   },
   {
    "duration": 33,
    "start_time": "2024-06-26T20:14:44.036Z"
   },
   {
    "duration": 687,
    "start_time": "2024-06-26T20:14:45.948Z"
   },
   {
    "duration": 938,
    "start_time": "2024-06-26T20:40:39.669Z"
   },
   {
    "duration": 842,
    "start_time": "2024-06-26T20:41:49.040Z"
   },
   {
    "duration": 52,
    "start_time": "2024-06-26T20:42:00.552Z"
   },
   {
    "duration": 782,
    "start_time": "2024-06-26T20:43:43.442Z"
   },
   {
    "duration": 5,
    "start_time": "2024-06-26T20:43:51.194Z"
   },
   {
    "duration": 1199,
    "start_time": "2024-06-26T20:53:47.751Z"
   },
   {
    "duration": 250,
    "start_time": "2024-06-26T20:53:48.952Z"
   },
   {
    "duration": 8,
    "start_time": "2024-06-26T20:53:49.204Z"
   },
   {
    "duration": 93,
    "start_time": "2024-06-26T20:53:49.215Z"
   },
   {
    "duration": 152,
    "start_time": "2024-06-26T20:53:49.310Z"
   },
   {
    "duration": 92,
    "start_time": "2024-06-26T20:53:49.464Z"
   },
   {
    "duration": 26,
    "start_time": "2024-06-26T20:53:49.558Z"
   },
   {
    "duration": 10,
    "start_time": "2024-06-26T20:53:49.586Z"
   },
   {
    "duration": 4,
    "start_time": "2024-06-26T20:53:49.597Z"
   },
   {
    "duration": 28,
    "start_time": "2024-06-26T20:53:49.603Z"
   },
   {
    "duration": 26,
    "start_time": "2024-06-26T20:53:49.632Z"
   },
   {
    "duration": 372,
    "start_time": "2024-06-26T20:53:49.660Z"
   },
   {
    "duration": 78,
    "start_time": "2024-06-26T20:53:50.034Z"
   },
   {
    "duration": 16,
    "start_time": "2024-06-26T20:53:50.114Z"
   },
   {
    "duration": 23,
    "start_time": "2024-06-26T20:53:50.132Z"
   },
   {
    "duration": 34,
    "start_time": "2024-06-26T20:53:50.157Z"
   },
   {
    "duration": 80,
    "start_time": "2024-06-26T20:53:50.193Z"
   },
   {
    "duration": 55,
    "start_time": "2024-06-26T20:53:50.274Z"
   },
   {
    "duration": 4,
    "start_time": "2024-06-26T20:53:50.331Z"
   },
   {
    "duration": 3,
    "start_time": "2024-06-26T20:53:50.356Z"
   },
   {
    "duration": 37,
    "start_time": "2024-06-26T20:53:50.361Z"
   },
   {
    "duration": 764,
    "start_time": "2024-06-26T20:53:55.535Z"
   },
   {
    "duration": 5,
    "start_time": "2024-06-26T20:54:03.719Z"
   },
   {
    "duration": 816,
    "start_time": "2024-06-26T20:54:17.920Z"
   },
   {
    "duration": 1161,
    "start_time": "2024-06-26T20:54:29.794Z"
   },
   {
    "duration": 230,
    "start_time": "2024-06-26T20:54:30.957Z"
   },
   {
    "duration": 9,
    "start_time": "2024-06-26T20:54:31.189Z"
   },
   {
    "duration": 135,
    "start_time": "2024-06-26T20:54:31.200Z"
   },
   {
    "duration": 147,
    "start_time": "2024-06-26T20:54:31.337Z"
   },
   {
    "duration": 104,
    "start_time": "2024-06-26T20:54:31.486Z"
   },
   {
    "duration": 27,
    "start_time": "2024-06-26T20:54:31.591Z"
   },
   {
    "duration": 78,
    "start_time": "2024-06-26T20:54:31.620Z"
   },
   {
    "duration": 30,
    "start_time": "2024-06-26T20:54:31.700Z"
   },
   {
    "duration": 53,
    "start_time": "2024-06-26T20:54:31.732Z"
   },
   {
    "duration": 6,
    "start_time": "2024-06-26T20:54:31.786Z"
   },
   {
    "duration": 383,
    "start_time": "2024-06-26T20:54:31.793Z"
   },
   {
    "duration": 68,
    "start_time": "2024-06-26T20:54:32.178Z"
   },
   {
    "duration": 15,
    "start_time": "2024-06-26T20:54:32.257Z"
   },
   {
    "duration": 17,
    "start_time": "2024-06-26T20:54:32.274Z"
   },
   {
    "duration": 43,
    "start_time": "2024-06-26T20:54:32.292Z"
   },
   {
    "duration": 80,
    "start_time": "2024-06-26T20:54:32.337Z"
   },
   {
    "duration": 71,
    "start_time": "2024-06-26T20:54:32.419Z"
   },
   {
    "duration": 4,
    "start_time": "2024-06-26T20:54:32.492Z"
   },
   {
    "duration": 53,
    "start_time": "2024-06-26T20:54:32.498Z"
   },
   {
    "duration": 93,
    "start_time": "2024-06-26T20:54:32.553Z"
   },
   {
    "duration": 5,
    "start_time": "2024-06-26T20:54:42.592Z"
   },
   {
    "duration": 5,
    "start_time": "2024-06-26T20:55:00.841Z"
   },
   {
    "duration": 1144,
    "start_time": "2024-06-26T20:55:15.387Z"
   },
   {
    "duration": 249,
    "start_time": "2024-06-26T20:55:16.533Z"
   },
   {
    "duration": 9,
    "start_time": "2024-06-26T20:55:16.784Z"
   },
   {
    "duration": 98,
    "start_time": "2024-06-26T20:55:16.795Z"
   },
   {
    "duration": 154,
    "start_time": "2024-06-26T20:55:16.895Z"
   },
   {
    "duration": 105,
    "start_time": "2024-06-26T20:55:17.055Z"
   },
   {
    "duration": 27,
    "start_time": "2024-06-26T20:55:17.163Z"
   },
   {
    "duration": 14,
    "start_time": "2024-06-26T20:55:17.192Z"
   },
   {
    "duration": 17,
    "start_time": "2024-06-26T20:55:17.207Z"
   },
   {
    "duration": 35,
    "start_time": "2024-06-26T20:55:17.227Z"
   },
   {
    "duration": 5,
    "start_time": "2024-06-26T20:55:17.264Z"
   },
   {
    "duration": 408,
    "start_time": "2024-06-26T20:55:17.271Z"
   },
   {
    "duration": 75,
    "start_time": "2024-06-26T20:55:17.681Z"
   },
   {
    "duration": 16,
    "start_time": "2024-06-26T20:55:17.757Z"
   },
   {
    "duration": 6,
    "start_time": "2024-06-26T20:55:17.774Z"
   },
   {
    "duration": 26,
    "start_time": "2024-06-26T20:55:17.782Z"
   },
   {
    "duration": 90,
    "start_time": "2024-06-26T20:55:17.809Z"
   },
   {
    "duration": 64,
    "start_time": "2024-06-26T20:55:17.901Z"
   },
   {
    "duration": 4,
    "start_time": "2024-06-26T20:55:17.967Z"
   },
   {
    "duration": 18,
    "start_time": "2024-06-26T20:55:17.973Z"
   },
   {
    "duration": 36,
    "start_time": "2024-06-26T20:55:17.993Z"
   },
   {
    "duration": 6,
    "start_time": "2024-06-26T20:55:19.465Z"
   },
   {
    "duration": 4,
    "start_time": "2024-06-26T20:56:12.097Z"
   },
   {
    "duration": 6,
    "start_time": "2024-06-26T20:56:18.665Z"
   },
   {
    "duration": 1171,
    "start_time": "2024-06-26T20:56:37.584Z"
   },
   {
    "duration": 221,
    "start_time": "2024-06-26T20:56:38.758Z"
   },
   {
    "duration": 9,
    "start_time": "2024-06-26T20:56:38.981Z"
   },
   {
    "duration": 99,
    "start_time": "2024-06-26T20:56:38.992Z"
   },
   {
    "duration": 152,
    "start_time": "2024-06-26T20:56:39.093Z"
   },
   {
    "duration": 93,
    "start_time": "2024-06-26T20:56:39.247Z"
   },
   {
    "duration": 30,
    "start_time": "2024-06-26T20:56:39.342Z"
   },
   {
    "duration": 9,
    "start_time": "2024-06-26T20:56:39.374Z"
   },
   {
    "duration": 3,
    "start_time": "2024-06-26T20:56:39.385Z"
   },
   {
    "duration": 25,
    "start_time": "2024-06-26T20:56:39.391Z"
   },
   {
    "duration": 6,
    "start_time": "2024-06-26T20:56:39.417Z"
   },
   {
    "duration": 386,
    "start_time": "2024-06-26T20:56:39.455Z"
   },
   {
    "duration": 71,
    "start_time": "2024-06-26T20:56:39.843Z"
   },
   {
    "duration": 15,
    "start_time": "2024-06-26T20:56:39.916Z"
   },
   {
    "duration": 28,
    "start_time": "2024-06-26T20:56:39.933Z"
   },
   {
    "duration": 42,
    "start_time": "2024-06-26T20:56:39.963Z"
   },
   {
    "duration": 101,
    "start_time": "2024-06-26T20:56:40.007Z"
   },
   {
    "duration": 67,
    "start_time": "2024-06-26T20:56:40.110Z"
   },
   {
    "duration": 5,
    "start_time": "2024-06-26T20:56:40.179Z"
   },
   {
    "duration": 11,
    "start_time": "2024-06-26T20:56:40.185Z"
   },
   {
    "duration": 36,
    "start_time": "2024-06-26T20:56:40.197Z"
   },
   {
    "duration": 5,
    "start_time": "2024-06-26T20:56:41.955Z"
   },
   {
    "duration": 4,
    "start_time": "2024-06-26T20:56:46.291Z"
   },
   {
    "duration": 227,
    "start_time": "2024-06-26T21:47:03.520Z"
   },
   {
    "duration": 134,
    "start_time": "2024-06-26T21:47:36.423Z"
   },
   {
    "duration": 127,
    "start_time": "2024-06-26T21:48:12.959Z"
   },
   {
    "duration": 132,
    "start_time": "2024-06-26T21:57:13.233Z"
   },
   {
    "duration": 15,
    "start_time": "2024-06-26T21:57:25.793Z"
   },
   {
    "duration": 987,
    "start_time": "2024-06-26T21:57:42.553Z"
   },
   {
    "duration": 9,
    "start_time": "2024-06-26T21:58:11.826Z"
   },
   {
    "duration": 71,
    "start_time": "2024-06-26T22:01:51.909Z"
   },
   {
    "duration": 125,
    "start_time": "2024-06-26T22:02:00.670Z"
   },
   {
    "duration": 125,
    "start_time": "2024-06-26T22:02:18.509Z"
   },
   {
    "duration": 123,
    "start_time": "2024-06-26T22:02:57.095Z"
   },
   {
    "duration": 8,
    "start_time": "2024-06-26T22:03:00.479Z"
   },
   {
    "duration": 21,
    "start_time": "2024-06-26T22:04:28.921Z"
   },
   {
    "duration": 28,
    "start_time": "2024-06-26T22:04:36.649Z"
   },
   {
    "duration": 17,
    "start_time": "2024-06-26T22:08:20.861Z"
   },
   {
    "duration": 8,
    "start_time": "2024-06-26T22:09:06.462Z"
   },
   {
    "duration": 23,
    "start_time": "2024-06-26T22:10:19.342Z"
   },
   {
    "duration": 3,
    "start_time": "2024-06-26T22:10:55.767Z"
   },
   {
    "duration": 21,
    "start_time": "2024-06-26T22:11:00.192Z"
   },
   {
    "duration": 982,
    "start_time": "2024-06-26T22:11:11.472Z"
   },
   {
    "duration": 16,
    "start_time": "2024-06-26T22:11:19.257Z"
   },
   {
    "duration": 9,
    "start_time": "2024-06-26T22:11:51.626Z"
   },
   {
    "duration": 11,
    "start_time": "2024-06-26T22:16:58.426Z"
   },
   {
    "duration": 9,
    "start_time": "2024-06-26T22:17:40.691Z"
   },
   {
    "duration": 145,
    "start_time": "2024-06-26T22:20:31.615Z"
   },
   {
    "duration": 132,
    "start_time": "2024-06-26T22:20:51.920Z"
   },
   {
    "duration": 10,
    "start_time": "2024-06-26T22:25:12.766Z"
   },
   {
    "duration": 6,
    "start_time": "2024-06-26T22:33:17.463Z"
   },
   {
    "duration": 5,
    "start_time": "2024-06-26T22:33:24.576Z"
   },
   {
    "duration": 1000,
    "start_time": "2024-06-26T22:34:02.137Z"
   },
   {
    "duration": 144,
    "start_time": "2024-06-26T22:34:04.801Z"
   },
   {
    "duration": 895,
    "start_time": "2024-06-26T22:34:11.144Z"
   },
   {
    "duration": 38,
    "start_time": "2024-06-26T22:35:29.434Z"
   },
   {
    "duration": 135,
    "start_time": "2024-06-26T22:35:34.299Z"
   },
   {
    "duration": 9,
    "start_time": "2024-06-26T22:35:38.515Z"
   },
   {
    "duration": 5,
    "start_time": "2024-06-26T22:35:41.955Z"
   },
   {
    "duration": 86,
    "start_time": "2024-06-26T23:01:52.640Z"
   },
   {
    "duration": 1207,
    "start_time": "2024-06-26T23:26:55.539Z"
   },
   {
    "duration": 233,
    "start_time": "2024-06-26T23:26:56.748Z"
   },
   {
    "duration": 9,
    "start_time": "2024-06-26T23:26:56.982Z"
   },
   {
    "duration": 140,
    "start_time": "2024-06-26T23:26:56.993Z"
   },
   {
    "duration": 163,
    "start_time": "2024-06-26T23:26:57.136Z"
   },
   {
    "duration": 99,
    "start_time": "2024-06-26T23:26:57.301Z"
   },
   {
    "duration": 36,
    "start_time": "2024-06-26T23:26:57.402Z"
   },
   {
    "duration": 20,
    "start_time": "2024-06-26T23:26:57.440Z"
   },
   {
    "duration": 5,
    "start_time": "2024-06-26T23:26:57.462Z"
   },
   {
    "duration": 43,
    "start_time": "2024-06-26T23:26:57.468Z"
   },
   {
    "duration": 7,
    "start_time": "2024-06-26T23:26:57.513Z"
   },
   {
    "duration": 384,
    "start_time": "2024-06-26T23:26:57.521Z"
   },
   {
    "duration": 83,
    "start_time": "2024-06-26T23:26:57.907Z"
   },
   {
    "duration": 15,
    "start_time": "2024-06-26T23:26:57.994Z"
   },
   {
    "duration": 41,
    "start_time": "2024-06-26T23:26:58.011Z"
   },
   {
    "duration": 75,
    "start_time": "2024-06-26T23:26:58.054Z"
   },
   {
    "duration": 85,
    "start_time": "2024-06-26T23:26:58.131Z"
   },
   {
    "duration": 59,
    "start_time": "2024-06-26T23:26:58.218Z"
   },
   {
    "duration": 4,
    "start_time": "2024-06-26T23:26:58.279Z"
   },
   {
    "duration": 15,
    "start_time": "2024-06-26T23:26:58.286Z"
   },
   {
    "duration": 48,
    "start_time": "2024-06-26T23:26:58.303Z"
   },
   {
    "duration": 129,
    "start_time": "2024-06-26T23:26:58.353Z"
   },
   {
    "duration": 9,
    "start_time": "2024-06-26T23:26:58.484Z"
   },
   {
    "duration": 32,
    "start_time": "2024-06-26T23:26:58.495Z"
   },
   {
    "duration": 28,
    "start_time": "2024-06-26T23:26:58.529Z"
   },
   {
    "duration": 20,
    "start_time": "2024-06-26T23:26:58.560Z"
   },
   {
    "duration": 1195,
    "start_time": "2024-06-27T09:51:49.003Z"
   },
   {
    "duration": 250,
    "start_time": "2024-06-27T09:51:50.201Z"
   },
   {
    "duration": 10,
    "start_time": "2024-06-27T09:51:50.452Z"
   },
   {
    "duration": 115,
    "start_time": "2024-06-27T09:51:50.465Z"
   },
   {
    "duration": 185,
    "start_time": "2024-06-27T09:51:50.582Z"
   },
   {
    "duration": 112,
    "start_time": "2024-06-27T09:51:50.769Z"
   },
   {
    "duration": 26,
    "start_time": "2024-06-27T09:51:50.891Z"
   },
   {
    "duration": 20,
    "start_time": "2024-06-27T09:51:50.919Z"
   },
   {
    "duration": 12,
    "start_time": "2024-06-27T09:51:50.941Z"
   },
   {
    "duration": 84,
    "start_time": "2024-06-27T09:51:50.955Z"
   },
   {
    "duration": 9,
    "start_time": "2024-06-27T09:51:51.040Z"
   },
   {
    "duration": 523,
    "start_time": "2024-06-27T09:51:51.051Z"
   },
   {
    "duration": 71,
    "start_time": "2024-06-27T09:51:51.575Z"
   },
   {
    "duration": 16,
    "start_time": "2024-06-27T09:51:51.648Z"
   },
   {
    "duration": 25,
    "start_time": "2024-06-27T09:51:51.666Z"
   },
   {
    "duration": 39,
    "start_time": "2024-06-27T09:51:51.693Z"
   },
   {
    "duration": 73,
    "start_time": "2024-06-27T09:51:51.733Z"
   },
   {
    "duration": 53,
    "start_time": "2024-06-27T09:51:51.808Z"
   },
   {
    "duration": 3,
    "start_time": "2024-06-27T09:51:51.863Z"
   },
   {
    "duration": 26,
    "start_time": "2024-06-27T09:51:51.867Z"
   },
   {
    "duration": 49,
    "start_time": "2024-06-27T09:51:51.895Z"
   },
   {
    "duration": 125,
    "start_time": "2024-06-27T09:51:51.946Z"
   },
   {
    "duration": 9,
    "start_time": "2024-06-27T09:51:52.073Z"
   },
   {
    "duration": 79,
    "start_time": "2024-06-27T09:51:52.092Z"
   },
   {
    "duration": 28,
    "start_time": "2024-06-27T09:51:52.172Z"
   },
   {
    "duration": 7,
    "start_time": "2024-06-27T09:51:52.201Z"
   },
   {
    "duration": 46,
    "start_time": "2024-06-27T11:57:00.770Z"
   },
   {
    "duration": 1241,
    "start_time": "2024-06-27T11:57:04.551Z"
   },
   {
    "duration": 772,
    "start_time": "2024-06-27T11:57:05.793Z"
   },
   {
    "duration": 7,
    "start_time": "2024-06-27T11:57:06.566Z"
   },
   {
    "duration": 133,
    "start_time": "2024-06-27T11:57:06.696Z"
   },
   {
    "duration": 113,
    "start_time": "2024-06-27T11:57:33.161Z"
   },
   {
    "duration": 117,
    "start_time": "2024-06-27T11:57:56.522Z"
   },
   {
    "duration": 113,
    "start_time": "2024-06-27T14:11:53.075Z"
   },
   {
    "duration": 104,
    "start_time": "2024-06-27T14:12:04.926Z"
   },
   {
    "duration": 101,
    "start_time": "2024-06-27T14:12:10.318Z"
   },
   {
    "duration": 119,
    "start_time": "2024-06-27T14:12:25.096Z"
   },
   {
    "duration": 105,
    "start_time": "2024-06-27T14:13:45.401Z"
   },
   {
    "duration": 2,
    "start_time": "2024-06-27T14:17:17.547Z"
   },
   {
    "duration": 158,
    "start_time": "2024-06-27T14:17:17.551Z"
   },
   {
    "duration": 6,
    "start_time": "2024-06-27T14:17:17.710Z"
   },
   {
    "duration": 157,
    "start_time": "2024-06-27T14:17:17.718Z"
   },
   {
    "duration": 107,
    "start_time": "2024-06-27T14:17:17.876Z"
   },
   {
    "duration": 69,
    "start_time": "2024-06-27T14:17:17.985Z"
   },
   {
    "duration": 32,
    "start_time": "2024-06-27T14:17:18.055Z"
   },
   {
    "duration": 16,
    "start_time": "2024-06-27T14:17:18.088Z"
   },
   {
    "duration": 10,
    "start_time": "2024-06-27T14:17:18.106Z"
   },
   {
    "duration": 27,
    "start_time": "2024-06-27T14:17:18.117Z"
   },
   {
    "duration": 4,
    "start_time": "2024-06-27T14:17:18.145Z"
   },
   {
    "duration": 296,
    "start_time": "2024-06-27T14:17:18.151Z"
   },
   {
    "duration": 53,
    "start_time": "2024-06-27T14:17:18.448Z"
   },
   {
    "duration": 13,
    "start_time": "2024-06-27T14:17:18.502Z"
   },
   {
    "duration": 5,
    "start_time": "2024-06-27T14:17:20.981Z"
   },
   {
    "duration": 34,
    "start_time": "2024-06-27T14:17:47.758Z"
   },
   {
    "duration": 52,
    "start_time": "2024-06-27T15:10:25.503Z"
   },
   {
    "duration": 52,
    "start_time": "2024-06-27T15:10:37.455Z"
   },
   {
    "duration": 51,
    "start_time": "2024-06-27T15:10:43.135Z"
   },
   {
    "duration": 48,
    "start_time": "2024-06-27T15:10:51.790Z"
   },
   {
    "duration": 48,
    "start_time": "2024-06-27T15:13:15.530Z"
   },
   {
    "duration": 51,
    "start_time": "2024-06-27T15:13:22.706Z"
   },
   {
    "duration": 4,
    "start_time": "2024-06-27T15:14:02.530Z"
   },
   {
    "duration": 959,
    "start_time": "2024-06-27T15:18:26.128Z"
   },
   {
    "duration": 177,
    "start_time": "2024-06-27T15:18:27.089Z"
   },
   {
    "duration": 7,
    "start_time": "2024-06-27T15:18:27.267Z"
   },
   {
    "duration": 133,
    "start_time": "2024-06-27T15:18:27.276Z"
   },
   {
    "duration": 129,
    "start_time": "2024-06-27T15:18:27.410Z"
   },
   {
    "duration": 67,
    "start_time": "2024-06-27T15:18:27.541Z"
   },
   {
    "duration": 18,
    "start_time": "2024-06-27T15:18:27.609Z"
   },
   {
    "duration": 15,
    "start_time": "2024-06-27T15:18:27.629Z"
   },
   {
    "duration": 11,
    "start_time": "2024-06-27T15:18:27.646Z"
   },
   {
    "duration": 27,
    "start_time": "2024-06-27T15:18:27.659Z"
   },
   {
    "duration": 4,
    "start_time": "2024-06-27T15:18:27.688Z"
   },
   {
    "duration": 303,
    "start_time": "2024-06-27T15:18:27.693Z"
   },
   {
    "duration": 53,
    "start_time": "2024-06-27T15:18:27.998Z"
   },
   {
    "duration": 25,
    "start_time": "2024-06-27T15:18:28.052Z"
   },
   {
    "duration": 4,
    "start_time": "2024-06-27T15:18:28.079Z"
   },
   {
    "duration": 32,
    "start_time": "2024-06-27T15:18:28.085Z"
   },
   {
    "duration": 18,
    "start_time": "2024-06-27T15:18:28.119Z"
   },
   {
    "duration": 70,
    "start_time": "2024-06-27T15:18:28.139Z"
   },
   {
    "duration": 46,
    "start_time": "2024-06-27T15:18:29.815Z"
   },
   {
    "duration": 4,
    "start_time": "2024-06-27T15:18:36.127Z"
   },
   {
    "duration": 3,
    "start_time": "2024-06-27T15:18:48.568Z"
   },
   {
    "duration": 1011,
    "start_time": "2024-06-27T15:18:55.360Z"
   },
   {
    "duration": 163,
    "start_time": "2024-06-27T15:18:56.372Z"
   },
   {
    "duration": 7,
    "start_time": "2024-06-27T15:18:56.536Z"
   },
   {
    "duration": 124,
    "start_time": "2024-06-27T15:18:56.544Z"
   },
   {
    "duration": 118,
    "start_time": "2024-06-27T15:18:56.669Z"
   },
   {
    "duration": 64,
    "start_time": "2024-06-27T15:18:56.788Z"
   },
   {
    "duration": 27,
    "start_time": "2024-06-27T15:18:56.853Z"
   },
   {
    "duration": 19,
    "start_time": "2024-06-27T15:18:56.881Z"
   },
   {
    "duration": 24,
    "start_time": "2024-06-27T15:18:56.901Z"
   },
   {
    "duration": 32,
    "start_time": "2024-06-27T15:18:56.927Z"
   },
   {
    "duration": 6,
    "start_time": "2024-06-27T15:18:56.960Z"
   },
   {
    "duration": 304,
    "start_time": "2024-06-27T15:18:56.967Z"
   },
   {
    "duration": 50,
    "start_time": "2024-06-27T15:18:57.273Z"
   },
   {
    "duration": 18,
    "start_time": "2024-06-27T15:18:57.325Z"
   },
   {
    "duration": 7,
    "start_time": "2024-06-27T15:18:57.345Z"
   },
   {
    "duration": 34,
    "start_time": "2024-06-27T15:18:57.371Z"
   },
   {
    "duration": 19,
    "start_time": "2024-06-27T15:18:57.406Z"
   },
   {
    "duration": 71,
    "start_time": "2024-06-27T15:18:57.427Z"
   },
   {
    "duration": 56,
    "start_time": "2024-06-27T15:18:57.500Z"
   },
   {
    "duration": 89,
    "start_time": "2024-06-27T15:18:59.953Z"
   },
   {
    "duration": 5,
    "start_time": "2024-06-27T15:19:13.481Z"
   },
   {
    "duration": 45,
    "start_time": "2024-06-27T15:22:53.325Z"
   },
   {
    "duration": 938,
    "start_time": "2024-06-27T15:22:59.140Z"
   },
   {
    "duration": 169,
    "start_time": "2024-06-27T15:23:00.080Z"
   },
   {
    "duration": 6,
    "start_time": "2024-06-27T15:23:00.251Z"
   },
   {
    "duration": 181,
    "start_time": "2024-06-27T15:23:00.259Z"
   },
   {
    "duration": 121,
    "start_time": "2024-06-27T15:23:00.442Z"
   },
   {
    "duration": 67,
    "start_time": "2024-06-27T15:23:00.564Z"
   },
   {
    "duration": 44,
    "start_time": "2024-06-27T15:23:00.632Z"
   },
   {
    "duration": 258,
    "start_time": "2024-06-27T15:23:00.677Z"
   },
   {
    "duration": 104,
    "start_time": "2024-06-27T15:23:00.936Z"
   },
   {
    "duration": 87,
    "start_time": "2024-06-27T15:23:01.042Z"
   },
   {
    "duration": 22,
    "start_time": "2024-06-27T15:23:01.131Z"
   },
   {
    "duration": 357,
    "start_time": "2024-06-27T15:23:01.154Z"
   },
   {
    "duration": 47,
    "start_time": "2024-06-27T15:23:01.513Z"
   },
   {
    "duration": 20,
    "start_time": "2024-06-27T15:23:01.561Z"
   },
   {
    "duration": 26,
    "start_time": "2024-06-27T15:23:01.583Z"
   },
   {
    "duration": 70,
    "start_time": "2024-06-27T15:23:01.610Z"
   },
   {
    "duration": 19,
    "start_time": "2024-06-27T15:23:01.681Z"
   },
   {
    "duration": 69,
    "start_time": "2024-06-27T15:23:01.702Z"
   },
   {
    "duration": 56,
    "start_time": "2024-06-27T15:23:01.773Z"
   },
   {
    "duration": 51,
    "start_time": "2024-06-27T15:23:03.277Z"
   },
   {
    "duration": 47,
    "start_time": "2024-06-27T15:23:49.733Z"
   },
   {
    "duration": 948,
    "start_time": "2024-06-27T15:23:57.529Z"
   },
   {
    "duration": 165,
    "start_time": "2024-06-27T15:23:58.479Z"
   },
   {
    "duration": 6,
    "start_time": "2024-06-27T15:23:58.645Z"
   },
   {
    "duration": 132,
    "start_time": "2024-06-27T15:23:58.653Z"
   },
   {
    "duration": 133,
    "start_time": "2024-06-27T15:23:58.786Z"
   },
   {
    "duration": 70,
    "start_time": "2024-06-27T15:23:58.921Z"
   },
   {
    "duration": 18,
    "start_time": "2024-06-27T15:23:58.992Z"
   },
   {
    "duration": 11,
    "start_time": "2024-06-27T15:23:59.011Z"
   },
   {
    "duration": 13,
    "start_time": "2024-06-27T15:23:59.023Z"
   },
   {
    "duration": 37,
    "start_time": "2024-06-27T15:23:59.038Z"
   },
   {
    "duration": 4,
    "start_time": "2024-06-27T15:23:59.077Z"
   },
   {
    "duration": 300,
    "start_time": "2024-06-27T15:23:59.082Z"
   },
   {
    "duration": 48,
    "start_time": "2024-06-27T15:23:59.384Z"
   },
   {
    "duration": 12,
    "start_time": "2024-06-27T15:23:59.433Z"
   },
   {
    "duration": 25,
    "start_time": "2024-06-27T15:23:59.446Z"
   },
   {
    "duration": 35,
    "start_time": "2024-06-27T15:23:59.472Z"
   },
   {
    "duration": 19,
    "start_time": "2024-06-27T15:23:59.509Z"
   },
   {
    "duration": 70,
    "start_time": "2024-06-27T15:23:59.529Z"
   },
   {
    "duration": 133,
    "start_time": "2024-06-27T15:24:01.191Z"
   },
   {
    "duration": 48,
    "start_time": "2024-06-27T15:24:08.415Z"
   },
   {
    "duration": 49,
    "start_time": "2024-06-27T15:24:45.760Z"
   },
   {
    "duration": 4,
    "start_time": "2024-06-27T15:24:48.960Z"
   },
   {
    "duration": 8,
    "start_time": "2024-06-27T15:28:43.300Z"
   },
   {
    "duration": 5,
    "start_time": "2024-06-27T15:29:41.661Z"
   },
   {
    "duration": 844,
    "start_time": "2024-06-27T15:29:51.886Z"
   },
   {
    "duration": 161,
    "start_time": "2024-06-27T15:36:05.580Z"
   },
   {
    "duration": 13,
    "start_time": "2024-06-27T15:38:03.299Z"
   },
   {
    "duration": 992,
    "start_time": "2024-06-27T15:38:14.200Z"
   },
   {
    "duration": 167,
    "start_time": "2024-06-27T15:38:15.194Z"
   },
   {
    "duration": 13,
    "start_time": "2024-06-27T15:38:15.362Z"
   },
   {
    "duration": 150,
    "start_time": "2024-06-27T15:38:15.376Z"
   },
   {
    "duration": 117,
    "start_time": "2024-06-27T15:38:15.529Z"
   },
   {
    "duration": 73,
    "start_time": "2024-06-27T15:38:15.647Z"
   },
   {
    "duration": 19,
    "start_time": "2024-06-27T15:38:15.721Z"
   },
   {
    "duration": 6,
    "start_time": "2024-06-27T15:38:15.741Z"
   },
   {
    "duration": 3,
    "start_time": "2024-06-27T15:38:15.748Z"
   },
   {
    "duration": 35,
    "start_time": "2024-06-27T15:38:15.752Z"
   },
   {
    "duration": 5,
    "start_time": "2024-06-27T15:38:15.788Z"
   },
   {
    "duration": 317,
    "start_time": "2024-06-27T15:38:15.794Z"
   },
   {
    "duration": 50,
    "start_time": "2024-06-27T15:38:16.113Z"
   },
   {
    "duration": 17,
    "start_time": "2024-06-27T15:38:16.165Z"
   },
   {
    "duration": 17,
    "start_time": "2024-06-27T15:38:16.183Z"
   },
   {
    "duration": 45,
    "start_time": "2024-06-27T15:38:16.201Z"
   },
   {
    "duration": 19,
    "start_time": "2024-06-27T15:38:16.247Z"
   },
   {
    "duration": 63,
    "start_time": "2024-06-27T15:38:16.271Z"
   },
   {
    "duration": 48,
    "start_time": "2024-06-27T15:38:16.335Z"
   },
   {
    "duration": 4,
    "start_time": "2024-06-27T15:38:16.384Z"
   },
   {
    "duration": 6,
    "start_time": "2024-06-27T15:38:16.390Z"
   },
   {
    "duration": 152,
    "start_time": "2024-06-27T15:38:18.027Z"
   },
   {
    "duration": 9,
    "start_time": "2024-06-27T15:43:26.972Z"
   },
   {
    "duration": 955,
    "start_time": "2024-06-27T15:43:59.428Z"
   },
   {
    "duration": 166,
    "start_time": "2024-06-27T15:44:00.385Z"
   },
   {
    "duration": 7,
    "start_time": "2024-06-27T15:44:00.552Z"
   },
   {
    "duration": 276,
    "start_time": "2024-06-27T15:44:00.561Z"
   },
   {
    "duration": 113,
    "start_time": "2024-06-27T15:44:00.839Z"
   },
   {
    "duration": 74,
    "start_time": "2024-06-27T15:44:00.953Z"
   },
   {
    "duration": 19,
    "start_time": "2024-06-27T15:44:01.029Z"
   },
   {
    "duration": 53,
    "start_time": "2024-06-27T15:44:01.049Z"
   },
   {
    "duration": 25,
    "start_time": "2024-06-27T15:44:01.104Z"
   },
   {
    "duration": 40,
    "start_time": "2024-06-27T15:44:01.131Z"
   },
   {
    "duration": 20,
    "start_time": "2024-06-27T15:44:01.173Z"
   },
   {
    "duration": 342,
    "start_time": "2024-06-27T15:44:01.195Z"
   },
   {
    "duration": 53,
    "start_time": "2024-06-27T15:44:01.539Z"
   },
   {
    "duration": 22,
    "start_time": "2024-06-27T15:44:01.593Z"
   },
   {
    "duration": 54,
    "start_time": "2024-06-27T15:44:01.616Z"
   },
   {
    "duration": 90,
    "start_time": "2024-06-27T15:44:01.671Z"
   },
   {
    "duration": 19,
    "start_time": "2024-06-27T15:44:01.763Z"
   },
   {
    "duration": 64,
    "start_time": "2024-06-27T15:44:01.784Z"
   },
   {
    "duration": 47,
    "start_time": "2024-06-27T15:44:01.849Z"
   },
   {
    "duration": 4,
    "start_time": "2024-06-27T15:44:03.316Z"
   },
   {
    "duration": 977,
    "start_time": "2024-06-27T15:44:47.549Z"
   },
   {
    "duration": 4,
    "start_time": "2024-06-27T15:44:58.133Z"
   },
   {
    "duration": 146,
    "start_time": "2024-06-27T15:45:12.294Z"
   },
   {
    "duration": 10,
    "start_time": "2024-06-27T15:48:29.878Z"
   },
   {
    "duration": 56,
    "start_time": "2024-06-27T15:48:42.506Z"
   },
   {
    "duration": 55,
    "start_time": "2024-06-27T15:49:09.882Z"
   },
   {
    "duration": 19,
    "start_time": "2024-06-27T15:54:11.698Z"
   },
   {
    "duration": 2,
    "start_time": "2024-06-27T15:55:18.634Z"
   },
   {
    "duration": 167,
    "start_time": "2024-06-27T15:55:18.638Z"
   },
   {
    "duration": 7,
    "start_time": "2024-06-27T15:55:18.806Z"
   },
   {
    "duration": 114,
    "start_time": "2024-06-27T15:55:18.814Z"
   },
   {
    "duration": 98,
    "start_time": "2024-06-27T15:55:18.930Z"
   },
   {
    "duration": 65,
    "start_time": "2024-06-27T15:55:19.030Z"
   },
   {
    "duration": 18,
    "start_time": "2024-06-27T15:55:19.097Z"
   },
   {
    "duration": 9,
    "start_time": "2024-06-27T15:55:19.116Z"
   },
   {
    "duration": 2,
    "start_time": "2024-06-27T15:55:19.127Z"
   },
   {
    "duration": 42,
    "start_time": "2024-06-27T15:55:19.130Z"
   },
   {
    "duration": 5,
    "start_time": "2024-06-27T15:55:19.173Z"
   },
   {
    "duration": 292,
    "start_time": "2024-06-27T15:55:19.179Z"
   },
   {
    "duration": 52,
    "start_time": "2024-06-27T15:55:19.473Z"
   },
   {
    "duration": 9,
    "start_time": "2024-06-27T15:55:19.528Z"
   },
   {
    "duration": 5,
    "start_time": "2024-06-27T15:55:19.539Z"
   },
   {
    "duration": 52,
    "start_time": "2024-06-27T15:55:19.545Z"
   },
   {
    "duration": 19,
    "start_time": "2024-06-27T15:55:19.598Z"
   },
   {
    "duration": 60,
    "start_time": "2024-06-27T15:55:19.618Z"
   },
   {
    "duration": 48,
    "start_time": "2024-06-27T15:55:19.680Z"
   },
   {
    "duration": 4,
    "start_time": "2024-06-27T15:55:19.729Z"
   },
   {
    "duration": 5,
    "start_time": "2024-06-27T15:55:19.734Z"
   },
   {
    "duration": 35,
    "start_time": "2024-06-27T15:55:19.740Z"
   },
   {
    "duration": 37,
    "start_time": "2024-06-27T15:55:19.777Z"
   },
   {
    "duration": 108,
    "start_time": "2024-06-27T15:55:19.816Z"
   },
   {
    "duration": 12,
    "start_time": "2024-06-27T15:55:50.846Z"
   },
   {
    "duration": 20,
    "start_time": "2024-06-27T15:56:05.518Z"
   },
   {
    "duration": 885,
    "start_time": "2024-06-27T15:56:19.079Z"
   },
   {
    "duration": 10,
    "start_time": "2024-06-27T15:56:50.943Z"
   },
   {
    "duration": 10,
    "start_time": "2024-06-27T15:58:31.172Z"
   },
   {
    "duration": 10,
    "start_time": "2024-06-27T16:22:55.112Z"
   },
   {
    "duration": 9,
    "start_time": "2024-06-27T16:23:36.522Z"
   },
   {
    "duration": 998,
    "start_time": "2024-06-27T16:40:12.380Z"
   },
   {
    "duration": 164,
    "start_time": "2024-06-27T16:40:13.380Z"
   },
   {
    "duration": 6,
    "start_time": "2024-06-27T16:40:13.546Z"
   },
   {
    "duration": 130,
    "start_time": "2024-06-27T16:40:13.553Z"
   },
   {
    "duration": 112,
    "start_time": "2024-06-27T16:40:13.685Z"
   },
   {
    "duration": 63,
    "start_time": "2024-06-27T16:40:13.798Z"
   },
   {
    "duration": 18,
    "start_time": "2024-06-27T16:40:13.870Z"
   },
   {
    "duration": 5,
    "start_time": "2024-06-27T16:40:13.890Z"
   },
   {
    "duration": 3,
    "start_time": "2024-06-27T16:40:13.896Z"
   },
   {
    "duration": 20,
    "start_time": "2024-06-27T16:40:13.900Z"
   },
   {
    "duration": 4,
    "start_time": "2024-06-27T16:40:13.922Z"
   },
   {
    "duration": 331,
    "start_time": "2024-06-27T16:40:13.927Z"
   },
   {
    "duration": 54,
    "start_time": "2024-06-27T16:40:14.260Z"
   },
   {
    "duration": 13,
    "start_time": "2024-06-27T16:40:14.316Z"
   },
   {
    "duration": 5,
    "start_time": "2024-06-27T16:40:14.330Z"
   },
   {
    "duration": 54,
    "start_time": "2024-06-27T16:40:14.336Z"
   },
   {
    "duration": 20,
    "start_time": "2024-06-27T16:40:14.392Z"
   },
   {
    "duration": 79,
    "start_time": "2024-06-27T16:40:14.413Z"
   },
   {
    "duration": 50,
    "start_time": "2024-06-27T16:40:14.493Z"
   },
   {
    "duration": 3,
    "start_time": "2024-06-27T16:40:14.544Z"
   },
   {
    "duration": 10,
    "start_time": "2024-06-27T16:40:14.548Z"
   },
   {
    "duration": 151,
    "start_time": "2024-06-27T16:40:14.560Z"
   },
   {
    "duration": 35,
    "start_time": "2024-06-27T16:40:14.713Z"
   },
   {
    "duration": 139,
    "start_time": "2024-06-27T16:40:14.770Z"
   },
   {
    "duration": 9,
    "start_time": "2024-06-27T16:40:14.910Z"
   },
   {
    "duration": 37,
    "start_time": "2024-06-27T16:40:14.921Z"
   },
   {
    "duration": 8,
    "start_time": "2024-06-27T16:40:14.959Z"
   },
   {
    "duration": 7,
    "start_time": "2024-06-27T16:40:19.601Z"
   },
   {
    "duration": 1216,
    "start_time": "2024-06-27T18:31:03.627Z"
   },
   {
    "duration": 243,
    "start_time": "2024-06-27T18:31:04.845Z"
   },
   {
    "duration": 8,
    "start_time": "2024-06-27T18:31:05.089Z"
   },
   {
    "duration": 185,
    "start_time": "2024-06-27T18:31:05.099Z"
   },
   {
    "duration": 142,
    "start_time": "2024-06-27T18:31:05.286Z"
   },
   {
    "duration": 93,
    "start_time": "2024-06-27T18:31:05.430Z"
   },
   {
    "duration": 32,
    "start_time": "2024-06-27T18:31:05.525Z"
   },
   {
    "duration": 23,
    "start_time": "2024-06-27T18:31:05.559Z"
   },
   {
    "duration": 33,
    "start_time": "2024-06-27T18:31:05.584Z"
   },
   {
    "duration": 67,
    "start_time": "2024-06-27T18:31:05.619Z"
   },
   {
    "duration": 19,
    "start_time": "2024-06-27T18:31:05.688Z"
   },
   {
    "duration": 390,
    "start_time": "2024-06-27T18:31:05.709Z"
   },
   {
    "duration": 78,
    "start_time": "2024-06-27T18:31:06.100Z"
   },
   {
    "duration": 20,
    "start_time": "2024-06-27T18:31:06.181Z"
   },
   {
    "duration": 65,
    "start_time": "2024-06-27T18:31:06.204Z"
   },
   {
    "duration": 50,
    "start_time": "2024-06-27T18:31:06.270Z"
   },
   {
    "duration": 27,
    "start_time": "2024-06-27T18:31:06.322Z"
   },
   {
    "duration": 85,
    "start_time": "2024-06-27T18:31:06.351Z"
   },
   {
    "duration": 65,
    "start_time": "2024-06-27T18:31:06.437Z"
   },
   {
    "duration": 5,
    "start_time": "2024-06-27T18:31:06.504Z"
   },
   {
    "duration": 35,
    "start_time": "2024-06-27T18:31:06.511Z"
   },
   {
    "duration": 396,
    "start_time": "2024-06-27T18:31:06.547Z"
   },
   {
    "duration": 38,
    "start_time": "2024-06-27T18:31:06.945Z"
   },
   {
    "duration": 201,
    "start_time": "2024-06-27T18:31:06.985Z"
   },
   {
    "duration": 11,
    "start_time": "2024-06-27T18:31:07.187Z"
   },
   {
    "duration": 25,
    "start_time": "2024-06-27T18:31:07.200Z"
   },
   {
    "duration": 40,
    "start_time": "2024-06-27T18:31:07.226Z"
   },
   {
    "duration": 21,
    "start_time": "2024-06-27T18:31:07.269Z"
   },
   {
    "duration": 1352,
    "start_time": "2024-07-14T16:11:55.410Z"
   },
   {
    "duration": 739,
    "start_time": "2024-07-14T16:11:56.764Z"
   },
   {
    "duration": 12,
    "start_time": "2024-07-14T16:11:57.505Z"
   },
   {
    "duration": 168,
    "start_time": "2024-07-14T16:11:57.519Z"
   },
   {
    "duration": 140,
    "start_time": "2024-07-14T16:11:57.688Z"
   },
   {
    "duration": 100,
    "start_time": "2024-07-14T16:11:57.830Z"
   },
   {
    "duration": 26,
    "start_time": "2024-07-14T16:11:57.932Z"
   },
   {
    "duration": 8,
    "start_time": "2024-07-14T16:11:57.960Z"
   },
   {
    "duration": 4,
    "start_time": "2024-07-14T16:11:57.982Z"
   },
   {
    "duration": 24,
    "start_time": "2024-07-14T16:11:57.989Z"
   },
   {
    "duration": 5,
    "start_time": "2024-07-14T16:11:58.015Z"
   },
   {
    "duration": 387,
    "start_time": "2024-07-14T16:11:58.022Z"
   },
   {
    "duration": 77,
    "start_time": "2024-07-14T16:11:58.410Z"
   },
   {
    "duration": 15,
    "start_time": "2024-07-14T16:11:58.489Z"
   },
   {
    "duration": 6,
    "start_time": "2024-07-14T16:11:58.505Z"
   },
   {
    "duration": 42,
    "start_time": "2024-07-14T16:11:58.512Z"
   },
   {
    "duration": 51,
    "start_time": "2024-07-14T16:11:58.555Z"
   },
   {
    "duration": 80,
    "start_time": "2024-07-14T16:11:58.608Z"
   },
   {
    "duration": 53,
    "start_time": "2024-07-14T16:11:58.689Z"
   },
   {
    "duration": 4,
    "start_time": "2024-07-14T16:11:58.744Z"
   },
   {
    "duration": 6,
    "start_time": "2024-07-14T16:11:58.749Z"
   },
   {
    "duration": 231,
    "start_time": "2024-07-14T16:11:58.756Z"
   },
   {
    "duration": 105,
    "start_time": "2024-07-14T16:11:58.989Z"
   },
   {
    "duration": 158,
    "start_time": "2024-07-14T16:11:59.096Z"
   },
   {
    "duration": 13,
    "start_time": "2024-07-14T16:11:59.256Z"
   },
   {
    "duration": 16,
    "start_time": "2024-07-14T16:11:59.282Z"
   },
   {
    "duration": 12,
    "start_time": "2024-07-14T16:11:59.300Z"
   },
   {
    "duration": 10,
    "start_time": "2024-07-14T16:12:03.974Z"
   },
   {
    "duration": 3,
    "start_time": "2024-07-14T16:16:00.919Z"
   },
   {
    "duration": 308,
    "start_time": "2024-07-14T16:16:00.924Z"
   },
   {
    "duration": 8,
    "start_time": "2024-07-14T16:16:01.234Z"
   },
   {
    "duration": 158,
    "start_time": "2024-07-14T16:16:01.243Z"
   },
   {
    "duration": 114,
    "start_time": "2024-07-14T16:16:01.403Z"
   },
   {
    "duration": 105,
    "start_time": "2024-07-14T16:16:01.518Z"
   },
   {
    "duration": 38,
    "start_time": "2024-07-14T16:16:01.625Z"
   },
   {
    "duration": 43,
    "start_time": "2024-07-14T16:16:01.665Z"
   },
   {
    "duration": 31,
    "start_time": "2024-07-14T16:16:01.710Z"
   },
   {
    "duration": 34,
    "start_time": "2024-07-14T16:16:01.743Z"
   },
   {
    "duration": 56,
    "start_time": "2024-07-14T16:16:01.779Z"
   },
   {
    "duration": 390,
    "start_time": "2024-07-14T16:16:01.837Z"
   },
   {
    "duration": 69,
    "start_time": "2024-07-14T16:16:02.229Z"
   },
   {
    "duration": 34,
    "start_time": "2024-07-14T16:16:02.300Z"
   },
   {
    "duration": 93,
    "start_time": "2024-07-14T16:16:02.335Z"
   },
   {
    "duration": 85,
    "start_time": "2024-07-14T16:16:02.429Z"
   },
   {
    "duration": 36,
    "start_time": "2024-07-14T16:16:02.516Z"
   },
   {
    "duration": 117,
    "start_time": "2024-07-14T16:16:02.554Z"
   },
   {
    "duration": 157,
    "start_time": "2024-07-14T16:16:02.673Z"
   },
   {
    "duration": 4,
    "start_time": "2024-07-14T16:16:02.831Z"
   },
   {
    "duration": 40,
    "start_time": "2024-07-14T16:16:02.836Z"
   },
   {
    "duration": 87,
    "start_time": "2024-07-14T16:16:02.877Z"
   },
   {
    "duration": 76,
    "start_time": "2024-07-14T16:16:02.966Z"
   },
   {
    "duration": 113,
    "start_time": "2024-07-14T16:16:03.043Z"
   },
   {
    "duration": 12,
    "start_time": "2024-07-14T16:16:03.158Z"
   },
   {
    "duration": 17,
    "start_time": "2024-07-14T16:16:03.171Z"
   },
   {
    "duration": 18,
    "start_time": "2024-07-14T16:16:03.189Z"
   },
   {
    "duration": 9,
    "start_time": "2024-07-14T16:16:05.772Z"
   }
  ],
  "kernelspec": {
   "display_name": "Python 3 (ipykernel)",
   "language": "python",
   "name": "python3"
  },
  "language_info": {
   "codemirror_mode": {
    "name": "ipython",
    "version": 3
   },
   "file_extension": ".py",
   "mimetype": "text/x-python",
   "name": "python",
   "nbconvert_exporter": "python",
   "pygments_lexer": "ipython3",
   "version": "3.11.5"
  },
  "toc": {
   "base_numbering": 1,
   "nav_menu": {},
   "number_sections": true,
   "sideBar": true,
   "skip_h1_title": true,
   "title_cell": "Table of Contents",
   "title_sidebar": "Contents",
   "toc_cell": false,
   "toc_position": {
    "height": "calc(100% - 180px)",
    "left": "10px",
    "top": "150px",
    "width": "384px"
   },
   "toc_section_display": true,
   "toc_window_display": false
  }
 },
 "nbformat": 4,
 "nbformat_minor": 2
}
